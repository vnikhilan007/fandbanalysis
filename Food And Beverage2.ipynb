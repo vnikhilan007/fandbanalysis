{
 "cells": [
  {
   "cell_type": "code",
   "execution_count": 1,
   "metadata": {
    "collapsed": true
   },
   "outputs": [],
   "source": [
    "import graphlab"
   ]
  },
  {
   "cell_type": "code",
   "execution_count": 2,
   "metadata": {
    "collapsed": false
   },
   "outputs": [
    {
     "name": "stdout",
     "output_type": "stream",
     "text": [
      "This non-commercial license of GraphLab Create for academic use is assigned to deep_chaudhary@srmuniv.edu.in and will expire on March 23, 2019.\n"
     ]
    },
    {
     "name": "stderr",
     "output_type": "stream",
     "text": [
      "[INFO] graphlab.cython.cy_server: GraphLab Create v2.1 started. Logging: C:\\Users\\DEEP\\AppData\\Local\\Temp\\graphlab_server_1552795563.log.0\n"
     ]
    },
    {
     "data": {
      "text/html": [
       "<pre>Finished parsing file C:/Users/DEEP/machine learning/hackathon/FnB_hackathon_Pi/FnB_hackathon_Pi.csv</pre>"
      ],
      "text/plain": [
       "Finished parsing file C:/Users/DEEP/machine learning/hackathon/FnB_hackathon_Pi/FnB_hackathon_Pi.csv"
      ]
     },
     "metadata": {},
     "output_type": "display_data"
    },
    {
     "data": {
      "text/html": [
       "<pre>Parsing completed. Parsed 100 lines in 1.73397 secs.</pre>"
      ],
      "text/plain": [
       "Parsing completed. Parsed 100 lines in 1.73397 secs."
      ]
     },
     "metadata": {},
     "output_type": "display_data"
    },
    {
     "name": "stdout",
     "output_type": "stream",
     "text": [
      "------------------------------------------------------\n",
      "Inferred types from first 100 line(s) of file as \n",
      "column_type_hints=[long,str,str,str,str,str,str,str,str,str,str,str,float,float,float]\n",
      "If parsing fails due to incorrect types, you can correct\n",
      "the inferred type list above and pass it to read_csv in\n",
      "the column_type_hints argument\n",
      "------------------------------------------------------\n"
     ]
    },
    {
     "data": {
      "text/html": [
       "<pre>Read 294144 lines. Lines per second: 172749</pre>"
      ],
      "text/plain": [
       "Read 294144 lines. Lines per second: 172749"
      ]
     },
     "metadata": {},
     "output_type": "display_data"
    },
    {
     "data": {
      "text/html": [
       "<pre>Finished parsing file C:/Users/DEEP/machine learning/hackathon/FnB_hackathon_Pi/FnB_hackathon_Pi.csv</pre>"
      ],
      "text/plain": [
       "Finished parsing file C:/Users/DEEP/machine learning/hackathon/FnB_hackathon_Pi/FnB_hackathon_Pi.csv"
      ]
     },
     "metadata": {},
     "output_type": "display_data"
    },
    {
     "data": {
      "text/html": [
       "<pre>Parsing completed. Parsed 1081484 lines in 3.75988 secs.</pre>"
      ],
      "text/plain": [
       "Parsing completed. Parsed 1081484 lines in 3.75988 secs."
      ]
     },
     "metadata": {},
     "output_type": "display_data"
    }
   ],
   "source": [
    "sales=graphlab.SFrame.read_csv(\"FnB_hackathon_Pi\")"
   ]
  },
  {
   "cell_type": "code",
   "execution_count": 3,
   "metadata": {
    "collapsed": false
   },
   "outputs": [
    {
     "data": {
      "text/html": [
       "<div style=\"max-height:1000px;max-width:1500px;overflow:auto;\"><table frame=\"box\" rules=\"cols\">\n",
       "    <tr>\n",
       "        <th style=\"padding-left: 1em; padding-right: 1em; text-align: center\">YEAR</th>\n",
       "        <th style=\"padding-left: 1em; padding-right: 1em; text-align: center\">MONTH</th>\n",
       "        <th style=\"padding-left: 1em; padding-right: 1em; text-align: center\">Company</th>\n",
       "        <th style=\"padding-left: 1em; padding-right: 1em; text-align: center\">Area 1</th>\n",
       "        <th style=\"padding-left: 1em; padding-right: 1em; text-align: center\">Area 2</th>\n",
       "        <th style=\"padding-left: 1em; padding-right: 1em; text-align: center\">Area 3</th>\n",
       "        <th style=\"padding-left: 1em; padding-right: 1em; text-align: center\">Area 3 Classification</th>\n",
       "    </tr>\n",
       "    <tr>\n",
       "        <td style=\"padding-left: 1em; padding-right: 1em; text-align: center; vertical-align: top\">2018</td>\n",
       "        <td style=\"padding-left: 1em; padding-right: 1em; text-align: center; vertical-align: top\">JAN</td>\n",
       "        <td style=\"padding-left: 1em; padding-right: 1em; text-align: center; vertical-align: top\">white walkers</td>\n",
       "        <td style=\"padding-left: 1em; padding-right: 1em; text-align: center; vertical-align: top\">the westerlands</td>\n",
       "        <td style=\"padding-left: 1em; padding-right: 1em; text-align: center; vertical-align: top\">golden tooth</td>\n",
       "        <td style=\"padding-left: 1em; padding-right: 1em; text-align: center; vertical-align: top\">rivermen</td>\n",
       "        <td style=\"padding-left: 1em; padding-right: 1em; text-align: center; vertical-align: top\">lord of the crossing</td>\n",
       "    </tr>\n",
       "    <tr>\n",
       "        <td style=\"padding-left: 1em; padding-right: 1em; text-align: center; vertical-align: top\">2018</td>\n",
       "        <td style=\"padding-left: 1em; padding-right: 1em; text-align: center; vertical-align: top\">FEB</td>\n",
       "        <td style=\"padding-left: 1em; padding-right: 1em; text-align: center; vertical-align: top\">white walkers</td>\n",
       "        <td style=\"padding-left: 1em; padding-right: 1em; text-align: center; vertical-align: top\">the riverlands</td>\n",
       "        <td style=\"padding-left: 1em; padding-right: 1em; text-align: center; vertical-align: top\">mummer's ford</td>\n",
       "        <td style=\"padding-left: 1em; padding-right: 1em; text-align: center; vertical-align: top\">dornish</td>\n",
       "        <td style=\"padding-left: 1em; padding-right: 1em; text-align: center; vertical-align: top\">ser</td>\n",
       "    </tr>\n",
       "    <tr>\n",
       "        <td style=\"padding-left: 1em; padding-right: 1em; text-align: center; vertical-align: top\">2018</td>\n",
       "        <td style=\"padding-left: 1em; padding-right: 1em; text-align: center; vertical-align: top\">JUN</td>\n",
       "        <td style=\"padding-left: 1em; padding-right: 1em; text-align: center; vertical-align: top\">men</td>\n",
       "        <td style=\"padding-left: 1em; padding-right: 1em; text-align: center; vertical-align: top\">the north</td>\n",
       "        <td style=\"padding-left: 1em; padding-right: 1em; text-align: center; vertical-align: top\">riverrun</td>\n",
       "        <td style=\"padding-left: 1em; padding-right: 1em; text-align: center; vertical-align: top\">valyrian</td>\n",
       "        <td style=\"padding-left: 1em; padding-right: 1em; text-align: center; vertical-align: top\">ser</td>\n",
       "    </tr>\n",
       "    <tr>\n",
       "        <td style=\"padding-left: 1em; padding-right: 1em; text-align: center; vertical-align: top\">2018</td>\n",
       "        <td style=\"padding-left: 1em; padding-right: 1em; text-align: center; vertical-align: top\">FEB</td>\n",
       "        <td style=\"padding-left: 1em; padding-right: 1em; text-align: center; vertical-align: top\">white walkers</td>\n",
       "        <td style=\"padding-left: 1em; padding-right: 1em; text-align: center; vertical-align: top\">the stormlands</td>\n",
       "        <td style=\"padding-left: 1em; padding-right: 1em; text-align: center; vertical-align: top\">green fork</td>\n",
       "        <td style=\"padding-left: 1em; padding-right: 1em; text-align: center; vertical-align: top\">ironborn</td>\n",
       "        <td style=\"padding-left: 1em; padding-right: 1em; text-align: center; vertical-align: top\">lord of the crossing</td>\n",
       "    </tr>\n",
       "    <tr>\n",
       "        <td style=\"padding-left: 1em; padding-right: 1em; text-align: center; vertical-align: top\">2018</td>\n",
       "        <td style=\"padding-left: 1em; padding-right: 1em; text-align: center; vertical-align: top\">JAN</td>\n",
       "        <td style=\"padding-left: 1em; padding-right: 1em; text-align: center; vertical-align: top\">white walkers</td>\n",
       "        <td style=\"padding-left: 1em; padding-right: 1em; text-align: center; vertical-align: top\">the crownlands</td>\n",
       "        <td style=\"padding-left: 1em; padding-right: 1em; text-align: center; vertical-align: top\">whispering wood</td>\n",
       "        <td style=\"padding-left: 1em; padding-right: 1em; text-align: center; vertical-align: top\">free folk</td>\n",
       "        <td style=\"padding-left: 1em; padding-right: 1em; text-align: center; vertical-align: top\">ser</td>\n",
       "    </tr>\n",
       "    <tr>\n",
       "        <td style=\"padding-left: 1em; padding-right: 1em; text-align: center; vertical-align: top\">2018</td>\n",
       "        <td style=\"padding-left: 1em; padding-right: 1em; text-align: center; vertical-align: top\">JUN</td>\n",
       "        <td style=\"padding-left: 1em; padding-right: 1em; text-align: center; vertical-align: top\">white walkers</td>\n",
       "        <td style=\"padding-left: 1em; padding-right: 1em; text-align: center; vertical-align: top\">the stormlands</td>\n",
       "        <td style=\"padding-left: 1em; padding-right: 1em; text-align: center; vertical-align: top\">green fork</td>\n",
       "        <td style=\"padding-left: 1em; padding-right: 1em; text-align: center; vertical-align: top\">ironborn</td>\n",
       "        <td style=\"padding-left: 1em; padding-right: 1em; text-align: center; vertical-align: top\">lord of the crossing</td>\n",
       "    </tr>\n",
       "    <tr>\n",
       "        <td style=\"padding-left: 1em; padding-right: 1em; text-align: center; vertical-align: top\">2018</td>\n",
       "        <td style=\"padding-left: 1em; padding-right: 1em; text-align: center; vertical-align: top\">MAR</td>\n",
       "        <td style=\"padding-left: 1em; padding-right: 1em; text-align: center; vertical-align: top\">white walkers</td>\n",
       "        <td style=\"padding-left: 1em; padding-right: 1em; text-align: center; vertical-align: top\">the riverlands</td>\n",
       "        <td style=\"padding-left: 1em; padding-right: 1em; text-align: center; vertical-align: top\">darry</td>\n",
       "        <td style=\"padding-left: 1em; padding-right: 1em; text-align: center; vertical-align: top\">northmen</td>\n",
       "        <td style=\"padding-left: 1em; padding-right: 1em; text-align: center; vertical-align: top\">queen</td>\n",
       "    </tr>\n",
       "    <tr>\n",
       "        <td style=\"padding-left: 1em; padding-right: 1em; text-align: center; vertical-align: top\">2018</td>\n",
       "        <td style=\"padding-left: 1em; padding-right: 1em; text-align: center; vertical-align: top\">JUN</td>\n",
       "        <td style=\"padding-left: 1em; padding-right: 1em; text-align: center; vertical-align: top\">men</td>\n",
       "        <td style=\"padding-left: 1em; padding-right: 1em; text-align: center; vertical-align: top\">the north</td>\n",
       "        <td style=\"padding-left: 1em; padding-right: 1em; text-align: center; vertical-align: top\">moat cailin</td>\n",
       "        <td style=\"padding-left: 1em; padding-right: 1em; text-align: center; vertical-align: top\">summer isles</td>\n",
       "        <td style=\"padding-left: 1em; padding-right: 1em; text-align: center; vertical-align: top\">greenstone</td>\n",
       "    </tr>\n",
       "    <tr>\n",
       "        <td style=\"padding-left: 1em; padding-right: 1em; text-align: center; vertical-align: top\">2018</td>\n",
       "        <td style=\"padding-left: 1em; padding-right: 1em; text-align: center; vertical-align: top\">JAN</td>\n",
       "        <td style=\"padding-left: 1em; padding-right: 1em; text-align: center; vertical-align: top\">white walkers</td>\n",
       "        <td style=\"padding-left: 1em; padding-right: 1em; text-align: center; vertical-align: top\">beyond the wall</td>\n",
       "        <td style=\"padding-left: 1em; padding-right: 1em; text-align: center; vertical-align: top\">deepwood motte</td>\n",
       "        <td style=\"padding-left: 1em; padding-right: 1em; text-align: center; vertical-align: top\">braavosi</td>\n",
       "        <td style=\"padding-left: 1em; padding-right: 1em; text-align: center; vertical-align: top\">hand of the king</td>\n",
       "    </tr>\n",
       "    <tr>\n",
       "        <td style=\"padding-left: 1em; padding-right: 1em; text-align: center; vertical-align: top\">2018</td>\n",
       "        <td style=\"padding-left: 1em; padding-right: 1em; text-align: center; vertical-align: top\">FEB</td>\n",
       "        <td style=\"padding-left: 1em; padding-right: 1em; text-align: center; vertical-align: top\">white walkers</td>\n",
       "        <td style=\"padding-left: 1em; padding-right: 1em; text-align: center; vertical-align: top\">the crownlands</td>\n",
       "        <td style=\"padding-left: 1em; padding-right: 1em; text-align: center; vertical-align: top\">stony shore</td>\n",
       "        <td style=\"padding-left: 1em; padding-right: 1em; text-align: center; vertical-align: top\">dothraki</td>\n",
       "        <td style=\"padding-left: 1em; padding-right: 1em; text-align: center; vertical-align: top\">hand of the king</td>\n",
       "    </tr>\n",
       "</table>\n",
       "<table frame=\"box\" rules=\"cols\">\n",
       "    <tr>\n",
       "        <th style=\"padding-left: 1em; padding-right: 1em; text-align: center\">Outlet Type</th>\n",
       "        <th style=\"padding-left: 1em; padding-right: 1em; text-align: center\">Outlet Name</th>\n",
       "        <th style=\"padding-left: 1em; padding-right: 1em; text-align: center\">Product Category 1</th>\n",
       "        <th style=\"padding-left: 1em; padding-right: 1em; text-align: center\">Product Category 2</th>\n",
       "        <th style=\"padding-left: 1em; padding-right: 1em; text-align: center\">Product</th>\n",
       "    </tr>\n",
       "    <tr>\n",
       "        <td style=\"padding-left: 1em; padding-right: 1em; text-align: center; vertical-align: top\">house frey</td>\n",
       "        <td style=\"padding-left: 1em; padding-right: 1em; text-align: center; vertical-align: top\">viserys ii targaryen</td>\n",
       "        <td style=\"padding-left: 1em; padding-right: 1em; text-align: center; vertical-align: top\">korean</td>\n",
       "        <td style=\"padding-left: 1em; padding-right: 1em; text-align: center; vertical-align: top\">bagels</td>\n",
       "        <td style=\"padding-left: 1em; padding-right: 1em; text-align: center; vertical-align: top\">white cabbage</td>\n",
       "    </tr>\n",
       "    <tr>\n",
       "        <td style=\"padding-left: 1em; padding-right: 1em; text-align: center; vertical-align: top\">house swyft</td>\n",
       "        <td style=\"padding-left: 1em; padding-right: 1em; text-align: center; vertical-align: top\">walder frey</td>\n",
       "        <td style=\"padding-left: 1em; padding-right: 1em; text-align: center; vertical-align: top\">greek</td>\n",
       "        <td style=\"padding-left: 1em; padding-right: 1em; text-align: center; vertical-align: top\">chicken bouillon granules</td>\n",
       "        <td style=\"padding-left: 1em; padding-right: 1em; text-align: center; vertical-align: top\">rye</td>\n",
       "    </tr>\n",
       "    <tr>\n",
       "        <td style=\"padding-left: 1em; padding-right: 1em; text-align: center; vertical-align: top\">house arryn</td>\n",
       "        <td style=\"padding-left: 1em; padding-right: 1em; text-align: center; vertical-align: top\">addison hill</td>\n",
       "        <td style=\"padding-left: 1em; padding-right: 1em; text-align: center; vertical-align: top\">korean</td>\n",
       "        <td style=\"padding-left: 1em; padding-right: 1em; text-align: center; vertical-align: top\">dry yeast</td>\n",
       "        <td style=\"padding-left: 1em; padding-right: 1em; text-align: center; vertical-align: top\">wheels</td>\n",
       "    </tr>\n",
       "    <tr>\n",
       "        <td style=\"padding-left: 1em; padding-right: 1em; text-align: center; vertical-align: top\">house santagar</td>\n",
       "        <td style=\"padding-left: 1em; padding-right: 1em; text-align: center; vertical-align: top\">aemma arryn</td>\n",
       "        <td style=\"padding-left: 1em; padding-right: 1em; text-align: center; vertical-align: top\">mexican</td>\n",
       "        <td style=\"padding-left: 1em; padding-right: 1em; text-align: center; vertical-align: top\">chicken bouillon granules</td>\n",
       "        <td style=\"padding-left: 1em; padding-right: 1em; text-align: center; vertical-align: top\">cola soft drink</td>\n",
       "    </tr>\n",
       "    <tr>\n",
       "        <td style=\"padding-left: 1em; padding-right: 1em; text-align: center; vertical-align: top\">house targaryen</td>\n",
       "        <td style=\"padding-left: 1em; padding-right: 1em; text-align: center; vertical-align: top\">sylva santagar</td>\n",
       "        <td style=\"padding-left: 1em; padding-right: 1em; text-align: center; vertical-align: top\">indian</td>\n",
       "        <td style=\"padding-left: 1em; padding-right: 1em; text-align: center; vertical-align: top\">field peas</td>\n",
       "        <td style=\"padding-left: 1em; padding-right: 1em; text-align: center; vertical-align: top\">mexican oregano</td>\n",
       "    </tr>\n",
       "    <tr>\n",
       "        <td style=\"padding-left: 1em; padding-right: 1em; text-align: center; vertical-align: top\">house santagar</td>\n",
       "        <td style=\"padding-left: 1em; padding-right: 1em; text-align: center; vertical-align: top\">tommen baratheon</td>\n",
       "        <td style=\"padding-left: 1em; padding-right: 1em; text-align: center; vertical-align: top\">greek</td>\n",
       "        <td style=\"padding-left: 1em; padding-right: 1em; text-align: center; vertical-align: top\">chicken bouillon granules</td>\n",
       "        <td style=\"padding-left: 1em; padding-right: 1em; text-align: center; vertical-align: top\">cottage cheese</td>\n",
       "    </tr>\n",
       "    <tr>\n",
       "        <td style=\"padding-left: 1em; padding-right: 1em; text-align: center; vertical-align: top\">house osgrey</td>\n",
       "        <td style=\"padding-left: 1em; padding-right: 1em; text-align: center; vertical-align: top\">viserys ii targaryen</td>\n",
       "        <td style=\"padding-left: 1em; padding-right: 1em; text-align: center; vertical-align: top\">greek</td>\n",
       "        <td style=\"padding-left: 1em; padding-right: 1em; text-align: center; vertical-align: top\">chicken bouillon granules</td>\n",
       "        <td style=\"padding-left: 1em; padding-right: 1em; text-align: center; vertical-align: top\">tahini paste</td>\n",
       "    </tr>\n",
       "    <tr>\n",
       "        <td style=\"padding-left: 1em; padding-right: 1em; text-align: center; vertical-align: top\">night's watch</td>\n",
       "        <td style=\"padding-left: 1em; padding-right: 1em; text-align: center; vertical-align: top\">valarr targaryen</td>\n",
       "        <td style=\"padding-left: 1em; padding-right: 1em; text-align: center; vertical-align: top\">greek</td>\n",
       "        <td style=\"padding-left: 1em; padding-right: 1em; text-align: center; vertical-align: top\">amaretti</td>\n",
       "        <td style=\"padding-left: 1em; padding-right: 1em; text-align: center; vertical-align: top\">green olives</td>\n",
       "    </tr>\n",
       "    <tr>\n",
       "        <td style=\"padding-left: 1em; padding-right: 1em; text-align: center; vertical-align: top\">house humble</td>\n",
       "        <td style=\"padding-left: 1em; padding-right: 1em; text-align: center; vertical-align: top\">viserys i targaryen</td>\n",
       "        <td style=\"padding-left: 1em; padding-right: 1em; text-align: center; vertical-align: top\">korean</td>\n",
       "        <td style=\"padding-left: 1em; padding-right: 1em; text-align: center; vertical-align: top\">bagels</td>\n",
       "        <td style=\"padding-left: 1em; padding-right: 1em; text-align: center; vertical-align: top\">white cabbage</td>\n",
       "    </tr>\n",
       "    <tr>\n",
       "        <td style=\"padding-left: 1em; padding-right: 1em; text-align: center; vertical-align: top\">house wylde</td>\n",
       "        <td style=\"padding-left: 1em; padding-right: 1em; text-align: center; vertical-align: top\">viserys ii targaryen</td>\n",
       "        <td style=\"padding-left: 1em; padding-right: 1em; text-align: center; vertical-align: top\">greek</td>\n",
       "        <td style=\"padding-left: 1em; padding-right: 1em; text-align: center; vertical-align: top\">frozen strawberries</td>\n",
       "        <td style=\"padding-left: 1em; padding-right: 1em; text-align: center; vertical-align: top\">salad leaves</td>\n",
       "    </tr>\n",
       "</table>\n",
       "<table frame=\"box\" rules=\"cols\">\n",
       "    <tr>\n",
       "        <th style=\"padding-left: 1em; padding-right: 1em; text-align: center\">Units sold</th>\n",
       "        <th style=\"padding-left: 1em; padding-right: 1em; text-align: center\">Revenue</th>\n",
       "        <th style=\"padding-left: 1em; padding-right: 1em; text-align: center\">Commission</th>\n",
       "    </tr>\n",
       "    <tr>\n",
       "        <td style=\"padding-left: 1em; padding-right: 1em; text-align: center; vertical-align: top\">2.49585110024</td>\n",
       "        <td style=\"padding-left: 1em; padding-right: 1em; text-align: center; vertical-align: top\">49717.3539167</td>\n",
       "        <td style=\"padding-left: 1em; padding-right: 1em; text-align: center; vertical-align: top\">0.0</td>\n",
       "    </tr>\n",
       "    <tr>\n",
       "        <td style=\"padding-left: 1em; padding-right: 1em; text-align: center; vertical-align: top\">45.1982920441</td>\n",
       "        <td style=\"padding-left: 1em; padding-right: 1em; text-align: center; vertical-align: top\">249494.572083</td>\n",
       "        <td style=\"padding-left: 1em; padding-right: 1em; text-align: center; vertical-align: top\">0.0</td>\n",
       "    </tr>\n",
       "    <tr>\n",
       "        <td style=\"padding-left: 1em; padding-right: 1em; text-align: center; vertical-align: top\">2.47500571874</td>\n",
       "        <td style=\"padding-left: 1em; padding-right: 1em; text-align: center; vertical-align: top\">54351.1255835</td>\n",
       "        <td style=\"padding-left: 1em; padding-right: 1em; text-align: center; vertical-align: top\">4393.13515077</td>\n",
       "    </tr>\n",
       "    <tr>\n",
       "        <td style=\"padding-left: 1em; padding-right: 1em; text-align: center; vertical-align: top\">4.98023325726</td>\n",
       "        <td style=\"padding-left: 1em; padding-right: 1em; text-align: center; vertical-align: top\">33467.1674888</td>\n",
       "        <td style=\"padding-left: 1em; padding-right: 1em; text-align: center; vertical-align: top\">0.0</td>\n",
       "    </tr>\n",
       "    <tr>\n",
       "        <td style=\"padding-left: 1em; padding-right: 1em; text-align: center; vertical-align: top\">2.48233779454</td>\n",
       "        <td style=\"padding-left: 1em; padding-right: 1em; text-align: center; vertical-align: top\">27256.0689841</td>\n",
       "        <td style=\"padding-left: 1em; padding-right: 1em; text-align: center; vertical-align: top\">0.0</td>\n",
       "    </tr>\n",
       "    <tr>\n",
       "        <td style=\"padding-left: 1em; padding-right: 1em; text-align: center; vertical-align: top\">14.8777015784</td>\n",
       "        <td style=\"padding-left: 1em; padding-right: 1em; text-align: center; vertical-align: top\">78554.2643341</td>\n",
       "        <td style=\"padding-left: 1em; padding-right: 1em; text-align: center; vertical-align: top\">0.0</td>\n",
       "    </tr>\n",
       "    <tr>\n",
       "        <td style=\"padding-left: 1em; padding-right: 1em; text-align: center; vertical-align: top\">161.428671976</td>\n",
       "        <td style=\"padding-left: 1em; padding-right: 1em; text-align: center; vertical-align: top\">852343.388035</td>\n",
       "        <td style=\"padding-left: 1em; padding-right: 1em; text-align: center; vertical-align: top\">0.0</td>\n",
       "    </tr>\n",
       "    <tr>\n",
       "        <td style=\"padding-left: 1em; padding-right: 1em; text-align: center; vertical-align: top\">72.2760630542</td>\n",
       "        <td style=\"padding-left: 1em; padding-right: 1em; text-align: center; vertical-align: top\">416310.123192</td>\n",
       "        <td style=\"padding-left: 1em; padding-right: 1em; text-align: center; vertical-align: top\">4400.33678007</td>\n",
       "    </tr>\n",
       "    <tr>\n",
       "        <td style=\"padding-left: 1em; padding-right: 1em; text-align: center; vertical-align: top\">2.49483837371</td>\n",
       "        <td style=\"padding-left: 1em; padding-right: 1em; text-align: center; vertical-align: top\">49697.1804043</td>\n",
       "        <td style=\"padding-left: 1em; padding-right: 1em; text-align: center; vertical-align: top\">0.0</td>\n",
       "    </tr>\n",
       "    <tr>\n",
       "        <td style=\"padding-left: 1em; padding-right: 1em; text-align: center; vertical-align: top\">5.0038816734</td>\n",
       "        <td style=\"padding-left: 1em; padding-right: 1em; text-align: center; vertical-align: top\">27621.4268372</td>\n",
       "        <td style=\"padding-left: 1em; padding-right: 1em; text-align: center; vertical-align: top\">0.0</td>\n",
       "    </tr>\n",
       "</table>\n",
       "[1081484 rows x 15 columns]<br/>Note: Only the head of the SFrame is printed.<br/>You can use print_rows(num_rows=m, num_columns=n) to print more rows and columns.\n",
       "</div>"
      ],
      "text/plain": [
       "Columns:\n",
       "\tYEAR\tint\n",
       "\tMONTH\tstr\n",
       "\tCompany\tstr\n",
       "\tArea 1\tstr\n",
       "\tArea 2\tstr\n",
       "\tArea 3\tstr\n",
       "\tArea 3 Classification\tstr\n",
       "\tOutlet Type\tstr\n",
       "\tOutlet Name\tstr\n",
       "\tProduct Category 1\tstr\n",
       "\tProduct Category 2\tstr\n",
       "\tProduct\tstr\n",
       "\tUnits sold\tfloat\n",
       "\tRevenue\tfloat\n",
       "\tCommission\tfloat\n",
       "\n",
       "Rows: 1081484\n",
       "\n",
       "Data:\n",
       "+------+-------+---------------+-----------------+-----------------+\n",
       "| YEAR | MONTH |    Company    |      Area 1     |      Area 2     |\n",
       "+------+-------+---------------+-----------------+-----------------+\n",
       "| 2018 |  JAN  | white walkers | the westerlands |   golden tooth  |\n",
       "| 2018 |  FEB  | white walkers |  the riverlands |  mummer's ford  |\n",
       "| 2018 |  JUN  |      men      |    the north    |     riverrun    |\n",
       "| 2018 |  FEB  | white walkers |  the stormlands |    green fork   |\n",
       "| 2018 |  JAN  | white walkers |  the crownlands | whispering wood |\n",
       "| 2018 |  JUN  | white walkers |  the stormlands |    green fork   |\n",
       "| 2018 |  MAR  | white walkers |  the riverlands |      darry      |\n",
       "| 2018 |  JUN  |      men      |    the north    |   moat cailin   |\n",
       "| 2018 |  JAN  | white walkers | beyond the wall |  deepwood motte |\n",
       "| 2018 |  FEB  | white walkers |  the crownlands |   stony shore   |\n",
       "+------+-------+---------------+-----------------+-----------------+\n",
       "+--------------+-----------------------+-----------------+----------------------+\n",
       "|    Area 3    | Area 3 Classification |   Outlet Type   |     Outlet Name      |\n",
       "+--------------+-----------------------+-----------------+----------------------+\n",
       "|   rivermen   |  lord of the crossing |    house frey   | viserys ii targaryen |\n",
       "|   dornish    |          ser          |   house swyft   |     walder frey      |\n",
       "|   valyrian   |          ser          |   house arryn   |     addison hill     |\n",
       "|   ironborn   |  lord of the crossing |  house santagar |     aemma arryn      |\n",
       "|  free folk   |          ser          | house targaryen |    sylva santagar    |\n",
       "|   ironborn   |  lord of the crossing |  house santagar |   tommen baratheon   |\n",
       "|   northmen   |         queen         |   house osgrey  | viserys ii targaryen |\n",
       "| summer isles |       greenstone      |  night's watch  |   valarr targaryen   |\n",
       "|   braavosi   |    hand of the king   |   house humble  | viserys i targaryen  |\n",
       "|   dothraki   |    hand of the king   |   house wylde   | viserys ii targaryen |\n",
       "+--------------+-----------------------+-----------------+----------------------+\n",
       "+--------------------+---------------------------+-----------------+\n",
       "| Product Category 1 |     Product Category 2    |     Product     |\n",
       "+--------------------+---------------------------+-----------------+\n",
       "|       korean       |           bagels          |  white cabbage  |\n",
       "|       greek        | chicken bouillon granules |       rye       |\n",
       "|       korean       |         dry yeast         |      wheels     |\n",
       "|      mexican       | chicken bouillon granules | cola soft drink |\n",
       "|       indian       |         field peas        | mexican oregano |\n",
       "|       greek        | chicken bouillon granules |  cottage cheese |\n",
       "|       greek        | chicken bouillon granules |   tahini paste  |\n",
       "|       greek        |          amaretti         |   green olives  |\n",
       "|       korean       |           bagels          |  white cabbage  |\n",
       "|       greek        |    frozen strawberries    |   salad leaves  |\n",
       "+--------------------+---------------------------+-----------------+\n",
       "+---------------+---------------+---------------+\n",
       "|   Units sold  |    Revenue    |   Commission  |\n",
       "+---------------+---------------+---------------+\n",
       "| 2.49585110024 | 49717.3539167 |      0.0      |\n",
       "| 45.1982920441 | 249494.572083 |      0.0      |\n",
       "| 2.47500571874 | 54351.1255835 | 4393.13515077 |\n",
       "| 4.98023325726 | 33467.1674888 |      0.0      |\n",
       "| 2.48233779454 | 27256.0689841 |      0.0      |\n",
       "| 14.8777015784 | 78554.2643341 |      0.0      |\n",
       "| 161.428671976 | 852343.388035 |      0.0      |\n",
       "| 72.2760630542 | 416310.123192 | 4400.33678007 |\n",
       "| 2.49483837371 | 49697.1804043 |      0.0      |\n",
       "|  5.0038816734 | 27621.4268372 |      0.0      |\n",
       "+---------------+---------------+---------------+\n",
       "[1081484 rows x 15 columns]\n",
       "Note: Only the head of the SFrame is printed.\n",
       "You can use print_rows(num_rows=m, num_columns=n) to print more rows and columns."
      ]
     },
     "execution_count": 3,
     "metadata": {},
     "output_type": "execute_result"
    }
   ],
   "source": [
    "sales"
   ]
  },
  {
   "cell_type": "code",
   "execution_count": 4,
   "metadata": {
    "collapsed": false
   },
   "outputs": [
    {
     "name": "stdout",
     "output_type": "stream",
     "text": [
      "Canvas is accessible via web browser at the URL: http://localhost:51360/index.html\n",
      "Opening Canvas in default web browser.\n"
     ]
    }
   ],
   "source": [
    "sales.show()"
   ]
  },
  {
   "cell_type": "code",
   "execution_count": 5,
   "metadata": {
    "collapsed": true
   },
   "outputs": [],
   "source": [
    "graphlab.canvas.set_target(\"ipynb\")"
   ]
  },
  {
   "cell_type": "code",
   "execution_count": 6,
   "metadata": {
    "collapsed": false,
    "scrolled": true
   },
   "outputs": [
    {
     "data": {
      "application/javascript": [
       "$(\"head\").append($(\"<link/>\").attr({\n",
       "  rel:  \"stylesheet\",\n",
       "  type: \"text/css\",\n",
       "  href: \"//cdnjs.cloudflare.com/ajax/libs/font-awesome/4.1.0/css/font-awesome.min.css\"\n",
       "}));\n",
       "$(\"head\").append($(\"<link/>\").attr({\n",
       "  rel:  \"stylesheet\",\n",
       "  type: \"text/css\",\n",
       "  href: \"https://static.turi.com/products/graphlab-create/2.1/canvas/css/canvas.css\"\n",
       "}));\n",
       "\n",
       "            (function(){\n",
       "\n",
       "                var e = null;\n",
       "                if (typeof element == 'undefined') {\n",
       "                    var scripts = document.getElementsByTagName('script');\n",
       "                    var thisScriptTag = scripts[scripts.length-1];\n",
       "                    var parentDiv = thisScriptTag.parentNode;\n",
       "                    e = document.createElement('div');\n",
       "                    parentDiv.appendChild(e);\n",
       "                } else {\n",
       "                    e = element[0];\n",
       "                }\n",
       "\n",
       "                if (typeof requirejs !== 'undefined') {\n",
       "                    // disable load timeout; ipython_app.js is large and can take a while to load.\n",
       "                    requirejs.config({waitSeconds: 0});\n",
       "                }\n",
       "\n",
       "                require(['https://static.turi.com/products/graphlab-create/2.1/canvas/js/ipython_app.js'], function(IPythonApp){\n",
       "                    var app = new IPythonApp();\n",
       "                    app.attachView('sframe','Summary', {\"ipython\": true, \"sketch\": {\"Product\": {\"complete\": true, \"numeric\": false, \"num_unique\": 318, \"num_undefined\": 0, \"progress\": 1.0, \"frequent_items\": {\"lamb stew meat\": {\"frequency\": 67, \"value\": \"lamb stew meat\"}, \"tomatoes with juice\": {\"frequency\": 67, \"value\": \"tomatoes with ...\"}, \"bacon rind\": {\"frequency\": 25084, \"value\": \"bacon rind\"}, \"reduced-fat cheese\": {\"frequency\": 16933, \"value\": \"reduced-fat cheese\"}, \"reduced fat sharp cheddar cheese\": {\"frequency\": 85, \"value\": \"reduced fat sharp ...\"}, \"white fleshed fish\": {\"frequency\": 4, \"value\": \"white fleshed fish\"}, \"pandan extract\": {\"frequency\": 15, \"value\": \"pandan extract\"}, \"serrano chilies\": {\"frequency\": 17, \"value\": \"serrano chilies\"}, \"orecchiette\": {\"frequency\": 518, \"value\": \"orecchiette\"}, \"green tea\": {\"frequency\": 1, \"value\": \"green tea\"}, \"lardons\": {\"frequency\": 491, \"value\": \"lardons\"}, \"marjoram\": {\"frequency\": 746, \"value\": \"marjoram\"}, \"pitted date\": {\"frequency\": 677, \"value\": \"pitted date\"}, \"peeled deveined shrimp\": {\"frequency\": 1297, \"value\": \"peeled deveined ...\"}, \"canned chicken broth\": {\"frequency\": 25, \"value\": \"canned chicken ...\"}, \"prosecco\": {\"frequency\": 22890, \"value\": \"prosecco\"}, \"dill pickles\": {\"frequency\": 196, \"value\": \"dill pickles\"}, \"bitters\": {\"frequency\": 210, \"value\": \"bitters\"}, \"boneless pork shoulder\": {\"frequency\": 286, \"value\": \"boneless pork ...\"}, \"hothouse cucumber\": {\"frequency\": 78, \"value\": \"hothouse cucumber\"}, \"gluten free all purpose flour\": {\"frequency\": 299, \"value\": \"gluten free all ...\"}, \"sliced shallots\": {\"frequency\": 8, \"value\": \"sliced shallots\"}, \"prepar salsa\": {\"frequency\": 5, \"value\": \"prepar salsa\"}, \"raspberry jam\": {\"frequency\": 150, \"value\": \"raspberry jam\"}, \"glazed pecans\": {\"frequency\": 106, \"value\": \"glazed pecans\"}, \"triple sec\": {\"frequency\": 321, \"value\": \"triple sec\"}, \"tilapia fillets\": {\"frequency\": 26295, \"value\": \"tilapia fillets\"}, \"vegetable oil spray\": {\"frequency\": 119, \"value\": \"vegetable oil ...\"}, \"mexican chocolate\": {\"frequency\": 18878, \"value\": \"mexican chocolate\"}, \"farmer cheese\": {\"frequency\": 107, \"value\": \"farmer cheese\"}, \"garlic juice\": {\"frequency\": 10376, \"value\": \"garlic juice\"}, \"vine tomatoes\": {\"frequency\": 2, \"value\": \"vine tomatoes\"}, \"porterhouse steaks\": {\"frequency\": 1, \"value\": \"porterhouse steaks\"}, \"vegan parmesan cheese\": {\"frequency\": 672, \"value\": \"vegan parmesan ...\"}, \"stone-ground cornmeal\": {\"frequency\": 16955, \"value\": \"stone-ground ...\"}, \"daal\": {\"frequency\": 1, \"value\": \"daal\"}, \"lite coconut milk\": {\"frequency\": 4122, \"value\": \"lite coconut milk\"}, \"cola soft drink\": {\"frequency\": 12130, \"value\": \"cola soft drink\"}, \"fregola\": {\"frequency\": 21834, \"value\": \"fregola\"}, \"caraway seeds\": {\"frequency\": 272, \"value\": \"caraway seeds\"}, \"cottage cheese\": {\"frequency\": 30062, \"value\": \"cottage cheese\"}, \"whole cloves\": {\"frequency\": 165, \"value\": \"whole cloves\"}, \"streaky bacon\": {\"frequency\": 1534, \"value\": \"streaky bacon\"}, \"frozen banana\": {\"frequency\": 1, \"value\": \"frozen banana\"}, \"mashed potatoes\": {\"frequency\": 5885, \"value\": \"mashed potatoes\"}, \"yeast\": {\"frequency\": 1514, \"value\": \"yeast\"}, \"halibut fillets\": {\"frequency\": 20, \"value\": \"halibut fillets\"}, \"pickled okra\": {\"frequency\": 16, \"value\": \"pickled okra\"}, \"spanish paprika\": {\"frequency\": 7, \"value\": \"spanish paprika\"}, \"baton\": {\"frequency\": 23, \"value\": \"baton\"}, \"curly endive\": {\"frequency\": 19, \"value\": \"curly endive\"}, \"coffee granules\": {\"frequency\": 69, \"value\": \"coffee granules\"}, \"truffle oil\": {\"frequency\": 8064, \"value\": \"truffle oil\"}, \"umeboshi\": {\"frequency\": 31, \"value\": \"umeboshi\"}, \"sole fillet\": {\"frequency\": 14, \"value\": \"sole fillet\"}, \"potato gnocchi\": {\"frequency\": 239, \"value\": \"potato gnocchi\"}, \"relish\": {\"frequency\": 10518, \"value\": \"relish\"}, \"yellow lentils\": {\"frequency\": 15, \"value\": \"yellow lentils\"}, \"spanish rice\": {\"frequency\": 1, \"value\": \"spanish rice\"}, \"fresh ham\": {\"frequency\": 2910, \"value\": \"fresh ham\"}, \"xanthan gum\": {\"frequency\": 627, \"value\": \"xanthan gum\"}, \"white cabbage\": {\"frequency\": 13756, \"value\": \"white cabbage\"}, \"pigeon peas\": {\"frequency\": 1142, \"value\": \"pigeon peas\"}, \"pastry shell\": {\"frequency\": 62, \"value\": \"pastry shell\"}, \"sweet sherry\": {\"frequency\": 127, \"value\": \"sweet sherry\"}, \"chambord\": {\"frequency\": 231, \"value\": \"chambord\"}, \"cherry preserves\": {\"frequency\": 99, \"value\": \"cherry preserves\"}, \"whitefish fillets\": {\"frequency\": 2, \"value\": \"whitefish fillets\"}, \"pork lard\": {\"frequency\": 124, \"value\": \"pork lard\"}, \"salad leaves\": {\"frequency\": 14723, \"value\": \"salad leaves\"}, \"unsalted chicken stock\": {\"frequency\": 165, \"value\": \"unsalted chicken ...\"}, \"agave nectar\": {\"frequency\": 262, \"value\": \"agave nectar\"}, \"teas\": {\"frequency\": 63, \"value\": \"teas\"}, \"rosemary\": {\"frequency\": 17, \"value\": \"rosemary\"}, \"loosely packed fresh basil leaves\": {\"frequency\": 17, \"value\": \"loosely packed ...\"}, \"amaretto liqueur\": {\"frequency\": 60, \"value\": \"amaretto liqueur\"}, \"baby lima beans\": {\"frequency\": 154, \"value\": \"baby lima beans\"}, \"tripe\": {\"frequency\": 159, \"value\": \"tripe\"}, \"fat-trimmed beef flank steak\": {\"frequency\": 8601, \"value\": \"fat-trimmed beef ...\"}, \"toasted peanuts\": {\"frequency\": 114, \"value\": \"toasted peanuts\"}, \"buckwheat soba noodles\": {\"frequency\": 68, \"value\": \"buckwheat soba ...\"}, \"rose water\": {\"frequency\": 629, \"value\": \"rose water\"}, \"cantaloupe\": {\"frequency\": 12, \"value\": \"cantaloupe\"}, \"chopped fresh herbs\": {\"frequency\": 34, \"value\": \"chopped fresh ...\"}, \"baked tortilla chips\": {\"frequency\": 77, \"value\": \"baked tortilla ...\"}, \"shanghai noodles\": {\"frequency\": 96, \"value\": \"shanghai noodles\"}, \"lillet\": {\"frequency\": 2351, \"value\": \"lillet\"}, \"pie dough\": {\"frequency\": 1, \"value\": \"pie dough\"}, \"lamb loin chops\": {\"frequency\": 660, \"value\": \"lamb loin chops\"}, \"croissant dough\": {\"frequency\": 9, \"value\": \"croissant dough\"}, \"self-rising cornmeal\": {\"frequency\": 97, \"value\": \"self-rising ...\"}, \"fish stock\": {\"frequency\": 120, \"value\": \"fish stock\"}, \"fiber one\": {\"frequency\": 868, \"value\": \"fiber one\"}, \"honeydew melon\": {\"frequency\": 37, \"value\": \"honeydew melon\"}, \"sauerkraut\": {\"frequency\": 1895, \"value\": \"sauerkraut\"}, \"cornflake cereal\": {\"frequency\": 10071, \"value\": \"cornflake cereal\"}, \"frozen broccoli\": {\"frequency\": 7768, \"value\": \"frozen broccoli\"}, \"chaat masala\": {\"frequency\": 1280, \"value\": \"chaat masala\"}, \"sausage links\": {\"frequency\": 23, \"value\": \"sausage links\"}, \"dried sage\": {\"frequency\": 63, \"value\": \"dried sage\"}, \"applesauce\": {\"frequency\": 27, \"value\": \"applesauce\"}, \"plain dry bread crumb\": {\"frequency\": 34, \"value\": \"plain dry bread ...\"}, \"cooked turkey\": {\"frequency\": 10694, \"value\": \"cooked turkey\"}, \"reduced-fat sour cream\": {\"frequency\": 506, \"value\": \"reduced-fat sour ...\"}, \"scallops\": {\"frequency\": 29721, \"value\": \"scallops\"}, \"champagne\": {\"frequency\": 70, \"value\": \"champagne\"}, \"turbot\": {\"frequency\": 340, \"value\": \"turbot\"}, \"garden peas\": {\"frequency\": 16616, \"value\": \"garden peas\"}, \"leftover gravy\": {\"frequency\": 6223, \"value\": \"leftover gravy\"}, \"frozen mixed thawed vegetables,\": {\"frequency\": 773, \"value\": \"frozen mixed ...\"}, \"condensed chicken broth\": {\"frequency\": 1488, \"value\": \"condensed chicken ...\"}, \"bulgur\": {\"frequency\": 111, \"value\": \"bulgur\"}, \"fresh chile\": {\"frequency\": 3488, \"value\": \"fresh chile\"}, \"pepper jack\": {\"frequency\": 3168, \"value\": \"pepper jack\"}, \"extra lean ground beef\": {\"frequency\": 263, \"value\": \"extra lean ground ...\"}, \"lemon wedge\": {\"frequency\": 1, \"value\": \"lemon wedge\"}, \"crystal hot sauce\": {\"frequency\": 20, \"value\": \"crystal hot sauce\"}, \"sweet italian sausage\": {\"frequency\": 7565, \"value\": \"sweet italian ...\"}, \"banana peppers\": {\"frequency\": 635, \"value\": \"banana peppers\"}, \"vanilla wafers\": {\"frequency\": 1, \"value\": \"vanilla wafers\"}, \"oyster mushrooms\": {\"frequency\": 33460, \"value\": \"oyster mushrooms\"}, \"thick-cut bacon\": {\"frequency\": 45, \"value\": \"thick-cut bacon\"}, \"frozen orange juice concentrate\": {\"frequency\": 24145, \"value\": \"frozen orange ...\"}, \"mushroom soy sauce\": {\"frequency\": 29, \"value\": \"mushroom soy sauce\"}, \"white peaches\": {\"frequency\": 7, \"value\": \"white peaches\"}, \"lavender buds\": {\"frequency\": 102, \"value\": \"lavender buds\"}, \"veal scallopini\": {\"frequency\": 275, \"value\": \"veal scallopini\"}, \"raw cashews\": {\"frequency\": 1369, \"value\": \"raw cashews\"}, \"hungarian paprika\": {\"frequency\": 40, \"value\": \"hungarian paprika\"}, \"fresh oregano leaves\": {\"frequency\": 175, \"value\": \"fresh oregano ...\"}, \"dill weed\": {\"frequency\": 2578, \"value\": \"dill weed\"}, \"japanese eggplants\": {\"frequency\": 13633, \"value\": \"japanese eggplants\"}, \"wasabi powder\": {\"frequency\": 2, \"value\": \"wasabi powder\"}, \"all beef hot dogs\": {\"frequency\": 15, \"value\": \"all beef hot dogs\"}, \"yardlong beans\": {\"frequency\": 4, \"value\": \"yardlong beans\"}, \"hot cocoa mix\": {\"frequency\": 15072, \"value\": \"hot cocoa mix\"}, \"clam juice\": {\"frequency\": 11, \"value\": \"clam juice\"}, \"shrimp shells\": {\"frequency\": 8, \"value\": \"shrimp shells\"}, \"short pasta\": {\"frequency\": 1, \"value\": \"short pasta\"}, \"and fat free half half\": {\"frequency\": 419, \"value\": \"and fat free half ...\"}, \"soda\": {\"frequency\": 2146, \"value\": \"soda\"}, \"wheels\": {\"frequency\": 2026, \"value\": \"wheels\"}, \"green lentil\": {\"frequency\": 65, \"value\": \"green lentil\"}, \"xuxu\": {\"frequency\": 232, \"value\": \"xuxu\"}, \"refrigerated pizza dough\": {\"frequency\": 153, \"value\": \"refrigerated pizza ...\"}, \"reduced fat coconut milk\": {\"frequency\": 2, \"value\": \"reduced fat ...\"}, \"marsala wine\": {\"frequency\": 7, \"value\": \"marsala wine\"}, \"spiced rum\": {\"frequency\": 8882, \"value\": \"spiced rum\"}, \"italian loaf\": {\"frequency\": 4, \"value\": \"italian loaf\"}, \"sushi rice\": {\"frequency\": 3304, \"value\": \"sushi rice\"}, \"dark corn syrup\": {\"frequency\": 20, \"value\": \"dark corn syrup\"}, \"tilapia\": {\"frequency\": 20643, \"value\": \"tilapia\"}, \"silver dragees\": {\"frequency\": 141, \"value\": \"silver dragees\"}, \"maldon sea salt\": {\"frequency\": 21765, \"value\": \"maldon sea salt\"}, \"whole almonds\": {\"frequency\": 1960, \"value\": \"whole almonds\"}, \"boneless beef roast\": {\"frequency\": 903, \"value\": \"boneless beef ...\"}, \"ahi\": {\"frequency\": 209, \"value\": \"ahi\"}, \"sack\": {\"frequency\": 29, \"value\": \"sack\"}, \"sourdough bread\": {\"frequency\": 69, \"value\": \"sourdough bread\"}, \"cod fillets\": {\"frequency\": 33, \"value\": \"cod fillets\"}, \"pimenton\": {\"frequency\": 254, \"value\": \"pimenton\"}, \"confit duck leg\": {\"frequency\": 27, \"value\": \"confit duck leg\"}, \"bread dough\": {\"frequency\": 5945, \"value\": \"bread dough\"}, \"dry roasted peanuts\": {\"frequency\": 1394, \"value\": \"dry roasted ...\"}, \"dhal\": {\"frequency\": 10, \"value\": \"dhal\"}, \"lemon rind\": {\"frequency\": 787, \"value\": \"lemon rind\"}, \"brioche bread\": {\"frequency\": 453, \"value\": \"brioche bread\"}, \"black vinegar\": {\"frequency\": 121, \"value\": \"black vinegar\"}, \"ground paprika\": {\"frequency\": 1519, \"value\": \"ground paprika\"}, \"pure acai puree\": {\"frequency\": 21, \"value\": \"pure acai puree\"}, \"tahini paste\": {\"frequency\": 24231, \"value\": \"tahini paste\"}, \"bread yeast\": {\"frequency\": 120, \"value\": \"bread yeast\"}, \"shells\": {\"frequency\": 21469, \"value\": \"shells\"}, \"pork baby back ribs\": {\"frequency\": 15343, \"value\": \"pork baby back ...\"}, \"ground almonds\": {\"frequency\": 2353, \"value\": \"ground almonds\"}, \"guajillo chiles\": {\"frequency\": 59, \"value\": \"guajillo chiles\"}, \"turkey\": {\"frequency\": 18497, \"value\": \"turkey\"}, \"boston butt\": {\"frequency\": 37, \"value\": \"boston butt\"}, \"whole cranberry sauce\": {\"frequency\": 355, \"value\": \"whole cranberry ...\"}, \"vanilla pods\": {\"frequency\": 28, \"value\": \"vanilla pods\"}, \"taco toppings\": {\"frequency\": 131, \"value\": \"taco toppings\"}, \"anjou pears\": {\"frequency\": 6, \"value\": \"anjou pears\"}, \"dried pinto beans\": {\"frequency\": 7, \"value\": \"dried pinto beans\"}, \"slaw\": {\"frequency\": 7766, \"value\": \"slaw\"}, \"msg\": {\"frequency\": 1098, \"value\": \"msg\"}, \"yellow food coloring\": {\"frequency\": 77, \"value\": \"yellow food ...\"}, \"whole snapper\": {\"frequency\": 1517, \"value\": \"whole snapper\"}, \"gai lan\": {\"frequency\": 637, \"value\": \"gai lan\"}, \"poppy seeds\": {\"frequency\": 2532, \"value\": \"poppy seeds\"}, \"cornichons\": {\"frequency\": 85, \"value\": \"cornichons\"}, \"peach preserves\": {\"frequency\": 2598, \"value\": \"peach preserves\"}, \"orange peel\": {\"frequency\": 19175, \"value\": \"orange peel\"}, \"fresh chevre\": {\"frequency\": 21, \"value\": \"fresh chevre\"}, \"diced tomatoes in juice\": {\"frequency\": 83, \"value\": \"diced tomatoes in ...\"}, \"tangerine\": {\"frequency\": 41, \"value\": \"tangerine\"}, \"paneer\": {\"frequency\": 706, \"value\": \"paneer\"}, \"chocolate\": {\"frequency\": 53, \"value\": \"chocolate\"}, \"mulato chiles\": {\"frequency\": 3924, \"value\": \"mulato chiles\"}, \"aleppo pepper\": {\"frequency\": 70, \"value\": \"aleppo pepper\"}, \"baby corn\": {\"frequency\": 402, \"value\": \"baby corn\"}, \"runny honey\": {\"frequency\": 21030, \"value\": \"runny honey\"}, \"sugar pea\": {\"frequency\": 49, \"value\": \"sugar pea\"}, \"mexican oregano\": {\"frequency\": 6755, \"value\": \"mexican oregano\"}, \"frozen raspberries\": {\"frequency\": 176, \"value\": \"frozen raspberries\"}, \"gram flour\": {\"frequency\": 2, \"value\": \"gram flour\"}, \"light mayonnaise\": {\"frequency\": 1349, \"value\": \"light mayonnaise\"}, \"achiote paste\": {\"frequency\": 11366, \"value\": \"achiote paste\"}, \"seltzer water\": {\"frequency\": 154, \"value\": \"seltzer water\"}, \"chocolate candy bars\": {\"frequency\": 691, \"value\": \"chocolate candy ...\"}, \"corn bread\": {\"frequency\": 568, \"value\": \"corn bread\"}, \"salad oil\": {\"frequency\": 5365, \"value\": \"salad oil\"}, \"beef sirloin\": {\"frequency\": 99, \"value\": \"beef sirloin\"}, \"pitted black olives\": {\"frequency\": 2, \"value\": \"pitted black ...\"}, \"turkey hot dogs\": {\"frequency\": 1, \"value\": \"turkey hot dogs\"}, \"mushroom caps\": {\"frequency\": 4925, \"value\": \"mushroom caps\"}, \"plums\": {\"frequency\": 28, \"value\": \"plums\"}, \"ground chipotle chile pepper\": {\"frequency\": 33, \"value\": \"ground chipotle ...\"}, \"dried tarragon leaves\": {\"frequency\": 2536, \"value\": \"dried tarragon ...\"}, \"abbamele\": {\"frequency\": 10635, \"value\": \"abbamele\"}, \"firm silken tofu\": {\"frequency\": 5005, \"value\": \"firm silken tofu\"}, \"apricot halves\": {\"frequency\": 66, \"value\": \"apricot halves\"}, \"sesame\": {\"frequency\": 794, \"value\": \"sesame\"}, \"yellow rock sugar\": {\"frequency\": 7, \"value\": \"yellow rock sugar\"}, \"campbell's condensed cream of chicken soup\": {\"frequency\": 61, \"value\": \"campbell's ...\"}, \"colby jack cheese\": {\"frequency\": 173, \"value\": \"colby jack cheese\"}, \"fresh orange juice\": {\"frequency\": 26, \"value\": \"fresh orange juice\"}, \"cake\": {\"frequency\": 495, \"value\": \"cake\"}, \"rotini\": {\"frequency\": 2, \"value\": \"rotini\"}, \"plain low-fat yogurt\": {\"frequency\": 4, \"value\": \"plain low-fat ...\"}, \"coffee liqueur\": {\"frequency\": 3, \"value\": \"coffee liqueur\"}, \"soft-boiled egg\": {\"frequency\": 888, \"value\": \"soft-boiled egg\"}, \"veget soup mix\": {\"frequency\": 7, \"value\": \"veget soup mix\"}, \"idli\": {\"frequency\": 15, \"value\": \"idli\"}, \"glace cherries\": {\"frequency\": 358, \"value\": \"glace cherries\"}, \"boneless chicken breast halves\": {\"frequency\": 1022, \"value\": \"boneless chicken ...\"}, \"tiger prawn\": {\"frequency\": 674, \"value\": \"tiger prawn\"}, \"wild mushrooms\": {\"frequency\": 2864, \"value\": \"wild mushrooms\"}, \"blanched almonds\": {\"frequency\": 129, \"value\": \"blanched almonds\"}, \"olive oil spray\": {\"frequency\": 91, \"value\": \"olive oil spray\"}, \"umeboshi vinegar\": {\"frequency\": 9, \"value\": \"umeboshi vinegar\"}, \"orange flower water\": {\"frequency\": 49, \"value\": \"orange flower ...\"}, \"escarole\": {\"frequency\": 39, \"value\": \"escarole\"}, \"broth\": {\"frequency\": 7, \"value\": \"broth\"}, \"frozen mixed vegetables\": {\"frequency\": 2, \"value\": \"frozen mixed ...\"}, \"poblano chilies\": {\"frequency\": 25282, \"value\": \"poblano chilies\"}, \"pure vanilla extract\": {\"frequency\": 38, \"value\": \"pure vanilla ...\"}, \"equal sweetener\": {\"frequency\": 2819, \"value\": \"equal sweetener\"}, \"soda water\": {\"frequency\": 78, \"value\": \"soda water\"}, \"turkey broth\": {\"frequency\": 12426, \"value\": \"turkey broth\"}, \"almond butter\": {\"frequency\": 84, \"value\": \"almond butter\"}, \"pie shell\": {\"frequency\": 40, \"value\": \"pie shell\"}, \"chanterelle\": {\"frequency\": 32, \"value\": \"chanterelle\"}, \"baby portobello mushrooms\": {\"frequency\": 7, \"value\": \"baby portobello ...\"}, \"hibiscus tea\": {\"frequency\": 57, \"value\": \"hibiscus tea\"}, \"icing\": {\"frequency\": 219, \"value\": \"icing\"}, \"vanilla sugar\": {\"frequency\": 4602, \"value\": \"vanilla sugar\"}, \"celery seed\": {\"frequency\": 36, \"value\": \"celery seed\"}, \"pizza shells\": {\"frequency\": 41, \"value\": \"pizza shells\"}, \"fresh onion\": {\"frequency\": 1, \"value\": \"fresh onion\"}, \"whole wheat spaghetti\": {\"frequency\": 116, \"value\": \"whole wheat ...\"}, \"bibb lettuce\": {\"frequency\": 1308, \"value\": \"bibb lettuce\"}, \"medium-grain rice\": {\"frequency\": 66, \"value\": \"medium-grain rice\"}, \"rye\": {\"frequency\": 24291, \"value\": \"rye\"}, \"nuts\": {\"frequency\": 17, \"value\": \"nuts\"}, \"pace picante sauce\": {\"frequency\": 15, \"value\": \"pace picante sauce\"}, \"chinkiang vinegar\": {\"frequency\": 14675, \"value\": \"chinkiang vinegar\"}, \"cherries\": {\"frequency\": 32421, \"value\": \"cherries\"}, \"flat iron steaks\": {\"frequency\": 313, \"value\": \"flat iron steaks\"}, \"hot dog bun\": {\"frequency\": 9, \"value\": \"hot dog bun\"}, \"smoked kielbasa\": {\"frequency\": 32, \"value\": \"smoked kielbasa\"}, \"green olives\": {\"frequency\": 24785, \"value\": \"green olives\"}, \"cilantro sprigs\": {\"frequency\": 11225, \"value\": \"cilantro sprigs\"}, \"lotus roots\": {\"frequency\": 225, \"value\": \"lotus roots\"}, \"whipped cream\": {\"frequency\": 7038, \"value\": \"whipped cream\"}, \"pinot grigio\": {\"frequency\": 9963, \"value\": \"pinot grigio\"}, \"lamb shoulder\": {\"frequency\": 8, \"value\": \"lamb shoulder\"}, \"fresca\": {\"frequency\": 4459, \"value\": \"fresca\"}, \"pumpkin seeds\": {\"frequency\": 90, \"value\": \"pumpkin seeds\"}, \"sturgeon fillets\": {\"frequency\": 70, \"value\": \"sturgeon fillets\"}, \"table salt\": {\"frequency\": 31, \"value\": \"table salt\"}, \"fresh lima beans\": {\"frequency\": 4382, \"value\": \"fresh lima beans\"}, \"rotel tomatoes\": {\"frequency\": 262, \"value\": \"rotel tomatoes\"}, \"sablefish\": {\"frequency\": 10094, \"value\": \"sablefish\"}, \"angel hair\": {\"frequency\": 171, \"value\": \"angel hair\"}, \"gooseberries\": {\"frequency\": 1311, \"value\": \"gooseberries\"}, \"sponge cake\": {\"frequency\": 228, \"value\": \"sponge cake\"}, \"pasilla chiles\": {\"frequency\": 1193, \"value\": \"pasilla chiles\"}, \"dry pasta\": {\"frequency\": 6175, \"value\": \"dry pasta\"}, \"crusty sandwich rolls\": {\"frequency\": 29738, \"value\": \"crusty sandwich ...\"}, \"biscuit baking mix\": {\"frequency\": 239, \"value\": \"biscuit baking mix\"}, \"golden syrup\": {\"frequency\": 5057, \"value\": \"golden syrup\"}, \"stewing beef\": {\"frequency\": 1, \"value\": \"stewing beef\"}, \"italian salad dressing\": {\"frequency\": 51, \"value\": \"italian salad ...\"}, \"taco shells\": {\"frequency\": 281, \"value\": \"taco shells\"}, \"roasted sesame seeds\": {\"frequency\": 46, \"value\": \"roasted sesame ...\"}, \"vanilla cream\": {\"frequency\": 64, \"value\": \"vanilla cream\"}, \"ginger root\": {\"frequency\": 26, \"value\": \"ginger root\"}, \"self-rising cake flour\": {\"frequency\": 8357, \"value\": \"self-rising cake ...\"}, \"rolled oats\": {\"frequency\": 1, \"value\": \"rolled oats\"}, \"liquid egg substitute\": {\"frequency\": 14488, \"value\": \"liquid egg ...\"}, \"reduced fat creamy peanut butter\": {\"frequency\": 1, \"value\": \"reduced fat creamy ...\"}, \"beets\": {\"frequency\": 294, \"value\": \"beets\"}, \"walnut halves\": {\"frequency\": 439, \"value\": \"walnut halves\"}, \"gelato\": {\"frequency\": 39, \"value\": \"gelato\"}, \"bbq sauce\": {\"frequency\": 12667, \"value\": \"bbq sauce\"}, \"nonfat ricotta cheese\": {\"frequency\": 20363, \"value\": \"nonfat ricotta ...\"}, \"flat anchovy\": {\"frequency\": 2, \"value\": \"flat anchovy\"}, \"blue corn tortilla chips\": {\"frequency\": 4, \"value\": \"blue corn tortilla ...\"}, \"fresh curry leaves\": {\"frequency\": 11068, \"value\": \"fresh curry leaves\"}, \"red food coloring\": {\"frequency\": 164, \"value\": \"red food coloring\"}, \"pear tomatoes\": {\"frequency\": 204, \"value\": \"pear tomatoes\"}, \"gaeta olives\": {\"frequency\": 108, \"value\": \"gaeta olives\"}, \"jerk seasoning\": {\"frequency\": 17784, \"value\": \"jerk seasoning\"}, \"pineapple\": {\"frequency\": 283, \"value\": \"pineapple\"}, \"powdered buttermilk\": {\"frequency\": 108, \"value\": \"powdered ...\"}, \"new potatoes\": {\"frequency\": 4, \"value\": \"new potatoes\"}, \"ground tumeric\": {\"frequency\": 374, \"value\": \"ground tumeric\"}, \"lime rind\": {\"frequency\": 1, \"value\": \"lime rind\"}, \"yellow curry paste\": {\"frequency\": 42, \"value\": \"yellow curry paste\"}, \"ragu old world style pasta sauc\": {\"frequency\": 107, \"value\": \"ragu old world ...\"}}, \"size\": 1081484}, \"Revenue\": {\"std\": 428218.9295534117, \"complete\": true, \"min\": 0.0, \"max\": 18493543.92852512, \"quantile\": [0.0, 0.0, 0.0, 0.0, 0.0, 0.0, 0.0, 0.0, 0.0, 0.0, 0.0, 13686.531213524851, 13857.48772790865, 14491.968373941185, 16753.63978356618, 17205.471442023154, 18314.958767131026, 18660.389459771435, 19130.260919936303, 21331.64387193104, 24852.77170033337, 26602.434547393736, 27541.21016019273, 28425.912994932714, 29165.012151443363, 29637.01453496128, 29990.957477889, 30351.429204358246, 32575.89088785937, 32959.8901239872, 33648.7427591542, 35944.0885184386, 37138.73399776092, 38558.17443273595, 41635.550430705465, 44659.290685958025, 46137.61056713579, 48052.71653383743, 49046.96621050149, 49679.26569521004, 50200.42308572908, 50679.76879929459, 51436.02240494562, 54690.586397513005, 55583.96567991239, 57752.043955069166, 59138.24017548114, 59988.34943579485, 61453.25068229085, 65672.65082474031, 68236.86016474708, 69654.16094624765, 72126.33796707899, 74414.5968902748, 79089.84390981887, 85944.97064986108, 89131.5519518233, 90307.78708771877, 92654.72782416423, 96765.90247738022, 99914.47348444066, 103306.70011034116, 111350.42984533535, 117803.95832070852, 120520.16501564832, 126719.58128586152, 134357.41669416003, 139373.6192402762, 144872.72203481084, 149081.2907547707, 153019.9230797542, 165871.0397765544, 178326.977246313, 181679.442182552, 196551.98089027652, 206123.411475591, 215459.70487543545, 230924.3061326348, 243246.06812305888, 259091.58062897655, 271166.99620834104, 287360.9525627713, 302347.2155878017, 323884.3480462337, 344790.3907248441, 362054.3710017688, 392811.8305410723, 418051.0307543121, 449907.5776395296, 484362.4028236708, 525321.4992834341, 569653.4918792617, 620880.7763934219, 685446.8760644122, 761490.501100434, 862963.0520275421, 997800.270368717, 1195174.889186978, 1478490.173564101, 2032676.5872895129, 18493543.92852512], \"median\": 68236.86016474708, \"numeric\": true, \"num_unique\": 971197, \"num_undefined\": 0, \"var\": 183371451627.86978, \"progress\": 1.0, \"size\": 1081484, \"frequent_items\": {\"0.0\": {\"frequency\": 111953, \"value\": 0.0}}, \"mean\": 209539.74278681984}, \"Product Category 1\": {\"complete\": true, \"numeric\": false, \"num_unique\": 6, \"num_undefined\": 0, \"progress\": 1.0, \"frequent_items\": {\"mexican\": {\"frequency\": 400723, \"value\": \"mexican\"}, \"chinese\": {\"frequency\": 12853, \"value\": \"chinese\"}, \"vietnamese\": {\"frequency\": 33795, \"value\": \"vietnamese\"}, \"greek\": {\"frequency\": 320994, \"value\": \"greek\"}, \"indian\": {\"frequency\": 212866, \"value\": \"indian\"}, \"korean\": {\"frequency\": 100253, \"value\": \"korean\"}}, \"size\": 1081484}, \"Company\": {\"complete\": true, \"numeric\": false, \"num_unique\": 2, \"num_undefined\": 0, \"progress\": 1.0, \"frequent_items\": {\"white walkers\": {\"frequency\": 726983, \"value\": \"white walkers\"}, \"men\": {\"frequency\": 354501, \"value\": \"men\"}}, \"size\": 1081484}, \"Product Category 2\": {\"complete\": true, \"numeric\": false, \"num_unique\": 109, \"num_undefined\": 0, \"progress\": 1.0, \"frequent_items\": {\"cream of mushroom soup\": {\"frequency\": 491, \"value\": \"cream of mushroom ...\"}, \"sage\": {\"frequency\": 150, \"value\": \"sage\"}, \"alfredo sauce\": {\"frequency\": 24135, \"value\": \"alfredo sauce\"}, \"morel\": {\"frequency\": 31827, \"value\": \"morel\"}, \"lean ground turkey\": {\"frequency\": 211, \"value\": \"lean ground turkey\"}, \"gluten free corn tortillas\": {\"frequency\": 12, \"value\": \"gluten free corn ...\"}, \"toasted walnuts\": {\"frequency\": 2731, \"value\": \"toasted walnuts\"}, \"vietnamese coriander\": {\"frequency\": 39, \"value\": \"vietnamese ...\"}, \"jell-o gelatin dessert\": {\"frequency\": 176, \"value\": \"jell-o gelatin ...\"}, \"raw honey\": {\"frequency\": 70, \"value\": \"raw honey\"}, \"Others VODKA-PREMIUM STD\": {\"frequency\": 2, \"value\": \"Others VODKA- ...\"}, \"bagels\": {\"frequency\": 28010, \"value\": \"bagels\"}, \"baby beets\": {\"frequency\": 7894, \"value\": \"baby beets\"}, \"frozen strawberries\": {\"frequency\": 56929, \"value\": \"frozen ...\"}, \"fromage blanc\": {\"frequency\": 9, \"value\": \"fromage blanc\"}, \"cognac\": {\"frequency\": 114, \"value\": \"cognac\"}, \"dry coconut\": {\"frequency\": 32054, \"value\": \"dry coconut\"}, \"seasoned flour\": {\"frequency\": 175, \"value\": \"seasoned flour\"}, \"acorn squash\": {\"frequency\": 2332, \"value\": \"acorn squash\"}, \"homemade chicken stock\": {\"frequency\": 38, \"value\": \"homemade chicken ...\"}, \"Caol Ila\": {\"frequency\": 31, \"value\": \"Caol Ila\"}, \"jack\": {\"frequency\": 58497, \"value\": \"jack\"}, \"chicken bouillon granules\": {\"frequency\": 160871, \"value\": \"chicken bouillon ...\"}, \"sweetener\": {\"frequency\": 83, \"value\": \"sweetener\"}, \"meat\": {\"frequency\": 63, \"value\": \"meat\"}, \"pastry cream\": {\"frequency\": 106, \"value\": \"pastry cream\"}, \"serrano peppers\": {\"frequency\": 57, \"value\": \"serrano peppers\"}, \"crystallized ginger\": {\"frequency\": 90, \"value\": \"crystallized ...\"}, \"snails\": {\"frequency\": 1330, \"value\": \"snails\"}, \"cornbread\": {\"frequency\": 419, \"value\": \"cornbread\"}, \"anise seed\": {\"frequency\": 23, \"value\": \"anise seed\"}, \"turkey legs\": {\"frequency\": 439, \"value\": \"turkey legs\"}, \"rotisserie chicken\": {\"frequency\": 183, \"value\": \"rotisserie chicken\"}, \"canned chopped tomatoes\": {\"frequency\": 254, \"value\": \"canned chopped ...\"}, \"smoked turkey\": {\"frequency\": 674, \"value\": \"smoked turkey\"}, \"amaretti\": {\"frequency\": 93981, \"value\": \"amaretti\"}, \"beaten eggs\": {\"frequency\": 1073, \"value\": \"beaten eggs\"}, \"hatch green chiles\": {\"frequency\": 3247, \"value\": \"hatch green chiles\"}, \"ladyfingers\": {\"frequency\": 374, \"value\": \"ladyfingers\"}, \"shortbread cookies\": {\"frequency\": 161, \"value\": \"shortbread cookies\"}, \"romana\": {\"frequency\": 28, \"value\": \"romana\"}, \"Cardhu\": {\"frequency\": 17, \"value\": \"Cardhu\"}, \"hot curry powder\": {\"frequency\": 27, \"value\": \"hot curry powder\"}, \"lamb chops\": {\"frequency\": 141, \"value\": \"lamb chops\"}, \"chipotle puree\": {\"frequency\": 37, \"value\": \"chipotle puree\"}, \"grand marnier\": {\"frequency\": 138, \"value\": \"grand marnier\"}, \"dry yeast\": {\"frequency\": 2218, \"value\": \"dry yeast\"}, \"chile bean paste\": {\"frequency\": 21, \"value\": \"chile bean paste\"}, \"snappers\": {\"frequency\": 33478, \"value\": \"snappers\"}, \"whole wheat bread toasted\": {\"frequency\": 365, \"value\": \"whole wheat bread ...\"}, \"dates\": {\"frequency\": 20, \"value\": \"dates\"}, \"maggi\": {\"frequency\": 121962, \"value\": \"maggi\"}, \"light coconut milk\": {\"frequency\": 239, \"value\": \"light coconut milk\"}, \"perilla\": {\"frequency\": 34, \"value\": \"perilla\"}, \"Oban\": {\"frequency\": 4, \"value\": \"Oban\"}, \"seeds\": {\"frequency\": 453, \"value\": \"seeds\"}, \"old-fashioned oats\": {\"frequency\": 51, \"value\": \"old-fashioned oats\"}, \"mandarin orange segments\": {\"frequency\": 153, \"value\": \"mandarin orange ...\"}, \"green tea powder\": {\"frequency\": 40, \"value\": \"green tea powder\"}, \"long grain and wild rice mix\": {\"frequency\": 1466, \"value\": \"long grain and ...\"}, \"asian basil\": {\"frequency\": 85, \"value\": \"asian basil\"}, \"elbow macaroni\": {\"frequency\": 105, \"value\": \"elbow macaroni\"}, \"fresh turmeric\": {\"frequency\": 34, \"value\": \"fresh turmeric\"}, \"tenderloin\": {\"frequency\": 4323, \"value\": \"tenderloin\"}, \"red raspberries\": {\"frequency\": 31, \"value\": \"red raspberries\"}, \"chili beans\": {\"frequency\": 635, \"value\": \"chili beans\"}, \"Glenkinchie\": {\"frequency\": 15, \"value\": \"Glenkinchie\"}, \"white cheddar cheese\": {\"frequency\": 726, \"value\": \"white cheddar ...\"}, \"shrimp paste\": {\"frequency\": 85, \"value\": \"shrimp paste\"}, \"Others Vodka Super Premium BIO\": {\"frequency\": 45, \"value\": \"Others Vodka Super ...\"}, \"gluten free cooking spray\": {\"frequency\": 26, \"value\": \"gluten free ...\"}, \"seafood stock\": {\"frequency\": 773, \"value\": \"seafood stock\"}, \"hurst family harvest chipotle lime black bean soup mix\": {\"frequency\": 111, \"value\": \"hurst family ...\"}, \"diced green chilies\": {\"frequency\": 4, \"value\": \"diced green ...\"}, \"apple juice\": {\"frequency\": 17, \"value\": \"apple juice\"}, \"Aberlour\": {\"frequency\": 29, \"value\": \"Aberlour\"}, \"english muffins\": {\"frequency\": 7094, \"value\": \"english muffins\"}, \"fully cooked ham\": {\"frequency\": 204, \"value\": \"fully cooked ham\"}, \"salad dressing\": {\"frequency\": 418, \"value\": \"salad dressing\"}, \"ground chuck\": {\"frequency\": 272, \"value\": \"ground chuck\"}, \"fresh sage\": {\"frequency\": 27905, \"value\": \"fresh sage\"}, \"quatre \\ufffd\\ufffd\\ufffd\\ufffdpices\": {\"frequency\": 23, \"value\": \"quatre \\u00e3\\u00a9pices\"}, \"1% low-fat cottage cheese\": {\"frequency\": 92813, \"value\": \"1% low-fat cottage ...\"}, \"field peas\": {\"frequency\": 76483, \"value\": \"field peas\"}, \"gluten free soy sauce\": {\"frequency\": 2266, \"value\": \"gluten free soy ...\"}, \"crackers\": {\"frequency\": 120, \"value\": \"crackers\"}, \"broccoli florets\": {\"frequency\": 629, \"value\": \"broccoli florets\"}, \"corned beef\": {\"frequency\": 2578, \"value\": \"corned beef\"}, \"white peppercorns\": {\"frequency\": 8, \"value\": \"white peppercorns\"}, \"clarified butter\": {\"frequency\": 568, \"value\": \"clarified butter\"}, \"squid\": {\"frequency\": 232, \"value\": \"squid\"}, \"veggies\": {\"frequency\": 225, \"value\": \"veggies\"}, \"cotija\": {\"frequency\": 9603, \"value\": \"cotija\"}, \"red bell pepper, sliced\": {\"frequency\": 30360, \"value\": \"red bell pepper, ...\"}, \"whipped topping\": {\"frequency\": 48, \"value\": \"whipped topping\"}, \"scotch bonnet chile\": {\"frequency\": 53, \"value\": \"scotch bonnet ...\"}, \"fino sherry\": {\"frequency\": 92957, \"value\": \"fino sherry\"}, \"gravy\": {\"frequency\": 66, \"value\": \"gravy\"}, \"unsweetened chocolate\": {\"frequency\": 77, \"value\": \"unsweetened ...\"}, \"dark molasses\": {\"frequency\": 109, \"value\": \"dark molasses\"}, \"Clynelish\": {\"frequency\": 34, \"value\": \"Clynelish\"}, \"whole grain mustard\": {\"frequency\": 48258, \"value\": \"whole grain ...\"}, \"reduced fat cream cheese\": {\"frequency\": 96, \"value\": \"reduced fat cream ...\"}, \"onion soup\": {\"frequency\": 309, \"value\": \"onion soup\"}, \"Brancott\": {\"frequency\": 29, \"value\": \"Brancott\"}, \"white beans\": {\"frequency\": 1534, \"value\": \"white beans\"}, \"fine salt\": {\"frequency\": 2436, \"value\": \"fine salt\"}, \"parmigiano-reggiano cheese\": {\"frequency\": 1403, \"value\": \"parmigiano- ...\"}, \"hot pepper\": {\"frequency\": 4983, \"value\": \"hot pepper\"}}, \"size\": 1081484}, \"Area 1\": {\"complete\": true, \"numeric\": false, \"num_unique\": 6, \"num_undefined\": 0, \"progress\": 1.0, \"frequent_items\": {\"the stormlands\": {\"frequency\": 196195, \"value\": \"the stormlands\"}, \"the westerlands\": {\"frequency\": 195879, \"value\": \"the westerlands\"}, \"the riverlands\": {\"frequency\": 162913, \"value\": \"the riverlands\"}, \"the crownlands\": {\"frequency\": 222238, \"value\": \"the crownlands\"}, \"the north\": {\"frequency\": 131515, \"value\": \"the north\"}, \"beyond the wall\": {\"frequency\": 172744, \"value\": \"beyond the wall\"}}, \"size\": 1081484}, \"Area 3\": {\"complete\": true, \"numeric\": false, \"num_unique\": 64, \"num_undefined\": 0, \"progress\": 1.0, \"frequent_items\": {\"summer islands\": {\"frequency\": 13450, \"value\": \"summer islands\"}, \"tyroshi\": {\"frequency\": 26369, \"value\": \"tyroshi\"}, \"qohor\": {\"frequency\": 11321, \"value\": \"qohor\"}, \"summer islander\": {\"frequency\": 677, \"value\": \"summer islander\"}, \"northern mountain clans\": {\"frequency\": 8664, \"value\": \"northern mountain ...\"}, \"dornishmen\": {\"frequency\": 1807, \"value\": \"dornishmen\"}, \"lyseni\": {\"frequency\": 16881, \"value\": \"lyseni\"}, \"westerman\": {\"frequency\": 44907, \"value\": \"westerman\"}, \"Vicarabad (M)\": {\"frequency\": 147, \"value\": \"Vicarabad (M)\"}, \"naathi\": {\"frequency\": 6438, \"value\": \"naathi\"}, \"summer isles\": {\"frequency\": 19290, \"value\": \"summer isles\"}, \"qartheen\": {\"frequency\": 30911, \"value\": \"qartheen\"}, \"ghiscari\": {\"frequency\": 32793, \"value\": \"ghiscari\"}, \"lysene\": {\"frequency\": 4806, \"value\": \"lysene\"}, \"asshai'i\": {\"frequency\": 6413, \"value\": \"asshai'i\"}, \"vale mountain clans\": {\"frequency\": 5233, \"value\": \"vale mountain ...\"}, \"qarth\": {\"frequency\": 9743, \"value\": \"qarth\"}, \"lhazareen\": {\"frequency\": 9349, \"value\": \"lhazareen\"}, \"northmen\": {\"frequency\": 68957, \"value\": \"northmen\"}, \"NALGONDA-2 [TWN]\": {\"frequency\": 177, \"value\": \"NALGONDA-2 [TWN]\"}, \"Secunderabad (CB)\": {\"frequency\": 544, \"value\": \"Secunderabad (CB)\"}, \"valemen\": {\"frequency\": 60658, \"value\": \"valemen\"}, \"vale\": {\"frequency\": 34764, \"value\": \"vale\"}, \"stormlands\": {\"frequency\": 4808, \"value\": \"stormlands\"}, \"Utnur (CT)\": {\"frequency\": 1753, \"value\": \"Utnur (CT)\"}, \"reachmen\": {\"frequency\": 2305, \"value\": \"reachmen\"}, \"wildlings\": {\"frequency\": 7602, \"value\": \"wildlings\"}, \"pentoshi\": {\"frequency\": 9377, \"value\": \"pentoshi\"}, \"dorne\": {\"frequency\": 5305, \"value\": \"dorne\"}, \"stormlander\": {\"frequency\": 7225, \"value\": \"stormlander\"}, \"braavosi\": {\"frequency\": 11963, \"value\": \"braavosi\"}, \"meereen\": {\"frequency\": 6235, \"value\": \"meereen\"}, \"westeros\": {\"frequency\": 10528, \"value\": \"westeros\"}, \"rivermen\": {\"frequency\": 61052, \"value\": \"rivermen\"}, \"lhazarene\": {\"frequency\": 15430, \"value\": \"lhazarene\"}, \"wildling\": {\"frequency\": 4885, \"value\": \"wildling\"}, \"andals\": {\"frequency\": 24888, \"value\": \"andals\"}, \"rhoynar\": {\"frequency\": 13760, \"value\": \"rhoynar\"}, \"reach\": {\"frequency\": 11674, \"value\": \"reach\"}, \"braavos\": {\"frequency\": 26345, \"value\": \"braavos\"}, \"myrish\": {\"frequency\": 9351, \"value\": \"myrish\"}, \"andal\": {\"frequency\": 680, \"value\": \"andal\"}, \"sistermen\": {\"frequency\": 9608, \"value\": \"sistermen\"}, \"KHAMMAM [TWN]\": {\"frequency\": 43, \"value\": \"KHAMMAM [TWN]\"}, \"ghiscaricari\": {\"frequency\": 15699, \"value\": \"ghiscaricari\"}, \"astapori\": {\"frequency\": 8807, \"value\": \"astapori\"}, \"westerlands\": {\"frequency\": 3307, \"value\": \"westerlands\"}, \"dornish\": {\"frequency\": 3931, \"value\": \"dornish\"}, \"crannogmen\": {\"frequency\": 9316, \"value\": \"crannogmen\"}, \"westermen\": {\"frequency\": 45865, \"value\": \"westermen\"}, \"norvoshi\": {\"frequency\": 7212, \"value\": \"norvoshi\"}, \"norvos\": {\"frequency\": 4368, \"value\": \"norvos\"}, \"meereenese\": {\"frequency\": 82027, \"value\": \"meereenese\"}, \"asshai\": {\"frequency\": 22878, \"value\": \"asshai\"}, \"riverlands\": {\"frequency\": 5047, \"value\": \"riverlands\"}, \"astapor\": {\"frequency\": 6597, \"value\": \"astapor\"}, \"dothraki\": {\"frequency\": 32770, \"value\": \"dothraki\"}, \"ironborn\": {\"frequency\": 65714, \"value\": \"ironborn\"}, \"free folk\": {\"frequency\": 45648, \"value\": \"free folk\"}, \"first men\": {\"frequency\": 17557, \"value\": \"first men\"}, \"valyrian\": {\"frequency\": 13536, \"value\": \"valyrian\"}, \"ironmen\": {\"frequency\": 27485, \"value\": \"ironmen\"}, \"ibbenese\": {\"frequency\": 2693, \"value\": \"ibbenese\"}, \"the reach\": {\"frequency\": 1911, \"value\": \"the reach\"}}, \"size\": 1081484}, \"Area 2\": {\"complete\": true, \"numeric\": false, \"num_unique\": 15, \"num_undefined\": 0, \"progress\": 1.0, \"frequent_items\": {\"riverrun\": {\"frequency\": 40181, \"value\": \"riverrun\"}, \"harrenhal\": {\"frequency\": 60658, \"value\": \"harrenhal\"}, \"mummer's ford\": {\"frequency\": 57281, \"value\": \"mummer's ford\"}, \"moat cailin\": {\"frequency\": 57088, \"value\": \"moat cailin\"}, \"stony shore\": {\"frequency\": 78095, \"value\": \"stony shore\"}, \"green fork\": {\"frequency\": 72926, \"value\": \"green fork\"}, \"torrhen's square\": {\"frequency\": 52256, \"value\": \"torrhen's square\"}, \"golden tooth\": {\"frequency\": 61596, \"value\": \"golden tooth\"}, \"whispering wood\": {\"frequency\": 52263, \"value\": \"whispering wood\"}, \"oxcross\": {\"frequency\": 62611, \"value\": \"oxcross\"}, \"storm's end\": {\"frequency\": 34246, \"value\": \"storm's end\"}, \"winterfell\": {\"frequency\": 91880, \"value\": \"winterfell\"}, \"darry\": {\"frequency\": 105632, \"value\": \"darry\"}, \"red fork\": {\"frequency\": 82027, \"value\": \"red fork\"}, \"deepwood motte\": {\"frequency\": 172744, \"value\": \"deepwood motte\"}}, \"size\": 1081484}, \"Commission\": {\"std\": 18920.556027891067, \"complete\": true, \"min\": 0.0, \"max\": 3851821.178742625, \"quantile\": [0.0, 0.0, 0.0, 0.0, 0.0, 0.0, 0.0, 0.0, 0.0, 0.0, 0.0, 0.0, 0.0, 0.0, 0.0, 0.0, 0.0, 0.0, 0.0, 0.0, 0.0, 0.0, 0.0, 0.0, 0.0, 0.0, 0.0, 0.0, 0.0, 0.0, 0.0, 0.0, 0.0, 0.0, 0.0, 0.0, 0.0, 0.0, 0.0, 0.0, 0.0, 0.0, 0.0, 0.0, 0.0, 0.0, 0.0, 0.0, 0.0, 0.0, 0.0, 0.0, 0.0, 0.0, 0.0, 0.0, 0.0, 0.0, 121.77970937971594, 248.62510145900328, 366.8410271755975, 466.3501814380578, 507.8937988386591, 630.240612904739, 749.0627783164953, 840.2264541394158, 992.6586313264786, 1065.301120914765, 1229.3260327370144, 1265.3777402653366, 1468.8516302437931, 1512.376750623626, 1737.42631672086, 1912.351269943314, 2030.6814440467288, 2264.339872732012, 2482.738389573644, 2537.979990426645, 2823.8595017486223, 3020.8136892441034, 3386.549401111753, 3722.386468869189, 3883.283919142513, 4290.220695664753, 4756.357218588182, 5025.81112616797, 5456.411725805242, 6029.040119127232, 6482.135063182212, 7294.794467592344, 7797.49361619077, 8747.910527096841, 9874.578619035165, 11124.139308526566, 12638.427690908644, 14892.797070026589, 17843.73391789377, 22363.00051956969, 29831.32159882088, 45903.4672031264, 3851821.178742625], \"median\": 0.0, \"numeric\": true, \"num_unique\": 457050, \"num_undefined\": 0, \"var\": 357987440.40456504, \"progress\": 1.0, \"size\": 1081484, \"frequent_items\": {\"0.0\": {\"frequency\": 624604, \"value\": 0.0}}, \"mean\": 3469.3222491156203}, \"Area 3 Classification\": {\"complete\": true, \"numeric\": false, \"num_unique\": 8, \"num_undefined\": 0, \"progress\": 1.0, \"frequent_items\": {\"hand of the king\": {\"frequency\": 120215, \"value\": \"hand of the king\"}, \"maester\": {\"frequency\": 124839, \"value\": \"maester\"}, \"ser\": {\"frequency\": 247469, \"value\": \"ser\"}, \"khal\": {\"frequency\": 1400, \"value\": \"khal\"}, \"lord of the crossing\": {\"frequency\": 341843, \"value\": \"lord of the ...\"}, \"greenstone\": {\"frequency\": 103849, \"value\": \"greenstone\"}, \"queen\": {\"frequency\": 68957, \"value\": \"queen\"}, \"archmaester\": {\"frequency\": 72912, \"value\": \"archmaester\"}}, \"size\": 1081484}, \"YEAR\": {\"std\": 0.0, \"complete\": true, \"min\": 2018.0, \"max\": 2018.0, \"quantile\": [2018.0, 2018.0, 2018.0, 2018.0, 2018.0, 2018.0, 2018.0, 2018.0, 2018.0, 2018.0, 2018.0, 2018.0, 2018.0, 2018.0, 2018.0, 2018.0, 2018.0, 2018.0, 2018.0, 2018.0, 2018.0, 2018.0, 2018.0, 2018.0, 2018.0, 2018.0, 2018.0, 2018.0, 2018.0, 2018.0, 2018.0, 2018.0, 2018.0, 2018.0, 2018.0, 2018.0, 2018.0, 2018.0, 2018.0, 2018.0, 2018.0, 2018.0, 2018.0, 2018.0, 2018.0, 2018.0, 2018.0, 2018.0, 2018.0, 2018.0, 2018.0, 2018.0, 2018.0, 2018.0, 2018.0, 2018.0, 2018.0, 2018.0, 2018.0, 2018.0, 2018.0, 2018.0, 2018.0, 2018.0, 2018.0, 2018.0, 2018.0, 2018.0, 2018.0, 2018.0, 2018.0, 2018.0, 2018.0, 2018.0, 2018.0, 2018.0, 2018.0, 2018.0, 2018.0, 2018.0, 2018.0, 2018.0, 2018.0, 2018.0, 2018.0, 2018.0, 2018.0, 2018.0, 2018.0, 2018.0, 2018.0, 2018.0, 2018.0, 2018.0, 2018.0, 2018.0, 2018.0, 2018.0, 2018.0, 2018.0, 2018.0], \"median\": 2018.0, \"numeric\": true, \"num_unique\": 1, \"num_undefined\": 0, \"var\": 0.0, \"progress\": 1.0, \"size\": 1081484, \"frequent_items\": {\"2018\": {\"frequency\": 1081484, \"value\": 2018}}, \"mean\": 2018.0}, \"MONTH\": {\"complete\": true, \"numeric\": false, \"num_unique\": 12, \"num_undefined\": 0, \"progress\": 1.0, \"frequent_items\": {\"MAR\": {\"frequency\": 86121, \"value\": \"MAR\"}, \"FEB\": {\"frequency\": 84859, \"value\": \"FEB\"}, \"AUG\": {\"frequency\": 94012, \"value\": \"AUG\"}, \"SEP\": {\"frequency\": 77477, \"value\": \"SEP\"}, \"APR\": {\"frequency\": 82661, \"value\": \"APR\"}, \"JUN\": {\"frequency\": 89580, \"value\": \"JUN\"}, \"JUL\": {\"frequency\": 98107, \"value\": \"JUL\"}, \"JAN\": {\"frequency\": 77693, \"value\": \"JAN\"}, \"MAY\": {\"frequency\": 75664, \"value\": \"MAY\"}, \"NOV\": {\"frequency\": 95176, \"value\": \"NOV\"}, \"DEC\": {\"frequency\": 110039, \"value\": \"DEC\"}, \"OCT\": {\"frequency\": 110095, \"value\": \"OCT\"}}, \"size\": 1081484}, \"Units sold\": {\"std\": 73.71170107415381, \"complete\": true, \"min\": 0.02620565060045311, \"max\": 3329.7515891603302, \"quantile\": [0.02620565060045311, 2.476322173898152, 2.4781114565638336, 2.4799171994373554, 2.481678457978268, 2.483497491134417, 2.4853152049822262, 2.487089563582348, 2.48888811142734, 2.490643255919124, 2.4924629468594848, 2.494254815813766, 2.496056276563566, 2.4977330129915547, 2.499573010933123, 2.501340915071441, 2.503220336146873, 2.505006082375748, 2.5068419746222985, 2.508634461779457, 2.510389537783231, 2.51214173672625, 2.513963998444468, 2.515794609762908, 2.517574590088091, 2.519419321719769, 2.521208892175508, 2.522908541933042, 2.52472086382062, 4.954336464981917, 4.961181356177218, 4.967800678672728, 4.974627855812353, 4.981683210225269, 4.988638340833104, 4.995503450066838, 5.002295402250768, 5.009005414846403, 5.0154137346970735, 5.022132061887152, 5.029482649157354, 5.036075718432272, 5.043203097210595, 5.049718979674077, 7.439123231973587, 7.456766876301544, 7.473986219863895, 7.491940005597028, 7.509878419711454, 7.528938094206295, 7.546199877438582, 7.5644626490412765, 9.909696718801984, 9.943459707415906, 9.98117541836567, 10.014976722888118, 10.051987038634255, 10.088296451790953, 12.401355731287628, 12.447140203340556, 12.493323860262786, 12.54125890472279, 12.588559493229097, 14.863809362841309, 14.963603420608033, 15.061011566298784, 17.338790499355575, 17.473470869207198, 17.61764425736031, 19.90926399660915, 20.10027614866067, 22.395769324575912, 22.69284457565757, 24.90457040882187, 25.0936561795812, 27.298903905034447, 29.72198796585705, 30.23420882896449, 32.67430244198857, 35.291186427784915, 37.56872872318899, 40.02853910386896, 42.837012086638005, 47.3180463095945, 49.961175695310445, 52.726195442076914, 57.753955739029394, 62.50610314173885, 67.58202287270878, 74.49221153848892, 79.5719783978917, 87.51015760264649, 98.37229173696466, 108.32408166087542, 124.13471426107114, 138.76659833730417, 165.41129618676143, 201.3714938720377, 251.9587473140816, 359.54248918393586, 3329.7515891603302], \"median\": 7.546199877438582, \"numeric\": true, \"num_unique\": 1079439, \"num_undefined\": 0, \"var\": 5433.414875245408, \"progress\": 1.0, \"size\": 1081484, \"frequent_items\": {}, \"mean\": 32.180489266461706}, \"Outlet Type\": {\"complete\": true, \"numeric\": false, \"num_unique\": 20, \"num_undefined\": 0, \"progress\": 1.0, \"frequent_items\": {\"house santagar\": {\"frequency\": 78727, \"value\": \"house santagar\"}, \"night's watch\": {\"frequency\": 57088, \"value\": \"night's watch\"}, \"house wylde\": {\"frequency\": 68128, \"value\": \"house wylde\"}, \"house swyft\": {\"frequency\": 57281, \"value\": \"house swyft\"}, \"house dayne\": {\"frequency\": 47875, \"value\": \"house dayne\"}, \"house greyjoy\": {\"frequency\": 53099, \"value\": \"house greyjoy\"}, \"happy port\": {\"frequency\": 10062, \"value\": \"happy port\"}, \"house osgrey\": {\"frequency\": 46511, \"value\": \"house osgrey\"}, \"house frey\": {\"frequency\": 62113, \"value\": \"house frey\"}, \"house fell\": {\"frequency\": 80890, \"value\": \"house fell\"}, \"house farwynd of the lonely light\": {\"frequency\": 140, \"value\": \"house farwynd of ...\"}, \"house waynwood\": {\"frequency\": 58981, \"value\": \"house waynwood\"}, \"house wode\": {\"frequency\": 51601, \"value\": \"house wode\"}, \"house webber\": {\"frequency\": 62340, \"value\": \"house webber\"}, \"house manderly\": {\"frequency\": 54941, \"value\": \"house manderly\"}, \"house arryn\": {\"frequency\": 40181, \"value\": \"house arryn\"}, \"house targaryen\": {\"frequency\": 52132, \"value\": \"house targaryen\"}, \"house humble\": {\"frequency\": 73437, \"value\": \"house humble\"}, \"brotherhood without banners\": {\"frequency\": 91880, \"value\": \"brotherhood ...\"}, \"house stark\": {\"frequency\": 34077, \"value\": \"house stark\"}}, \"size\": 1081484}, \"Outlet Name\": {\"complete\": true, \"numeric\": false, \"num_unique\": 513, \"num_undefined\": 0, \"progress\": 1.0, \"frequent_items\": {\"tanda stokeworth\": {\"frequency\": 1140, \"value\": \"tanda stokeworth\"}, \"rob\": {\"frequency\": 1819, \"value\": \"rob\"}, \"quentyn blackwood\": {\"frequency\": 5484, \"value\": \"quentyn blackwood\"}, \"dudley\": {\"frequency\": 141985, \"value\": \"dudley\"}, \"raymund tyrell\": {\"frequency\": 1335, \"value\": \"raymund tyrell\"}, \"quhuru mo\": {\"frequency\": 2096, \"value\": \"quhuru mo\"}, \"urzen\": {\"frequency\": 1179, \"value\": \"urzen\"}, \"walda frey (daughter of merrett)\": {\"frequency\": 3348, \"value\": \"walda frey ...\"}, \"wat (sailor)\": {\"frequency\": 1873, \"value\": \"wat (sailor)\"}, \"tomtoo\": {\"frequency\": 305, \"value\": \"tomtoo\"}, \"bessa (winterfell)\": {\"frequency\": 2420, \"value\": \"bessa (winterfell)\"}, \"walda frey (daughter of rhaegar)\": {\"frequency\": 989, \"value\": \"walda frey ...\"}, \"rhaenys targaryen (daughter of rhaegar)\": {\"frequency\": 2709, \"value\": \"rhaenys targaryen ...\"}, \"raymond nayland\": {\"frequency\": 1481, \"value\": \"raymond nayland\"}, \"tybero istarion\": {\"frequency\": 909, \"value\": \"tybero istarion\"}, \"timon\": {\"frequency\": 3607, \"value\": \"timon\"}, \"bennarion botley\": {\"frequency\": 1096, \"value\": \"bennarion botley\"}, \"roland crakehall (kingsguard)\": {\"frequency\": 2959, \"value\": \"roland crakehall ...\"}, \"bethany fair-fingers\": {\"frequency\": 1507, \"value\": \"bethany fair- ...\"}, \"zollo\": {\"frequency\": 1920, \"value\": \"zollo\"}, \"roose ryswell\": {\"frequency\": 1525, \"value\": \"roose ryswell\"}, \"tumberjon\": {\"frequency\": 3152, \"value\": \"tumberjon\"}, \"baelon targaryen (son of aerys)\": {\"frequency\": 513, \"value\": \"baelon targaryen ...\"}, \"eustace (dance of the dragons)\": {\"frequency\": 790, \"value\": \"eustace (dance of ...\"}, \"emrick\": {\"frequency\": 1090, \"value\": \"emrick\"}, \"raymar royce\": {\"frequency\": 2857, \"value\": \"raymar royce\"}, \"clement\": {\"frequency\": 963, \"value\": \"clement\"}, \"quort\": {\"frequency\": 1816, \"value\": \"quort\"}, \"brown bernarr\": {\"frequency\": 672, \"value\": \"brown bernarr\"}, \"umfred\": {\"frequency\": 850, \"value\": \"umfred\"}, \"wat (wet)\": {\"frequency\": 786, \"value\": \"wat (wet)\"}, \"ryam\": {\"frequency\": 661, \"value\": \"ryam\"}, \"tristifer iv mudd\": {\"frequency\": 1080, \"value\": \"tristifer iv mudd\"}, \"wulfe\": {\"frequency\": 5619, \"value\": \"wulfe\"}, \"yorko terys\": {\"frequency\": 1588, \"value\": \"yorko terys\"}, \"fogo\": {\"frequency\": 124, \"value\": \"fogo\"}, \"denestan\": {\"frequency\": 931, \"value\": \"denestan\"}, \"reynard webber\": {\"frequency\": 605, \"value\": \"reynard webber\"}, \"tarber\": {\"frequency\": 371, \"value\": \"tarber\"}, \"romny weaver\": {\"frequency\": 1185, \"value\": \"romny weaver\"}, \"umma\": {\"frequency\": 3027, \"value\": \"umma\"}, \"bryen\": {\"frequency\": 577, \"value\": \"bryen\"}, \"willam\": {\"frequency\": 5706, \"value\": \"willam\"}, \"ayrmidon\": {\"frequency\": 1490, \"value\": \"ayrmidon\"}, \"quill\": {\"frequency\": 939, \"value\": \"quill\"}, \"will\": {\"frequency\": 5515, \"value\": \"will\"}, \"ysilla\": {\"frequency\": 2675, \"value\": \"ysilla\"}, \"donyse\": {\"frequency\": 226, \"value\": \"donyse\"}, \"tommen baratheon\": {\"frequency\": 18534, \"value\": \"tommen baratheon\"}, \"rhaenys targaryen (daughter of aemon)\": {\"frequency\": 409, \"value\": \"rhaenys targaryen ...\"}, \"dornish dilly\": {\"frequency\": 10, \"value\": \"dornish dilly\"}, \"aegon targaryen (son of baelon)\": {\"frequency\": 323, \"value\": \"aegon targaryen ...\"}, \"beldecar\": {\"frequency\": 1387, \"value\": \"beldecar\"}, \"dykk harlaw\": {\"frequency\": 701, \"value\": \"dykk harlaw\"}, \"roone\": {\"frequency\": 1290, \"value\": \"roone\"}, \"endehar\": {\"frequency\": 522, \"value\": \"endehar\"}, \"beck\": {\"frequency\": 1157, \"value\": \"beck\"}, \"woth\": {\"frequency\": 2064, \"value\": \"woth\"}, \"wyl (guard)\": {\"frequency\": 1346, \"value\": \"wyl (guard)\"}, \"daeryssa\": {\"frequency\": 937, \"value\": \"daeryssa\"}, \"aegon iv targaryen\": {\"frequency\": 2161, \"value\": \"aegon iv targaryen\"}, \"sky blue su\": {\"frequency\": 970, \"value\": \"sky blue su\"}, \"beqqo\": {\"frequency\": 1053, \"value\": \"beqqo\"}, \"roggo\": {\"frequency\": 1017, \"value\": \"roggo\"}, \"ronald storm\": {\"frequency\": 1610, \"value\": \"ronald storm\"}, \"blue bard\": {\"frequency\": 816, \"value\": \"blue bard\"}, \"big boil\": {\"frequency\": 1382, \"value\": \"big boil\"}, \"robert paege\": {\"frequency\": 4436, \"value\": \"robert paege\"}, \"dyah\": {\"frequency\": 1078, \"value\": \"dyah\"}, \"tregar\": {\"frequency\": 5955, \"value\": \"tregar\"}, \"sigfry stonetree\": {\"frequency\": 1028, \"value\": \"sigfry stonetree\"}, \"benjen stark (sweet)\": {\"frequency\": 935, \"value\": \"benjen stark ...\"}, \"bertram beesbury\": {\"frequency\": 556, \"value\": \"bertram beesbury\"}, \"dryn\": {\"frequency\": 4266, \"value\": \"dryn\"}, \"rhaegel targaryen\": {\"frequency\": 332, \"value\": \"rhaegel targaryen\"}, \"timett (father)\": {\"frequency\": 3957, \"value\": \"timett (father)\"}, \"donnis\": {\"frequency\": 615, \"value\": \"donnis\"}, \"dake\": {\"frequency\": 989, \"value\": \"dake\"}, \"richard farrow\": {\"frequency\": 1371, \"value\": \"richard farrow\"}, \"rafe\": {\"frequency\": 1511, \"value\": \"rafe\"}, \"talla tarly\": {\"frequency\": 2441, \"value\": \"talla tarly\"}, \"ronnel harclay\": {\"frequency\": 809, \"value\": \"ronnel harclay\"}, \"catelyn bracken\": {\"frequency\": 1012, \"value\": \"catelyn bracken\"}, \"bess bracken\": {\"frequency\": 2030, \"value\": \"bess bracken\"}, \"willis wode\": {\"frequency\": 673, \"value\": \"willis wode\"}, \"terrance lynderly\": {\"frequency\": 985, \"value\": \"terrance lynderly\"}, \"robin hollard\": {\"frequency\": 4002, \"value\": \"robin hollard\"}, \"dale drumm\": {\"frequency\": 954, \"value\": \"dale drumm\"}, \"borcas\": {\"frequency\": 722, \"value\": \"borcas\"}, \"naerys targaryen\": {\"frequency\": 4005, \"value\": \"naerys targaryen\"}, \"rolder\": {\"frequency\": 2351, \"value\": \"rolder\"}, \"ragnor pyke\": {\"frequency\": 3726, \"value\": \"ragnor pyke\"}, \"sharna\": {\"frequency\": 872, \"value\": \"sharna\"}, \"tristifer v mudd\": {\"frequency\": 1606, \"value\": \"tristifer v mudd\"}, \"dick follard\": {\"frequency\": 277, \"value\": \"dick follard\"}, \"alia\": {\"frequency\": 1646, \"value\": \"alia\"}, \"wallen\": {\"frequency\": 282, \"value\": \"wallen\"}, \"alicent hightower\": {\"frequency\": 685, \"value\": \"alicent hightower\"}, \"del\": {\"frequency\": 1293, \"value\": \"del\"}, \"bodger\": {\"frequency\": 659, \"value\": \"bodger\"}, \"stafford lannister\": {\"frequency\": 732, \"value\": \"stafford lannister\"}, \"eden risley\": {\"frequency\": 508, \"value\": \"eden risley\"}, \"tywin frey (son of raymund)\": {\"frequency\": 2850, \"value\": \"tywin frey (son of ...\"}, \"spare boot\": {\"frequency\": 3719, \"value\": \"spare boot\"}, \"wun weg wun dar wun\": {\"frequency\": 1648, \"value\": \"wun weg wun dar ...\"}, \"aegon iii targaryen\": {\"frequency\": 1294, \"value\": \"aegon iii ...\"}, \"tal toraq\": {\"frequency\": 1953, \"value\": \"tal toraq\"}, \"xhondo\": {\"frequency\": 3960, \"value\": \"xhondo\"}, \"ezzara\": {\"frequency\": 905, \"value\": \"ezzara\"}, \"carrot\": {\"frequency\": 745, \"value\": \"carrot\"}, \"shortear\": {\"frequency\": 918, \"value\": \"shortear\"}, \"tregar ormollen\": {\"frequency\": 1377, \"value\": \"tregar ormollen\"}, \"argrave the defiant\": {\"frequency\": 1059, \"value\": \"argrave the ...\"}, \"daughter of the dusk\": {\"frequency\": 1340, \"value\": \"daughter of the ...\"}, \"edgerran oakheart\": {\"frequency\": 6821, \"value\": \"edgerran oakheart\"}, \"rhaenys targaryen\": {\"frequency\": 5137, \"value\": \"rhaenys targaryen\"}, \"ryk\": {\"frequency\": 1051, \"value\": \"ryk\"}, \"briar\": {\"frequency\": 368, \"value\": \"briar\"}, \"roryn drumm\": {\"frequency\": 3522, \"value\": \"roryn drumm\"}, \"sailor's wife\": {\"frequency\": 1568, \"value\": \"sailor's wife\"}, \"allyria dayne\": {\"frequency\": 823, \"value\": \"allyria dayne\"}, \"rolfe\": {\"frequency\": 3065, \"value\": \"rolfe\"}, \"theon stark\": {\"frequency\": 1110, \"value\": \"theon stark\"}, \"margaery tyrell\": {\"frequency\": 1806, \"value\": \"margaery tyrell\"}, \"aegon frey (son of stevron)\": {\"frequency\": 283, \"value\": \"aegon frey (son of ...\"}, \"denyse hightower\": {\"frequency\": 611, \"value\": \"denyse hightower\"}, \"walder frey (son of jammos)\": {\"frequency\": 1657, \"value\": \"walder frey (son ...\"}, \"byan votyris\": {\"frequency\": 759, \"value\": \"byan votyris\"}, \"wayn (guard)\": {\"frequency\": 1836, \"value\": \"wayn (guard)\"}, \"roelle\": {\"frequency\": 5433, \"value\": \"roelle\"}, \"damon lannister (son of jason)\": {\"frequency\": 898, \"value\": \"damon lannister ...\"}, \"aemon costayne\": {\"frequency\": 1306, \"value\": \"aemon costayne\"}, \"alvyn sharp\": {\"frequency\": 591, \"value\": \"alvyn sharp\"}, \"brella\": {\"frequency\": 753, \"value\": \"brella\"}, \"ezzelyno\": {\"frequency\": 123, \"value\": \"ezzelyno\"}, \"walder frey\": {\"frequency\": 3184, \"value\": \"walder frey\"}, \"canker jeyne\": {\"frequency\": 1095, \"value\": \"canker jeyne\"}, \"belandra\": {\"frequency\": 935, \"value\": \"belandra\"}, \"cossomo\": {\"frequency\": 739, \"value\": \"cossomo\"}, \"yormwell\": {\"frequency\": 1708, \"value\": \"yormwell\"}, \"squint\": {\"frequency\": 3116, \"value\": \"squint\"}, \"wolmer\": {\"frequency\": 2540, \"value\": \"wolmer\"}, \"zei\": {\"frequency\": 1087, \"value\": \"zei\"}, \"cheyk\": {\"frequency\": 643, \"value\": \"cheyk\"}, \"walder frey (son of merrett)\": {\"frequency\": 355, \"value\": \"walder frey (son ...\"}, \"andrey charlton\": {\"frequency\": 1250, \"value\": \"andrey charlton\"}, \"roger ryswell\": {\"frequency\": 933, \"value\": \"roger ryswell\"}, \"rodrik stark (son of beron)\": {\"frequency\": 512, \"value\": \"rodrik stark (son ...\"}, \"wat (barleycorn)\": {\"frequency\": 813, \"value\": \"wat (barleycorn)\"}, \"roone (maester)\": {\"frequency\": 552, \"value\": \"roone (maester)\"}, \"amabel\": {\"frequency\": 486, \"value\": \"amabel\"}, \"elys westerling\": {\"frequency\": 1396, \"value\": \"elys westerling\"}, \"walys flowers\": {\"frequency\": 769, \"value\": \"walys flowers\"}, \"reysen\": {\"frequency\": 1126, \"value\": \"reysen\"}, \"serra\": {\"frequency\": 1298, \"value\": \"serra\"}, \"arryk (guard)\": {\"frequency\": 1028, \"value\": \"arryk (guard)\"}, \"bearded ben\": {\"frequency\": 1103, \"value\": \"bearded ben\"}, \"dan\": {\"frequency\": 842, \"value\": \"dan\"}, \"rhaena targaryen (daughter of aegon iii)\": {\"frequency\": 824, \"value\": \"rhaena targaryen ...\"}, \"wendello qar deeth\": {\"frequency\": 876, \"value\": \"wendello qar deeth\"}, \"dobber\": {\"frequency\": 1049, \"value\": \"dobber\"}, \"daella targaryen (daughter of jaehaerys i)\": {\"frequency\": 1009, \"value\": \"daella targaryen ...\"}, \"fern\": {\"frequency\": 134, \"value\": \"fern\"}, \"ben blackthumb\": {\"frequency\": 280, \"value\": \"ben blackthumb\"}, \"duncan targaryen\": {\"frequency\": 1075, \"value\": \"duncan targaryen\"}, \"yohn farwynd\": {\"frequency\": 2232, \"value\": \"yohn farwynd\"}, \"clarence charlton\": {\"frequency\": 129, \"value\": \"clarence charlton\"}, \"ambrode\": {\"frequency\": 536, \"value\": \"ambrode\"}, \"tansy (orphan)\": {\"frequency\": 3710, \"value\": \"tansy (orphan)\"}, \"yna\": {\"frequency\": 2515, \"value\": \"yna\"}, \"walda frey (daughter of walton)\": {\"frequency\": 1627, \"value\": \"walda frey ...\"}, \"steffarion sparr\": {\"frequency\": 904, \"value\": \"steffarion sparr\"}, \"addam frey\": {\"frequency\": 3501, \"value\": \"addam frey\"}, \"cutjack\": {\"frequency\": 973, \"value\": \"cutjack\"}, \"brusco\": {\"frequency\": 1383, \"value\": \"brusco\"}, \"vickon botley\": {\"frequency\": 1248, \"value\": \"vickon botley\"}, \"wilbert\": {\"frequency\": 1542, \"value\": \"wilbert\"}, \"turnip\": {\"frequency\": 856, \"value\": \"turnip\"}, \"ygon farwynd\": {\"frequency\": 1382, \"value\": \"ygon farwynd\"}, \"buford bulwer\": {\"frequency\": 639, \"value\": \"buford bulwer\"}, \"brandon stark (burner)\": {\"frequency\": 738, \"value\": \"brandon stark ...\"}, \"cregan karstark\": {\"frequency\": 477, \"value\": \"cregan karstark\"}, \"bennet\": {\"frequency\": 102, \"value\": \"bennet\"}, \"tagganaro\": {\"frequency\": 1369, \"value\": \"tagganaro\"}, \"richard lonmouth\": {\"frequency\": 7071, \"value\": \"richard lonmouth\"}, \"talea\": {\"frequency\": 3071, \"value\": \"talea\"}, \"will (standfast)\": {\"frequency\": 3046, \"value\": \"will (standfast)\"}, \"tumco lho\": {\"frequency\": 936, \"value\": \"tumco lho\"}, \"redwyn\": {\"frequency\": 1914, \"value\": \"redwyn\"}, \"daenerys targaryen (daughter of aegon iv)\": {\"frequency\": 475, \"value\": \"daenerys targaryen ...\"}, \"bass\": {\"frequency\": 231, \"value\": \"bass\"}, \"aenys i targaryen\": {\"frequency\": 382, \"value\": \"aenys i targaryen\"}, \"aggar\": {\"frequency\": 1536, \"value\": \"aggar\"}, \"symond botley\": {\"frequency\": 1576, \"value\": \"symond botley\"}, \"torrek\": {\"frequency\": 1067, \"value\": \"torrek\"}, \"leobald tallhart\": {\"frequency\": 2794, \"value\": \"leobald tallhart\"}, \"daena targaryen\": {\"frequency\": 740, \"value\": \"daena targaryen\"}, \"aerys ii targaryen\": {\"frequency\": 633, \"value\": \"aerys ii targaryen\"}, \"quellon botley\": {\"frequency\": 2070, \"value\": \"quellon botley\"}, \"scarb\": {\"frequency\": 2535, \"value\": \"scarb\"}, \"addam\": {\"frequency\": 1313, \"value\": \"addam\"}, \"tommard heddle\": {\"frequency\": 567, \"value\": \"tommard heddle\"}, \"alysanne bracken\": {\"frequency\": 1126, \"value\": \"alysanne bracken\"}, \"walda frey (daughter of edwyn)\": {\"frequency\": 1673, \"value\": \"walda frey ...\"}, \"andrey dalt\": {\"frequency\": 1354, \"value\": \"andrey dalt\"}, \"blane\": {\"frequency\": 632, \"value\": \"blane\"}, \"young henly\": {\"frequency\": 626, \"value\": \"young henly\"}, \"ben bones\": {\"frequency\": 1634, \"value\": \"ben bones\"}, \"ryles\": {\"frequency\": 394, \"value\": \"ryles\"}, \"benedict\": {\"frequency\": 404, \"value\": \"benedict\"}, \"damon lannister (lord)\": {\"frequency\": 519, \"value\": \"damon lannister ...\"}, \"denys drumm\": {\"frequency\": 914, \"value\": \"denys drumm\"}, \"denyo terys\": {\"frequency\": 191, \"value\": \"denyo terys\"}, \"urreg\": {\"frequency\": 2593, \"value\": \"urreg\"}, \"tymor\": {\"frequency\": 990, \"value\": \"tymor\"}, \"barth (brewer)\": {\"frequency\": 946, \"value\": \"barth (brewer)\"}, \"ben\": {\"frequency\": 1371, \"value\": \"ben\"}, \"dalla (dragonstone)\": {\"frequency\": 719, \"value\": \"dalla ...\"}, \"ulf the ill\": {\"frequency\": 9150, \"value\": \"ulf the ill\"}, \"cadwyn\": {\"frequency\": 1044, \"value\": \"cadwyn\"}, \"cadwyl\": {\"frequency\": 470, \"value\": \"cadwyl\"}, \"carellen smallwood\": {\"frequency\": 542, \"value\": \"carellen smallwood\"}, \"joffrey baratheon\": {\"frequency\": 3281, \"value\": \"joffrey baratheon\"}, \"urek ironmaker\": {\"frequency\": 1323, \"value\": \"urek ironmaker\"}, \"tobho mott\": {\"frequency\": 5569, \"value\": \"tobho mott\"}, \"alys arryn\": {\"frequency\": 1099, \"value\": \"alys arryn\"}, \"addam osgrey\": {\"frequency\": 850, \"value\": \"addam osgrey\"}, \"baelon targaryen (son of viserys i)\": {\"frequency\": 732, \"value\": \"baelon targaryen ...\"}, \"qyle\": {\"frequency\": 1392, \"value\": \"qyle\"}, \"eggon\": {\"frequency\": 1591, \"value\": \"eggon\"}, \"sloey\": {\"frequency\": 423, \"value\": \"sloey\"}, \"castos\": {\"frequency\": 380, \"value\": \"castos\"}, \"byam flint\": {\"frequency\": 1089, \"value\": \"byam flint\"}, \"victor tyrell\": {\"frequency\": 637, \"value\": \"victor tyrell\"}, \"salloreon\": {\"frequency\": 1463, \"value\": \"salloreon\"}, \"will humble\": {\"frequency\": 571, \"value\": \"will humble\"}, \"becca\": {\"frequency\": 1283, \"value\": \"becca\"}, \"runciter\": {\"frequency\": 1713, \"value\": \"runciter\"}, \"tom costayne\": {\"frequency\": 4252, \"value\": \"tom costayne\"}, \"quence\": {\"frequency\": 505, \"value\": \"quence\"}, \"daeron targaryen (son of viserys i)\": {\"frequency\": 534, \"value\": \"daeron targaryen ...\"}, \"sargon botley\": {\"frequency\": 3858, \"value\": \"sargon botley\"}, \"alysanne osgrey\": {\"frequency\": 845, \"value\": \"alysanne osgrey\"}, \"bennis\": {\"frequency\": 1013, \"value\": \"bennis\"}, \"wate\": {\"frequency\": 1718, \"value\": \"wate\"}, \"chiggen\": {\"frequency\": 445, \"value\": \"chiggen\"}, \"tristan ryger\": {\"frequency\": 1037, \"value\": \"tristan ryger\"}, \"willum\": {\"frequency\": 916, \"value\": \"willum\"}, \"blind doss\": {\"frequency\": 733, \"value\": \"blind doss\"}, \"skinner\": {\"frequency\": 1710, \"value\": \"skinner\"}, \"watt\": {\"frequency\": 656, \"value\": \"watt\"}, \"cleyton caswell\": {\"frequency\": 1786, \"value\": \"cleyton caswell\"}, \"softfoot\": {\"frequency\": 2076, \"value\": \"softfoot\"}, \"aegon targaryen (son of rhaegar)\": {\"frequency\": 1332, \"value\": \"aegon targaryen ...\"}, \"arson\": {\"frequency\": 293, \"value\": \"arson\"}, \"cedrik storm\": {\"frequency\": 1375, \"value\": \"cedrik storm\"}, \"edwyn osgrey\": {\"frequency\": 410, \"value\": \"edwyn osgrey\"}, \"brea\": {\"frequency\": 2017, \"value\": \"brea\"}, \"dorcas\": {\"frequency\": 451, \"value\": \"dorcas\"}, \"erreg\": {\"frequency\": 638, \"value\": \"erreg\"}, \"arrec durrandon\": {\"frequency\": 513, \"value\": \"arrec durrandon\"}, \"danos slynt\": {\"frequency\": 829, \"value\": \"danos slynt\"}, \"symon stripeback\": {\"frequency\": 391, \"value\": \"symon stripeback\"}, \"enger\": {\"frequency\": 280, \"value\": \"enger\"}, \"viserys i targaryen\": {\"frequency\": 604, \"value\": \"viserys i ...\"}, \"wat (standfast)\": {\"frequency\": 665, \"value\": \"wat (standfast)\"}, \"willis fell\": {\"frequency\": 4148, \"value\": \"willis fell\"}, \"vaellyn\": {\"frequency\": 308, \"value\": \"vaellyn\"}, \"randa\": {\"frequency\": 6397, \"value\": \"randa\"}, \"rast\": {\"frequency\": 1314, \"value\": \"rast\"}, \"agrivane\": {\"frequency\": 1221, \"value\": \"agrivane\"}, \"brogg\": {\"frequency\": 794, \"value\": \"brogg\"}, \"rowan\": {\"frequency\": 875, \"value\": \"rowan\"}, \"theo frey\": {\"frequency\": 2054, \"value\": \"theo frey\"}, \"wynafryd manderly\": {\"frequency\": 2490, \"value\": \"wynafryd manderly\"}, \"bannen\": {\"frequency\": 1234, \"value\": \"bannen\"}, \"eustace (braavos)\": {\"frequency\": 191, \"value\": \"eustace (braavos)\"}, \"stonehand\": {\"frequency\": 2430, \"value\": \"stonehand\"}, \"byren flowers\": {\"frequency\": 1307, \"value\": \"byren flowers\"}, \"ferret\": {\"frequency\": 156, \"value\": \"ferret\"}, \"willow heddle\": {\"frequency\": 3206, \"value\": \"willow heddle\"}, \"addison hill\": {\"frequency\": 3308, \"value\": \"addison hill\"}, \"bryan of oldtown\": {\"frequency\": 581, \"value\": \"bryan of oldtown\"}, \"aethan\": {\"frequency\": 560, \"value\": \"aethan\"}, \"toefinger\": {\"frequency\": 574, \"value\": \"toefinger\"}, \"dhazzar\": {\"frequency\": 420, \"value\": \"dhazzar\"}, \"borroq\": {\"frequency\": 698, \"value\": \"borroq\"}, \"abelar hightower\": {\"frequency\": 1147, \"value\": \"abelar hightower\"}, \"ben bushy\": {\"frequency\": 1791, \"value\": \"ben bushy\"}, \"tansy\": {\"frequency\": 1573, \"value\": \"tansy\"}, \"skyte\": {\"frequency\": 540, \"value\": \"skyte\"}, \"thormor ironmaker\": {\"frequency\": 1043, \"value\": \"thormor ironmaker\"}, \"byron\": {\"frequency\": 616, \"value\": \"byron\"}, \"alebelly\": {\"frequency\": 1578, \"value\": \"alebelly\"}, \"thistle\": {\"frequency\": 1139, \"value\": \"thistle\"}, \"violet\": {\"frequency\": 1343, \"value\": \"violet\"}, \"edmund ambrose\": {\"frequency\": 841, \"value\": \"edmund ambrose\"}, \"quickfinger\": {\"frequency\": 1255, \"value\": \"quickfinger\"}, \"sigrin\": {\"frequency\": 4099, \"value\": \"sigrin\"}, \"quellon greyjoy\": {\"frequency\": 784, \"value\": \"quellon greyjoy\"}, \"saathos\": {\"frequency\": 1153, \"value\": \"saathos\"}, \"eldred codd\": {\"frequency\": 470, \"value\": \"eldred codd\"}, \"viserys ii targaryen\": {\"frequency\": 185404, \"value\": \"viserys ii ...\"}, \"sherrit\": {\"frequency\": 3403, \"value\": \"sherrit\"}, \"red oarsman\": {\"frequency\": 946, \"value\": \"red oarsman\"}, \"jhogo\": {\"frequency\": 1410, \"value\": \"jhogo\"}, \"durran\": {\"frequency\": 270, \"value\": \"durran\"}, \"uthor underleaf\": {\"frequency\": 1435, \"value\": \"uthor underleaf\"}, \"egon emeros\": {\"frequency\": 487, \"value\": \"egon emeros\"}, \"belis\": {\"frequency\": 761, \"value\": \"belis\"}, \"rosamund lannister\": {\"frequency\": 3553, \"value\": \"rosamund lannister\"}, \"tim stone\": {\"frequency\": 944, \"value\": \"tim stone\"}, \"cedra\": {\"frequency\": 1077, \"value\": \"cedra\"}, \"redtusk\": {\"frequency\": 1058, \"value\": \"redtusk\"}, \"red lamb\": {\"frequency\": 5018, \"value\": \"red lamb\"}, \"sam stoops\": {\"frequency\": 230, \"value\": \"sam stoops\"}, \"sefton staunton\": {\"frequency\": 787, \"value\": \"sefton staunton\"}, \"coratt\": {\"frequency\": 824, \"value\": \"coratt\"}, \"ronnel stout\": {\"frequency\": 1494, \"value\": \"ronnel stout\"}, \"spotted pate of maidenpool\": {\"frequency\": 492, \"value\": \"spotted pate of ...\"}, \"courtenay greenhill\": {\"frequency\": 588, \"value\": \"courtenay ...\"}, \"weasel\": {\"frequency\": 912, \"value\": \"weasel\"}, \"todric\": {\"frequency\": 1048, \"value\": \"todric\"}, \"arron qorgyle\": {\"frequency\": 2260, \"value\": \"arron qorgyle\"}, \"donel greyjoy\": {\"frequency\": 276, \"value\": \"donel greyjoy\"}, \"drennan\": {\"frequency\": 21, \"value\": \"drennan\"}, \"rudge\": {\"frequency\": 2370, \"value\": \"rudge\"}, \"donnel hill\": {\"frequency\": 834, \"value\": \"donnel hill\"}, \"denys redwyne\": {\"frequency\": 1002, \"value\": \"denys redwyne\"}, \"barre\": {\"frequency\": 2242, \"value\": \"barre\"}, \"cosgrove\": {\"frequency\": 785, \"value\": \"cosgrove\"}, \"walda frey (daughter of lothar)\": {\"frequency\": 1011, \"value\": \"walda frey ...\"}, \"baelor targaryen (son of daeron ii)\": {\"frequency\": 651, \"value\": \"baelor targaryen ...\"}, \"colen of greenpools\": {\"frequency\": 613, \"value\": \"colen of ...\"}, \"rupert crabb\": {\"frequency\": 635, \"value\": \"rupert crabb\"}, \"squirrel\": {\"frequency\": 988, \"value\": \"squirrel\"}, \"boy\": {\"frequency\": 753, \"value\": \"boy\"}, \"aubrey ambrose\": {\"frequency\": 835, \"value\": \"aubrey ambrose\"}, \"steffon hollard\": {\"frequency\": 875, \"value\": \"steffon hollard\"}, \"wyl waynwood\": {\"frequency\": 10136, \"value\": \"wyl waynwood\"}, \"sallor\": {\"frequency\": 1963, \"value\": \"sallor\"}, \"erreck\": {\"frequency\": 398, \"value\": \"erreck\"}, \"donella hornwood\": {\"frequency\": 555, \"value\": \"donella hornwood\"}, \"eldiss\": {\"frequency\": 1618, \"value\": \"eldiss\"}, \"tuffleberry\": {\"frequency\": 799, \"value\": \"tuffleberry\"}, \"dickon manwoody\": {\"frequency\": 302, \"value\": \"dickon manwoody\"}, \"errok\": {\"frequency\": 155, \"value\": \"errok\"}, \"tristimun\": {\"frequency\": 617, \"value\": \"tristimun\"}, \"aegon i targaryen\": {\"frequency\": 4192, \"value\": \"aegon i targaryen\"}, \"cass\": {\"frequency\": 707, \"value\": \"cass\"}, \"robin\": {\"frequency\": 2250, \"value\": \"robin\"}, \"brandon stark (shipwright)\": {\"frequency\": 253, \"value\": \"brandon stark ...\"}, \"toregg\": {\"frequency\": 1139, \"value\": \"toregg\"}, \"dagon ironmaker\": {\"frequency\": 602, \"value\": \"dagon ironmaker\"}, \"wat (orphan)\": {\"frequency\": 1794, \"value\": \"wat (orphan)\"}, \"wyl the whittler\": {\"frequency\": 1579, \"value\": \"wyl the whittler\"}, \"donnel drumm\": {\"frequency\": 313, \"value\": \"donnel drumm\"}, \"urrigon greyjoy\": {\"frequency\": 805, \"value\": \"urrigon greyjoy\"}, \"erryk (guard)\": {\"frequency\": 174, \"value\": \"erryk (guard)\"}, \"ferny\": {\"frequency\": 1369, \"value\": \"ferny\"}, \"conn\": {\"frequency\": 1126, \"value\": \"conn\"}, \"sour alyn\": {\"frequency\": 1185, \"value\": \"sour alyn\"}, \"zarabelo\": {\"frequency\": 217, \"value\": \"zarabelo\"}, \"bella\": {\"frequency\": 858, \"value\": \"bella\"}, \"stannis baratheon\": {\"frequency\": 3171, \"value\": \"stannis baratheon\"}, \"emphyria vance\": {\"frequency\": 518, \"value\": \"emphyria vance\"}, \"samwell spicer\": {\"frequency\": 830, \"value\": \"samwell spicer\"}, \"will (treb)\": {\"frequency\": 1478, \"value\": \"will (treb)\"}, \"alysanne hightower\": {\"frequency\": 815, \"value\": \"alysanne hightower\"}, \"brandon stark (son of cregan)\": {\"frequency\": 1325, \"value\": \"brandon stark (son ...\"}, \"daeron ii targaryen\": {\"frequency\": 2807, \"value\": \"daeron ii ...\"}, \"robert brax (son of flement)\": {\"frequency\": 1149, \"value\": \"robert brax (son ...\"}, \"stone thumbs\": {\"frequency\": 1357, \"value\": \"stone thumbs\"}, \"alyce\": {\"frequency\": 1627, \"value\": \"alyce\"}, \"skittrick\": {\"frequency\": 3792, \"value\": \"skittrick\"}, \"cedric payne\": {\"frequency\": 282, \"value\": \"cedric payne\"}, \"euron greyjoy\": {\"frequency\": 294, \"value\": \"euron greyjoy\"}, \"clarence crabb (short)\": {\"frequency\": 863, \"value\": \"clarence crabb ...\"}, \"brenett\": {\"frequency\": 670, \"value\": \"brenett\"}, \"daeron i targaryen\": {\"frequency\": 946, \"value\": \"daeron i targaryen\"}, \"wex pyke\": {\"frequency\": 1018, \"value\": \"wex pyke\"}, \"rhialta vance\": {\"frequency\": 1253, \"value\": \"rhialta vance\"}, \"all-for-joffrey\": {\"frequency\": 1397, \"value\": \"all-for-joffrey\"}, \"benjen stark (bitter)\": {\"frequency\": 706, \"value\": \"benjen stark ...\"}, \"rhonda rowan\": {\"frequency\": 1823, \"value\": \"rhonda rowan\"}, \"torrhen stark\": {\"frequency\": 1072, \"value\": \"torrhen stark\"}, \"rollam westerling\": {\"frequency\": 613, \"value\": \"rollam westerling\"}, \"shyra\": {\"frequency\": 1653, \"value\": \"shyra\"}, \"aegon frey (son of aenys)\": {\"frequency\": 870, \"value\": \"aegon frey (son of ...\"}, \"s'vrone\": {\"frequency\": 953, \"value\": \"s'vrone\"}, \"robb reyne\": {\"frequency\": 2996, \"value\": \"robb reyne\"}, \"walder frey (son of ryman)\": {\"frequency\": 700, \"value\": \"walder frey (son ...\"}, \"steffon varner\": {\"frequency\": 1449, \"value\": \"steffon varner\"}, \"sedgekins\": {\"frequency\": 1205, \"value\": \"sedgekins\"}, \"uller\": {\"frequency\": 318, \"value\": \"uller\"}, \"aemma arryn\": {\"frequency\": 3195, \"value\": \"aemma arryn\"}, \"samwell tarly\": {\"frequency\": 1107, \"value\": \"samwell tarly\"}, \"will (orphan)\": {\"frequency\": 6401, \"value\": \"will (orphan)\"}, \"rodrik freeborn\": {\"frequency\": 2598, \"value\": \"rodrik freeborn\"}, \"rigney\": {\"frequency\": 1944, \"value\": \"rigney\"}, \"turquin\": {\"frequency\": 1378, \"value\": \"turquin\"}, \"calon\": {\"frequency\": 377, \"value\": \"calon\"}, \"easy\": {\"frequency\": 438, \"value\": \"easy\"}, \"robb stark\": {\"frequency\": 523, \"value\": \"robb stark\"}, \"bandy\": {\"frequency\": 1582, \"value\": \"bandy\"}, \"rusty flowers\": {\"frequency\": 1203, \"value\": \"rusty flowers\"}, \"alaric of eysen\": {\"frequency\": 824, \"value\": \"alaric of eysen\"}, \"elys waynwood\": {\"frequency\": 451, \"value\": \"elys waynwood\"}, \"alyn hunt\": {\"frequency\": 652, \"value\": \"alyn hunt\"}, \"wendell webber\": {\"frequency\": 1127, \"value\": \"wendell webber\"}, \"bharbo\": {\"frequency\": 1078, \"value\": \"bharbo\"}, \"aethelmure\": {\"frequency\": 2720, \"value\": \"aethelmure\"}, \"aegon targaryen (son of aenys i)\": {\"frequency\": 1099, \"value\": \"aegon targaryen ...\"}, \"emma\": {\"frequency\": 976, \"value\": \"emma\"}, \"elyas willum\": {\"frequency\": 558, \"value\": \"elyas willum\"}, \"roger of pennytree\": {\"frequency\": 864, \"value\": \"roger of pennytree\"}, \"clifford conklyn\": {\"frequency\": 1420, \"value\": \"clifford conklyn\"}, \"yorkel\": {\"frequency\": 1275, \"value\": \"yorkel\"}, \"rolland darklyn\": {\"frequency\": 1821, \"value\": \"rolland darklyn\"}, \"rhaena targaryen (daughter of daemon)\": {\"frequency\": 586, \"value\": \"rhaena targaryen ...\"}, \"cerrick\": {\"frequency\": 1233, \"value\": \"cerrick\"}, \"timett\": {\"frequency\": 586, \"value\": \"timett\"}, \"sawwood\": {\"frequency\": 559, \"value\": \"sawwood\"}, \"sybassion\": {\"frequency\": 906, \"value\": \"sybassion\"}, \"armen\": {\"frequency\": 180, \"value\": \"armen\"}, \"zharaq zo loraq\": {\"frequency\": 853, \"value\": \"zharaq zo loraq\"}, \"tothmure\": {\"frequency\": 815, \"value\": \"tothmure\"}, \"bors\": {\"frequency\": 1265, \"value\": \"bors\"}, \"robert frey (son of raymund)\": {\"frequency\": 4357, \"value\": \"robert frey (son ...\"}, \"willow witch-eye\": {\"frequency\": 1385, \"value\": \"willow witch-eye\"}, \"arron\": {\"frequency\": 565, \"value\": \"arron\"}, \"clarence crabb\": {\"frequency\": 944, \"value\": \"clarence crabb\"}, \"elaena targaryen\": {\"frequency\": 722, \"value\": \"elaena targaryen\"}, \"aegon targaryen (son of jaehaerys i)\": {\"frequency\": 724, \"value\": \"aegon targaryen ...\"}, \"brandon stark (bad)\": {\"frequency\": 948, \"value\": \"brandon stark ...\"}, \"erik ironmaker\": {\"frequency\": 1126, \"value\": \"erik ironmaker\"}, \"willit\": {\"frequency\": 550, \"value\": \"willit\"}, \"wenda\": {\"frequency\": 340, \"value\": \"wenda\"}, \"valarr targaryen\": {\"frequency\": 954, \"value\": \"valarr targaryen\"}, \"timoth\": {\"frequency\": 4371, \"value\": \"timoth\"}, \"balon botley\": {\"frequency\": 1305, \"value\": \"balon botley\"}, \"steffon fossoway\": {\"frequency\": 2230, \"value\": \"steffon fossoway\"}, \"daella targaryen (daughter of maekar i)\": {\"frequency\": 768, \"value\": \"daella targaryen ...\"}, \"zekko\": {\"frequency\": 1437, \"value\": \"zekko\"}, \"alyn velaryon\": {\"frequency\": 1671, \"value\": \"alyn velaryon\"}, \"dacks\": {\"frequency\": 930, \"value\": \"dacks\"}, \"arnell\": {\"frequency\": 1116, \"value\": \"arnell\"}, \"arneld\": {\"frequency\": 599, \"value\": \"arneld\"}, \"lord cafferen\": {\"frequency\": 870, \"value\": \"lord cafferen\"}, \"rus\": {\"frequency\": 1561, \"value\": \"rus\"}, \"eglantine\": {\"frequency\": 2084, \"value\": \"eglantine\"}, \"willifer\": {\"frequency\": 3235, \"value\": \"willifer\"}, \"alester oakheart\": {\"frequency\": 649, \"value\": \"alester oakheart\"}, \"robin greyjoy\": {\"frequency\": 3395, \"value\": \"robin greyjoy\"}, \"willem wylde\": {\"frequency\": 3799, \"value\": \"willem wylde\"}, \"rawney\": {\"frequency\": 1523, \"value\": \"rawney\"}, \"veiled lady\": {\"frequency\": 1118, \"value\": \"veiled lady\"}, \"werlag\": {\"frequency\": 669, \"value\": \"werlag\"}, \"collio quaynis\": {\"frequency\": 1022, \"value\": \"collio quaynis\"}, \"will (squire)\": {\"frequency\": 564, \"value\": \"will (squire)\"}, \"aegon ii targaryen\": {\"frequency\": 725, \"value\": \"aegon ii targaryen\"}, \"rymolf\": {\"frequency\": 725, \"value\": \"rymolf\"}, \"rickard tyrell\": {\"frequency\": 1606, \"value\": \"rickard tyrell\"}, \"dunaver\": {\"frequency\": 4079, \"value\": \"dunaver\"}, \"aerys i targaryen\": {\"frequency\": 3325, \"value\": \"aerys i targaryen\"}, \"urrathon\": {\"frequency\": 1211, \"value\": \"urrathon\"}, \"tobbot\": {\"frequency\": 890, \"value\": \"tobbot\"}, \"bump\": {\"frequency\": 198, \"value\": \"bump\"}, \"shella\": {\"frequency\": 298, \"value\": \"shella\"}, \"sylas\": {\"frequency\": 1378, \"value\": \"sylas\"}, \"draqaz\": {\"frequency\": 12, \"value\": \"draqaz\"}, \"wilbert osgrey\": {\"frequency\": 387, \"value\": \"wilbert osgrey\"}, \"alequo adarys\": {\"frequency\": 1730, \"value\": \"alequo adarys\"}, \"brandon stark (the daughterless)\": {\"frequency\": 389, \"value\": \"brandon stark (the ...\"}, \"catelyn stark\": {\"frequency\": 465, \"value\": \"catelyn stark\"}, \"buu\": {\"frequency\": 778, \"value\": \"buu\"}, \"darla deddings\": {\"frequency\": 443, \"value\": \"darla deddings\"}, \"esgred\": {\"frequency\": 190, \"value\": \"esgred\"}, \"rainbow knight\": {\"frequency\": 686, \"value\": \"rainbow knight\"}, \"dorren stark\": {\"frequency\": 290, \"value\": \"dorren stark\"}, \"elza\": {\"frequency\": 526, \"value\": \"elza\"}, \"walda rivers (daughter of aemon)\": {\"frequency\": 781, \"value\": \"walda rivers ...\"}, \"theobald\": {\"frequency\": 1376, \"value\": \"theobald\"}, \"bessa\": {\"frequency\": 1073, \"value\": \"bessa\"}, \"utt\": {\"frequency\": 1512, \"value\": \"utt\"}, \"quentin tyrell\": {\"frequency\": 1747, \"value\": \"quentin tyrell\"}, \"daeron targaryen (son of maekar i)\": {\"frequency\": 458, \"value\": \"daeron targaryen ...\"}, \"red rolfe\": {\"frequency\": 746, \"value\": \"red rolfe\"}, \"maegor i targaryen\": {\"frequency\": 3058, \"value\": \"maegor i targaryen\"}, \"varly\": {\"frequency\": 3222, \"value\": \"varly\"}, \"bellonara otherys\": {\"frequency\": 818, \"value\": \"bellonara otherys\"}, \"beron blacktyde\": {\"frequency\": 882, \"value\": \"beron blacktyde\"}, \"umar\": {\"frequency\": 852, \"value\": \"umar\"}, \"bethany (blushing bethany)\": {\"frequency\": 971, \"value\": \"bethany (blushing ...\"}, \"walder frey (son of emmon)\": {\"frequency\": 667, \"value\": \"walder frey (son ...\"}, \"urron greyiron\": {\"frequency\": 611, \"value\": \"urron greyiron\"}, \"sylva santagar\": {\"frequency\": 949, \"value\": \"sylva santagar\"}, \"allaquo\": {\"frequency\": 838, \"value\": \"allaquo\"}, \"barbara bracken\": {\"frequency\": 923, \"value\": \"barbara bracken\"}, \"rosey\": {\"frequency\": 4287, \"value\": \"rosey\"}, \"terro\": {\"frequency\": 304, \"value\": \"terro\"}, \"laenor velaryon\": {\"frequency\": 2511, \"value\": \"laenor velaryon\"}, \"walton\": {\"frequency\": 938, \"value\": \"walton\"}, \"simon leygood\": {\"frequency\": 770, \"value\": \"simon leygood\"}, \"cetheres\": {\"frequency\": 1094, \"value\": \"cetheres\"}, \"fornio\": {\"frequency\": 116, \"value\": \"fornio\"}, \"robert ashford\": {\"frequency\": 848, \"value\": \"robert ashford\"}, \"rafford\": {\"frequency\": 1460, \"value\": \"rafford\"}, \"quenton greyjoy\": {\"frequency\": 11381, \"value\": \"quenton greyjoy\"}, \"wylla\": {\"frequency\": 2333, \"value\": \"wylla\"}, \"alyssa arryn\": {\"frequency\": 3672, \"value\": \"alyssa arryn\"}, \"racallio ryndoon\": {\"frequency\": 3636, \"value\": \"racallio ryndoon\"}, \"dennis plumm\": {\"frequency\": 290, \"value\": \"dennis plumm\"}}, \"size\": 1081484}}, \"selected_variable\": {\"name\": [\"sales\"], \"descriptives\": {\"rows\": 1081484, \"columns\": 15}, \"view_component\": \"Summary\", \"view_file\": \"sframe\", \"view_params\": {\"y\": null, \"x\": null, \"columns\": [\"YEAR\", \"MONTH\", \"Company\", \"Area 1\", \"Area 2\", \"Area 3\", \"Area 3 Classification\", \"Outlet Type\", \"Outlet Name\", \"Product Category 1\", \"Product Category 2\", \"Product\", \"Units sold\", \"Revenue\", \"Commission\"], \"view\": \"Summary\"}, \"view_components\": [\"Summary\", \"Table\", \"Bar Chart\", \"BoxWhisker Plot\", \"Line Chart\", \"Scatter Plot\", \"Heat Map\", \"Plots\"], \"type\": \"SFrame\", \"columns\": [{\"dtype\": \"int\", \"name\": \"YEAR\"}, {\"dtype\": \"str\", \"name\": \"MONTH\"}, {\"dtype\": \"str\", \"name\": \"Company\"}, {\"dtype\": \"str\", \"name\": \"Area 1\"}, {\"dtype\": \"str\", \"name\": \"Area 2\"}, {\"dtype\": \"str\", \"name\": \"Area 3\"}, {\"dtype\": \"str\", \"name\": \"Area 3 Classification\"}, {\"dtype\": \"str\", \"name\": \"Outlet Type\"}, {\"dtype\": \"str\", \"name\": \"Outlet Name\"}, {\"dtype\": \"str\", \"name\": \"Product Category 1\"}, {\"dtype\": \"str\", \"name\": \"Product Category 2\"}, {\"dtype\": \"str\", \"name\": \"Product\"}, {\"dtype\": \"float\", \"name\": \"Units sold\"}, {\"dtype\": \"float\", \"name\": \"Revenue\"}, {\"dtype\": \"float\", \"name\": \"Commission\"}], \"column_identifiers\": [\"Product\", \"Revenue\", \"Product Category 1\", \"Company\", \"Product Category 2\", \"Area 1\", \"Area 3\", \"Area 2\", \"Commission\", \"Area 3 Classification\", \"YEAR\", \"MONTH\", \"Units sold\", \"Outlet Type\", \"Outlet Name\"]}, \"columns\": [{\"dtype\": \"int\", \"name\": \"YEAR\"}, {\"dtype\": \"str\", \"name\": \"MONTH\"}, {\"dtype\": \"str\", \"name\": \"Company\"}, {\"dtype\": \"str\", \"name\": \"Area 1\"}, {\"dtype\": \"str\", \"name\": \"Area 2\"}, {\"dtype\": \"str\", \"name\": \"Area 3\"}, {\"dtype\": \"str\", \"name\": \"Area 3 Classification\"}, {\"dtype\": \"str\", \"name\": \"Outlet Type\"}, {\"dtype\": \"str\", \"name\": \"Outlet Name\"}, {\"dtype\": \"str\", \"name\": \"Product Category 1\"}, {\"dtype\": \"str\", \"name\": \"Product Category 2\"}, {\"dtype\": \"str\", \"name\": \"Product\"}, {\"dtype\": \"float\", \"name\": \"Units sold\"}, {\"dtype\": \"float\", \"name\": \"Revenue\"}, {\"dtype\": \"float\", \"name\": \"Commission\"}]}, e);\n",
       "                });\n",
       "            })();\n",
       "        "
      ]
     },
     "metadata": {},
     "output_type": "display_data"
    }
   ],
   "source": [
    "sales.show(view=\"Summary\")"
   ]
  },
  {
   "cell_type": "code",
   "execution_count": 7,
   "metadata": {
    "collapsed": false
   },
   "outputs": [],
   "source": [
    "men_data=sales[sales['Company']=='men']"
   ]
  },
  {
   "cell_type": "code",
   "execution_count": 8,
   "metadata": {
    "collapsed": true
   },
   "outputs": [],
   "source": [
    "white_walkers_data=sales[sales['Company']=='white walkers']"
   ]
  },
  {
   "cell_type": "code",
   "execution_count": 9,
   "metadata": {
    "collapsed": false
   },
   "outputs": [
    {
     "data": {
      "text/html": [
       "<div style=\"max-height:1000px;max-width:1500px;overflow:auto;\"><table frame=\"box\" rules=\"cols\">\n",
       "    <tr>\n",
       "        <th style=\"padding-left: 1em; padding-right: 1em; text-align: center\">YEAR</th>\n",
       "        <th style=\"padding-left: 1em; padding-right: 1em; text-align: center\">MONTH</th>\n",
       "        <th style=\"padding-left: 1em; padding-right: 1em; text-align: center\">Company</th>\n",
       "        <th style=\"padding-left: 1em; padding-right: 1em; text-align: center\">Area 1</th>\n",
       "        <th style=\"padding-left: 1em; padding-right: 1em; text-align: center\">Area 2</th>\n",
       "        <th style=\"padding-left: 1em; padding-right: 1em; text-align: center\">Area 3</th>\n",
       "        <th style=\"padding-left: 1em; padding-right: 1em; text-align: center\">Area 3 Classification</th>\n",
       "    </tr>\n",
       "    <tr>\n",
       "        <td style=\"padding-left: 1em; padding-right: 1em; text-align: center; vertical-align: top\">2018</td>\n",
       "        <td style=\"padding-left: 1em; padding-right: 1em; text-align: center; vertical-align: top\">JUN</td>\n",
       "        <td style=\"padding-left: 1em; padding-right: 1em; text-align: center; vertical-align: top\">men</td>\n",
       "        <td style=\"padding-left: 1em; padding-right: 1em; text-align: center; vertical-align: top\">the north</td>\n",
       "        <td style=\"padding-left: 1em; padding-right: 1em; text-align: center; vertical-align: top\">riverrun</td>\n",
       "        <td style=\"padding-left: 1em; padding-right: 1em; text-align: center; vertical-align: top\">valyrian</td>\n",
       "        <td style=\"padding-left: 1em; padding-right: 1em; text-align: center; vertical-align: top\">ser</td>\n",
       "    </tr>\n",
       "    <tr>\n",
       "        <td style=\"padding-left: 1em; padding-right: 1em; text-align: center; vertical-align: top\">2018</td>\n",
       "        <td style=\"padding-left: 1em; padding-right: 1em; text-align: center; vertical-align: top\">JUN</td>\n",
       "        <td style=\"padding-left: 1em; padding-right: 1em; text-align: center; vertical-align: top\">men</td>\n",
       "        <td style=\"padding-left: 1em; padding-right: 1em; text-align: center; vertical-align: top\">the north</td>\n",
       "        <td style=\"padding-left: 1em; padding-right: 1em; text-align: center; vertical-align: top\">moat cailin</td>\n",
       "        <td style=\"padding-left: 1em; padding-right: 1em; text-align: center; vertical-align: top\">summer isles</td>\n",
       "        <td style=\"padding-left: 1em; padding-right: 1em; text-align: center; vertical-align: top\">greenstone</td>\n",
       "    </tr>\n",
       "    <tr>\n",
       "        <td style=\"padding-left: 1em; padding-right: 1em; text-align: center; vertical-align: top\">2018</td>\n",
       "        <td style=\"padding-left: 1em; padding-right: 1em; text-align: center; vertical-align: top\">MAR</td>\n",
       "        <td style=\"padding-left: 1em; padding-right: 1em; text-align: center; vertical-align: top\">men</td>\n",
       "        <td style=\"padding-left: 1em; padding-right: 1em; text-align: center; vertical-align: top\">beyond the wall</td>\n",
       "        <td style=\"padding-left: 1em; padding-right: 1em; text-align: center; vertical-align: top\">deepwood motte</td>\n",
       "        <td style=\"padding-left: 1em; padding-right: 1em; text-align: center; vertical-align: top\">ghiscari</td>\n",
       "        <td style=\"padding-left: 1em; padding-right: 1em; text-align: center; vertical-align: top\">ser</td>\n",
       "    </tr>\n",
       "    <tr>\n",
       "        <td style=\"padding-left: 1em; padding-right: 1em; text-align: center; vertical-align: top\">2018</td>\n",
       "        <td style=\"padding-left: 1em; padding-right: 1em; text-align: center; vertical-align: top\">JAN</td>\n",
       "        <td style=\"padding-left: 1em; padding-right: 1em; text-align: center; vertical-align: top\">men</td>\n",
       "        <td style=\"padding-left: 1em; padding-right: 1em; text-align: center; vertical-align: top\">beyond the wall</td>\n",
       "        <td style=\"padding-left: 1em; padding-right: 1em; text-align: center; vertical-align: top\">deepwood motte</td>\n",
       "        <td style=\"padding-left: 1em; padding-right: 1em; text-align: center; vertical-align: top\">tyroshi</td>\n",
       "        <td style=\"padding-left: 1em; padding-right: 1em; text-align: center; vertical-align: top\">greenstone</td>\n",
       "    </tr>\n",
       "    <tr>\n",
       "        <td style=\"padding-left: 1em; padding-right: 1em; text-align: center; vertical-align: top\">2018</td>\n",
       "        <td style=\"padding-left: 1em; padding-right: 1em; text-align: center; vertical-align: top\">FEB</td>\n",
       "        <td style=\"padding-left: 1em; padding-right: 1em; text-align: center; vertical-align: top\">men</td>\n",
       "        <td style=\"padding-left: 1em; padding-right: 1em; text-align: center; vertical-align: top\">the north</td>\n",
       "        <td style=\"padding-left: 1em; padding-right: 1em; text-align: center; vertical-align: top\">riverrun</td>\n",
       "        <td style=\"padding-left: 1em; padding-right: 1em; text-align: center; vertical-align: top\">lhazarene</td>\n",
       "        <td style=\"padding-left: 1em; padding-right: 1em; text-align: center; vertical-align: top\">hand of the king</td>\n",
       "    </tr>\n",
       "    <tr>\n",
       "        <td style=\"padding-left: 1em; padding-right: 1em; text-align: center; vertical-align: top\">2018</td>\n",
       "        <td style=\"padding-left: 1em; padding-right: 1em; text-align: center; vertical-align: top\">MAR</td>\n",
       "        <td style=\"padding-left: 1em; padding-right: 1em; text-align: center; vertical-align: top\">men</td>\n",
       "        <td style=\"padding-left: 1em; padding-right: 1em; text-align: center; vertical-align: top\">the westerlands</td>\n",
       "        <td style=\"padding-left: 1em; padding-right: 1em; text-align: center; vertical-align: top\">torrhen's square</td>\n",
       "        <td style=\"padding-left: 1em; padding-right: 1em; text-align: center; vertical-align: top\">ironmen</td>\n",
       "        <td style=\"padding-left: 1em; padding-right: 1em; text-align: center; vertical-align: top\">lord of the crossing</td>\n",
       "    </tr>\n",
       "    <tr>\n",
       "        <td style=\"padding-left: 1em; padding-right: 1em; text-align: center; vertical-align: top\">2018</td>\n",
       "        <td style=\"padding-left: 1em; padding-right: 1em; text-align: center; vertical-align: top\">JAN</td>\n",
       "        <td style=\"padding-left: 1em; padding-right: 1em; text-align: center; vertical-align: top\">men</td>\n",
       "        <td style=\"padding-left: 1em; padding-right: 1em; text-align: center; vertical-align: top\">the crownlands</td>\n",
       "        <td style=\"padding-left: 1em; padding-right: 1em; text-align: center; vertical-align: top\">winterfell</td>\n",
       "        <td style=\"padding-left: 1em; padding-right: 1em; text-align: center; vertical-align: top\">westermen</td>\n",
       "        <td style=\"padding-left: 1em; padding-right: 1em; text-align: center; vertical-align: top\">ser</td>\n",
       "    </tr>\n",
       "    <tr>\n",
       "        <td style=\"padding-left: 1em; padding-right: 1em; text-align: center; vertical-align: top\">2018</td>\n",
       "        <td style=\"padding-left: 1em; padding-right: 1em; text-align: center; vertical-align: top\">JUN</td>\n",
       "        <td style=\"padding-left: 1em; padding-right: 1em; text-align: center; vertical-align: top\">men</td>\n",
       "        <td style=\"padding-left: 1em; padding-right: 1em; text-align: center; vertical-align: top\">the westerlands</td>\n",
       "        <td style=\"padding-left: 1em; padding-right: 1em; text-align: center; vertical-align: top\">golden tooth</td>\n",
       "        <td style=\"padding-left: 1em; padding-right: 1em; text-align: center; vertical-align: top\">rivermen</td>\n",
       "        <td style=\"padding-left: 1em; padding-right: 1em; text-align: center; vertical-align: top\">lord of the crossing</td>\n",
       "    </tr>\n",
       "    <tr>\n",
       "        <td style=\"padding-left: 1em; padding-right: 1em; text-align: center; vertical-align: top\">2018</td>\n",
       "        <td style=\"padding-left: 1em; padding-right: 1em; text-align: center; vertical-align: top\">JUN</td>\n",
       "        <td style=\"padding-left: 1em; padding-right: 1em; text-align: center; vertical-align: top\">men</td>\n",
       "        <td style=\"padding-left: 1em; padding-right: 1em; text-align: center; vertical-align: top\">the riverlands</td>\n",
       "        <td style=\"padding-left: 1em; padding-right: 1em; text-align: center; vertical-align: top\">darry</td>\n",
       "        <td style=\"padding-left: 1em; padding-right: 1em; text-align: center; vertical-align: top\">qarth</td>\n",
       "        <td style=\"padding-left: 1em; padding-right: 1em; text-align: center; vertical-align: top\">ser</td>\n",
       "    </tr>\n",
       "    <tr>\n",
       "        <td style=\"padding-left: 1em; padding-right: 1em; text-align: center; vertical-align: top\">2018</td>\n",
       "        <td style=\"padding-left: 1em; padding-right: 1em; text-align: center; vertical-align: top\">JUN</td>\n",
       "        <td style=\"padding-left: 1em; padding-right: 1em; text-align: center; vertical-align: top\">men</td>\n",
       "        <td style=\"padding-left: 1em; padding-right: 1em; text-align: center; vertical-align: top\">the stormlands</td>\n",
       "        <td style=\"padding-left: 1em; padding-right: 1em; text-align: center; vertical-align: top\">green fork</td>\n",
       "        <td style=\"padding-left: 1em; padding-right: 1em; text-align: center; vertical-align: top\">norvoshi</td>\n",
       "        <td style=\"padding-left: 1em; padding-right: 1em; text-align: center; vertical-align: top\">archmaester</td>\n",
       "    </tr>\n",
       "</table>\n",
       "<table frame=\"box\" rules=\"cols\">\n",
       "    <tr>\n",
       "        <th style=\"padding-left: 1em; padding-right: 1em; text-align: center\">Outlet Type</th>\n",
       "        <th style=\"padding-left: 1em; padding-right: 1em; text-align: center\">Outlet Name</th>\n",
       "        <th style=\"padding-left: 1em; padding-right: 1em; text-align: center\">Product Category 1</th>\n",
       "        <th style=\"padding-left: 1em; padding-right: 1em; text-align: center\">Product Category 2</th>\n",
       "        <th style=\"padding-left: 1em; padding-right: 1em; text-align: center\">Product</th>\n",
       "    </tr>\n",
       "    <tr>\n",
       "        <td style=\"padding-left: 1em; padding-right: 1em; text-align: center; vertical-align: top\">house arryn</td>\n",
       "        <td style=\"padding-left: 1em; padding-right: 1em; text-align: center; vertical-align: top\">addison hill</td>\n",
       "        <td style=\"padding-left: 1em; padding-right: 1em; text-align: center; vertical-align: top\">korean</td>\n",
       "        <td style=\"padding-left: 1em; padding-right: 1em; text-align: center; vertical-align: top\">dry yeast</td>\n",
       "        <td style=\"padding-left: 1em; padding-right: 1em; text-align: center; vertical-align: top\">wheels</td>\n",
       "    </tr>\n",
       "    <tr>\n",
       "        <td style=\"padding-left: 1em; padding-right: 1em; text-align: center; vertical-align: top\">night's watch</td>\n",
       "        <td style=\"padding-left: 1em; padding-right: 1em; text-align: center; vertical-align: top\">valarr targaryen</td>\n",
       "        <td style=\"padding-left: 1em; padding-right: 1em; text-align: center; vertical-align: top\">greek</td>\n",
       "        <td style=\"padding-left: 1em; padding-right: 1em; text-align: center; vertical-align: top\">amaretti</td>\n",
       "        <td style=\"padding-left: 1em; padding-right: 1em; text-align: center; vertical-align: top\">green olives</td>\n",
       "    </tr>\n",
       "    <tr>\n",
       "        <td style=\"padding-left: 1em; padding-right: 1em; text-align: center; vertical-align: top\">house wode</td>\n",
       "        <td style=\"padding-left: 1em; padding-right: 1em; text-align: center; vertical-align: top\">wilbert</td>\n",
       "        <td style=\"padding-left: 1em; padding-right: 1em; text-align: center; vertical-align: top\">indian</td>\n",
       "        <td style=\"padding-left: 1em; padding-right: 1em; text-align: center; vertical-align: top\">fino sherry</td>\n",
       "        <td style=\"padding-left: 1em; padding-right: 1em; text-align: center; vertical-align: top\">scallops</td>\n",
       "    </tr>\n",
       "    <tr>\n",
       "        <td style=\"padding-left: 1em; padding-right: 1em; text-align: center; vertical-align: top\">house humble</td>\n",
       "        <td style=\"padding-left: 1em; padding-right: 1em; text-align: center; vertical-align: top\">will (orphan)</td>\n",
       "        <td style=\"padding-left: 1em; padding-right: 1em; text-align: center; vertical-align: top\">mexican</td>\n",
       "        <td style=\"padding-left: 1em; padding-right: 1em; text-align: center; vertical-align: top\">maggi</td>\n",
       "        <td style=\"padding-left: 1em; padding-right: 1em; text-align: center; vertical-align: top\">bacon rind</td>\n",
       "    </tr>\n",
       "    <tr>\n",
       "        <td style=\"padding-left: 1em; padding-right: 1em; text-align: center; vertical-align: top\">house arryn</td>\n",
       "        <td style=\"padding-left: 1em; padding-right: 1em; text-align: center; vertical-align: top\">will (squire)</td>\n",
       "        <td style=\"padding-left: 1em; padding-right: 1em; text-align: center; vertical-align: top\">indian</td>\n",
       "        <td style=\"padding-left: 1em; padding-right: 1em; text-align: center; vertical-align: top\">fino sherry</td>\n",
       "        <td style=\"padding-left: 1em; padding-right: 1em; text-align: center; vertical-align: top\">runny honey</td>\n",
       "    </tr>\n",
       "    <tr>\n",
       "        <td style=\"padding-left: 1em; padding-right: 1em; text-align: center; vertical-align: top\">house fell</td>\n",
       "        <td style=\"padding-left: 1em; padding-right: 1em; text-align: center; vertical-align: top\">will (standfast)</td>\n",
       "        <td style=\"padding-left: 1em; padding-right: 1em; text-align: center; vertical-align: top\">greek</td>\n",
       "        <td style=\"padding-left: 1em; padding-right: 1em; text-align: center; vertical-align: top\">amaretti</td>\n",
       "        <td style=\"padding-left: 1em; padding-right: 1em; text-align: center; vertical-align: top\">green olives</td>\n",
       "    </tr>\n",
       "    <tr>\n",
       "        <td style=\"padding-left: 1em; padding-right: 1em; text-align: center; vertical-align: top\">brotherhood without<br>banners ...</td>\n",
       "        <td style=\"padding-left: 1em; padding-right: 1em; text-align: center; vertical-align: top\">will (treb)</td>\n",
       "        <td style=\"padding-left: 1em; padding-right: 1em; text-align: center; vertical-align: top\">mexican</td>\n",
       "        <td style=\"padding-left: 1em; padding-right: 1em; text-align: center; vertical-align: top\">maggi</td>\n",
       "        <td style=\"padding-left: 1em; padding-right: 1em; text-align: center; vertical-align: top\">bacon rind</td>\n",
       "    </tr>\n",
       "    <tr>\n",
       "        <td style=\"padding-left: 1em; padding-right: 1em; text-align: center; vertical-align: top\">house frey</td>\n",
       "        <td style=\"padding-left: 1em; padding-right: 1em; text-align: center; vertical-align: top\">willem wylde</td>\n",
       "        <td style=\"padding-left: 1em; padding-right: 1em; text-align: center; vertical-align: top\">indian</td>\n",
       "        <td style=\"padding-left: 1em; padding-right: 1em; text-align: center; vertical-align: top\">fino sherry</td>\n",
       "        <td style=\"padding-left: 1em; padding-right: 1em; text-align: center; vertical-align: top\">nonfat ricotta cheese</td>\n",
       "    </tr>\n",
       "    <tr>\n",
       "        <td style=\"padding-left: 1em; padding-right: 1em; text-align: center; vertical-align: top\">house osgrey</td>\n",
       "        <td style=\"padding-left: 1em; padding-right: 1em; text-align: center; vertical-align: top\">viserys ii targaryen</td>\n",
       "        <td style=\"padding-left: 1em; padding-right: 1em; text-align: center; vertical-align: top\">mexican</td>\n",
       "        <td style=\"padding-left: 1em; padding-right: 1em; text-align: center; vertical-align: top\">maggi</td>\n",
       "        <td style=\"padding-left: 1em; padding-right: 1em; text-align: center; vertical-align: top\">spiced rum</td>\n",
       "    </tr>\n",
       "    <tr>\n",
       "        <td style=\"padding-left: 1em; padding-right: 1em; text-align: center; vertical-align: top\">house santagar</td>\n",
       "        <td style=\"padding-left: 1em; padding-right: 1em; text-align: center; vertical-align: top\">viserys ii targaryen</td>\n",
       "        <td style=\"padding-left: 1em; padding-right: 1em; text-align: center; vertical-align: top\">mexican</td>\n",
       "        <td style=\"padding-left: 1em; padding-right: 1em; text-align: center; vertical-align: top\">maggi</td>\n",
       "        <td style=\"padding-left: 1em; padding-right: 1em; text-align: center; vertical-align: top\">mexican chocolate</td>\n",
       "    </tr>\n",
       "</table>\n",
       "<table frame=\"box\" rules=\"cols\">\n",
       "    <tr>\n",
       "        <th style=\"padding-left: 1em; padding-right: 1em; text-align: center\">Units sold</th>\n",
       "        <th style=\"padding-left: 1em; padding-right: 1em; text-align: center\">Revenue</th>\n",
       "        <th style=\"padding-left: 1em; padding-right: 1em; text-align: center\">Commission</th>\n",
       "    </tr>\n",
       "    <tr>\n",
       "        <td style=\"padding-left: 1em; padding-right: 1em; text-align: center; vertical-align: top\">2.47500571874</td>\n",
       "        <td style=\"padding-left: 1em; padding-right: 1em; text-align: center; vertical-align: top\">54351.1255835</td>\n",
       "        <td style=\"padding-left: 1em; padding-right: 1em; text-align: center; vertical-align: top\">4393.13515077</td>\n",
       "    </tr>\n",
       "    <tr>\n",
       "        <td style=\"padding-left: 1em; padding-right: 1em; text-align: center; vertical-align: top\">72.2760630542</td>\n",
       "        <td style=\"padding-left: 1em; padding-right: 1em; text-align: center; vertical-align: top\">416310.123192</td>\n",
       "        <td style=\"padding-left: 1em; padding-right: 1em; text-align: center; vertical-align: top\">4400.33678007</td>\n",
       "    </tr>\n",
       "    <tr>\n",
       "        <td style=\"padding-left: 1em; padding-right: 1em; text-align: center; vertical-align: top\">12.4797986286</td>\n",
       "        <td style=\"padding-left: 1em; padding-right: 1em; text-align: center; vertical-align: top\">149757.583543</td>\n",
       "        <td style=\"padding-left: 1em; padding-right: 1em; text-align: center; vertical-align: top\">3804.17231693</td>\n",
       "    </tr>\n",
       "    <tr>\n",
       "        <td style=\"padding-left: 1em; padding-right: 1em; text-align: center; vertical-align: top\">50.3781174364</td>\n",
       "        <td style=\"padding-left: 1em; padding-right: 1em; text-align: center; vertical-align: top\">362722.445542</td>\n",
       "        <td style=\"padding-left: 1em; padding-right: 1em; text-align: center; vertical-align: top\">15113.4274705</td>\n",
       "    </tr>\n",
       "    <tr>\n",
       "        <td style=\"padding-left: 1em; padding-right: 1em; text-align: center; vertical-align: top\">4.95273875932</td>\n",
       "        <td style=\"padding-left: 1em; padding-right: 1em; text-align: center; vertical-align: top\">59432.8651118</td>\n",
       "        <td style=\"padding-left: 1em; padding-right: 1em; text-align: center; vertical-align: top\">0.0</td>\n",
       "    </tr>\n",
       "    <tr>\n",
       "        <td style=\"padding-left: 1em; padding-right: 1em; text-align: center; vertical-align: top\">50.118290224</td>\n",
       "        <td style=\"padding-left: 1em; padding-right: 1em; text-align: center; vertical-align: top\">288681.35169</td>\n",
       "        <td style=\"padding-left: 1em; padding-right: 1em; text-align: center; vertical-align: top\">9656.60750034</td>\n",
       "    </tr>\n",
       "    <tr>\n",
       "        <td style=\"padding-left: 1em; padding-right: 1em; text-align: center; vertical-align: top\">24.8490507445</td>\n",
       "        <td style=\"padding-left: 1em; padding-right: 1em; text-align: center; vertical-align: top\">178913.165361</td>\n",
       "        <td style=\"padding-left: 1em; padding-right: 1em; text-align: center; vertical-align: top\">6201.39384111</td>\n",
       "    </tr>\n",
       "    <tr>\n",
       "        <td style=\"padding-left: 1em; padding-right: 1em; text-align: center; vertical-align: top\">32.3787257158</td>\n",
       "        <td style=\"padding-left: 1em; padding-right: 1em; text-align: center; vertical-align: top\">388544.70859</td>\n",
       "        <td style=\"padding-left: 1em; padding-right: 1em; text-align: center; vertical-align: top\">29373.7241772</td>\n",
       "    </tr>\n",
       "    <tr>\n",
       "        <td style=\"padding-left: 1em; padding-right: 1em; text-align: center; vertical-align: top\">4.95850442114</td>\n",
       "        <td style=\"padding-left: 1em; padding-right: 1em; text-align: center; vertical-align: top\">30147.7068805</td>\n",
       "        <td style=\"padding-left: 1em; padding-right: 1em; text-align: center; vertical-align: top\">0.0</td>\n",
       "    </tr>\n",
       "    <tr>\n",
       "        <td style=\"padding-left: 1em; padding-right: 1em; text-align: center; vertical-align: top\">2.52289447651</td>\n",
       "        <td style=\"padding-left: 1em; padding-right: 1em; text-align: center; vertical-align: top\">17483.6587222</td>\n",
       "        <td style=\"padding-left: 1em; padding-right: 1em; text-align: center; vertical-align: top\">0.0</td>\n",
       "    </tr>\n",
       "</table>\n",
       "[? rows x 15 columns]<br/>Note: Only the head of the SFrame is printed. This SFrame is lazily evaluated.<br/>You can use sf.materialize() to force materialization.\n",
       "</div>"
      ],
      "text/plain": [
       "Columns:\n",
       "\tYEAR\tint\n",
       "\tMONTH\tstr\n",
       "\tCompany\tstr\n",
       "\tArea 1\tstr\n",
       "\tArea 2\tstr\n",
       "\tArea 3\tstr\n",
       "\tArea 3 Classification\tstr\n",
       "\tOutlet Type\tstr\n",
       "\tOutlet Name\tstr\n",
       "\tProduct Category 1\tstr\n",
       "\tProduct Category 2\tstr\n",
       "\tProduct\tstr\n",
       "\tUnits sold\tfloat\n",
       "\tRevenue\tfloat\n",
       "\tCommission\tfloat\n",
       "\n",
       "Rows: Unknown\n",
       "\n",
       "Data:\n",
       "+------+-------+---------+-----------------+------------------+--------------+\n",
       "| YEAR | MONTH | Company |      Area 1     |      Area 2      |    Area 3    |\n",
       "+------+-------+---------+-----------------+------------------+--------------+\n",
       "| 2018 |  JUN  |   men   |    the north    |     riverrun     |   valyrian   |\n",
       "| 2018 |  JUN  |   men   |    the north    |   moat cailin    | summer isles |\n",
       "| 2018 |  MAR  |   men   | beyond the wall |  deepwood motte  |   ghiscari   |\n",
       "| 2018 |  JAN  |   men   | beyond the wall |  deepwood motte  |   tyroshi    |\n",
       "| 2018 |  FEB  |   men   |    the north    |     riverrun     |  lhazarene   |\n",
       "| 2018 |  MAR  |   men   | the westerlands | torrhen's square |   ironmen    |\n",
       "| 2018 |  JAN  |   men   |  the crownlands |    winterfell    |  westermen   |\n",
       "| 2018 |  JUN  |   men   | the westerlands |   golden tooth   |   rivermen   |\n",
       "| 2018 |  JUN  |   men   |  the riverlands |      darry       |    qarth     |\n",
       "| 2018 |  JUN  |   men   |  the stormlands |    green fork    |   norvoshi   |\n",
       "+------+-------+---------+-----------------+------------------+--------------+\n",
       "+-----------------------+-----------------------------+----------------------+\n",
       "| Area 3 Classification |         Outlet Type         |     Outlet Name      |\n",
       "+-----------------------+-----------------------------+----------------------+\n",
       "|          ser          |         house arryn         |     addison hill     |\n",
       "|       greenstone      |        night's watch        |   valarr targaryen   |\n",
       "|          ser          |          house wode         |       wilbert        |\n",
       "|       greenstone      |         house humble        |    will (orphan)     |\n",
       "|    hand of the king   |         house arryn         |    will (squire)     |\n",
       "|  lord of the crossing |          house fell         |   will (standfast)   |\n",
       "|          ser          | brotherhood without banners |     will (treb)      |\n",
       "|  lord of the crossing |          house frey         |     willem wylde     |\n",
       "|          ser          |         house osgrey        | viserys ii targaryen |\n",
       "|      archmaester      |        house santagar       | viserys ii targaryen |\n",
       "+-----------------------+-----------------------------+----------------------+\n",
       "+--------------------+--------------------+-----------------------+\n",
       "| Product Category 1 | Product Category 2 |        Product        |\n",
       "+--------------------+--------------------+-----------------------+\n",
       "|       korean       |     dry yeast      |         wheels        |\n",
       "|       greek        |      amaretti      |      green olives     |\n",
       "|       indian       |    fino sherry     |        scallops       |\n",
       "|      mexican       |       maggi        |       bacon rind      |\n",
       "|       indian       |    fino sherry     |      runny honey      |\n",
       "|       greek        |      amaretti      |      green olives     |\n",
       "|      mexican       |       maggi        |       bacon rind      |\n",
       "|       indian       |    fino sherry     | nonfat ricotta cheese |\n",
       "|      mexican       |       maggi        |       spiced rum      |\n",
       "|      mexican       |       maggi        |   mexican chocolate   |\n",
       "+--------------------+--------------------+-----------------------+\n",
       "+---------------+---------------+---------------+\n",
       "|   Units sold  |    Revenue    |   Commission  |\n",
       "+---------------+---------------+---------------+\n",
       "| 2.47500571874 | 54351.1255835 | 4393.13515077 |\n",
       "| 72.2760630542 | 416310.123192 | 4400.33678007 |\n",
       "| 12.4797986286 | 149757.583543 | 3804.17231693 |\n",
       "| 50.3781174364 | 362722.445542 | 15113.4274705 |\n",
       "| 4.95273875932 | 59432.8651118 |      0.0      |\n",
       "|  50.118290224 |  288681.35169 | 9656.60750034 |\n",
       "| 24.8490507445 | 178913.165361 | 6201.39384111 |\n",
       "| 32.3787257158 |  388544.70859 | 29373.7241772 |\n",
       "| 4.95850442114 | 30147.7068805 |      0.0      |\n",
       "| 2.52289447651 | 17483.6587222 |      0.0      |\n",
       "+---------------+---------------+---------------+\n",
       "[? rows x 15 columns]\n",
       "Note: Only the head of the SFrame is printed. This SFrame is lazily evaluated.\n",
       "You can use sf.materialize() to force materialization."
      ]
     },
     "execution_count": 9,
     "metadata": {},
     "output_type": "execute_result"
    }
   ],
   "source": [
    "men_data"
   ]
  },
  {
   "cell_type": "markdown",
   "metadata": {},
   "source": [
    "# Month Vs Revenue for men"
   ]
  },
  {
   "cell_type": "code",
   "execution_count": 10,
   "metadata": {
    "collapsed": false
   },
   "outputs": [
    {
     "data": {
      "application/javascript": [
       "$(\"head\").append($(\"<link/>\").attr({\n",
       "  rel:  \"stylesheet\",\n",
       "  type: \"text/css\",\n",
       "  href: \"//cdnjs.cloudflare.com/ajax/libs/font-awesome/4.1.0/css/font-awesome.min.css\"\n",
       "}));\n",
       "$(\"head\").append($(\"<link/>\").attr({\n",
       "  rel:  \"stylesheet\",\n",
       "  type: \"text/css\",\n",
       "  href: \"https://static.turi.com/products/graphlab-create/2.1/canvas/css/canvas.css\"\n",
       "}));\n",
       "\n",
       "            (function(){\n",
       "\n",
       "                var e = null;\n",
       "                if (typeof element == 'undefined') {\n",
       "                    var scripts = document.getElementsByTagName('script');\n",
       "                    var thisScriptTag = scripts[scripts.length-1];\n",
       "                    var parentDiv = thisScriptTag.parentNode;\n",
       "                    e = document.createElement('div');\n",
       "                    parentDiv.appendChild(e);\n",
       "                } else {\n",
       "                    e = element[0];\n",
       "                }\n",
       "\n",
       "                if (typeof requirejs !== 'undefined') {\n",
       "                    // disable load timeout; ipython_app.js is large and can take a while to load.\n",
       "                    requirejs.config({waitSeconds: 0});\n",
       "                }\n",
       "\n",
       "                require(['https://static.turi.com/products/graphlab-create/2.1/canvas/js/ipython_app.js'], function(IPythonApp){\n",
       "                    var app = new IPythonApp();\n",
       "                    app.attachView('sframe','Plots', {\"selected_variable\": {\"name\": [\"men_data\"], \"descriptives\": {\"rows\": 354501, \"columns\": 15}, \"view_component\": \"Plots\", \"view_file\": \"sframe\", \"view_params\": {\"y\": \"Revenue\", \"x\": \"MONTH\", \"columns\": [\"YEAR\", \"MONTH\", \"Company\", \"Area 1\", \"Area 2\", \"Area 3\", \"Area 3 Classification\", \"Outlet Type\", \"Outlet Name\", \"Product Category 1\", \"Product Category 2\", \"Product\", \"Units sold\", \"Revenue\", \"Commission\"], \"view\": \"Bar Chart\"}, \"view_components\": [\"Summary\", \"Table\", \"Bar Chart\", \"BoxWhisker Plot\", \"Line Chart\", \"Scatter Plot\", \"Heat Map\", \"Plots\"], \"type\": \"SFrame\", \"columns\": [{\"dtype\": \"int\", \"name\": \"YEAR\"}, {\"dtype\": \"str\", \"name\": \"MONTH\"}, {\"dtype\": \"str\", \"name\": \"Company\"}, {\"dtype\": \"str\", \"name\": \"Area 1\"}, {\"dtype\": \"str\", \"name\": \"Area 2\"}, {\"dtype\": \"str\", \"name\": \"Area 3\"}, {\"dtype\": \"str\", \"name\": \"Area 3 Classification\"}, {\"dtype\": \"str\", \"name\": \"Outlet Type\"}, {\"dtype\": \"str\", \"name\": \"Outlet Name\"}, {\"dtype\": \"str\", \"name\": \"Product Category 1\"}, {\"dtype\": \"str\", \"name\": \"Product Category 2\"}, {\"dtype\": \"str\", \"name\": \"Product\"}, {\"dtype\": \"float\", \"name\": \"Units sold\"}, {\"dtype\": \"float\", \"name\": \"Revenue\"}, {\"dtype\": \"float\", \"name\": \"Commission\"}], \"column_identifiers\": [\"Product\", \"Revenue\", \"Product Category 1\", \"Company\", \"Product Category 2\", \"Area 1\", \"Area 3\", \"Area 2\", \"Commission\", \"Area 3 Classification\", \"YEAR\", \"MONTH\", \"Units sold\", \"Outlet Type\", \"Outlet Name\"]}, \"complete\": 1, \"ipython\": true, \"progress\": 1.0, \"data\": {\"grouped\": [[\"APR\", {\"count\": 29138, \"std\": 373645.93931826774, \"min\": 0.0, \"max\": 10023179.504702238, \"sum\": 7485913785.28153, \"var\": 139611287969.0306, \"mean\": 256912.40940632642}], [\"AUG\", {\"count\": 29972, \"std\": 481402.79011537565, \"min\": 0.0, \"max\": 9583904.50159906, \"sum\": 9861839596.201654, \"var\": 231748646330.86844, \"mean\": 329035.08595361275}], [\"DEC\", {\"count\": 33890, \"std\": 579579.8855630774, \"min\": 0.0, \"max\": 16164897.20368825, \"sum\": 12684234959.647705, \"var\": 335912843749.3099, \"mean\": 374276.6290837299}], [\"FEB\", {\"count\": 28781, \"std\": 390770.68675471895, \"min\": 298.8498947427548, \"max\": 8128352.988140678, \"sum\": 7989845447.30858, \"var\": 152701729626.7547, \"mean\": 277608.33352936286}], [\"JAN\", {\"count\": 26422, \"std\": 419524.81501158554, \"min\": 3973.362335721556, \"max\": 13017778.074605072, \"sum\": 7621273059.894578, \"var\": 176001070410.50507, \"mean\": 288444.21542254806}], [\"JUL\", {\"count\": 29907, \"std\": 465329.96763393487, \"min\": 0.0, \"max\": 7755708.51502424, \"sum\": 9711052590.296814, \"var\": 216531978778.19885, \"mean\": 324708.34889145836}], [\"JUN\", {\"count\": 29474, \"std\": 437141.2157928768, \"min\": 0.0, \"max\": 12003307.82614011, \"sum\": 8729554238.02379, \"var\": 191092442544.87445, \"mean\": 296178.13116725825}], [\"MAR\", {\"count\": 28773, \"std\": 406704.4344532779, \"min\": 0.0, \"max\": 8141143.683260182, \"sum\": 8218663558.555869, \"var\": 165408497003.9606, \"mean\": 285638.04811996786}], [\"MAY\", {\"count\": 27651, \"std\": 428790.30576382374, \"min\": 0.0, \"max\": 13004286.95919535, \"sum\": 7825045176.127648, \"var\": 183861126317.03345, \"mean\": 282993.2073388916}], [\"NOV\", {\"count\": 29515, \"std\": 500567.6858324705, \"min\": 0.0, \"max\": 14489779.079737885, \"sum\": 9616608234.145823, \"var\": 250568008099.67487, \"mean\": 325821.04808218864}], [\"OCT\", {\"count\": 34610, \"std\": 643633.3660842153, \"min\": 0.0, \"max\": 18493543.92852512, \"sum\": 13108680221.245235, \"var\": 414263909936.8975, \"mean\": 378754.12369965925}], [\"SEP\", {\"count\": 26368, \"std\": 509742.0630736105, \"min\": 0.0, \"max\": 13554809.4888436, \"sum\": 8450286396.926338, \"var\": 259836970866.54068, \"mean\": 320475.06056304264}]], \"omitted\": 0}, \"columns\": [{\"dtype\": \"int\", \"name\": \"YEAR\"}, {\"dtype\": \"str\", \"name\": \"MONTH\"}, {\"dtype\": \"str\", \"name\": \"Company\"}, {\"dtype\": \"str\", \"name\": \"Area 1\"}, {\"dtype\": \"str\", \"name\": \"Area 2\"}, {\"dtype\": \"str\", \"name\": \"Area 3\"}, {\"dtype\": \"str\", \"name\": \"Area 3 Classification\"}, {\"dtype\": \"str\", \"name\": \"Outlet Type\"}, {\"dtype\": \"str\", \"name\": \"Outlet Name\"}, {\"dtype\": \"str\", \"name\": \"Product Category 1\"}, {\"dtype\": \"str\", \"name\": \"Product Category 2\"}, {\"dtype\": \"str\", \"name\": \"Product\"}, {\"dtype\": \"float\", \"name\": \"Units sold\"}, {\"dtype\": \"float\", \"name\": \"Revenue\"}, {\"dtype\": \"float\", \"name\": \"Commission\"}]}, e);\n",
       "                });\n",
       "            })();\n",
       "        "
      ]
     },
     "metadata": {},
     "output_type": "display_data"
    }
   ],
   "source": [
    "men_data.show(view=\"Bar Chart\", x=\"MONTH\", y=\"Revenue\")"
   ]
  },
  {
   "cell_type": "markdown",
   "metadata": {},
   "source": [
    "# Month Vs Revenue for white walkers"
   ]
  },
  {
   "cell_type": "code",
   "execution_count": 11,
   "metadata": {
    "collapsed": false
   },
   "outputs": [
    {
     "data": {
      "application/javascript": [
       "$(\"head\").append($(\"<link/>\").attr({\n",
       "  rel:  \"stylesheet\",\n",
       "  type: \"text/css\",\n",
       "  href: \"//cdnjs.cloudflare.com/ajax/libs/font-awesome/4.1.0/css/font-awesome.min.css\"\n",
       "}));\n",
       "$(\"head\").append($(\"<link/>\").attr({\n",
       "  rel:  \"stylesheet\",\n",
       "  type: \"text/css\",\n",
       "  href: \"https://static.turi.com/products/graphlab-create/2.1/canvas/css/canvas.css\"\n",
       "}));\n",
       "\n",
       "            (function(){\n",
       "\n",
       "                var e = null;\n",
       "                if (typeof element == 'undefined') {\n",
       "                    var scripts = document.getElementsByTagName('script');\n",
       "                    var thisScriptTag = scripts[scripts.length-1];\n",
       "                    var parentDiv = thisScriptTag.parentNode;\n",
       "                    e = document.createElement('div');\n",
       "                    parentDiv.appendChild(e);\n",
       "                } else {\n",
       "                    e = element[0];\n",
       "                }\n",
       "\n",
       "                if (typeof requirejs !== 'undefined') {\n",
       "                    // disable load timeout; ipython_app.js is large and can take a while to load.\n",
       "                    requirejs.config({waitSeconds: 0});\n",
       "                }\n",
       "\n",
       "                require(['https://static.turi.com/products/graphlab-create/2.1/canvas/js/ipython_app.js'], function(IPythonApp){\n",
       "                    var app = new IPythonApp();\n",
       "                    app.attachView('sframe','Plots', {\"selected_variable\": {\"name\": [\"white_walkers_data\"], \"descriptives\": {\"rows\": 726983, \"columns\": 15}, \"view_component\": \"Plots\", \"view_file\": \"sframe\", \"view_params\": {\"y\": \"Revenue\", \"x\": \"MONTH\", \"columns\": [\"YEAR\", \"MONTH\", \"Company\", \"Area 1\", \"Area 2\", \"Area 3\", \"Area 3 Classification\", \"Outlet Type\", \"Outlet Name\", \"Product Category 1\", \"Product Category 2\", \"Product\", \"Units sold\", \"Revenue\", \"Commission\"], \"view\": \"Bar Chart\"}, \"view_components\": [\"Summary\", \"Table\", \"Bar Chart\", \"BoxWhisker Plot\", \"Line Chart\", \"Scatter Plot\", \"Heat Map\", \"Plots\"], \"type\": \"SFrame\", \"columns\": [{\"dtype\": \"int\", \"name\": \"YEAR\"}, {\"dtype\": \"str\", \"name\": \"MONTH\"}, {\"dtype\": \"str\", \"name\": \"Company\"}, {\"dtype\": \"str\", \"name\": \"Area 1\"}, {\"dtype\": \"str\", \"name\": \"Area 2\"}, {\"dtype\": \"str\", \"name\": \"Area 3\"}, {\"dtype\": \"str\", \"name\": \"Area 3 Classification\"}, {\"dtype\": \"str\", \"name\": \"Outlet Type\"}, {\"dtype\": \"str\", \"name\": \"Outlet Name\"}, {\"dtype\": \"str\", \"name\": \"Product Category 1\"}, {\"dtype\": \"str\", \"name\": \"Product Category 2\"}, {\"dtype\": \"str\", \"name\": \"Product\"}, {\"dtype\": \"float\", \"name\": \"Units sold\"}, {\"dtype\": \"float\", \"name\": \"Revenue\"}, {\"dtype\": \"float\", \"name\": \"Commission\"}], \"column_identifiers\": [\"Product\", \"Revenue\", \"Product Category 1\", \"Company\", \"Product Category 2\", \"Area 1\", \"Area 3\", \"Area 2\", \"Commission\", \"Area 3 Classification\", \"YEAR\", \"MONTH\", \"Units sold\", \"Outlet Type\", \"Outlet Name\"]}, \"complete\": 1, \"ipython\": true, \"progress\": 1.0, \"data\": {\"grouped\": [[\"APR\", {\"count\": 53523, \"std\": 335553.9181770064, \"min\": 0.0, \"max\": 11013019.089279776, \"sum\": 8178474228.313413, \"var\": 112596432003.94112, \"mean\": 152802.98616133997}], [\"AUG\", {\"count\": 64040, \"std\": 445515.62011688616, \"min\": 0.0, \"max\": 11702774.6525717, \"sum\": 11217431648.063707, \"var\": 198484167768.1336, \"mean\": 175162.8926930622}], [\"DEC\", {\"count\": 76149, \"std\": 433964.24087188893, \"min\": 0.0, \"max\": 15993579.706449533, \"sum\": 12976813583.341602, \"var\": 188324962355.51486, \"mean\": 170413.44710162503}], [\"FEB\", {\"count\": 56078, \"std\": 339148.55649426, \"min\": 0.0, \"max\": 9977883.009014, \"sum\": 8685321514.495335, \"var\": 115021743372.14024, \"mean\": 154879.30230206647}], [\"JAN\", {\"count\": 51271, \"std\": 341638.19044763583, \"min\": 0.0, \"max\": 9962800.862145469, \"sum\": 7891412059.97262, \"var\": 116716653172.33508, \"mean\": 153915.70400367997}], [\"JUL\", {\"count\": 68200, \"std\": 352757.44734210183, \"min\": 0.0, \"max\": 13404332.48566727, \"sum\": 10126021091.100092, \"var\": 124437816655.31577, \"mean\": 148475.38256744953}], [\"JUN\", {\"count\": 60106, \"std\": 379650.39694956434, \"min\": 0.0, \"max\": 10177269.2074575, \"sum\": 9554979074.019245, \"var\": 144134423903.96176, \"mean\": 158968.80634244892}], [\"MAR\", {\"count\": 57348, \"std\": 351574.4140243399, \"min\": 0.0, \"max\": 9085165.163380014, \"sum\": 9214166187.607895, \"var\": 123604568596.55797, \"mean\": 160671.09903759207}], [\"MAY\", {\"count\": 48013, \"std\": 376601.05287468736, \"min\": 0.0, \"max\": 8530438.33952662, \"sum\": 7638157098.312662, \"var\": 141828353026.32306, \"mean\": 159085.18730995042}], [\"NOV\", {\"count\": 65661, \"std\": 389995.3135343864, \"min\": 0.0, \"max\": 12512452.492615484, \"sum\": 10047848520.587355, \"var\": 152096344578.78436, \"mean\": 153026.12693360375}], [\"OCT\", {\"count\": 75485, \"std\": 483301.8543149495, \"min\": 0.0, \"max\": 17581088.390766546, \"sum\": 13256882766.76839, \"var\": 233580682384.26868, \"mean\": 175622.74315120038}], [\"SEP\", {\"count\": 51109, \"std\": 336822.71688739775, \"min\": 0.0, \"max\": 12456826.770326424, \"sum\": 6523374151.821473, \"var\": 113449542611.40808, \"mean\": 127636.5053478154}]], \"omitted\": 0}, \"columns\": [{\"dtype\": \"int\", \"name\": \"YEAR\"}, {\"dtype\": \"str\", \"name\": \"MONTH\"}, {\"dtype\": \"str\", \"name\": \"Company\"}, {\"dtype\": \"str\", \"name\": \"Area 1\"}, {\"dtype\": \"str\", \"name\": \"Area 2\"}, {\"dtype\": \"str\", \"name\": \"Area 3\"}, {\"dtype\": \"str\", \"name\": \"Area 3 Classification\"}, {\"dtype\": \"str\", \"name\": \"Outlet Type\"}, {\"dtype\": \"str\", \"name\": \"Outlet Name\"}, {\"dtype\": \"str\", \"name\": \"Product Category 1\"}, {\"dtype\": \"str\", \"name\": \"Product Category 2\"}, {\"dtype\": \"str\", \"name\": \"Product\"}, {\"dtype\": \"float\", \"name\": \"Units sold\"}, {\"dtype\": \"float\", \"name\": \"Revenue\"}, {\"dtype\": \"float\", \"name\": \"Commission\"}]}, e);\n",
       "                });\n",
       "            })();\n",
       "        "
      ]
     },
     "metadata": {},
     "output_type": "display_data"
    }
   ],
   "source": [
    "white_walkers_data.show(view=\"Bar Chart\", x=\"MONTH\", y=\"Revenue\")"
   ]
  },
  {
   "cell_type": "code",
   "execution_count": 12,
   "metadata": {
    "collapsed": false
   },
   "outputs": [
    {
     "data": {
      "text/html": [
       "<div style=\"max-height:1000px;max-width:1500px;overflow:auto;\"><table frame=\"box\" rules=\"cols\">\n",
       "    <tr>\n",
       "        <th style=\"padding-left: 1em; padding-right: 1em; text-align: center\">YEAR</th>\n",
       "        <th style=\"padding-left: 1em; padding-right: 1em; text-align: center\">MONTH</th>\n",
       "        <th style=\"padding-left: 1em; padding-right: 1em; text-align: center\">Company</th>\n",
       "        <th style=\"padding-left: 1em; padding-right: 1em; text-align: center\">Area 1</th>\n",
       "        <th style=\"padding-left: 1em; padding-right: 1em; text-align: center\">Area 2</th>\n",
       "        <th style=\"padding-left: 1em; padding-right: 1em; text-align: center\">Area 3</th>\n",
       "        <th style=\"padding-left: 1em; padding-right: 1em; text-align: center\">Area 3 Classification</th>\n",
       "    </tr>\n",
       "    <tr>\n",
       "        <td style=\"padding-left: 1em; padding-right: 1em; text-align: center; vertical-align: top\">2018</td>\n",
       "        <td style=\"padding-left: 1em; padding-right: 1em; text-align: center; vertical-align: top\">JAN</td>\n",
       "        <td style=\"padding-left: 1em; padding-right: 1em; text-align: center; vertical-align: top\">white walkers</td>\n",
       "        <td style=\"padding-left: 1em; padding-right: 1em; text-align: center; vertical-align: top\">the westerlands</td>\n",
       "        <td style=\"padding-left: 1em; padding-right: 1em; text-align: center; vertical-align: top\">golden tooth</td>\n",
       "        <td style=\"padding-left: 1em; padding-right: 1em; text-align: center; vertical-align: top\">rivermen</td>\n",
       "        <td style=\"padding-left: 1em; padding-right: 1em; text-align: center; vertical-align: top\">lord of the crossing</td>\n",
       "    </tr>\n",
       "    <tr>\n",
       "        <td style=\"padding-left: 1em; padding-right: 1em; text-align: center; vertical-align: top\">2018</td>\n",
       "        <td style=\"padding-left: 1em; padding-right: 1em; text-align: center; vertical-align: top\">FEB</td>\n",
       "        <td style=\"padding-left: 1em; padding-right: 1em; text-align: center; vertical-align: top\">white walkers</td>\n",
       "        <td style=\"padding-left: 1em; padding-right: 1em; text-align: center; vertical-align: top\">the riverlands</td>\n",
       "        <td style=\"padding-left: 1em; padding-right: 1em; text-align: center; vertical-align: top\">mummer's ford</td>\n",
       "        <td style=\"padding-left: 1em; padding-right: 1em; text-align: center; vertical-align: top\">dornish</td>\n",
       "        <td style=\"padding-left: 1em; padding-right: 1em; text-align: center; vertical-align: top\">ser</td>\n",
       "    </tr>\n",
       "    <tr>\n",
       "        <td style=\"padding-left: 1em; padding-right: 1em; text-align: center; vertical-align: top\">2018</td>\n",
       "        <td style=\"padding-left: 1em; padding-right: 1em; text-align: center; vertical-align: top\">FEB</td>\n",
       "        <td style=\"padding-left: 1em; padding-right: 1em; text-align: center; vertical-align: top\">white walkers</td>\n",
       "        <td style=\"padding-left: 1em; padding-right: 1em; text-align: center; vertical-align: top\">the stormlands</td>\n",
       "        <td style=\"padding-left: 1em; padding-right: 1em; text-align: center; vertical-align: top\">green fork</td>\n",
       "        <td style=\"padding-left: 1em; padding-right: 1em; text-align: center; vertical-align: top\">ironborn</td>\n",
       "        <td style=\"padding-left: 1em; padding-right: 1em; text-align: center; vertical-align: top\">lord of the crossing</td>\n",
       "    </tr>\n",
       "    <tr>\n",
       "        <td style=\"padding-left: 1em; padding-right: 1em; text-align: center; vertical-align: top\">2018</td>\n",
       "        <td style=\"padding-left: 1em; padding-right: 1em; text-align: center; vertical-align: top\">JAN</td>\n",
       "        <td style=\"padding-left: 1em; padding-right: 1em; text-align: center; vertical-align: top\">white walkers</td>\n",
       "        <td style=\"padding-left: 1em; padding-right: 1em; text-align: center; vertical-align: top\">the crownlands</td>\n",
       "        <td style=\"padding-left: 1em; padding-right: 1em; text-align: center; vertical-align: top\">whispering wood</td>\n",
       "        <td style=\"padding-left: 1em; padding-right: 1em; text-align: center; vertical-align: top\">free folk</td>\n",
       "        <td style=\"padding-left: 1em; padding-right: 1em; text-align: center; vertical-align: top\">ser</td>\n",
       "    </tr>\n",
       "    <tr>\n",
       "        <td style=\"padding-left: 1em; padding-right: 1em; text-align: center; vertical-align: top\">2018</td>\n",
       "        <td style=\"padding-left: 1em; padding-right: 1em; text-align: center; vertical-align: top\">JUN</td>\n",
       "        <td style=\"padding-left: 1em; padding-right: 1em; text-align: center; vertical-align: top\">white walkers</td>\n",
       "        <td style=\"padding-left: 1em; padding-right: 1em; text-align: center; vertical-align: top\">the stormlands</td>\n",
       "        <td style=\"padding-left: 1em; padding-right: 1em; text-align: center; vertical-align: top\">green fork</td>\n",
       "        <td style=\"padding-left: 1em; padding-right: 1em; text-align: center; vertical-align: top\">ironborn</td>\n",
       "        <td style=\"padding-left: 1em; padding-right: 1em; text-align: center; vertical-align: top\">lord of the crossing</td>\n",
       "    </tr>\n",
       "    <tr>\n",
       "        <td style=\"padding-left: 1em; padding-right: 1em; text-align: center; vertical-align: top\">2018</td>\n",
       "        <td style=\"padding-left: 1em; padding-right: 1em; text-align: center; vertical-align: top\">MAR</td>\n",
       "        <td style=\"padding-left: 1em; padding-right: 1em; text-align: center; vertical-align: top\">white walkers</td>\n",
       "        <td style=\"padding-left: 1em; padding-right: 1em; text-align: center; vertical-align: top\">the riverlands</td>\n",
       "        <td style=\"padding-left: 1em; padding-right: 1em; text-align: center; vertical-align: top\">darry</td>\n",
       "        <td style=\"padding-left: 1em; padding-right: 1em; text-align: center; vertical-align: top\">northmen</td>\n",
       "        <td style=\"padding-left: 1em; padding-right: 1em; text-align: center; vertical-align: top\">queen</td>\n",
       "    </tr>\n",
       "    <tr>\n",
       "        <td style=\"padding-left: 1em; padding-right: 1em; text-align: center; vertical-align: top\">2018</td>\n",
       "        <td style=\"padding-left: 1em; padding-right: 1em; text-align: center; vertical-align: top\">JAN</td>\n",
       "        <td style=\"padding-left: 1em; padding-right: 1em; text-align: center; vertical-align: top\">white walkers</td>\n",
       "        <td style=\"padding-left: 1em; padding-right: 1em; text-align: center; vertical-align: top\">beyond the wall</td>\n",
       "        <td style=\"padding-left: 1em; padding-right: 1em; text-align: center; vertical-align: top\">deepwood motte</td>\n",
       "        <td style=\"padding-left: 1em; padding-right: 1em; text-align: center; vertical-align: top\">braavosi</td>\n",
       "        <td style=\"padding-left: 1em; padding-right: 1em; text-align: center; vertical-align: top\">hand of the king</td>\n",
       "    </tr>\n",
       "    <tr>\n",
       "        <td style=\"padding-left: 1em; padding-right: 1em; text-align: center; vertical-align: top\">2018</td>\n",
       "        <td style=\"padding-left: 1em; padding-right: 1em; text-align: center; vertical-align: top\">FEB</td>\n",
       "        <td style=\"padding-left: 1em; padding-right: 1em; text-align: center; vertical-align: top\">white walkers</td>\n",
       "        <td style=\"padding-left: 1em; padding-right: 1em; text-align: center; vertical-align: top\">the crownlands</td>\n",
       "        <td style=\"padding-left: 1em; padding-right: 1em; text-align: center; vertical-align: top\">stony shore</td>\n",
       "        <td style=\"padding-left: 1em; padding-right: 1em; text-align: center; vertical-align: top\">dothraki</td>\n",
       "        <td style=\"padding-left: 1em; padding-right: 1em; text-align: center; vertical-align: top\">hand of the king</td>\n",
       "    </tr>\n",
       "    <tr>\n",
       "        <td style=\"padding-left: 1em; padding-right: 1em; text-align: center; vertical-align: top\">2018</td>\n",
       "        <td style=\"padding-left: 1em; padding-right: 1em; text-align: center; vertical-align: top\">APR</td>\n",
       "        <td style=\"padding-left: 1em; padding-right: 1em; text-align: center; vertical-align: top\">white walkers</td>\n",
       "        <td style=\"padding-left: 1em; padding-right: 1em; text-align: center; vertical-align: top\">the north</td>\n",
       "        <td style=\"padding-left: 1em; padding-right: 1em; text-align: center; vertical-align: top\">riverrun</td>\n",
       "        <td style=\"padding-left: 1em; padding-right: 1em; text-align: center; vertical-align: top\">vale mountain clans</td>\n",
       "        <td style=\"padding-left: 1em; padding-right: 1em; text-align: center; vertical-align: top\">archmaester</td>\n",
       "    </tr>\n",
       "    <tr>\n",
       "        <td style=\"padding-left: 1em; padding-right: 1em; text-align: center; vertical-align: top\">2018</td>\n",
       "        <td style=\"padding-left: 1em; padding-right: 1em; text-align: center; vertical-align: top\">MAR</td>\n",
       "        <td style=\"padding-left: 1em; padding-right: 1em; text-align: center; vertical-align: top\">white walkers</td>\n",
       "        <td style=\"padding-left: 1em; padding-right: 1em; text-align: center; vertical-align: top\">beyond the wall</td>\n",
       "        <td style=\"padding-left: 1em; padding-right: 1em; text-align: center; vertical-align: top\">deepwood motte</td>\n",
       "        <td style=\"padding-left: 1em; padding-right: 1em; text-align: center; vertical-align: top\">reach</td>\n",
       "        <td style=\"padding-left: 1em; padding-right: 1em; text-align: center; vertical-align: top\">maester</td>\n",
       "    </tr>\n",
       "</table>\n",
       "<table frame=\"box\" rules=\"cols\">\n",
       "    <tr>\n",
       "        <th style=\"padding-left: 1em; padding-right: 1em; text-align: center\">Outlet Type</th>\n",
       "        <th style=\"padding-left: 1em; padding-right: 1em; text-align: center\">Outlet Name</th>\n",
       "        <th style=\"padding-left: 1em; padding-right: 1em; text-align: center\">Product Category 1</th>\n",
       "        <th style=\"padding-left: 1em; padding-right: 1em; text-align: center\">Product Category 2</th>\n",
       "        <th style=\"padding-left: 1em; padding-right: 1em; text-align: center\">Product</th>\n",
       "    </tr>\n",
       "    <tr>\n",
       "        <td style=\"padding-left: 1em; padding-right: 1em; text-align: center; vertical-align: top\">house frey</td>\n",
       "        <td style=\"padding-left: 1em; padding-right: 1em; text-align: center; vertical-align: top\">viserys ii targaryen</td>\n",
       "        <td style=\"padding-left: 1em; padding-right: 1em; text-align: center; vertical-align: top\">korean</td>\n",
       "        <td style=\"padding-left: 1em; padding-right: 1em; text-align: center; vertical-align: top\">bagels</td>\n",
       "        <td style=\"padding-left: 1em; padding-right: 1em; text-align: center; vertical-align: top\">white cabbage</td>\n",
       "    </tr>\n",
       "    <tr>\n",
       "        <td style=\"padding-left: 1em; padding-right: 1em; text-align: center; vertical-align: top\">house swyft</td>\n",
       "        <td style=\"padding-left: 1em; padding-right: 1em; text-align: center; vertical-align: top\">walder frey</td>\n",
       "        <td style=\"padding-left: 1em; padding-right: 1em; text-align: center; vertical-align: top\">greek</td>\n",
       "        <td style=\"padding-left: 1em; padding-right: 1em; text-align: center; vertical-align: top\">chicken bouillon granules</td>\n",
       "        <td style=\"padding-left: 1em; padding-right: 1em; text-align: center; vertical-align: top\">rye</td>\n",
       "    </tr>\n",
       "    <tr>\n",
       "        <td style=\"padding-left: 1em; padding-right: 1em; text-align: center; vertical-align: top\">house santagar</td>\n",
       "        <td style=\"padding-left: 1em; padding-right: 1em; text-align: center; vertical-align: top\">aemma arryn</td>\n",
       "        <td style=\"padding-left: 1em; padding-right: 1em; text-align: center; vertical-align: top\">mexican</td>\n",
       "        <td style=\"padding-left: 1em; padding-right: 1em; text-align: center; vertical-align: top\">chicken bouillon granules</td>\n",
       "        <td style=\"padding-left: 1em; padding-right: 1em; text-align: center; vertical-align: top\">cola soft drink</td>\n",
       "    </tr>\n",
       "    <tr>\n",
       "        <td style=\"padding-left: 1em; padding-right: 1em; text-align: center; vertical-align: top\">house targaryen</td>\n",
       "        <td style=\"padding-left: 1em; padding-right: 1em; text-align: center; vertical-align: top\">sylva santagar</td>\n",
       "        <td style=\"padding-left: 1em; padding-right: 1em; text-align: center; vertical-align: top\">indian</td>\n",
       "        <td style=\"padding-left: 1em; padding-right: 1em; text-align: center; vertical-align: top\">field peas</td>\n",
       "        <td style=\"padding-left: 1em; padding-right: 1em; text-align: center; vertical-align: top\">mexican oregano</td>\n",
       "    </tr>\n",
       "    <tr>\n",
       "        <td style=\"padding-left: 1em; padding-right: 1em; text-align: center; vertical-align: top\">house santagar</td>\n",
       "        <td style=\"padding-left: 1em; padding-right: 1em; text-align: center; vertical-align: top\">tommen baratheon</td>\n",
       "        <td style=\"padding-left: 1em; padding-right: 1em; text-align: center; vertical-align: top\">greek</td>\n",
       "        <td style=\"padding-left: 1em; padding-right: 1em; text-align: center; vertical-align: top\">chicken bouillon granules</td>\n",
       "        <td style=\"padding-left: 1em; padding-right: 1em; text-align: center; vertical-align: top\">cottage cheese</td>\n",
       "    </tr>\n",
       "    <tr>\n",
       "        <td style=\"padding-left: 1em; padding-right: 1em; text-align: center; vertical-align: top\">house osgrey</td>\n",
       "        <td style=\"padding-left: 1em; padding-right: 1em; text-align: center; vertical-align: top\">viserys ii targaryen</td>\n",
       "        <td style=\"padding-left: 1em; padding-right: 1em; text-align: center; vertical-align: top\">greek</td>\n",
       "        <td style=\"padding-left: 1em; padding-right: 1em; text-align: center; vertical-align: top\">chicken bouillon granules</td>\n",
       "        <td style=\"padding-left: 1em; padding-right: 1em; text-align: center; vertical-align: top\">tahini paste</td>\n",
       "    </tr>\n",
       "    <tr>\n",
       "        <td style=\"padding-left: 1em; padding-right: 1em; text-align: center; vertical-align: top\">house humble</td>\n",
       "        <td style=\"padding-left: 1em; padding-right: 1em; text-align: center; vertical-align: top\">viserys i targaryen</td>\n",
       "        <td style=\"padding-left: 1em; padding-right: 1em; text-align: center; vertical-align: top\">korean</td>\n",
       "        <td style=\"padding-left: 1em; padding-right: 1em; text-align: center; vertical-align: top\">bagels</td>\n",
       "        <td style=\"padding-left: 1em; padding-right: 1em; text-align: center; vertical-align: top\">white cabbage</td>\n",
       "    </tr>\n",
       "    <tr>\n",
       "        <td style=\"padding-left: 1em; padding-right: 1em; text-align: center; vertical-align: top\">house wylde</td>\n",
       "        <td style=\"padding-left: 1em; padding-right: 1em; text-align: center; vertical-align: top\">viserys ii targaryen</td>\n",
       "        <td style=\"padding-left: 1em; padding-right: 1em; text-align: center; vertical-align: top\">greek</td>\n",
       "        <td style=\"padding-left: 1em; padding-right: 1em; text-align: center; vertical-align: top\">frozen strawberries</td>\n",
       "        <td style=\"padding-left: 1em; padding-right: 1em; text-align: center; vertical-align: top\">salad leaves</td>\n",
       "    </tr>\n",
       "    <tr>\n",
       "        <td style=\"padding-left: 1em; padding-right: 1em; text-align: center; vertical-align: top\">house arryn</td>\n",
       "        <td style=\"padding-left: 1em; padding-right: 1em; text-align: center; vertical-align: top\">wilbert osgrey</td>\n",
       "        <td style=\"padding-left: 1em; padding-right: 1em; text-align: center; vertical-align: top\">greek</td>\n",
       "        <td style=\"padding-left: 1em; padding-right: 1em; text-align: center; vertical-align: top\">frozen strawberries</td>\n",
       "        <td style=\"padding-left: 1em; padding-right: 1em; text-align: center; vertical-align: top\">garden peas</td>\n",
       "    </tr>\n",
       "    <tr>\n",
       "        <td style=\"padding-left: 1em; padding-right: 1em; text-align: center; vertical-align: top\">house humble</td>\n",
       "        <td style=\"padding-left: 1em; padding-right: 1em; text-align: center; vertical-align: top\">will</td>\n",
       "        <td style=\"padding-left: 1em; padding-right: 1em; text-align: center; vertical-align: top\">greek</td>\n",
       "        <td style=\"padding-left: 1em; padding-right: 1em; text-align: center; vertical-align: top\">chicken bouillon granules</td>\n",
       "        <td style=\"padding-left: 1em; padding-right: 1em; text-align: center; vertical-align: top\">maldon sea salt</td>\n",
       "    </tr>\n",
       "</table>\n",
       "<table frame=\"box\" rules=\"cols\">\n",
       "    <tr>\n",
       "        <th style=\"padding-left: 1em; padding-right: 1em; text-align: center\">Units sold</th>\n",
       "        <th style=\"padding-left: 1em; padding-right: 1em; text-align: center\">Revenue</th>\n",
       "        <th style=\"padding-left: 1em; padding-right: 1em; text-align: center\">Commission</th>\n",
       "    </tr>\n",
       "    <tr>\n",
       "        <td style=\"padding-left: 1em; padding-right: 1em; text-align: center; vertical-align: top\">2.49585110024</td>\n",
       "        <td style=\"padding-left: 1em; padding-right: 1em; text-align: center; vertical-align: top\">49717.3539167</td>\n",
       "        <td style=\"padding-left: 1em; padding-right: 1em; text-align: center; vertical-align: top\">0.0</td>\n",
       "    </tr>\n",
       "    <tr>\n",
       "        <td style=\"padding-left: 1em; padding-right: 1em; text-align: center; vertical-align: top\">45.1982920441</td>\n",
       "        <td style=\"padding-left: 1em; padding-right: 1em; text-align: center; vertical-align: top\">249494.572083</td>\n",
       "        <td style=\"padding-left: 1em; padding-right: 1em; text-align: center; vertical-align: top\">0.0</td>\n",
       "    </tr>\n",
       "    <tr>\n",
       "        <td style=\"padding-left: 1em; padding-right: 1em; text-align: center; vertical-align: top\">4.98023325726</td>\n",
       "        <td style=\"padding-left: 1em; padding-right: 1em; text-align: center; vertical-align: top\">33467.1674888</td>\n",
       "        <td style=\"padding-left: 1em; padding-right: 1em; text-align: center; vertical-align: top\">0.0</td>\n",
       "    </tr>\n",
       "    <tr>\n",
       "        <td style=\"padding-left: 1em; padding-right: 1em; text-align: center; vertical-align: top\">2.48233779454</td>\n",
       "        <td style=\"padding-left: 1em; padding-right: 1em; text-align: center; vertical-align: top\">27256.0689841</td>\n",
       "        <td style=\"padding-left: 1em; padding-right: 1em; text-align: center; vertical-align: top\">0.0</td>\n",
       "    </tr>\n",
       "    <tr>\n",
       "        <td style=\"padding-left: 1em; padding-right: 1em; text-align: center; vertical-align: top\">14.8777015784</td>\n",
       "        <td style=\"padding-left: 1em; padding-right: 1em; text-align: center; vertical-align: top\">78554.2643341</td>\n",
       "        <td style=\"padding-left: 1em; padding-right: 1em; text-align: center; vertical-align: top\">0.0</td>\n",
       "    </tr>\n",
       "    <tr>\n",
       "        <td style=\"padding-left: 1em; padding-right: 1em; text-align: center; vertical-align: top\">161.428671976</td>\n",
       "        <td style=\"padding-left: 1em; padding-right: 1em; text-align: center; vertical-align: top\">852343.388035</td>\n",
       "        <td style=\"padding-left: 1em; padding-right: 1em; text-align: center; vertical-align: top\">0.0</td>\n",
       "    </tr>\n",
       "    <tr>\n",
       "        <td style=\"padding-left: 1em; padding-right: 1em; text-align: center; vertical-align: top\">2.49483837371</td>\n",
       "        <td style=\"padding-left: 1em; padding-right: 1em; text-align: center; vertical-align: top\">49697.1804043</td>\n",
       "        <td style=\"padding-left: 1em; padding-right: 1em; text-align: center; vertical-align: top\">0.0</td>\n",
       "    </tr>\n",
       "    <tr>\n",
       "        <td style=\"padding-left: 1em; padding-right: 1em; text-align: center; vertical-align: top\">5.0038816734</td>\n",
       "        <td style=\"padding-left: 1em; padding-right: 1em; text-align: center; vertical-align: top\">27621.4268372</td>\n",
       "        <td style=\"padding-left: 1em; padding-right: 1em; text-align: center; vertical-align: top\">0.0</td>\n",
       "    </tr>\n",
       "    <tr>\n",
       "        <td style=\"padding-left: 1em; padding-right: 1em; text-align: center; vertical-align: top\">2.50926097502</td>\n",
       "        <td style=\"padding-left: 1em; padding-right: 1em; text-align: center; vertical-align: top\">14453.3432161</td>\n",
       "        <td style=\"padding-left: 1em; padding-right: 1em; text-align: center; vertical-align: top\">0.0</td>\n",
       "    </tr>\n",
       "    <tr>\n",
       "        <td style=\"padding-left: 1em; padding-right: 1em; text-align: center; vertical-align: top\">94.4384592745</td>\n",
       "        <td style=\"padding-left: 1em; padding-right: 1em; text-align: center; vertical-align: top\">484469.296078</td>\n",
       "        <td style=\"padding-left: 1em; padding-right: 1em; text-align: center; vertical-align: top\">0.0</td>\n",
       "    </tr>\n",
       "</table>\n",
       "[726983 rows x 15 columns]<br/>Note: Only the head of the SFrame is printed.<br/>You can use print_rows(num_rows=m, num_columns=n) to print more rows and columns.\n",
       "</div>"
      ],
      "text/plain": [
       "Columns:\n",
       "\tYEAR\tint\n",
       "\tMONTH\tstr\n",
       "\tCompany\tstr\n",
       "\tArea 1\tstr\n",
       "\tArea 2\tstr\n",
       "\tArea 3\tstr\n",
       "\tArea 3 Classification\tstr\n",
       "\tOutlet Type\tstr\n",
       "\tOutlet Name\tstr\n",
       "\tProduct Category 1\tstr\n",
       "\tProduct Category 2\tstr\n",
       "\tProduct\tstr\n",
       "\tUnits sold\tfloat\n",
       "\tRevenue\tfloat\n",
       "\tCommission\tfloat\n",
       "\n",
       "Rows: 726983\n",
       "\n",
       "Data:\n",
       "+------+-------+---------------+-----------------+-----------------+\n",
       "| YEAR | MONTH |    Company    |      Area 1     |      Area 2     |\n",
       "+------+-------+---------------+-----------------+-----------------+\n",
       "| 2018 |  JAN  | white walkers | the westerlands |   golden tooth  |\n",
       "| 2018 |  FEB  | white walkers |  the riverlands |  mummer's ford  |\n",
       "| 2018 |  FEB  | white walkers |  the stormlands |    green fork   |\n",
       "| 2018 |  JAN  | white walkers |  the crownlands | whispering wood |\n",
       "| 2018 |  JUN  | white walkers |  the stormlands |    green fork   |\n",
       "| 2018 |  MAR  | white walkers |  the riverlands |      darry      |\n",
       "| 2018 |  JAN  | white walkers | beyond the wall |  deepwood motte |\n",
       "| 2018 |  FEB  | white walkers |  the crownlands |   stony shore   |\n",
       "| 2018 |  APR  | white walkers |    the north    |     riverrun    |\n",
       "| 2018 |  MAR  | white walkers | beyond the wall |  deepwood motte |\n",
       "+------+-------+---------------+-----------------+-----------------+\n",
       "+---------------------+-----------------------+-----------------+\n",
       "|        Area 3       | Area 3 Classification |   Outlet Type   |\n",
       "+---------------------+-----------------------+-----------------+\n",
       "|       rivermen      |  lord of the crossing |    house frey   |\n",
       "|       dornish       |          ser          |   house swyft   |\n",
       "|       ironborn      |  lord of the crossing |  house santagar |\n",
       "|      free folk      |          ser          | house targaryen |\n",
       "|       ironborn      |  lord of the crossing |  house santagar |\n",
       "|       northmen      |         queen         |   house osgrey  |\n",
       "|       braavosi      |    hand of the king   |   house humble  |\n",
       "|       dothraki      |    hand of the king   |   house wylde   |\n",
       "| vale mountain clans |      archmaester      |   house arryn   |\n",
       "|        reach        |        maester        |   house humble  |\n",
       "+---------------------+-----------------------+-----------------+\n",
       "+----------------------+--------------------+---------------------------+\n",
       "|     Outlet Name      | Product Category 1 |     Product Category 2    |\n",
       "+----------------------+--------------------+---------------------------+\n",
       "| viserys ii targaryen |       korean       |           bagels          |\n",
       "|     walder frey      |       greek        | chicken bouillon granules |\n",
       "|     aemma arryn      |      mexican       | chicken bouillon granules |\n",
       "|    sylva santagar    |       indian       |         field peas        |\n",
       "|   tommen baratheon   |       greek        | chicken bouillon granules |\n",
       "| viserys ii targaryen |       greek        | chicken bouillon granules |\n",
       "| viserys i targaryen  |       korean       |           bagels          |\n",
       "| viserys ii targaryen |       greek        |    frozen strawberries    |\n",
       "|    wilbert osgrey    |       greek        |    frozen strawberries    |\n",
       "|         will         |       greek        | chicken bouillon granules |\n",
       "+----------------------+--------------------+---------------------------+\n",
       "+-----------------+---------------+---------------+------------+\n",
       "|     Product     |   Units sold  |    Revenue    | Commission |\n",
       "+-----------------+---------------+---------------+------------+\n",
       "|  white cabbage  | 2.49585110024 | 49717.3539167 |    0.0     |\n",
       "|       rye       | 45.1982920441 | 249494.572083 |    0.0     |\n",
       "| cola soft drink | 4.98023325726 | 33467.1674888 |    0.0     |\n",
       "| mexican oregano | 2.48233779454 | 27256.0689841 |    0.0     |\n",
       "|  cottage cheese | 14.8777015784 | 78554.2643341 |    0.0     |\n",
       "|   tahini paste  | 161.428671976 | 852343.388035 |    0.0     |\n",
       "|  white cabbage  | 2.49483837371 | 49697.1804043 |    0.0     |\n",
       "|   salad leaves  |  5.0038816734 | 27621.4268372 |    0.0     |\n",
       "|   garden peas   | 2.50926097502 | 14453.3432161 |    0.0     |\n",
       "| maldon sea salt | 94.4384592745 | 484469.296078 |    0.0     |\n",
       "+-----------------+---------------+---------------+------------+\n",
       "[726983 rows x 15 columns]\n",
       "Note: Only the head of the SFrame is printed.\n",
       "You can use print_rows(num_rows=m, num_columns=n) to print more rows and columns."
      ]
     },
     "execution_count": 12,
     "metadata": {},
     "output_type": "execute_result"
    }
   ],
   "source": [
    "white_walkers_data"
   ]
  },
  {
   "cell_type": "code",
   "execution_count": 13,
   "metadata": {
    "collapsed": false
   },
   "outputs": [],
   "source": [
    "men_data_products=[men_data['Product'].unique()]"
   ]
  },
  {
   "cell_type": "code",
   "execution_count": 14,
   "metadata": {
    "collapsed": false
   },
   "outputs": [
    {
     "data": {
      "text/plain": [
       "[dtype: str\n",
       " Rows: 78\n",
       " ['whole wheat spaghetti', 'olive oil spray', 'whitefish fillets', 'sole fillet', 'nuts', 'pandan extract', 'pumpkin seeds', 'mushroom soy sauce', 'angel hair', 'silver dragees', 'triple sec', 'cantaloupe', 'sourdough bread', 'pork lard', 'lavender buds', 'unsalted chicken stock', 'self-rising cornmeal', 'orecchiette', 'clam juice', 'nonfat ricotta cheese', 'frozen orange juice concentrate', 'ground almonds', 'mexican chocolate', 'coffee liqueur', 'soda', 'boston butt', 'amaretto liqueur', 'cherry preserves', 'ground paprika', 'garlic juice', 'cherries', 'lamb shoulder', 'sweet sherry', 'daal', 'reduced-fat cheese', 'orange flower water', 'hot dog bun', 'poblano chilies', 'marjoram', 'tangerine', 'fish stock', 'shanghai noodles', 'peeled deveined shrimp', 'vine tomatoes', 'sablefish', 'scallops', 'tomatoes with juice', 'whole almonds', 'sponge cake', 'porterhouse steaks', 'oyster mushrooms', 'black vinegar', 'reduced fat sharp cheddar cheese', 'whole snapper', 'bacon rind', 'guajillo chiles', 'aleppo pepper', 'pie dough', 'fresca', 'marsala wine', 'runny honey', 'golden syrup', 'pastry shell', 'all beef hot dogs', 'wheels', 'pasilla chiles', 'bibb lettuce', 'soda water', 'leftover gravy', 'green olives', 'dried tarragon leaves', 'spiced rum', 'ragu old world style pasta sauc', 'turbot', 'vanilla sugar', 'sack', 'spanish paprika', 'cornflake cereal']]"
      ]
     },
     "execution_count": 14,
     "metadata": {},
     "output_type": "execute_result"
    }
   ],
   "source": [
    "men_data_products"
   ]
  },
  {
   "cell_type": "code",
   "execution_count": 15,
   "metadata": {
    "collapsed": false
   },
   "outputs": [],
   "source": [
    "white_walkers_data_products=[white_walkers_data['Product'].unique()]"
   ]
  },
  {
   "cell_type": "code",
   "execution_count": 16,
   "metadata": {
    "collapsed": false
   },
   "outputs": [
    {
     "data": {
      "text/plain": [
       "[dtype: str\n",
       " Rows: 242\n",
       " ['dried pinto beans', 'boneless beef roast', 'xanthan gum', 'walnut halves', 'sesame', 'dill pickles', 'mulato chiles', 'white peaches', 'sugar pea', 'dill weed', 'cola soft drink', 'white fleshed fish', 'extra lean ground beef', 'garden peas', 'crystal hot sauce', 'escarole', 'pear tomatoes', 'pickled okra', 'bitters', 'bulgur', 'ground chipotle chile pepper', 'sausage links', 'pie shell', 'pigeon peas', 'chocolate candy bars', 'hot cocoa mix', 'lotus roots', 'pizza shells', 'pepper jack', 'bread dough', 'fresh onion', 'banana peppers', 'bbq sauce', 'achiote paste', 'chopped fresh herbs', 'equal sweetener', 'hothouse cucumber', 'chaat masala', 'gooseberries', 'shrimp shells', 'cottage cheese', 'poppy seeds', 'diced tomatoes in juice', 'plain low-fat yogurt', 'lemon wedge', 'pure acai puree', 'spanish rice', 'gluten free all purpose flour', 'broth', 'ahi', 'dark corn syrup', 'fresh chevre', 'taco toppings', 'umeboshi vinegar', 'hungarian paprika', 'baby portobello mushrooms', 'abbamele', 'gaeta olives', 'toasted peanuts', 'light mayonnaise', 'peach preserves', 'pure vanilla extract', 'frozen mixed thawed vegetables,', 'bread yeast', 'prosecco', 'seltzer water', 'stewing beef', 'raspberry jam', 'salad oil', 'powdered buttermilk', \"campbell's condensed cream of chicken soup\", 'turkey broth', 'stone-ground cornmeal', 'curly endive', 'xuxu', 'tahini paste', 'new potatoes', 'gai lan', 'vanilla wafers', 'gram flour', 'honeydew melon', 'rotel tomatoes', 'crusty sandwich rolls', 'whole cranberry sauce', 'lardons', 'slaw', 'maldon sea salt', 'self-rising cake flour', 'frozen raspberries', 'liquid egg substitute', 'yardlong beans', 'lillet', 'table salt', 'flat iron steaks', 'fresh oregano leaves', 'champagne', 'pitted date', 'firm silken tofu', 'and fat free half half', 'reduced fat creamy peanut butter', ... ]]"
      ]
     },
     "execution_count": 16,
     "metadata": {},
     "output_type": "execute_result"
    }
   ],
   "source": [
    "white_walkers_data_products"
   ]
  },
  {
   "cell_type": "code",
   "execution_count": 17,
   "metadata": {
    "collapsed": false
   },
   "outputs": [],
   "source": [
    "common_products=[x for x in men_data_products[0] if x in white_walkers_data_products[0]]"
   ]
  },
  {
   "cell_type": "code",
   "execution_count": 18,
   "metadata": {
    "collapsed": false
   },
   "outputs": [
    {
     "data": {
      "text/plain": [
       "[]"
      ]
     },
     "execution_count": 18,
     "metadata": {},
     "output_type": "execute_result"
    }
   ],
   "source": [
    "common_products"
   ]
  },
  {
   "cell_type": "code",
   "execution_count": 19,
   "metadata": {
    "collapsed": true
   },
   "outputs": [],
   "source": [
    "men_data_product_category_2=[men_data['Product Category 2'].unique()]"
   ]
  },
  {
   "cell_type": "code",
   "execution_count": 20,
   "metadata": {
    "collapsed": false
   },
   "outputs": [
    {
     "data": {
      "text/plain": [
       "[dtype: str\n",
       " Rows: 20\n",
       " ['long grain and wild rice mix', 'fino sherry', 'fine salt', 'gluten free corn tortillas', 'toasted walnuts', 'dry yeast', 'amaretti', 'maggi', 'dates', 'asian basil', 'lamb chops', 'reduced fat cream cheese', 'Aberlour', 'acorn squash', 'gluten free soy sauce', 'whipped topping', 'red bell pepper, sliced', 'Brancott', 'parmigiano-reggiano cheese', 'snails']]"
      ]
     },
     "execution_count": 20,
     "metadata": {},
     "output_type": "execute_result"
    }
   ],
   "source": [
    "men_data_product_category_2"
   ]
  },
  {
   "cell_type": "code",
   "execution_count": 21,
   "metadata": {
    "collapsed": true
   },
   "outputs": [],
   "source": [
    "white_walkers_data_product_category_2=[white_walkers_data['Product Category 2'].unique()]"
   ]
  },
  {
   "cell_type": "code",
   "execution_count": 22,
   "metadata": {
    "collapsed": false
   },
   "outputs": [
    {
     "data": {
      "text/plain": [
       "[dtype: str\n",
       " Rows: 90\n",
       " ['light coconut milk', 'morel', 'ladyfingers', 'chicken bouillon granules', 'snappers', 'diced green chilies', 'grand marnier', 'field peas', 'hurst family harvest chipotle lime black bean soup mix', 'perilla', 'frozen strawberries', 'fresh turmeric', 'turkey legs', 'rotisserie chicken', 'smoked turkey', 'meat', 'dark molasses', 'alfredo sauce', 'ground chuck', 'baby beets', 'red raspberries', 'anise seed', 'quatre ã©pices', 'serrano peppers', 'gravy', 'Glenkinchie', 'old-fashioned oats', 'shrimp paste', 'seafood stock', 'Others VODKA-PREMIUM STD', '1% low-fat cottage cheese', 'Others Vodka Super Premium BIO', 'broccoli florets', 'Caol Ila', 'chipotle puree', 'white beans', 'crystallized ginger', 'cornbread', 'hot curry powder', 'bagels', 'white cheddar cheese', 'english muffins', 'fully cooked ham', 'beaten eggs', 'whole grain mustard', 'gluten free cooking spray', 'seeds', 'mandarin orange segments', 'cognac', 'Clynelish', 'cream of mushroom soup', 'homemade chicken stock', 'jell-o gelatin dessert', 'salad dressing', 'white peppercorns', 'shortbread cookies', 'onion soup', 'elbow macaroni', 'apple juice', 'veggies', 'squid', 'hatch green chiles', 'chile bean paste', 'seasoned flour', 'romana', 'cotija', 'lean ground turkey', 'raw honey', 'corned beef', 'fresh sage', 'scotch bonnet chile', 'vietnamese coriander', 'sweetener', 'green tea powder', 'hot pepper', 'canned chopped tomatoes', 'Oban', 'dry coconut', 'jack', 'sage', 'clarified butter', 'fromage blanc', 'chili beans', 'whole wheat bread toasted', 'pastry cream', 'tenderloin', 'parmigiano-reggiano cheese', 'unsweetened chocolate', 'crackers', 'Cardhu']]"
      ]
     },
     "execution_count": 22,
     "metadata": {},
     "output_type": "execute_result"
    }
   ],
   "source": [
    "white_walkers_data_product_category_2"
   ]
  },
  {
   "cell_type": "code",
   "execution_count": 23,
   "metadata": {
    "collapsed": true
   },
   "outputs": [],
   "source": [
    "common_product_category_2=[x for x in men_data_product_category_2[0] if x in white_walkers_data_product_category_2[0]]"
   ]
  },
  {
   "cell_type": "code",
   "execution_count": 24,
   "metadata": {
    "collapsed": false
   },
   "outputs": [
    {
     "data": {
      "text/plain": [
       "['parmigiano-reggiano cheese']"
      ]
     },
     "execution_count": 24,
     "metadata": {},
     "output_type": "execute_result"
    }
   ],
   "source": [
    "common_product_category_2"
   ]
  },
  {
   "cell_type": "code",
   "execution_count": 25,
   "metadata": {
    "collapsed": true
   },
   "outputs": [],
   "source": [
    "men_data_product_category_1=[men_data['Product Category 1'].unique()]"
   ]
  },
  {
   "cell_type": "code",
   "execution_count": 26,
   "metadata": {
    "collapsed": false
   },
   "outputs": [
    {
     "data": {
      "text/plain": [
       "[dtype: str\n",
       " Rows: 6\n",
       " ['vietnamese', 'indian', 'chinese', 'greek', 'korean', 'mexican']]"
      ]
     },
     "execution_count": 26,
     "metadata": {},
     "output_type": "execute_result"
    }
   ],
   "source": [
    "men_data_product_category_1"
   ]
  },
  {
   "cell_type": "code",
   "execution_count": 27,
   "metadata": {
    "collapsed": true
   },
   "outputs": [],
   "source": [
    "white_walkers_data_product_category_1=[white_walkers_data['Product Category 1'].unique()]"
   ]
  },
  {
   "cell_type": "code",
   "execution_count": 28,
   "metadata": {
    "collapsed": false
   },
   "outputs": [
    {
     "data": {
      "text/plain": [
       "[dtype: str\n",
       " Rows: 6\n",
       " ['vietnamese', 'indian', 'chinese', 'greek', 'korean', 'mexican']]"
      ]
     },
     "execution_count": 28,
     "metadata": {},
     "output_type": "execute_result"
    }
   ],
   "source": [
    "white_walkers_data_product_category_1"
   ]
  },
  {
   "cell_type": "code",
   "execution_count": 29,
   "metadata": {
    "collapsed": true
   },
   "outputs": [],
   "source": [
    "common_product_category_1=[x for x in men_data_product_category_1[0] if x in white_walkers_data_product_category_1[0]]"
   ]
  },
  {
   "cell_type": "code",
   "execution_count": 30,
   "metadata": {
    "collapsed": false
   },
   "outputs": [
    {
     "data": {
      "text/plain": [
       "['vietnamese', 'indian', 'chinese', 'greek', 'korean', 'mexican']"
      ]
     },
     "execution_count": 30,
     "metadata": {},
     "output_type": "execute_result"
    }
   ],
   "source": [
    "common_product_category_1"
   ]
  },
  {
   "cell_type": "code",
   "execution_count": 31,
   "metadata": {
    "collapsed": true
   },
   "outputs": [],
   "source": [
    "revenue_sum=[]"
   ]
  },
  {
   "cell_type": "code",
   "execution_count": 32,
   "metadata": {
    "collapsed": true
   },
   "outputs": [],
   "source": [
    "men_vietnamese_data=men_data[men_data['Product Category 1']=='vietnamese']"
   ]
  },
  {
   "cell_type": "code",
   "execution_count": 33,
   "metadata": {
    "collapsed": true
   },
   "outputs": [],
   "source": [
    "men_vietnamese_data_revenue_sum=men_vietnamese_data['Revenue'].sum()"
   ]
  },
  {
   "cell_type": "code",
   "execution_count": 34,
   "metadata": {
    "collapsed": false
   },
   "outputs": [
    {
     "data": {
      "text/plain": [
       "2666124328.045221"
      ]
     },
     "execution_count": 34,
     "metadata": {},
     "output_type": "execute_result"
    }
   ],
   "source": [
    "men_vietnamese_data_revenue_sum"
   ]
  },
  {
   "cell_type": "code",
   "execution_count": 35,
   "metadata": {
    "collapsed": false
   },
   "outputs": [],
   "source": [
    "white_walkers_vietnamese_data=white_walkers_data[white_walkers_data['Product Category 1']=='vietnamese']"
   ]
  },
  {
   "cell_type": "code",
   "execution_count": 36,
   "metadata": {
    "collapsed": true
   },
   "outputs": [],
   "source": [
    "white_walkers_vietnamese_data_revenue_sum=white_walkers_vietnamese_data['Revenue'].sum()"
   ]
  },
  {
   "cell_type": "code",
   "execution_count": 37,
   "metadata": {
    "collapsed": false
   },
   "outputs": [
    {
     "data": {
      "text/plain": [
       "2730731911.885871"
      ]
     },
     "execution_count": 37,
     "metadata": {},
     "output_type": "execute_result"
    }
   ],
   "source": [
    "white_walkers_vietnamese_data_revenue_sum"
   ]
  },
  {
   "cell_type": "code",
   "execution_count": 38,
   "metadata": {
    "collapsed": true
   },
   "outputs": [],
   "source": [
    "men_vietnamese_market_share=men_vietnamese_data_revenue_sum/(men_vietnamese_data_revenue_sum+white_walkers_vietnamese_data_revenue_sum)"
   ]
  },
  {
   "cell_type": "code",
   "execution_count": 39,
   "metadata": {
    "collapsed": false
   },
   "outputs": [
    {
     "data": {
      "text/plain": [
       "0.49401433158783986"
      ]
     },
     "execution_count": 39,
     "metadata": {},
     "output_type": "execute_result"
    }
   ],
   "source": [
    "men_vietnamese_market_share"
   ]
  },
  {
   "cell_type": "code",
   "execution_count": 40,
   "metadata": {
    "collapsed": true
   },
   "outputs": [],
   "source": [
    "men_indian_data=men_data[men_data['Product Category 1']=='indian']"
   ]
  },
  {
   "cell_type": "code",
   "execution_count": 41,
   "metadata": {
    "collapsed": true
   },
   "outputs": [],
   "source": [
    "men_indian_data_revenue_sum=men_indian_data['Revenue'].sum()"
   ]
  },
  {
   "cell_type": "code",
   "execution_count": 42,
   "metadata": {
    "collapsed": false
   },
   "outputs": [
    {
     "data": {
      "text/plain": [
       "14586272120.27137"
      ]
     },
     "execution_count": 42,
     "metadata": {},
     "output_type": "execute_result"
    }
   ],
   "source": [
    "men_indian_data_revenue_sum"
   ]
  },
  {
   "cell_type": "code",
   "execution_count": 43,
   "metadata": {
    "collapsed": true
   },
   "outputs": [],
   "source": [
    "white_walkers_indian_data=white_walkers_data[white_walkers_data['Product Category 1']=='indian']"
   ]
  },
  {
   "cell_type": "code",
   "execution_count": 44,
   "metadata": {
    "collapsed": true
   },
   "outputs": [],
   "source": [
    "white_walkers_indian_data_revenue_sum=white_walkers_indian_data['Revenue'].sum()"
   ]
  },
  {
   "cell_type": "code",
   "execution_count": 45,
   "metadata": {
    "collapsed": false
   },
   "outputs": [
    {
     "data": {
      "text/plain": [
       "9658160305.073063"
      ]
     },
     "execution_count": 45,
     "metadata": {},
     "output_type": "execute_result"
    }
   ],
   "source": [
    "white_walkers_indian_data_revenue_sum"
   ]
  },
  {
   "cell_type": "code",
   "execution_count": 46,
   "metadata": {
    "collapsed": true
   },
   "outputs": [],
   "source": [
    "men_indian_market_share=men_indian_data_revenue_sum/(men_indian_data_revenue_sum+white_walkers_indian_data_revenue_sum)"
   ]
  },
  {
   "cell_type": "code",
   "execution_count": 47,
   "metadata": {
    "collapsed": false
   },
   "outputs": [
    {
     "data": {
      "text/plain": [
       "0.6016338870867235"
      ]
     },
     "execution_count": 47,
     "metadata": {},
     "output_type": "execute_result"
    }
   ],
   "source": [
    "men_indian_market_share"
   ]
  },
  {
   "cell_type": "code",
   "execution_count": 48,
   "metadata": {
    "collapsed": true
   },
   "outputs": [],
   "source": [
    "men_chinese_data=men_data[men_data['Product Category 1']=='chinese']"
   ]
  },
  {
   "cell_type": "code",
   "execution_count": 49,
   "metadata": {
    "collapsed": true
   },
   "outputs": [],
   "source": [
    "men_chinese_data_revenue_sum=men_chinese_data['Revenue'].sum()"
   ]
  },
  {
   "cell_type": "code",
   "execution_count": 50,
   "metadata": {
    "collapsed": false
   },
   "outputs": [
    {
     "data": {
      "text/plain": [
       "396833416.67840207"
      ]
     },
     "execution_count": 50,
     "metadata": {},
     "output_type": "execute_result"
    }
   ],
   "source": [
    "men_chinese_data_revenue_sum"
   ]
  },
  {
   "cell_type": "code",
   "execution_count": 51,
   "metadata": {
    "collapsed": true
   },
   "outputs": [],
   "source": [
    "white_walkers_chinese_data=white_walkers_data[white_walkers_data['Product Category 1']=='chinese']"
   ]
  },
  {
   "cell_type": "code",
   "execution_count": 52,
   "metadata": {
    "collapsed": true
   },
   "outputs": [],
   "source": [
    "white_walkers_chinese_data_revenue_sum=white_walkers_chinese_data['Revenue'].sum()"
   ]
  },
  {
   "cell_type": "code",
   "execution_count": 53,
   "metadata": {
    "collapsed": false
   },
   "outputs": [
    {
     "data": {
      "text/plain": [
       "1454129336.2984042"
      ]
     },
     "execution_count": 53,
     "metadata": {},
     "output_type": "execute_result"
    }
   ],
   "source": [
    "white_walkers_chinese_data_revenue_sum"
   ]
  },
  {
   "cell_type": "code",
   "execution_count": 54,
   "metadata": {
    "collapsed": true
   },
   "outputs": [],
   "source": [
    "men_chinese_market_share=men_chinese_data_revenue_sum/(men_chinese_data_revenue_sum+white_walkers_chinese_data_revenue_sum)"
   ]
  },
  {
   "cell_type": "code",
   "execution_count": 55,
   "metadata": {
    "collapsed": false
   },
   "outputs": [
    {
     "data": {
      "text/plain": [
       "0.21439297794631237"
      ]
     },
     "execution_count": 55,
     "metadata": {},
     "output_type": "execute_result"
    }
   ],
   "source": [
    "men_chinese_market_share"
   ]
  },
  {
   "cell_type": "code",
   "execution_count": 56,
   "metadata": {
    "collapsed": true
   },
   "outputs": [],
   "source": [
    "men_greek_data=men_data[men_data['Product Category 1']=='greek']"
   ]
  },
  {
   "cell_type": "code",
   "execution_count": 57,
   "metadata": {
    "collapsed": true
   },
   "outputs": [],
   "source": [
    "men_greek_data_revenue_sum=men_greek_data['Revenue'].sum()"
   ]
  },
  {
   "cell_type": "code",
   "execution_count": 58,
   "metadata": {
    "collapsed": false
   },
   "outputs": [
    {
     "data": {
      "text/plain": [
       "56013306271.09196"
      ]
     },
     "execution_count": 58,
     "metadata": {},
     "output_type": "execute_result"
    }
   ],
   "source": [
    "men_greek_data_revenue_sum"
   ]
  },
  {
   "cell_type": "code",
   "execution_count": 59,
   "metadata": {
    "collapsed": true
   },
   "outputs": [],
   "source": [
    "white_walkers_greek_data=white_walkers_data[white_walkers_data['Product Category 1']=='greek']"
   ]
  },
  {
   "cell_type": "code",
   "execution_count": 60,
   "metadata": {
    "collapsed": true
   },
   "outputs": [],
   "source": [
    "white_walkers_greek_data_revenue_sum=white_walkers_greek_data['Revenue'].sum()"
   ]
  },
  {
   "cell_type": "code",
   "execution_count": 61,
   "metadata": {
    "collapsed": false
   },
   "outputs": [
    {
     "data": {
      "text/plain": [
       "78199727154.67763"
      ]
     },
     "execution_count": 61,
     "metadata": {},
     "output_type": "execute_result"
    }
   ],
   "source": [
    "white_walkers_greek_data_revenue_sum"
   ]
  },
  {
   "cell_type": "code",
   "execution_count": 62,
   "metadata": {
    "collapsed": true
   },
   "outputs": [],
   "source": [
    "men_greek_market_share=men_greek_data_revenue_sum/(men_greek_data_revenue_sum+white_walkers_greek_data_revenue_sum)"
   ]
  },
  {
   "cell_type": "code",
   "execution_count": 63,
   "metadata": {
    "collapsed": false
   },
   "outputs": [
    {
     "data": {
      "text/plain": [
       "0.41734625051949026"
      ]
     },
     "execution_count": 63,
     "metadata": {},
     "output_type": "execute_result"
    }
   ],
   "source": [
    "men_greek_market_share"
   ]
  },
  {
   "cell_type": "code",
   "execution_count": 64,
   "metadata": {
    "collapsed": true
   },
   "outputs": [],
   "source": [
    "men_korean_data=men_data[men_data['Product Category 1']=='korean']"
   ]
  },
  {
   "cell_type": "code",
   "execution_count": 65,
   "metadata": {
    "collapsed": true
   },
   "outputs": [],
   "source": [
    "men_korean_data_revenue_sum=men_korean_data['Revenue'].sum()"
   ]
  },
  {
   "cell_type": "code",
   "execution_count": 66,
   "metadata": {
    "collapsed": false
   },
   "outputs": [
    {
     "data": {
      "text/plain": [
       "4397106010.949364"
      ]
     },
     "execution_count": 66,
     "metadata": {},
     "output_type": "execute_result"
    }
   ],
   "source": [
    "men_korean_data_revenue_sum"
   ]
  },
  {
   "cell_type": "code",
   "execution_count": 67,
   "metadata": {
    "collapsed": true
   },
   "outputs": [],
   "source": [
    "white_walkers_korean_data=white_walkers_data[white_walkers_data['Product Category 1']=='korean']"
   ]
  },
  {
   "cell_type": "code",
   "execution_count": 68,
   "metadata": {
    "collapsed": true
   },
   "outputs": [],
   "source": [
    "white_walkers_korean_data_revenue_sum=white_walkers_korean_data['Revenue'].sum()"
   ]
  },
  {
   "cell_type": "code",
   "execution_count": 69,
   "metadata": {
    "collapsed": false
   },
   "outputs": [
    {
     "data": {
      "text/plain": [
       "9261010018.20401"
      ]
     },
     "execution_count": 69,
     "metadata": {},
     "output_type": "execute_result"
    }
   ],
   "source": [
    "white_walkers_korean_data_revenue_sum"
   ]
  },
  {
   "cell_type": "code",
   "execution_count": 70,
   "metadata": {
    "collapsed": true
   },
   "outputs": [],
   "source": [
    "men_korean_market_share=men_korean_data_revenue_sum/(men_korean_data_revenue_sum+white_walkers_korean_data_revenue_sum)"
   ]
  },
  {
   "cell_type": "code",
   "execution_count": 71,
   "metadata": {
    "collapsed": false
   },
   "outputs": [
    {
     "data": {
      "text/plain": [
       "0.32194088859427616"
      ]
     },
     "execution_count": 71,
     "metadata": {},
     "output_type": "execute_result"
    }
   ],
   "source": [
    "men_korean_market_share"
   ]
  },
  {
   "cell_type": "code",
   "execution_count": 72,
   "metadata": {
    "collapsed": true
   },
   "outputs": [],
   "source": [
    "men_mexican_data=men_data[men_data['Product Category 1']=='mexican']"
   ]
  },
  {
   "cell_type": "code",
   "execution_count": 73,
   "metadata": {
    "collapsed": true
   },
   "outputs": [],
   "source": [
    "men_mexican_data_revenue_sum=men_mexican_data['Revenue'].sum()"
   ]
  },
  {
   "cell_type": "code",
   "execution_count": 74,
   "metadata": {
    "collapsed": false
   },
   "outputs": [
    {
     "data": {
      "text/plain": [
       "33243355116.6191"
      ]
     },
     "execution_count": 74,
     "metadata": {},
     "output_type": "execute_result"
    }
   ],
   "source": [
    "men_mexican_data_revenue_sum"
   ]
  },
  {
   "cell_type": "code",
   "execution_count": 75,
   "metadata": {
    "collapsed": true
   },
   "outputs": [],
   "source": [
    "white_walkers_mexican_data=white_walkers_data[white_walkers_data['Product Category 1']=='mexican']"
   ]
  },
  {
   "cell_type": "code",
   "execution_count": 76,
   "metadata": {
    "collapsed": true
   },
   "outputs": [],
   "source": [
    "white_walkers_mexican_data_revenue_sum=white_walkers_mexican_data['Revenue'].sum()"
   ]
  },
  {
   "cell_type": "code",
   "execution_count": 77,
   "metadata": {
    "collapsed": false
   },
   "outputs": [
    {
     "data": {
      "text/plain": [
       "14007123198.264755"
      ]
     },
     "execution_count": 77,
     "metadata": {},
     "output_type": "execute_result"
    }
   ],
   "source": [
    "white_walkers_mexican_data_revenue_sum"
   ]
  },
  {
   "cell_type": "code",
   "execution_count": 78,
   "metadata": {
    "collapsed": true
   },
   "outputs": [],
   "source": [
    "men_mexican_market_share=men_mexican_data_revenue_sum/(men_mexican_data_revenue_sum+white_walkers_mexican_data_revenue_sum)"
   ]
  },
  {
   "cell_type": "code",
   "execution_count": 79,
   "metadata": {
    "collapsed": false
   },
   "outputs": [
    {
     "data": {
      "text/plain": [
       "0.7035559491076617"
      ]
     },
     "execution_count": 79,
     "metadata": {},
     "output_type": "execute_result"
    }
   ],
   "source": [
    "men_mexican_market_share"
   ]
  },
  {
   "cell_type": "code",
   "execution_count": 80,
   "metadata": {
    "collapsed": false
   },
   "outputs": [],
   "source": [
    "def transform(x):\n",
    "    if x['Product Category 1']=='vietnamese':\n",
    "        return men_vietnamese_market_share\n",
    "    elif x['Product Category 1']=='indian':\n",
    "        return men_indian_market_share\n",
    "    elif x['Product Category 1']=='chinese':\n",
    "        return men_chinese_market_share\n",
    "    elif x['Product Category 1']=='greek':\n",
    "        return men_greek_market_share\n",
    "    elif x['Product Category 1']=='korean':\n",
    "        return men_korean_market_share\n",
    "    else:\n",
    "        return men_mexican_market_share"
   ]
  },
  {
   "cell_type": "code",
   "execution_count": 81,
   "metadata": {
    "collapsed": false
   },
   "outputs": [
    {
     "data": {
      "text/plain": [
       "dtype: float\n",
       "Rows: 354501\n",
       "[0.32194088859427616, 0.41734625051949026, 0.6016338870867235, 0.7035559491076617, 0.6016338870867235, 0.41734625051949026, 0.7035559491076617, 0.6016338870867235, 0.7035559491076617, 0.7035559491076617, 0.6016338870867235, 0.32194088859427616, 0.6016338870867235, 0.41734625051949026, 0.41734625051949026, 0.6016338870867235, 0.7035559491076617, 0.6016338870867235, 0.7035559491076617, 0.41734625051949026, 0.6016338870867235, 0.7035559491076617, 0.41734625051949026, 0.7035559491076617, 0.7035559491076617, 0.6016338870867235, 0.41734625051949026, 0.41734625051949026, 0.7035559491076617, 0.7035559491076617, 0.41734625051949026, 0.7035559491076617, 0.7035559491076617, 0.7035559491076617, 0.32194088859427616, 0.7035559491076617, 0.6016338870867235, 0.7035559491076617, 0.41734625051949026, 0.6016338870867235, 0.7035559491076617, 0.41734625051949026, 0.6016338870867235, 0.6016338870867235, 0.7035559491076617, 0.6016338870867235, 0.6016338870867235, 0.6016338870867235, 0.7035559491076617, 0.41734625051949026, 0.32194088859427616, 0.6016338870867235, 0.7035559491076617, 0.7035559491076617, 0.7035559491076617, 0.7035559491076617, 0.7035559491076617, 0.7035559491076617, 0.41734625051949026, 0.7035559491076617, 0.32194088859427616, 0.6016338870867235, 0.7035559491076617, 0.41734625051949026, 0.7035559491076617, 0.7035559491076617, 0.7035559491076617, 0.6016338870867235, 0.41734625051949026, 0.6016338870867235, 0.6016338870867235, 0.41734625051949026, 0.6016338870867235, 0.7035559491076617, 0.41734625051949026, 0.41734625051949026, 0.7035559491076617, 0.6016338870867235, 0.6016338870867235, 0.7035559491076617, 0.7035559491076617, 0.41734625051949026, 0.6016338870867235, 0.7035559491076617, 0.41734625051949026, 0.41734625051949026, 0.6016338870867235, 0.7035559491076617, 0.41734625051949026, 0.41734625051949026, 0.41734625051949026, 0.7035559491076617, 0.7035559491076617, 0.7035559491076617, 0.6016338870867235, 0.6016338870867235, 0.7035559491076617, 0.41734625051949026, 0.7035559491076617, 0.7035559491076617, ... ]"
      ]
     },
     "execution_count": 81,
     "metadata": {},
     "output_type": "execute_result"
    }
   ],
   "source": [
    "men_data.apply(transform)"
   ]
  },
  {
   "cell_type": "code",
   "execution_count": 82,
   "metadata": {
    "collapsed": false
   },
   "outputs": [],
   "source": [
    "men_data['men_market_share']=men_data.apply(transform)"
   ]
  },
  {
   "cell_type": "code",
   "execution_count": 83,
   "metadata": {
    "collapsed": false
   },
   "outputs": [
    {
     "data": {
      "text/html": [
       "<div style=\"max-height:1000px;max-width:1500px;overflow:auto;\"><table frame=\"box\" rules=\"cols\">\n",
       "    <tr>\n",
       "        <th style=\"padding-left: 1em; padding-right: 1em; text-align: center\">YEAR</th>\n",
       "        <th style=\"padding-left: 1em; padding-right: 1em; text-align: center\">MONTH</th>\n",
       "        <th style=\"padding-left: 1em; padding-right: 1em; text-align: center\">Company</th>\n",
       "        <th style=\"padding-left: 1em; padding-right: 1em; text-align: center\">Area 1</th>\n",
       "        <th style=\"padding-left: 1em; padding-right: 1em; text-align: center\">Area 2</th>\n",
       "        <th style=\"padding-left: 1em; padding-right: 1em; text-align: center\">Area 3</th>\n",
       "        <th style=\"padding-left: 1em; padding-right: 1em; text-align: center\">Area 3 Classification</th>\n",
       "    </tr>\n",
       "    <tr>\n",
       "        <td style=\"padding-left: 1em; padding-right: 1em; text-align: center; vertical-align: top\">2018</td>\n",
       "        <td style=\"padding-left: 1em; padding-right: 1em; text-align: center; vertical-align: top\">JUN</td>\n",
       "        <td style=\"padding-left: 1em; padding-right: 1em; text-align: center; vertical-align: top\">men</td>\n",
       "        <td style=\"padding-left: 1em; padding-right: 1em; text-align: center; vertical-align: top\">the north</td>\n",
       "        <td style=\"padding-left: 1em; padding-right: 1em; text-align: center; vertical-align: top\">riverrun</td>\n",
       "        <td style=\"padding-left: 1em; padding-right: 1em; text-align: center; vertical-align: top\">valyrian</td>\n",
       "        <td style=\"padding-left: 1em; padding-right: 1em; text-align: center; vertical-align: top\">ser</td>\n",
       "    </tr>\n",
       "    <tr>\n",
       "        <td style=\"padding-left: 1em; padding-right: 1em; text-align: center; vertical-align: top\">2018</td>\n",
       "        <td style=\"padding-left: 1em; padding-right: 1em; text-align: center; vertical-align: top\">JUN</td>\n",
       "        <td style=\"padding-left: 1em; padding-right: 1em; text-align: center; vertical-align: top\">men</td>\n",
       "        <td style=\"padding-left: 1em; padding-right: 1em; text-align: center; vertical-align: top\">the north</td>\n",
       "        <td style=\"padding-left: 1em; padding-right: 1em; text-align: center; vertical-align: top\">moat cailin</td>\n",
       "        <td style=\"padding-left: 1em; padding-right: 1em; text-align: center; vertical-align: top\">summer isles</td>\n",
       "        <td style=\"padding-left: 1em; padding-right: 1em; text-align: center; vertical-align: top\">greenstone</td>\n",
       "    </tr>\n",
       "    <tr>\n",
       "        <td style=\"padding-left: 1em; padding-right: 1em; text-align: center; vertical-align: top\">2018</td>\n",
       "        <td style=\"padding-left: 1em; padding-right: 1em; text-align: center; vertical-align: top\">MAR</td>\n",
       "        <td style=\"padding-left: 1em; padding-right: 1em; text-align: center; vertical-align: top\">men</td>\n",
       "        <td style=\"padding-left: 1em; padding-right: 1em; text-align: center; vertical-align: top\">beyond the wall</td>\n",
       "        <td style=\"padding-left: 1em; padding-right: 1em; text-align: center; vertical-align: top\">deepwood motte</td>\n",
       "        <td style=\"padding-left: 1em; padding-right: 1em; text-align: center; vertical-align: top\">ghiscari</td>\n",
       "        <td style=\"padding-left: 1em; padding-right: 1em; text-align: center; vertical-align: top\">ser</td>\n",
       "    </tr>\n",
       "    <tr>\n",
       "        <td style=\"padding-left: 1em; padding-right: 1em; text-align: center; vertical-align: top\">2018</td>\n",
       "        <td style=\"padding-left: 1em; padding-right: 1em; text-align: center; vertical-align: top\">JAN</td>\n",
       "        <td style=\"padding-left: 1em; padding-right: 1em; text-align: center; vertical-align: top\">men</td>\n",
       "        <td style=\"padding-left: 1em; padding-right: 1em; text-align: center; vertical-align: top\">beyond the wall</td>\n",
       "        <td style=\"padding-left: 1em; padding-right: 1em; text-align: center; vertical-align: top\">deepwood motte</td>\n",
       "        <td style=\"padding-left: 1em; padding-right: 1em; text-align: center; vertical-align: top\">tyroshi</td>\n",
       "        <td style=\"padding-left: 1em; padding-right: 1em; text-align: center; vertical-align: top\">greenstone</td>\n",
       "    </tr>\n",
       "    <tr>\n",
       "        <td style=\"padding-left: 1em; padding-right: 1em; text-align: center; vertical-align: top\">2018</td>\n",
       "        <td style=\"padding-left: 1em; padding-right: 1em; text-align: center; vertical-align: top\">FEB</td>\n",
       "        <td style=\"padding-left: 1em; padding-right: 1em; text-align: center; vertical-align: top\">men</td>\n",
       "        <td style=\"padding-left: 1em; padding-right: 1em; text-align: center; vertical-align: top\">the north</td>\n",
       "        <td style=\"padding-left: 1em; padding-right: 1em; text-align: center; vertical-align: top\">riverrun</td>\n",
       "        <td style=\"padding-left: 1em; padding-right: 1em; text-align: center; vertical-align: top\">lhazarene</td>\n",
       "        <td style=\"padding-left: 1em; padding-right: 1em; text-align: center; vertical-align: top\">hand of the king</td>\n",
       "    </tr>\n",
       "    <tr>\n",
       "        <td style=\"padding-left: 1em; padding-right: 1em; text-align: center; vertical-align: top\">2018</td>\n",
       "        <td style=\"padding-left: 1em; padding-right: 1em; text-align: center; vertical-align: top\">MAR</td>\n",
       "        <td style=\"padding-left: 1em; padding-right: 1em; text-align: center; vertical-align: top\">men</td>\n",
       "        <td style=\"padding-left: 1em; padding-right: 1em; text-align: center; vertical-align: top\">the westerlands</td>\n",
       "        <td style=\"padding-left: 1em; padding-right: 1em; text-align: center; vertical-align: top\">torrhen's square</td>\n",
       "        <td style=\"padding-left: 1em; padding-right: 1em; text-align: center; vertical-align: top\">ironmen</td>\n",
       "        <td style=\"padding-left: 1em; padding-right: 1em; text-align: center; vertical-align: top\">lord of the crossing</td>\n",
       "    </tr>\n",
       "    <tr>\n",
       "        <td style=\"padding-left: 1em; padding-right: 1em; text-align: center; vertical-align: top\">2018</td>\n",
       "        <td style=\"padding-left: 1em; padding-right: 1em; text-align: center; vertical-align: top\">JAN</td>\n",
       "        <td style=\"padding-left: 1em; padding-right: 1em; text-align: center; vertical-align: top\">men</td>\n",
       "        <td style=\"padding-left: 1em; padding-right: 1em; text-align: center; vertical-align: top\">the crownlands</td>\n",
       "        <td style=\"padding-left: 1em; padding-right: 1em; text-align: center; vertical-align: top\">winterfell</td>\n",
       "        <td style=\"padding-left: 1em; padding-right: 1em; text-align: center; vertical-align: top\">westermen</td>\n",
       "        <td style=\"padding-left: 1em; padding-right: 1em; text-align: center; vertical-align: top\">ser</td>\n",
       "    </tr>\n",
       "    <tr>\n",
       "        <td style=\"padding-left: 1em; padding-right: 1em; text-align: center; vertical-align: top\">2018</td>\n",
       "        <td style=\"padding-left: 1em; padding-right: 1em; text-align: center; vertical-align: top\">JUN</td>\n",
       "        <td style=\"padding-left: 1em; padding-right: 1em; text-align: center; vertical-align: top\">men</td>\n",
       "        <td style=\"padding-left: 1em; padding-right: 1em; text-align: center; vertical-align: top\">the westerlands</td>\n",
       "        <td style=\"padding-left: 1em; padding-right: 1em; text-align: center; vertical-align: top\">golden tooth</td>\n",
       "        <td style=\"padding-left: 1em; padding-right: 1em; text-align: center; vertical-align: top\">rivermen</td>\n",
       "        <td style=\"padding-left: 1em; padding-right: 1em; text-align: center; vertical-align: top\">lord of the crossing</td>\n",
       "    </tr>\n",
       "    <tr>\n",
       "        <td style=\"padding-left: 1em; padding-right: 1em; text-align: center; vertical-align: top\">2018</td>\n",
       "        <td style=\"padding-left: 1em; padding-right: 1em; text-align: center; vertical-align: top\">JUN</td>\n",
       "        <td style=\"padding-left: 1em; padding-right: 1em; text-align: center; vertical-align: top\">men</td>\n",
       "        <td style=\"padding-left: 1em; padding-right: 1em; text-align: center; vertical-align: top\">the riverlands</td>\n",
       "        <td style=\"padding-left: 1em; padding-right: 1em; text-align: center; vertical-align: top\">darry</td>\n",
       "        <td style=\"padding-left: 1em; padding-right: 1em; text-align: center; vertical-align: top\">qarth</td>\n",
       "        <td style=\"padding-left: 1em; padding-right: 1em; text-align: center; vertical-align: top\">ser</td>\n",
       "    </tr>\n",
       "    <tr>\n",
       "        <td style=\"padding-left: 1em; padding-right: 1em; text-align: center; vertical-align: top\">2018</td>\n",
       "        <td style=\"padding-left: 1em; padding-right: 1em; text-align: center; vertical-align: top\">JUN</td>\n",
       "        <td style=\"padding-left: 1em; padding-right: 1em; text-align: center; vertical-align: top\">men</td>\n",
       "        <td style=\"padding-left: 1em; padding-right: 1em; text-align: center; vertical-align: top\">the stormlands</td>\n",
       "        <td style=\"padding-left: 1em; padding-right: 1em; text-align: center; vertical-align: top\">green fork</td>\n",
       "        <td style=\"padding-left: 1em; padding-right: 1em; text-align: center; vertical-align: top\">norvoshi</td>\n",
       "        <td style=\"padding-left: 1em; padding-right: 1em; text-align: center; vertical-align: top\">archmaester</td>\n",
       "    </tr>\n",
       "</table>\n",
       "<table frame=\"box\" rules=\"cols\">\n",
       "    <tr>\n",
       "        <th style=\"padding-left: 1em; padding-right: 1em; text-align: center\">Outlet Type</th>\n",
       "        <th style=\"padding-left: 1em; padding-right: 1em; text-align: center\">Outlet Name</th>\n",
       "        <th style=\"padding-left: 1em; padding-right: 1em; text-align: center\">Product Category 1</th>\n",
       "        <th style=\"padding-left: 1em; padding-right: 1em; text-align: center\">Product Category 2</th>\n",
       "        <th style=\"padding-left: 1em; padding-right: 1em; text-align: center\">Product</th>\n",
       "    </tr>\n",
       "    <tr>\n",
       "        <td style=\"padding-left: 1em; padding-right: 1em; text-align: center; vertical-align: top\">house arryn</td>\n",
       "        <td style=\"padding-left: 1em; padding-right: 1em; text-align: center; vertical-align: top\">addison hill</td>\n",
       "        <td style=\"padding-left: 1em; padding-right: 1em; text-align: center; vertical-align: top\">korean</td>\n",
       "        <td style=\"padding-left: 1em; padding-right: 1em; text-align: center; vertical-align: top\">dry yeast</td>\n",
       "        <td style=\"padding-left: 1em; padding-right: 1em; text-align: center; vertical-align: top\">wheels</td>\n",
       "    </tr>\n",
       "    <tr>\n",
       "        <td style=\"padding-left: 1em; padding-right: 1em; text-align: center; vertical-align: top\">night's watch</td>\n",
       "        <td style=\"padding-left: 1em; padding-right: 1em; text-align: center; vertical-align: top\">valarr targaryen</td>\n",
       "        <td style=\"padding-left: 1em; padding-right: 1em; text-align: center; vertical-align: top\">greek</td>\n",
       "        <td style=\"padding-left: 1em; padding-right: 1em; text-align: center; vertical-align: top\">amaretti</td>\n",
       "        <td style=\"padding-left: 1em; padding-right: 1em; text-align: center; vertical-align: top\">green olives</td>\n",
       "    </tr>\n",
       "    <tr>\n",
       "        <td style=\"padding-left: 1em; padding-right: 1em; text-align: center; vertical-align: top\">house wode</td>\n",
       "        <td style=\"padding-left: 1em; padding-right: 1em; text-align: center; vertical-align: top\">wilbert</td>\n",
       "        <td style=\"padding-left: 1em; padding-right: 1em; text-align: center; vertical-align: top\">indian</td>\n",
       "        <td style=\"padding-left: 1em; padding-right: 1em; text-align: center; vertical-align: top\">fino sherry</td>\n",
       "        <td style=\"padding-left: 1em; padding-right: 1em; text-align: center; vertical-align: top\">scallops</td>\n",
       "    </tr>\n",
       "    <tr>\n",
       "        <td style=\"padding-left: 1em; padding-right: 1em; text-align: center; vertical-align: top\">house humble</td>\n",
       "        <td style=\"padding-left: 1em; padding-right: 1em; text-align: center; vertical-align: top\">will (orphan)</td>\n",
       "        <td style=\"padding-left: 1em; padding-right: 1em; text-align: center; vertical-align: top\">mexican</td>\n",
       "        <td style=\"padding-left: 1em; padding-right: 1em; text-align: center; vertical-align: top\">maggi</td>\n",
       "        <td style=\"padding-left: 1em; padding-right: 1em; text-align: center; vertical-align: top\">bacon rind</td>\n",
       "    </tr>\n",
       "    <tr>\n",
       "        <td style=\"padding-left: 1em; padding-right: 1em; text-align: center; vertical-align: top\">house arryn</td>\n",
       "        <td style=\"padding-left: 1em; padding-right: 1em; text-align: center; vertical-align: top\">will (squire)</td>\n",
       "        <td style=\"padding-left: 1em; padding-right: 1em; text-align: center; vertical-align: top\">indian</td>\n",
       "        <td style=\"padding-left: 1em; padding-right: 1em; text-align: center; vertical-align: top\">fino sherry</td>\n",
       "        <td style=\"padding-left: 1em; padding-right: 1em; text-align: center; vertical-align: top\">runny honey</td>\n",
       "    </tr>\n",
       "    <tr>\n",
       "        <td style=\"padding-left: 1em; padding-right: 1em; text-align: center; vertical-align: top\">house fell</td>\n",
       "        <td style=\"padding-left: 1em; padding-right: 1em; text-align: center; vertical-align: top\">will (standfast)</td>\n",
       "        <td style=\"padding-left: 1em; padding-right: 1em; text-align: center; vertical-align: top\">greek</td>\n",
       "        <td style=\"padding-left: 1em; padding-right: 1em; text-align: center; vertical-align: top\">amaretti</td>\n",
       "        <td style=\"padding-left: 1em; padding-right: 1em; text-align: center; vertical-align: top\">green olives</td>\n",
       "    </tr>\n",
       "    <tr>\n",
       "        <td style=\"padding-left: 1em; padding-right: 1em; text-align: center; vertical-align: top\">brotherhood without<br>banners ...</td>\n",
       "        <td style=\"padding-left: 1em; padding-right: 1em; text-align: center; vertical-align: top\">will (treb)</td>\n",
       "        <td style=\"padding-left: 1em; padding-right: 1em; text-align: center; vertical-align: top\">mexican</td>\n",
       "        <td style=\"padding-left: 1em; padding-right: 1em; text-align: center; vertical-align: top\">maggi</td>\n",
       "        <td style=\"padding-left: 1em; padding-right: 1em; text-align: center; vertical-align: top\">bacon rind</td>\n",
       "    </tr>\n",
       "    <tr>\n",
       "        <td style=\"padding-left: 1em; padding-right: 1em; text-align: center; vertical-align: top\">house frey</td>\n",
       "        <td style=\"padding-left: 1em; padding-right: 1em; text-align: center; vertical-align: top\">willem wylde</td>\n",
       "        <td style=\"padding-left: 1em; padding-right: 1em; text-align: center; vertical-align: top\">indian</td>\n",
       "        <td style=\"padding-left: 1em; padding-right: 1em; text-align: center; vertical-align: top\">fino sherry</td>\n",
       "        <td style=\"padding-left: 1em; padding-right: 1em; text-align: center; vertical-align: top\">nonfat ricotta cheese</td>\n",
       "    </tr>\n",
       "    <tr>\n",
       "        <td style=\"padding-left: 1em; padding-right: 1em; text-align: center; vertical-align: top\">house osgrey</td>\n",
       "        <td style=\"padding-left: 1em; padding-right: 1em; text-align: center; vertical-align: top\">viserys ii targaryen</td>\n",
       "        <td style=\"padding-left: 1em; padding-right: 1em; text-align: center; vertical-align: top\">mexican</td>\n",
       "        <td style=\"padding-left: 1em; padding-right: 1em; text-align: center; vertical-align: top\">maggi</td>\n",
       "        <td style=\"padding-left: 1em; padding-right: 1em; text-align: center; vertical-align: top\">spiced rum</td>\n",
       "    </tr>\n",
       "    <tr>\n",
       "        <td style=\"padding-left: 1em; padding-right: 1em; text-align: center; vertical-align: top\">house santagar</td>\n",
       "        <td style=\"padding-left: 1em; padding-right: 1em; text-align: center; vertical-align: top\">viserys ii targaryen</td>\n",
       "        <td style=\"padding-left: 1em; padding-right: 1em; text-align: center; vertical-align: top\">mexican</td>\n",
       "        <td style=\"padding-left: 1em; padding-right: 1em; text-align: center; vertical-align: top\">maggi</td>\n",
       "        <td style=\"padding-left: 1em; padding-right: 1em; text-align: center; vertical-align: top\">mexican chocolate</td>\n",
       "    </tr>\n",
       "</table>\n",
       "<table frame=\"box\" rules=\"cols\">\n",
       "    <tr>\n",
       "        <th style=\"padding-left: 1em; padding-right: 1em; text-align: center\">Units sold</th>\n",
       "        <th style=\"padding-left: 1em; padding-right: 1em; text-align: center\">Revenue</th>\n",
       "        <th style=\"padding-left: 1em; padding-right: 1em; text-align: center\">Commission</th>\n",
       "        <th style=\"padding-left: 1em; padding-right: 1em; text-align: center\">men_market_share</th>\n",
       "    </tr>\n",
       "    <tr>\n",
       "        <td style=\"padding-left: 1em; padding-right: 1em; text-align: center; vertical-align: top\">2.47500571874</td>\n",
       "        <td style=\"padding-left: 1em; padding-right: 1em; text-align: center; vertical-align: top\">54351.1255835</td>\n",
       "        <td style=\"padding-left: 1em; padding-right: 1em; text-align: center; vertical-align: top\">4393.13515077</td>\n",
       "        <td style=\"padding-left: 1em; padding-right: 1em; text-align: center; vertical-align: top\">0.321940888594</td>\n",
       "    </tr>\n",
       "    <tr>\n",
       "        <td style=\"padding-left: 1em; padding-right: 1em; text-align: center; vertical-align: top\">72.2760630542</td>\n",
       "        <td style=\"padding-left: 1em; padding-right: 1em; text-align: center; vertical-align: top\">416310.123192</td>\n",
       "        <td style=\"padding-left: 1em; padding-right: 1em; text-align: center; vertical-align: top\">4400.33678007</td>\n",
       "        <td style=\"padding-left: 1em; padding-right: 1em; text-align: center; vertical-align: top\">0.417346250519</td>\n",
       "    </tr>\n",
       "    <tr>\n",
       "        <td style=\"padding-left: 1em; padding-right: 1em; text-align: center; vertical-align: top\">12.4797986286</td>\n",
       "        <td style=\"padding-left: 1em; padding-right: 1em; text-align: center; vertical-align: top\">149757.583543</td>\n",
       "        <td style=\"padding-left: 1em; padding-right: 1em; text-align: center; vertical-align: top\">3804.17231693</td>\n",
       "        <td style=\"padding-left: 1em; padding-right: 1em; text-align: center; vertical-align: top\">0.601633887087</td>\n",
       "    </tr>\n",
       "    <tr>\n",
       "        <td style=\"padding-left: 1em; padding-right: 1em; text-align: center; vertical-align: top\">50.3781174364</td>\n",
       "        <td style=\"padding-left: 1em; padding-right: 1em; text-align: center; vertical-align: top\">362722.445542</td>\n",
       "        <td style=\"padding-left: 1em; padding-right: 1em; text-align: center; vertical-align: top\">15113.4274705</td>\n",
       "        <td style=\"padding-left: 1em; padding-right: 1em; text-align: center; vertical-align: top\">0.703555949108</td>\n",
       "    </tr>\n",
       "    <tr>\n",
       "        <td style=\"padding-left: 1em; padding-right: 1em; text-align: center; vertical-align: top\">4.95273875932</td>\n",
       "        <td style=\"padding-left: 1em; padding-right: 1em; text-align: center; vertical-align: top\">59432.8651118</td>\n",
       "        <td style=\"padding-left: 1em; padding-right: 1em; text-align: center; vertical-align: top\">0.0</td>\n",
       "        <td style=\"padding-left: 1em; padding-right: 1em; text-align: center; vertical-align: top\">0.601633887087</td>\n",
       "    </tr>\n",
       "    <tr>\n",
       "        <td style=\"padding-left: 1em; padding-right: 1em; text-align: center; vertical-align: top\">50.118290224</td>\n",
       "        <td style=\"padding-left: 1em; padding-right: 1em; text-align: center; vertical-align: top\">288681.35169</td>\n",
       "        <td style=\"padding-left: 1em; padding-right: 1em; text-align: center; vertical-align: top\">9656.60750034</td>\n",
       "        <td style=\"padding-left: 1em; padding-right: 1em; text-align: center; vertical-align: top\">0.417346250519</td>\n",
       "    </tr>\n",
       "    <tr>\n",
       "        <td style=\"padding-left: 1em; padding-right: 1em; text-align: center; vertical-align: top\">24.8490507445</td>\n",
       "        <td style=\"padding-left: 1em; padding-right: 1em; text-align: center; vertical-align: top\">178913.165361</td>\n",
       "        <td style=\"padding-left: 1em; padding-right: 1em; text-align: center; vertical-align: top\">6201.39384111</td>\n",
       "        <td style=\"padding-left: 1em; padding-right: 1em; text-align: center; vertical-align: top\">0.703555949108</td>\n",
       "    </tr>\n",
       "    <tr>\n",
       "        <td style=\"padding-left: 1em; padding-right: 1em; text-align: center; vertical-align: top\">32.3787257158</td>\n",
       "        <td style=\"padding-left: 1em; padding-right: 1em; text-align: center; vertical-align: top\">388544.70859</td>\n",
       "        <td style=\"padding-left: 1em; padding-right: 1em; text-align: center; vertical-align: top\">29373.7241772</td>\n",
       "        <td style=\"padding-left: 1em; padding-right: 1em; text-align: center; vertical-align: top\">0.601633887087</td>\n",
       "    </tr>\n",
       "    <tr>\n",
       "        <td style=\"padding-left: 1em; padding-right: 1em; text-align: center; vertical-align: top\">4.95850442114</td>\n",
       "        <td style=\"padding-left: 1em; padding-right: 1em; text-align: center; vertical-align: top\">30147.7068805</td>\n",
       "        <td style=\"padding-left: 1em; padding-right: 1em; text-align: center; vertical-align: top\">0.0</td>\n",
       "        <td style=\"padding-left: 1em; padding-right: 1em; text-align: center; vertical-align: top\">0.703555949108</td>\n",
       "    </tr>\n",
       "    <tr>\n",
       "        <td style=\"padding-left: 1em; padding-right: 1em; text-align: center; vertical-align: top\">2.52289447651</td>\n",
       "        <td style=\"padding-left: 1em; padding-right: 1em; text-align: center; vertical-align: top\">17483.6587222</td>\n",
       "        <td style=\"padding-left: 1em; padding-right: 1em; text-align: center; vertical-align: top\">0.0</td>\n",
       "        <td style=\"padding-left: 1em; padding-right: 1em; text-align: center; vertical-align: top\">0.703555949108</td>\n",
       "    </tr>\n",
       "</table>\n",
       "[354501 rows x 16 columns]<br/>Note: Only the head of the SFrame is printed.<br/>You can use print_rows(num_rows=m, num_columns=n) to print more rows and columns.\n",
       "</div>"
      ],
      "text/plain": [
       "Columns:\n",
       "\tYEAR\tint\n",
       "\tMONTH\tstr\n",
       "\tCompany\tstr\n",
       "\tArea 1\tstr\n",
       "\tArea 2\tstr\n",
       "\tArea 3\tstr\n",
       "\tArea 3 Classification\tstr\n",
       "\tOutlet Type\tstr\n",
       "\tOutlet Name\tstr\n",
       "\tProduct Category 1\tstr\n",
       "\tProduct Category 2\tstr\n",
       "\tProduct\tstr\n",
       "\tUnits sold\tfloat\n",
       "\tRevenue\tfloat\n",
       "\tCommission\tfloat\n",
       "\tmen_market_share\tfloat\n",
       "\n",
       "Rows: 354501\n",
       "\n",
       "Data:\n",
       "+------+-------+---------+-----------------+------------------+--------------+\n",
       "| YEAR | MONTH | Company |      Area 1     |      Area 2      |    Area 3    |\n",
       "+------+-------+---------+-----------------+------------------+--------------+\n",
       "| 2018 |  JUN  |   men   |    the north    |     riverrun     |   valyrian   |\n",
       "| 2018 |  JUN  |   men   |    the north    |   moat cailin    | summer isles |\n",
       "| 2018 |  MAR  |   men   | beyond the wall |  deepwood motte  |   ghiscari   |\n",
       "| 2018 |  JAN  |   men   | beyond the wall |  deepwood motte  |   tyroshi    |\n",
       "| 2018 |  FEB  |   men   |    the north    |     riverrun     |  lhazarene   |\n",
       "| 2018 |  MAR  |   men   | the westerlands | torrhen's square |   ironmen    |\n",
       "| 2018 |  JAN  |   men   |  the crownlands |    winterfell    |  westermen   |\n",
       "| 2018 |  JUN  |   men   | the westerlands |   golden tooth   |   rivermen   |\n",
       "| 2018 |  JUN  |   men   |  the riverlands |      darry       |    qarth     |\n",
       "| 2018 |  JUN  |   men   |  the stormlands |    green fork    |   norvoshi   |\n",
       "+------+-------+---------+-----------------+------------------+--------------+\n",
       "+-----------------------+-----------------------------+----------------------+\n",
       "| Area 3 Classification |         Outlet Type         |     Outlet Name      |\n",
       "+-----------------------+-----------------------------+----------------------+\n",
       "|          ser          |         house arryn         |     addison hill     |\n",
       "|       greenstone      |        night's watch        |   valarr targaryen   |\n",
       "|          ser          |          house wode         |       wilbert        |\n",
       "|       greenstone      |         house humble        |    will (orphan)     |\n",
       "|    hand of the king   |         house arryn         |    will (squire)     |\n",
       "|  lord of the crossing |          house fell         |   will (standfast)   |\n",
       "|          ser          | brotherhood without banners |     will (treb)      |\n",
       "|  lord of the crossing |          house frey         |     willem wylde     |\n",
       "|          ser          |         house osgrey        | viserys ii targaryen |\n",
       "|      archmaester      |        house santagar       | viserys ii targaryen |\n",
       "+-----------------------+-----------------------------+----------------------+\n",
       "+--------------------+--------------------+-----------------------+\n",
       "| Product Category 1 | Product Category 2 |        Product        |\n",
       "+--------------------+--------------------+-----------------------+\n",
       "|       korean       |     dry yeast      |         wheels        |\n",
       "|       greek        |      amaretti      |      green olives     |\n",
       "|       indian       |    fino sherry     |        scallops       |\n",
       "|      mexican       |       maggi        |       bacon rind      |\n",
       "|       indian       |    fino sherry     |      runny honey      |\n",
       "|       greek        |      amaretti      |      green olives     |\n",
       "|      mexican       |       maggi        |       bacon rind      |\n",
       "|       indian       |    fino sherry     | nonfat ricotta cheese |\n",
       "|      mexican       |       maggi        |       spiced rum      |\n",
       "|      mexican       |       maggi        |   mexican chocolate   |\n",
       "+--------------------+--------------------+-----------------------+\n",
       "+---------------+---------------+---------------+------------------+\n",
       "|   Units sold  |    Revenue    |   Commission  | men_market_share |\n",
       "+---------------+---------------+---------------+------------------+\n",
       "| 2.47500571874 | 54351.1255835 | 4393.13515077 |  0.321940888594  |\n",
       "| 72.2760630542 | 416310.123192 | 4400.33678007 |  0.417346250519  |\n",
       "| 12.4797986286 | 149757.583543 | 3804.17231693 |  0.601633887087  |\n",
       "| 50.3781174364 | 362722.445542 | 15113.4274705 |  0.703555949108  |\n",
       "| 4.95273875932 | 59432.8651118 |      0.0      |  0.601633887087  |\n",
       "|  50.118290224 |  288681.35169 | 9656.60750034 |  0.417346250519  |\n",
       "| 24.8490507445 | 178913.165361 | 6201.39384111 |  0.703555949108  |\n",
       "| 32.3787257158 |  388544.70859 | 29373.7241772 |  0.601633887087  |\n",
       "| 4.95850442114 | 30147.7068805 |      0.0      |  0.703555949108  |\n",
       "| 2.52289447651 | 17483.6587222 |      0.0      |  0.703555949108  |\n",
       "+---------------+---------------+---------------+------------------+\n",
       "[354501 rows x 16 columns]\n",
       "Note: Only the head of the SFrame is printed.\n",
       "You can use print_rows(num_rows=m, num_columns=n) to print more rows and columns."
      ]
     },
     "execution_count": 83,
     "metadata": {},
     "output_type": "execute_result"
    }
   ],
   "source": [
    "men_data"
   ]
  },
  {
   "cell_type": "code",
   "execution_count": 84,
   "metadata": {
    "collapsed": true
   },
   "outputs": [],
   "source": [
    "def transform1(row):\n",
    "    return (1-row['men_market_share'])"
   ]
  },
  {
   "cell_type": "code",
   "execution_count": 85,
   "metadata": {
    "collapsed": true
   },
   "outputs": [],
   "source": [
    "men_data['white_walkers_market_share']=men_data.apply(transform1)"
   ]
  },
  {
   "cell_type": "code",
   "execution_count": 86,
   "metadata": {
    "collapsed": false
   },
   "outputs": [
    {
     "data": {
      "text/html": [
       "<div style=\"max-height:1000px;max-width:1500px;overflow:auto;\"><table frame=\"box\" rules=\"cols\">\n",
       "    <tr>\n",
       "        <th style=\"padding-left: 1em; padding-right: 1em; text-align: center\">YEAR</th>\n",
       "        <th style=\"padding-left: 1em; padding-right: 1em; text-align: center\">MONTH</th>\n",
       "        <th style=\"padding-left: 1em; padding-right: 1em; text-align: center\">Company</th>\n",
       "        <th style=\"padding-left: 1em; padding-right: 1em; text-align: center\">Area 1</th>\n",
       "        <th style=\"padding-left: 1em; padding-right: 1em; text-align: center\">Area 2</th>\n",
       "        <th style=\"padding-left: 1em; padding-right: 1em; text-align: center\">Area 3</th>\n",
       "        <th style=\"padding-left: 1em; padding-right: 1em; text-align: center\">Area 3 Classification</th>\n",
       "    </tr>\n",
       "    <tr>\n",
       "        <td style=\"padding-left: 1em; padding-right: 1em; text-align: center; vertical-align: top\">2018</td>\n",
       "        <td style=\"padding-left: 1em; padding-right: 1em; text-align: center; vertical-align: top\">JUN</td>\n",
       "        <td style=\"padding-left: 1em; padding-right: 1em; text-align: center; vertical-align: top\">men</td>\n",
       "        <td style=\"padding-left: 1em; padding-right: 1em; text-align: center; vertical-align: top\">the north</td>\n",
       "        <td style=\"padding-left: 1em; padding-right: 1em; text-align: center; vertical-align: top\">riverrun</td>\n",
       "        <td style=\"padding-left: 1em; padding-right: 1em; text-align: center; vertical-align: top\">valyrian</td>\n",
       "        <td style=\"padding-left: 1em; padding-right: 1em; text-align: center; vertical-align: top\">ser</td>\n",
       "    </tr>\n",
       "    <tr>\n",
       "        <td style=\"padding-left: 1em; padding-right: 1em; text-align: center; vertical-align: top\">2018</td>\n",
       "        <td style=\"padding-left: 1em; padding-right: 1em; text-align: center; vertical-align: top\">JUN</td>\n",
       "        <td style=\"padding-left: 1em; padding-right: 1em; text-align: center; vertical-align: top\">men</td>\n",
       "        <td style=\"padding-left: 1em; padding-right: 1em; text-align: center; vertical-align: top\">the north</td>\n",
       "        <td style=\"padding-left: 1em; padding-right: 1em; text-align: center; vertical-align: top\">moat cailin</td>\n",
       "        <td style=\"padding-left: 1em; padding-right: 1em; text-align: center; vertical-align: top\">summer isles</td>\n",
       "        <td style=\"padding-left: 1em; padding-right: 1em; text-align: center; vertical-align: top\">greenstone</td>\n",
       "    </tr>\n",
       "    <tr>\n",
       "        <td style=\"padding-left: 1em; padding-right: 1em; text-align: center; vertical-align: top\">2018</td>\n",
       "        <td style=\"padding-left: 1em; padding-right: 1em; text-align: center; vertical-align: top\">MAR</td>\n",
       "        <td style=\"padding-left: 1em; padding-right: 1em; text-align: center; vertical-align: top\">men</td>\n",
       "        <td style=\"padding-left: 1em; padding-right: 1em; text-align: center; vertical-align: top\">beyond the wall</td>\n",
       "        <td style=\"padding-left: 1em; padding-right: 1em; text-align: center; vertical-align: top\">deepwood motte</td>\n",
       "        <td style=\"padding-left: 1em; padding-right: 1em; text-align: center; vertical-align: top\">ghiscari</td>\n",
       "        <td style=\"padding-left: 1em; padding-right: 1em; text-align: center; vertical-align: top\">ser</td>\n",
       "    </tr>\n",
       "    <tr>\n",
       "        <td style=\"padding-left: 1em; padding-right: 1em; text-align: center; vertical-align: top\">2018</td>\n",
       "        <td style=\"padding-left: 1em; padding-right: 1em; text-align: center; vertical-align: top\">JAN</td>\n",
       "        <td style=\"padding-left: 1em; padding-right: 1em; text-align: center; vertical-align: top\">men</td>\n",
       "        <td style=\"padding-left: 1em; padding-right: 1em; text-align: center; vertical-align: top\">beyond the wall</td>\n",
       "        <td style=\"padding-left: 1em; padding-right: 1em; text-align: center; vertical-align: top\">deepwood motte</td>\n",
       "        <td style=\"padding-left: 1em; padding-right: 1em; text-align: center; vertical-align: top\">tyroshi</td>\n",
       "        <td style=\"padding-left: 1em; padding-right: 1em; text-align: center; vertical-align: top\">greenstone</td>\n",
       "    </tr>\n",
       "    <tr>\n",
       "        <td style=\"padding-left: 1em; padding-right: 1em; text-align: center; vertical-align: top\">2018</td>\n",
       "        <td style=\"padding-left: 1em; padding-right: 1em; text-align: center; vertical-align: top\">FEB</td>\n",
       "        <td style=\"padding-left: 1em; padding-right: 1em; text-align: center; vertical-align: top\">men</td>\n",
       "        <td style=\"padding-left: 1em; padding-right: 1em; text-align: center; vertical-align: top\">the north</td>\n",
       "        <td style=\"padding-left: 1em; padding-right: 1em; text-align: center; vertical-align: top\">riverrun</td>\n",
       "        <td style=\"padding-left: 1em; padding-right: 1em; text-align: center; vertical-align: top\">lhazarene</td>\n",
       "        <td style=\"padding-left: 1em; padding-right: 1em; text-align: center; vertical-align: top\">hand of the king</td>\n",
       "    </tr>\n",
       "    <tr>\n",
       "        <td style=\"padding-left: 1em; padding-right: 1em; text-align: center; vertical-align: top\">2018</td>\n",
       "        <td style=\"padding-left: 1em; padding-right: 1em; text-align: center; vertical-align: top\">MAR</td>\n",
       "        <td style=\"padding-left: 1em; padding-right: 1em; text-align: center; vertical-align: top\">men</td>\n",
       "        <td style=\"padding-left: 1em; padding-right: 1em; text-align: center; vertical-align: top\">the westerlands</td>\n",
       "        <td style=\"padding-left: 1em; padding-right: 1em; text-align: center; vertical-align: top\">torrhen's square</td>\n",
       "        <td style=\"padding-left: 1em; padding-right: 1em; text-align: center; vertical-align: top\">ironmen</td>\n",
       "        <td style=\"padding-left: 1em; padding-right: 1em; text-align: center; vertical-align: top\">lord of the crossing</td>\n",
       "    </tr>\n",
       "    <tr>\n",
       "        <td style=\"padding-left: 1em; padding-right: 1em; text-align: center; vertical-align: top\">2018</td>\n",
       "        <td style=\"padding-left: 1em; padding-right: 1em; text-align: center; vertical-align: top\">JAN</td>\n",
       "        <td style=\"padding-left: 1em; padding-right: 1em; text-align: center; vertical-align: top\">men</td>\n",
       "        <td style=\"padding-left: 1em; padding-right: 1em; text-align: center; vertical-align: top\">the crownlands</td>\n",
       "        <td style=\"padding-left: 1em; padding-right: 1em; text-align: center; vertical-align: top\">winterfell</td>\n",
       "        <td style=\"padding-left: 1em; padding-right: 1em; text-align: center; vertical-align: top\">westermen</td>\n",
       "        <td style=\"padding-left: 1em; padding-right: 1em; text-align: center; vertical-align: top\">ser</td>\n",
       "    </tr>\n",
       "    <tr>\n",
       "        <td style=\"padding-left: 1em; padding-right: 1em; text-align: center; vertical-align: top\">2018</td>\n",
       "        <td style=\"padding-left: 1em; padding-right: 1em; text-align: center; vertical-align: top\">JUN</td>\n",
       "        <td style=\"padding-left: 1em; padding-right: 1em; text-align: center; vertical-align: top\">men</td>\n",
       "        <td style=\"padding-left: 1em; padding-right: 1em; text-align: center; vertical-align: top\">the westerlands</td>\n",
       "        <td style=\"padding-left: 1em; padding-right: 1em; text-align: center; vertical-align: top\">golden tooth</td>\n",
       "        <td style=\"padding-left: 1em; padding-right: 1em; text-align: center; vertical-align: top\">rivermen</td>\n",
       "        <td style=\"padding-left: 1em; padding-right: 1em; text-align: center; vertical-align: top\">lord of the crossing</td>\n",
       "    </tr>\n",
       "    <tr>\n",
       "        <td style=\"padding-left: 1em; padding-right: 1em; text-align: center; vertical-align: top\">2018</td>\n",
       "        <td style=\"padding-left: 1em; padding-right: 1em; text-align: center; vertical-align: top\">JUN</td>\n",
       "        <td style=\"padding-left: 1em; padding-right: 1em; text-align: center; vertical-align: top\">men</td>\n",
       "        <td style=\"padding-left: 1em; padding-right: 1em; text-align: center; vertical-align: top\">the riverlands</td>\n",
       "        <td style=\"padding-left: 1em; padding-right: 1em; text-align: center; vertical-align: top\">darry</td>\n",
       "        <td style=\"padding-left: 1em; padding-right: 1em; text-align: center; vertical-align: top\">qarth</td>\n",
       "        <td style=\"padding-left: 1em; padding-right: 1em; text-align: center; vertical-align: top\">ser</td>\n",
       "    </tr>\n",
       "    <tr>\n",
       "        <td style=\"padding-left: 1em; padding-right: 1em; text-align: center; vertical-align: top\">2018</td>\n",
       "        <td style=\"padding-left: 1em; padding-right: 1em; text-align: center; vertical-align: top\">JUN</td>\n",
       "        <td style=\"padding-left: 1em; padding-right: 1em; text-align: center; vertical-align: top\">men</td>\n",
       "        <td style=\"padding-left: 1em; padding-right: 1em; text-align: center; vertical-align: top\">the stormlands</td>\n",
       "        <td style=\"padding-left: 1em; padding-right: 1em; text-align: center; vertical-align: top\">green fork</td>\n",
       "        <td style=\"padding-left: 1em; padding-right: 1em; text-align: center; vertical-align: top\">norvoshi</td>\n",
       "        <td style=\"padding-left: 1em; padding-right: 1em; text-align: center; vertical-align: top\">archmaester</td>\n",
       "    </tr>\n",
       "</table>\n",
       "<table frame=\"box\" rules=\"cols\">\n",
       "    <tr>\n",
       "        <th style=\"padding-left: 1em; padding-right: 1em; text-align: center\">Outlet Type</th>\n",
       "        <th style=\"padding-left: 1em; padding-right: 1em; text-align: center\">Outlet Name</th>\n",
       "        <th style=\"padding-left: 1em; padding-right: 1em; text-align: center\">Product Category 1</th>\n",
       "        <th style=\"padding-left: 1em; padding-right: 1em; text-align: center\">Product Category 2</th>\n",
       "        <th style=\"padding-left: 1em; padding-right: 1em; text-align: center\">Product</th>\n",
       "    </tr>\n",
       "    <tr>\n",
       "        <td style=\"padding-left: 1em; padding-right: 1em; text-align: center; vertical-align: top\">house arryn</td>\n",
       "        <td style=\"padding-left: 1em; padding-right: 1em; text-align: center; vertical-align: top\">addison hill</td>\n",
       "        <td style=\"padding-left: 1em; padding-right: 1em; text-align: center; vertical-align: top\">korean</td>\n",
       "        <td style=\"padding-left: 1em; padding-right: 1em; text-align: center; vertical-align: top\">dry yeast</td>\n",
       "        <td style=\"padding-left: 1em; padding-right: 1em; text-align: center; vertical-align: top\">wheels</td>\n",
       "    </tr>\n",
       "    <tr>\n",
       "        <td style=\"padding-left: 1em; padding-right: 1em; text-align: center; vertical-align: top\">night's watch</td>\n",
       "        <td style=\"padding-left: 1em; padding-right: 1em; text-align: center; vertical-align: top\">valarr targaryen</td>\n",
       "        <td style=\"padding-left: 1em; padding-right: 1em; text-align: center; vertical-align: top\">greek</td>\n",
       "        <td style=\"padding-left: 1em; padding-right: 1em; text-align: center; vertical-align: top\">amaretti</td>\n",
       "        <td style=\"padding-left: 1em; padding-right: 1em; text-align: center; vertical-align: top\">green olives</td>\n",
       "    </tr>\n",
       "    <tr>\n",
       "        <td style=\"padding-left: 1em; padding-right: 1em; text-align: center; vertical-align: top\">house wode</td>\n",
       "        <td style=\"padding-left: 1em; padding-right: 1em; text-align: center; vertical-align: top\">wilbert</td>\n",
       "        <td style=\"padding-left: 1em; padding-right: 1em; text-align: center; vertical-align: top\">indian</td>\n",
       "        <td style=\"padding-left: 1em; padding-right: 1em; text-align: center; vertical-align: top\">fino sherry</td>\n",
       "        <td style=\"padding-left: 1em; padding-right: 1em; text-align: center; vertical-align: top\">scallops</td>\n",
       "    </tr>\n",
       "    <tr>\n",
       "        <td style=\"padding-left: 1em; padding-right: 1em; text-align: center; vertical-align: top\">house humble</td>\n",
       "        <td style=\"padding-left: 1em; padding-right: 1em; text-align: center; vertical-align: top\">will (orphan)</td>\n",
       "        <td style=\"padding-left: 1em; padding-right: 1em; text-align: center; vertical-align: top\">mexican</td>\n",
       "        <td style=\"padding-left: 1em; padding-right: 1em; text-align: center; vertical-align: top\">maggi</td>\n",
       "        <td style=\"padding-left: 1em; padding-right: 1em; text-align: center; vertical-align: top\">bacon rind</td>\n",
       "    </tr>\n",
       "    <tr>\n",
       "        <td style=\"padding-left: 1em; padding-right: 1em; text-align: center; vertical-align: top\">house arryn</td>\n",
       "        <td style=\"padding-left: 1em; padding-right: 1em; text-align: center; vertical-align: top\">will (squire)</td>\n",
       "        <td style=\"padding-left: 1em; padding-right: 1em; text-align: center; vertical-align: top\">indian</td>\n",
       "        <td style=\"padding-left: 1em; padding-right: 1em; text-align: center; vertical-align: top\">fino sherry</td>\n",
       "        <td style=\"padding-left: 1em; padding-right: 1em; text-align: center; vertical-align: top\">runny honey</td>\n",
       "    </tr>\n",
       "    <tr>\n",
       "        <td style=\"padding-left: 1em; padding-right: 1em; text-align: center; vertical-align: top\">house fell</td>\n",
       "        <td style=\"padding-left: 1em; padding-right: 1em; text-align: center; vertical-align: top\">will (standfast)</td>\n",
       "        <td style=\"padding-left: 1em; padding-right: 1em; text-align: center; vertical-align: top\">greek</td>\n",
       "        <td style=\"padding-left: 1em; padding-right: 1em; text-align: center; vertical-align: top\">amaretti</td>\n",
       "        <td style=\"padding-left: 1em; padding-right: 1em; text-align: center; vertical-align: top\">green olives</td>\n",
       "    </tr>\n",
       "    <tr>\n",
       "        <td style=\"padding-left: 1em; padding-right: 1em; text-align: center; vertical-align: top\">brotherhood without<br>banners ...</td>\n",
       "        <td style=\"padding-left: 1em; padding-right: 1em; text-align: center; vertical-align: top\">will (treb)</td>\n",
       "        <td style=\"padding-left: 1em; padding-right: 1em; text-align: center; vertical-align: top\">mexican</td>\n",
       "        <td style=\"padding-left: 1em; padding-right: 1em; text-align: center; vertical-align: top\">maggi</td>\n",
       "        <td style=\"padding-left: 1em; padding-right: 1em; text-align: center; vertical-align: top\">bacon rind</td>\n",
       "    </tr>\n",
       "    <tr>\n",
       "        <td style=\"padding-left: 1em; padding-right: 1em; text-align: center; vertical-align: top\">house frey</td>\n",
       "        <td style=\"padding-left: 1em; padding-right: 1em; text-align: center; vertical-align: top\">willem wylde</td>\n",
       "        <td style=\"padding-left: 1em; padding-right: 1em; text-align: center; vertical-align: top\">indian</td>\n",
       "        <td style=\"padding-left: 1em; padding-right: 1em; text-align: center; vertical-align: top\">fino sherry</td>\n",
       "        <td style=\"padding-left: 1em; padding-right: 1em; text-align: center; vertical-align: top\">nonfat ricotta cheese</td>\n",
       "    </tr>\n",
       "    <tr>\n",
       "        <td style=\"padding-left: 1em; padding-right: 1em; text-align: center; vertical-align: top\">house osgrey</td>\n",
       "        <td style=\"padding-left: 1em; padding-right: 1em; text-align: center; vertical-align: top\">viserys ii targaryen</td>\n",
       "        <td style=\"padding-left: 1em; padding-right: 1em; text-align: center; vertical-align: top\">mexican</td>\n",
       "        <td style=\"padding-left: 1em; padding-right: 1em; text-align: center; vertical-align: top\">maggi</td>\n",
       "        <td style=\"padding-left: 1em; padding-right: 1em; text-align: center; vertical-align: top\">spiced rum</td>\n",
       "    </tr>\n",
       "    <tr>\n",
       "        <td style=\"padding-left: 1em; padding-right: 1em; text-align: center; vertical-align: top\">house santagar</td>\n",
       "        <td style=\"padding-left: 1em; padding-right: 1em; text-align: center; vertical-align: top\">viserys ii targaryen</td>\n",
       "        <td style=\"padding-left: 1em; padding-right: 1em; text-align: center; vertical-align: top\">mexican</td>\n",
       "        <td style=\"padding-left: 1em; padding-right: 1em; text-align: center; vertical-align: top\">maggi</td>\n",
       "        <td style=\"padding-left: 1em; padding-right: 1em; text-align: center; vertical-align: top\">mexican chocolate</td>\n",
       "    </tr>\n",
       "</table>\n",
       "<table frame=\"box\" rules=\"cols\">\n",
       "    <tr>\n",
       "        <th style=\"padding-left: 1em; padding-right: 1em; text-align: center\">Units sold</th>\n",
       "        <th style=\"padding-left: 1em; padding-right: 1em; text-align: center\">Revenue</th>\n",
       "        <th style=\"padding-left: 1em; padding-right: 1em; text-align: center\">Commission</th>\n",
       "        <th style=\"padding-left: 1em; padding-right: 1em; text-align: center\">men_market_share</th>\n",
       "        <th style=\"padding-left: 1em; padding-right: 1em; text-align: center\">white_walkers_market_shar<br>e ...</th>\n",
       "    </tr>\n",
       "    <tr>\n",
       "        <td style=\"padding-left: 1em; padding-right: 1em; text-align: center; vertical-align: top\">2.47500571874</td>\n",
       "        <td style=\"padding-left: 1em; padding-right: 1em; text-align: center; vertical-align: top\">54351.1255835</td>\n",
       "        <td style=\"padding-left: 1em; padding-right: 1em; text-align: center; vertical-align: top\">4393.13515077</td>\n",
       "        <td style=\"padding-left: 1em; padding-right: 1em; text-align: center; vertical-align: top\">0.321940888594</td>\n",
       "        <td style=\"padding-left: 1em; padding-right: 1em; text-align: center; vertical-align: top\">0.678059111406</td>\n",
       "    </tr>\n",
       "    <tr>\n",
       "        <td style=\"padding-left: 1em; padding-right: 1em; text-align: center; vertical-align: top\">72.2760630542</td>\n",
       "        <td style=\"padding-left: 1em; padding-right: 1em; text-align: center; vertical-align: top\">416310.123192</td>\n",
       "        <td style=\"padding-left: 1em; padding-right: 1em; text-align: center; vertical-align: top\">4400.33678007</td>\n",
       "        <td style=\"padding-left: 1em; padding-right: 1em; text-align: center; vertical-align: top\">0.417346250519</td>\n",
       "        <td style=\"padding-left: 1em; padding-right: 1em; text-align: center; vertical-align: top\">0.582653749481</td>\n",
       "    </tr>\n",
       "    <tr>\n",
       "        <td style=\"padding-left: 1em; padding-right: 1em; text-align: center; vertical-align: top\">12.4797986286</td>\n",
       "        <td style=\"padding-left: 1em; padding-right: 1em; text-align: center; vertical-align: top\">149757.583543</td>\n",
       "        <td style=\"padding-left: 1em; padding-right: 1em; text-align: center; vertical-align: top\">3804.17231693</td>\n",
       "        <td style=\"padding-left: 1em; padding-right: 1em; text-align: center; vertical-align: top\">0.601633887087</td>\n",
       "        <td style=\"padding-left: 1em; padding-right: 1em; text-align: center; vertical-align: top\">0.398366112913</td>\n",
       "    </tr>\n",
       "    <tr>\n",
       "        <td style=\"padding-left: 1em; padding-right: 1em; text-align: center; vertical-align: top\">50.3781174364</td>\n",
       "        <td style=\"padding-left: 1em; padding-right: 1em; text-align: center; vertical-align: top\">362722.445542</td>\n",
       "        <td style=\"padding-left: 1em; padding-right: 1em; text-align: center; vertical-align: top\">15113.4274705</td>\n",
       "        <td style=\"padding-left: 1em; padding-right: 1em; text-align: center; vertical-align: top\">0.703555949108</td>\n",
       "        <td style=\"padding-left: 1em; padding-right: 1em; text-align: center; vertical-align: top\">0.296444050892</td>\n",
       "    </tr>\n",
       "    <tr>\n",
       "        <td style=\"padding-left: 1em; padding-right: 1em; text-align: center; vertical-align: top\">4.95273875932</td>\n",
       "        <td style=\"padding-left: 1em; padding-right: 1em; text-align: center; vertical-align: top\">59432.8651118</td>\n",
       "        <td style=\"padding-left: 1em; padding-right: 1em; text-align: center; vertical-align: top\">0.0</td>\n",
       "        <td style=\"padding-left: 1em; padding-right: 1em; text-align: center; vertical-align: top\">0.601633887087</td>\n",
       "        <td style=\"padding-left: 1em; padding-right: 1em; text-align: center; vertical-align: top\">0.398366112913</td>\n",
       "    </tr>\n",
       "    <tr>\n",
       "        <td style=\"padding-left: 1em; padding-right: 1em; text-align: center; vertical-align: top\">50.118290224</td>\n",
       "        <td style=\"padding-left: 1em; padding-right: 1em; text-align: center; vertical-align: top\">288681.35169</td>\n",
       "        <td style=\"padding-left: 1em; padding-right: 1em; text-align: center; vertical-align: top\">9656.60750034</td>\n",
       "        <td style=\"padding-left: 1em; padding-right: 1em; text-align: center; vertical-align: top\">0.417346250519</td>\n",
       "        <td style=\"padding-left: 1em; padding-right: 1em; text-align: center; vertical-align: top\">0.582653749481</td>\n",
       "    </tr>\n",
       "    <tr>\n",
       "        <td style=\"padding-left: 1em; padding-right: 1em; text-align: center; vertical-align: top\">24.8490507445</td>\n",
       "        <td style=\"padding-left: 1em; padding-right: 1em; text-align: center; vertical-align: top\">178913.165361</td>\n",
       "        <td style=\"padding-left: 1em; padding-right: 1em; text-align: center; vertical-align: top\">6201.39384111</td>\n",
       "        <td style=\"padding-left: 1em; padding-right: 1em; text-align: center; vertical-align: top\">0.703555949108</td>\n",
       "        <td style=\"padding-left: 1em; padding-right: 1em; text-align: center; vertical-align: top\">0.296444050892</td>\n",
       "    </tr>\n",
       "    <tr>\n",
       "        <td style=\"padding-left: 1em; padding-right: 1em; text-align: center; vertical-align: top\">32.3787257158</td>\n",
       "        <td style=\"padding-left: 1em; padding-right: 1em; text-align: center; vertical-align: top\">388544.70859</td>\n",
       "        <td style=\"padding-left: 1em; padding-right: 1em; text-align: center; vertical-align: top\">29373.7241772</td>\n",
       "        <td style=\"padding-left: 1em; padding-right: 1em; text-align: center; vertical-align: top\">0.601633887087</td>\n",
       "        <td style=\"padding-left: 1em; padding-right: 1em; text-align: center; vertical-align: top\">0.398366112913</td>\n",
       "    </tr>\n",
       "    <tr>\n",
       "        <td style=\"padding-left: 1em; padding-right: 1em; text-align: center; vertical-align: top\">4.95850442114</td>\n",
       "        <td style=\"padding-left: 1em; padding-right: 1em; text-align: center; vertical-align: top\">30147.7068805</td>\n",
       "        <td style=\"padding-left: 1em; padding-right: 1em; text-align: center; vertical-align: top\">0.0</td>\n",
       "        <td style=\"padding-left: 1em; padding-right: 1em; text-align: center; vertical-align: top\">0.703555949108</td>\n",
       "        <td style=\"padding-left: 1em; padding-right: 1em; text-align: center; vertical-align: top\">0.296444050892</td>\n",
       "    </tr>\n",
       "    <tr>\n",
       "        <td style=\"padding-left: 1em; padding-right: 1em; text-align: center; vertical-align: top\">2.52289447651</td>\n",
       "        <td style=\"padding-left: 1em; padding-right: 1em; text-align: center; vertical-align: top\">17483.6587222</td>\n",
       "        <td style=\"padding-left: 1em; padding-right: 1em; text-align: center; vertical-align: top\">0.0</td>\n",
       "        <td style=\"padding-left: 1em; padding-right: 1em; text-align: center; vertical-align: top\">0.703555949108</td>\n",
       "        <td style=\"padding-left: 1em; padding-right: 1em; text-align: center; vertical-align: top\">0.296444050892</td>\n",
       "    </tr>\n",
       "</table>\n",
       "[354501 rows x 17 columns]<br/>Note: Only the head of the SFrame is printed.<br/>You can use print_rows(num_rows=m, num_columns=n) to print more rows and columns.\n",
       "</div>"
      ],
      "text/plain": [
       "Columns:\n",
       "\tYEAR\tint\n",
       "\tMONTH\tstr\n",
       "\tCompany\tstr\n",
       "\tArea 1\tstr\n",
       "\tArea 2\tstr\n",
       "\tArea 3\tstr\n",
       "\tArea 3 Classification\tstr\n",
       "\tOutlet Type\tstr\n",
       "\tOutlet Name\tstr\n",
       "\tProduct Category 1\tstr\n",
       "\tProduct Category 2\tstr\n",
       "\tProduct\tstr\n",
       "\tUnits sold\tfloat\n",
       "\tRevenue\tfloat\n",
       "\tCommission\tfloat\n",
       "\tmen_market_share\tfloat\n",
       "\twhite_walkers_market_share\tfloat\n",
       "\n",
       "Rows: 354501\n",
       "\n",
       "Data:\n",
       "+------+-------+---------+-----------------+------------------+--------------+\n",
       "| YEAR | MONTH | Company |      Area 1     |      Area 2      |    Area 3    |\n",
       "+------+-------+---------+-----------------+------------------+--------------+\n",
       "| 2018 |  JUN  |   men   |    the north    |     riverrun     |   valyrian   |\n",
       "| 2018 |  JUN  |   men   |    the north    |   moat cailin    | summer isles |\n",
       "| 2018 |  MAR  |   men   | beyond the wall |  deepwood motte  |   ghiscari   |\n",
       "| 2018 |  JAN  |   men   | beyond the wall |  deepwood motte  |   tyroshi    |\n",
       "| 2018 |  FEB  |   men   |    the north    |     riverrun     |  lhazarene   |\n",
       "| 2018 |  MAR  |   men   | the westerlands | torrhen's square |   ironmen    |\n",
       "| 2018 |  JAN  |   men   |  the crownlands |    winterfell    |  westermen   |\n",
       "| 2018 |  JUN  |   men   | the westerlands |   golden tooth   |   rivermen   |\n",
       "| 2018 |  JUN  |   men   |  the riverlands |      darry       |    qarth     |\n",
       "| 2018 |  JUN  |   men   |  the stormlands |    green fork    |   norvoshi   |\n",
       "+------+-------+---------+-----------------+------------------+--------------+\n",
       "+-----------------------+-----------------------------+----------------------+\n",
       "| Area 3 Classification |         Outlet Type         |     Outlet Name      |\n",
       "+-----------------------+-----------------------------+----------------------+\n",
       "|          ser          |         house arryn         |     addison hill     |\n",
       "|       greenstone      |        night's watch        |   valarr targaryen   |\n",
       "|          ser          |          house wode         |       wilbert        |\n",
       "|       greenstone      |         house humble        |    will (orphan)     |\n",
       "|    hand of the king   |         house arryn         |    will (squire)     |\n",
       "|  lord of the crossing |          house fell         |   will (standfast)   |\n",
       "|          ser          | brotherhood without banners |     will (treb)      |\n",
       "|  lord of the crossing |          house frey         |     willem wylde     |\n",
       "|          ser          |         house osgrey        | viserys ii targaryen |\n",
       "|      archmaester      |        house santagar       | viserys ii targaryen |\n",
       "+-----------------------+-----------------------------+----------------------+\n",
       "+--------------------+--------------------+-----------------------+\n",
       "| Product Category 1 | Product Category 2 |        Product        |\n",
       "+--------------------+--------------------+-----------------------+\n",
       "|       korean       |     dry yeast      |         wheels        |\n",
       "|       greek        |      amaretti      |      green olives     |\n",
       "|       indian       |    fino sherry     |        scallops       |\n",
       "|      mexican       |       maggi        |       bacon rind      |\n",
       "|       indian       |    fino sherry     |      runny honey      |\n",
       "|       greek        |      amaretti      |      green olives     |\n",
       "|      mexican       |       maggi        |       bacon rind      |\n",
       "|       indian       |    fino sherry     | nonfat ricotta cheese |\n",
       "|      mexican       |       maggi        |       spiced rum      |\n",
       "|      mexican       |       maggi        |   mexican chocolate   |\n",
       "+--------------------+--------------------+-----------------------+\n",
       "+---------------+---------------+---------------+------------------+\n",
       "|   Units sold  |    Revenue    |   Commission  | men_market_share |\n",
       "+---------------+---------------+---------------+------------------+\n",
       "| 2.47500571874 | 54351.1255835 | 4393.13515077 |  0.321940888594  |\n",
       "| 72.2760630542 | 416310.123192 | 4400.33678007 |  0.417346250519  |\n",
       "| 12.4797986286 | 149757.583543 | 3804.17231693 |  0.601633887087  |\n",
       "| 50.3781174364 | 362722.445542 | 15113.4274705 |  0.703555949108  |\n",
       "| 4.95273875932 | 59432.8651118 |      0.0      |  0.601633887087  |\n",
       "|  50.118290224 |  288681.35169 | 9656.60750034 |  0.417346250519  |\n",
       "| 24.8490507445 | 178913.165361 | 6201.39384111 |  0.703555949108  |\n",
       "| 32.3787257158 |  388544.70859 | 29373.7241772 |  0.601633887087  |\n",
       "| 4.95850442114 | 30147.7068805 |      0.0      |  0.703555949108  |\n",
       "| 2.52289447651 | 17483.6587222 |      0.0      |  0.703555949108  |\n",
       "+---------------+---------------+---------------+------------------+\n",
       "+----------------------------+\n",
       "| white_walkers_market_share |\n",
       "+----------------------------+\n",
       "|       0.678059111406       |\n",
       "|       0.582653749481       |\n",
       "|       0.398366112913       |\n",
       "|       0.296444050892       |\n",
       "|       0.398366112913       |\n",
       "|       0.582653749481       |\n",
       "|       0.296444050892       |\n",
       "|       0.398366112913       |\n",
       "|       0.296444050892       |\n",
       "|       0.296444050892       |\n",
       "+----------------------------+\n",
       "[354501 rows x 17 columns]\n",
       "Note: Only the head of the SFrame is printed.\n",
       "You can use print_rows(num_rows=m, num_columns=n) to print more rows and columns."
      ]
     },
     "execution_count": 86,
     "metadata": {},
     "output_type": "execute_result"
    }
   ],
   "source": [
    "men_data"
   ]
  },
  {
   "cell_type": "code",
   "execution_count": 87,
   "metadata": {
    "collapsed": false
   },
   "outputs": [
    {
     "data": {
      "application/javascript": [
       "$(\"head\").append($(\"<link/>\").attr({\n",
       "  rel:  \"stylesheet\",\n",
       "  type: \"text/css\",\n",
       "  href: \"//cdnjs.cloudflare.com/ajax/libs/font-awesome/4.1.0/css/font-awesome.min.css\"\n",
       "}));\n",
       "$(\"head\").append($(\"<link/>\").attr({\n",
       "  rel:  \"stylesheet\",\n",
       "  type: \"text/css\",\n",
       "  href: \"https://static.turi.com/products/graphlab-create/2.1/canvas/css/canvas.css\"\n",
       "}));\n",
       "\n",
       "            (function(){\n",
       "\n",
       "                var e = null;\n",
       "                if (typeof element == 'undefined') {\n",
       "                    var scripts = document.getElementsByTagName('script');\n",
       "                    var thisScriptTag = scripts[scripts.length-1];\n",
       "                    var parentDiv = thisScriptTag.parentNode;\n",
       "                    e = document.createElement('div');\n",
       "                    parentDiv.appendChild(e);\n",
       "                } else {\n",
       "                    e = element[0];\n",
       "                }\n",
       "\n",
       "                if (typeof requirejs !== 'undefined') {\n",
       "                    // disable load timeout; ipython_app.js is large and can take a while to load.\n",
       "                    requirejs.config({waitSeconds: 0});\n",
       "                }\n",
       "\n",
       "                require(['https://static.turi.com/products/graphlab-create/2.1/canvas/js/ipython_app.js'], function(IPythonApp){\n",
       "                    var app = new IPythonApp();\n",
       "                    app.attachView('sframe','Plots', {\"selected_variable\": {\"name\": [\"men_data\"], \"descriptives\": {\"rows\": 354501, \"columns\": 17}, \"view_component\": \"Plots\", \"view_file\": \"sframe\", \"view_params\": {\"y\": \"white_walkers_market_share\", \"x\": \"men_market_share\", \"columns\": [\"YEAR\", \"MONTH\", \"Company\", \"Area 1\", \"Area 2\", \"Area 3\", \"Area 3 Classification\", \"Outlet Type\", \"Outlet Name\", \"Product Category 1\", \"Product Category 2\", \"Product\", \"Units sold\", \"Revenue\", \"Commission\", \"men_market_share\", \"white_walkers_market_share\"], \"view\": \"Line Chart\"}, \"view_components\": [\"Summary\", \"Table\", \"Bar Chart\", \"BoxWhisker Plot\", \"Line Chart\", \"Scatter Plot\", \"Heat Map\", \"Plots\"], \"type\": \"SFrame\", \"columns\": [{\"dtype\": \"int\", \"name\": \"YEAR\"}, {\"dtype\": \"str\", \"name\": \"MONTH\"}, {\"dtype\": \"str\", \"name\": \"Company\"}, {\"dtype\": \"str\", \"name\": \"Area 1\"}, {\"dtype\": \"str\", \"name\": \"Area 2\"}, {\"dtype\": \"str\", \"name\": \"Area 3\"}, {\"dtype\": \"str\", \"name\": \"Area 3 Classification\"}, {\"dtype\": \"str\", \"name\": \"Outlet Type\"}, {\"dtype\": \"str\", \"name\": \"Outlet Name\"}, {\"dtype\": \"str\", \"name\": \"Product Category 1\"}, {\"dtype\": \"str\", \"name\": \"Product Category 2\"}, {\"dtype\": \"str\", \"name\": \"Product\"}, {\"dtype\": \"float\", \"name\": \"Units sold\"}, {\"dtype\": \"float\", \"name\": \"Revenue\"}, {\"dtype\": \"float\", \"name\": \"Commission\"}, {\"dtype\": \"float\", \"name\": \"men_market_share\"}, {\"dtype\": \"float\", \"name\": \"white_walkers_market_share\"}], \"column_identifiers\": [\"Product\", \"men_market_share\", \"Revenue\", \"Product Category 1\", \"Company\", \"Product Category 2\", \"Area 1\", \"Area 3\", \"Area 2\", \"Commission\", \"white_walkers_market_share\", \"Area 3 Classification\", \"YEAR\", \"MONTH\", \"Units sold\", \"Outlet Type\", \"Outlet Name\"]}, \"complete\": 1, \"ipython\": true, \"progress\": 1.0, \"data\": [[0.7035559491076617, 0.2964440508923383], [0.7035559491076617, 0.2964440508923383], [0.6016338870867235, 0.3983661129132765], [0.41734625051949026, 0.5826537494805097], [0.6016338870867235, 0.3983661129132765], [0.6016338870867235, 0.3983661129132765], [0.7035559491076617, 0.2964440508923383], [0.7035559491076617, 0.2964440508923383], [0.32194088859427616, 0.6780591114057238], [0.41734625051949026, 0.5826537494805097], [0.7035559491076617, 0.2964440508923383], [0.41734625051949026, 0.5826537494805097], [0.41734625051949026, 0.5826537494805097], [0.32194088859427616, 0.6780591114057238], [0.41734625051949026, 0.5826537494805097], [0.41734625051949026, 0.5826537494805097], [0.6016338870867235, 0.3983661129132765], [0.7035559491076617, 0.2964440508923383], [0.7035559491076617, 0.2964440508923383], [0.41734625051949026, 0.5826537494805097], [0.6016338870867235, 0.3983661129132765], [0.6016338870867235, 0.3983661129132765], [0.7035559491076617, 0.2964440508923383], [0.41734625051949026, 0.5826537494805097], [0.32194088859427616, 0.6780591114057238], [0.41734625051949026, 0.5826537494805097], [0.7035559491076617, 0.2964440508923383], [0.6016338870867235, 0.3983661129132765], [0.7035559491076617, 0.2964440508923383], [0.41734625051949026, 0.5826537494805097], [0.41734625051949026, 0.5826537494805097], [0.7035559491076617, 0.2964440508923383], [0.7035559491076617, 0.2964440508923383], [0.6016338870867235, 0.3983661129132765], [0.7035559491076617, 0.2964440508923383], [0.41734625051949026, 0.5826537494805097], [0.7035559491076617, 0.2964440508923383], [0.41734625051949026, 0.5826537494805097], [0.7035559491076617, 0.2964440508923383], [0.7035559491076617, 0.2964440508923383], [0.6016338870867235, 0.3983661129132765], [0.6016338870867235, 0.3983661129132765], [0.32194088859427616, 0.6780591114057238], [0.41734625051949026, 0.5826537494805097], [0.41734625051949026, 0.5826537494805097], [0.7035559491076617, 0.2964440508923383], [0.6016338870867235, 0.3983661129132765], [0.7035559491076617, 0.2964440508923383], [0.41734625051949026, 0.5826537494805097], [0.7035559491076617, 0.2964440508923383], [0.41734625051949026, 0.5826537494805097], [0.41734625051949026, 0.5826537494805097], [0.6016338870867235, 0.3983661129132765], [0.6016338870867235, 0.3983661129132765], [0.6016338870867235, 0.3983661129132765], [0.7035559491076617, 0.2964440508923383], [0.41734625051949026, 0.5826537494805097], [0.41734625051949026, 0.5826537494805097], [0.7035559491076617, 0.2964440508923383], [0.32194088859427616, 0.6780591114057238], [0.6016338870867235, 0.3983661129132765], [0.7035559491076617, 0.2964440508923383], [0.7035559491076617, 0.2964440508923383], [0.41734625051949026, 0.5826537494805097], [0.7035559491076617, 0.2964440508923383], [0.6016338870867235, 0.3983661129132765], [0.6016338870867235, 0.3983661129132765], [0.32194088859427616, 0.6780591114057238], [0.41734625051949026, 0.5826537494805097], [0.7035559491076617, 0.2964440508923383], [0.6016338870867235, 0.3983661129132765], [0.6016338870867235, 0.3983661129132765], [0.6016338870867235, 0.3983661129132765], [0.41734625051949026, 0.5826537494805097], [0.7035559491076617, 0.2964440508923383], [0.6016338870867235, 0.3983661129132765], [0.6016338870867235, 0.3983661129132765], [0.41734625051949026, 0.5826537494805097], [0.6016338870867235, 0.3983661129132765], [0.6016338870867235, 0.3983661129132765], [0.7035559491076617, 0.2964440508923383], [0.6016338870867235, 0.3983661129132765], [0.7035559491076617, 0.2964440508923383], [0.7035559491076617, 0.2964440508923383], [0.41734625051949026, 0.5826537494805097], [0.41734625051949026, 0.5826537494805097], [0.7035559491076617, 0.2964440508923383], [0.6016338870867235, 0.3983661129132765], [0.41734625051949026, 0.5826537494805097], [0.7035559491076617, 0.2964440508923383], [0.7035559491076617, 0.2964440508923383], [0.32194088859427616, 0.6780591114057238], [0.41734625051949026, 0.5826537494805097], [0.6016338870867235, 0.3983661129132765], [0.7035559491076617, 0.2964440508923383], [0.7035559491076617, 0.2964440508923383], [0.6016338870867235, 0.3983661129132765], [0.41734625051949026, 0.5826537494805097], [0.7035559491076617, 0.2964440508923383], [0.7035559491076617, 0.2964440508923383], [0.32194088859427616, 0.6780591114057238], [0.7035559491076617, 0.2964440508923383], [0.7035559491076617, 0.2964440508923383], [0.6016338870867235, 0.3983661129132765], [0.49401433158783986, 0.5059856684121602], [0.7035559491076617, 0.2964440508923383], [0.6016338870867235, 0.3983661129132765], [0.7035559491076617, 0.2964440508923383], [0.7035559491076617, 0.2964440508923383], [0.7035559491076617, 0.2964440508923383], [0.6016338870867235, 0.3983661129132765], [0.6016338870867235, 0.3983661129132765], [0.7035559491076617, 0.2964440508923383], [0.7035559491076617, 0.2964440508923383], [0.41734625051949026, 0.5826537494805097], [0.41734625051949026, 0.5826537494805097], [0.32194088859427616, 0.6780591114057238], [0.32194088859427616, 0.6780591114057238], [0.7035559491076617, 0.2964440508923383], [0.6016338870867235, 0.3983661129132765], [0.41734625051949026, 0.5826537494805097], [0.6016338870867235, 0.3983661129132765], [0.41734625051949026, 0.5826537494805097], [0.41734625051949026, 0.5826537494805097], [0.6016338870867235, 0.3983661129132765], [0.7035559491076617, 0.2964440508923383], [0.6016338870867235, 0.3983661129132765], [0.6016338870867235, 0.3983661129132765], [0.41734625051949026, 0.5826537494805097], [0.41734625051949026, 0.5826537494805097], [0.7035559491076617, 0.2964440508923383], [0.32194088859427616, 0.6780591114057238], [0.7035559491076617, 0.2964440508923383], [0.7035559491076617, 0.2964440508923383], [0.7035559491076617, 0.2964440508923383], [0.41734625051949026, 0.5826537494805097], [0.41734625051949026, 0.5826537494805097], [0.6016338870867235, 0.3983661129132765], [0.6016338870867235, 0.3983661129132765], [0.7035559491076617, 0.2964440508923383], [0.7035559491076617, 0.2964440508923383], [0.6016338870867235, 0.3983661129132765], [0.6016338870867235, 0.3983661129132765], [0.6016338870867235, 0.3983661129132765], [0.7035559491076617, 0.2964440508923383], [0.41734625051949026, 0.5826537494805097], [0.6016338870867235, 0.3983661129132765], [0.41734625051949026, 0.5826537494805097], [0.32194088859427616, 0.6780591114057238], [0.41734625051949026, 0.5826537494805097], [0.32194088859427616, 0.6780591114057238], [0.7035559491076617, 0.2964440508923383], [0.7035559491076617, 0.2964440508923383], [0.6016338870867235, 0.3983661129132765], [0.7035559491076617, 0.2964440508923383], [0.49401433158783986, 0.5059856684121602], [0.41734625051949026, 0.5826537494805097], [0.7035559491076617, 0.2964440508923383], [0.41734625051949026, 0.5826537494805097], [0.41734625051949026, 0.5826537494805097], [0.41734625051949026, 0.5826537494805097], [0.41734625051949026, 0.5826537494805097], [0.41734625051949026, 0.5826537494805097], [0.7035559491076617, 0.2964440508923383], [0.41734625051949026, 0.5826537494805097], [0.7035559491076617, 0.2964440508923383], [0.41734625051949026, 0.5826537494805097], [0.32194088859427616, 0.6780591114057238], [0.41734625051949026, 0.5826537494805097], [0.32194088859427616, 0.6780591114057238], [0.41734625051949026, 0.5826537494805097], [0.41734625051949026, 0.5826537494805097], [0.32194088859427616, 0.6780591114057238], [0.7035559491076617, 0.2964440508923383], [0.41734625051949026, 0.5826537494805097], [0.6016338870867235, 0.3983661129132765], [0.7035559491076617, 0.2964440508923383], [0.41734625051949026, 0.5826537494805097], [0.32194088859427616, 0.6780591114057238], [0.41734625051949026, 0.5826537494805097], [0.41734625051949026, 0.5826537494805097], [0.41734625051949026, 0.5826537494805097], [0.7035559491076617, 0.2964440508923383], [0.49401433158783986, 0.5059856684121602], [0.6016338870867235, 0.3983661129132765], [0.7035559491076617, 0.2964440508923383], [0.32194088859427616, 0.6780591114057238], [0.6016338870867235, 0.3983661129132765], [0.7035559491076617, 0.2964440508923383], [0.6016338870867235, 0.3983661129132765], [0.7035559491076617, 0.2964440508923383], [0.41734625051949026, 0.5826537494805097], [0.41734625051949026, 0.5826537494805097], [0.6016338870867235, 0.3983661129132765], [0.6016338870867235, 0.3983661129132765], [0.6016338870867235, 0.3983661129132765], [0.7035559491076617, 0.2964440508923383], [0.6016338870867235, 0.3983661129132765], [0.6016338870867235, 0.3983661129132765], [0.49401433158783986, 0.5059856684121602], [0.7035559491076617, 0.2964440508923383], [0.6016338870867235, 0.3983661129132765], [0.41734625051949026, 0.5826537494805097], [0.6016338870867235, 0.3983661129132765], [0.7035559491076617, 0.2964440508923383], [0.7035559491076617, 0.2964440508923383], [0.7035559491076617, 0.2964440508923383], [0.7035559491076617, 0.2964440508923383], [0.7035559491076617, 0.2964440508923383], [0.6016338870867235, 0.3983661129132765], [0.49401433158783986, 0.5059856684121602], [0.6016338870867235, 0.3983661129132765], [0.32194088859427616, 0.6780591114057238], [0.6016338870867235, 0.3983661129132765], [0.41734625051949026, 0.5826537494805097], [0.7035559491076617, 0.2964440508923383], [0.6016338870867235, 0.3983661129132765], [0.7035559491076617, 0.2964440508923383], [0.7035559491076617, 0.2964440508923383], [0.41734625051949026, 0.5826537494805097], [0.6016338870867235, 0.3983661129132765], [0.6016338870867235, 0.3983661129132765], [0.7035559491076617, 0.2964440508923383], [0.41734625051949026, 0.5826537494805097], [0.7035559491076617, 0.2964440508923383], [0.6016338870867235, 0.3983661129132765], [0.49401433158783986, 0.5059856684121602], [0.7035559491076617, 0.2964440508923383], [0.41734625051949026, 0.5826537494805097], [0.6016338870867235, 0.3983661129132765], [0.6016338870867235, 0.3983661129132765], [0.7035559491076617, 0.2964440508923383], [0.41734625051949026, 0.5826537494805097], [0.7035559491076617, 0.2964440508923383], [0.41734625051949026, 0.5826537494805097], [0.7035559491076617, 0.2964440508923383], [0.7035559491076617, 0.2964440508923383], [0.7035559491076617, 0.2964440508923383], [0.41734625051949026, 0.5826537494805097], [0.32194088859427616, 0.6780591114057238], [0.41734625051949026, 0.5826537494805097], [0.32194088859427616, 0.6780591114057238], [0.41734625051949026, 0.5826537494805097], [0.41734625051949026, 0.5826537494805097], [0.32194088859427616, 0.6780591114057238], [0.32194088859427616, 0.6780591114057238], [0.7035559491076617, 0.2964440508923383], [0.41734625051949026, 0.5826537494805097], [0.41734625051949026, 0.5826537494805097], [0.41734625051949026, 0.5826537494805097], [0.7035559491076617, 0.2964440508923383], [0.7035559491076617, 0.2964440508923383], [0.6016338870867235, 0.3983661129132765], [0.41734625051949026, 0.5826537494805097], [0.6016338870867235, 0.3983661129132765], [0.6016338870867235, 0.3983661129132765], [0.6016338870867235, 0.3983661129132765], [0.7035559491076617, 0.2964440508923383], [0.6016338870867235, 0.3983661129132765], [0.49401433158783986, 0.5059856684121602], [0.7035559491076617, 0.2964440508923383], [0.7035559491076617, 0.2964440508923383], [0.41734625051949026, 0.5826537494805097], [0.6016338870867235, 0.3983661129132765], [0.7035559491076617, 0.2964440508923383], [0.7035559491076617, 0.2964440508923383], [0.6016338870867235, 0.3983661129132765], [0.41734625051949026, 0.5826537494805097], [0.41734625051949026, 0.5826537494805097], [0.7035559491076617, 0.2964440508923383], [0.7035559491076617, 0.2964440508923383], [0.41734625051949026, 0.5826537494805097], [0.41734625051949026, 0.5826537494805097], [0.41734625051949026, 0.5826537494805097], [0.7035559491076617, 0.2964440508923383], [0.7035559491076617, 0.2964440508923383], [0.32194088859427616, 0.6780591114057238], [0.41734625051949026, 0.5826537494805097], [0.7035559491076617, 0.2964440508923383], [0.6016338870867235, 0.3983661129132765], [0.6016338870867235, 0.3983661129132765], [0.49401433158783986, 0.5059856684121602], [0.41734625051949026, 0.5826537494805097], [0.6016338870867235, 0.3983661129132765], [0.41734625051949026, 0.5826537494805097], [0.6016338870867235, 0.3983661129132765], [0.6016338870867235, 0.3983661129132765], [0.41734625051949026, 0.5826537494805097], [0.6016338870867235, 0.3983661129132765], [0.6016338870867235, 0.3983661129132765], [0.7035559491076617, 0.2964440508923383], [0.41734625051949026, 0.5826537494805097], [0.6016338870867235, 0.3983661129132765], [0.7035559491076617, 0.2964440508923383], [0.6016338870867235, 0.3983661129132765], [0.41734625051949026, 0.5826537494805097], [0.6016338870867235, 0.3983661129132765], [0.41734625051949026, 0.5826537494805097], [0.6016338870867235, 0.3983661129132765], [0.41734625051949026, 0.5826537494805097], [0.7035559491076617, 0.2964440508923383], [0.7035559491076617, 0.2964440508923383], [0.41734625051949026, 0.5826537494805097], [0.7035559491076617, 0.2964440508923383], [0.6016338870867235, 0.3983661129132765], [0.32194088859427616, 0.6780591114057238], [0.41734625051949026, 0.5826537494805097], [0.41734625051949026, 0.5826537494805097], [0.7035559491076617, 0.2964440508923383], [0.32194088859427616, 0.6780591114057238], [0.7035559491076617, 0.2964440508923383], [0.6016338870867235, 0.3983661129132765], [0.41734625051949026, 0.5826537494805097], [0.41734625051949026, 0.5826537494805097], [0.41734625051949026, 0.5826537494805097], [0.7035559491076617, 0.2964440508923383], [0.7035559491076617, 0.2964440508923383], [0.41734625051949026, 0.5826537494805097], [0.32194088859427616, 0.6780591114057238], [0.41734625051949026, 0.5826537494805097], [0.6016338870867235, 0.3983661129132765], [0.6016338870867235, 0.3983661129132765], [0.6016338870867235, 0.3983661129132765], [0.32194088859427616, 0.6780591114057238], [0.41734625051949026, 0.5826537494805097], [0.41734625051949026, 0.5826537494805097], [0.49401433158783986, 0.5059856684121602], [0.32194088859427616, 0.6780591114057238], [0.41734625051949026, 0.5826537494805097], [0.6016338870867235, 0.3983661129132765], [0.7035559491076617, 0.2964440508923383], [0.41734625051949026, 0.5826537494805097], [0.32194088859427616, 0.6780591114057238], [0.41734625051949026, 0.5826537494805097], [0.7035559491076617, 0.2964440508923383], [0.41734625051949026, 0.5826537494805097], [0.6016338870867235, 0.3983661129132765], [0.41734625051949026, 0.5826537494805097], [0.41734625051949026, 0.5826537494805097], [0.7035559491076617, 0.2964440508923383], [0.7035559491076617, 0.2964440508923383], [0.7035559491076617, 0.2964440508923383], [0.41734625051949026, 0.5826537494805097], [0.41734625051949026, 0.5826537494805097], [0.7035559491076617, 0.2964440508923383], [0.41734625051949026, 0.5826537494805097], [0.7035559491076617, 0.2964440508923383], [0.7035559491076617, 0.2964440508923383], [0.7035559491076617, 0.2964440508923383], [0.6016338870867235, 0.3983661129132765], [0.7035559491076617, 0.2964440508923383], [0.7035559491076617, 0.2964440508923383], [0.6016338870867235, 0.3983661129132765], [0.41734625051949026, 0.5826537494805097], [0.6016338870867235, 0.3983661129132765], [0.7035559491076617, 0.2964440508923383], [0.41734625051949026, 0.5826537494805097], [0.7035559491076617, 0.2964440508923383], [0.41734625051949026, 0.5826537494805097], [0.6016338870867235, 0.3983661129132765], [0.41734625051949026, 0.5826537494805097], [0.6016338870867235, 0.3983661129132765], [0.49401433158783986, 0.5059856684121602], [0.6016338870867235, 0.3983661129132765], [0.7035559491076617, 0.2964440508923383], [0.7035559491076617, 0.2964440508923383], [0.41734625051949026, 0.5826537494805097], [0.41734625051949026, 0.5826537494805097], [0.7035559491076617, 0.2964440508923383], [0.49401433158783986, 0.5059856684121602], [0.7035559491076617, 0.2964440508923383], [0.41734625051949026, 0.5826537494805097], [0.7035559491076617, 0.2964440508923383], [0.6016338870867235, 0.3983661129132765], [0.6016338870867235, 0.3983661129132765], [0.7035559491076617, 0.2964440508923383], [0.6016338870867235, 0.3983661129132765], [0.49401433158783986, 0.5059856684121602], [0.6016338870867235, 0.3983661129132765], [0.41734625051949026, 0.5826537494805097], [0.7035559491076617, 0.2964440508923383], [0.41734625051949026, 0.5826537494805097], [0.6016338870867235, 0.3983661129132765], [0.7035559491076617, 0.2964440508923383], [0.7035559491076617, 0.2964440508923383], [0.6016338870867235, 0.3983661129132765], [0.7035559491076617, 0.2964440508923383], [0.7035559491076617, 0.2964440508923383], [0.7035559491076617, 0.2964440508923383], [0.7035559491076617, 0.2964440508923383], [0.7035559491076617, 0.2964440508923383], [0.6016338870867235, 0.3983661129132765], [0.7035559491076617, 0.2964440508923383], [0.6016338870867235, 0.3983661129132765], [0.6016338870867235, 0.3983661129132765], [0.7035559491076617, 0.2964440508923383], [0.41734625051949026, 0.5826537494805097], [0.6016338870867235, 0.3983661129132765], [0.6016338870867235, 0.3983661129132765], [0.6016338870867235, 0.3983661129132765], [0.7035559491076617, 0.2964440508923383], [0.7035559491076617, 0.2964440508923383], [0.6016338870867235, 0.3983661129132765], [0.7035559491076617, 0.2964440508923383], [0.32194088859427616, 0.6780591114057238], [0.41734625051949026, 0.5826537494805097], [0.7035559491076617, 0.2964440508923383], [0.7035559491076617, 0.2964440508923383], [0.7035559491076617, 0.2964440508923383], [0.7035559491076617, 0.2964440508923383], [0.41734625051949026, 0.5826537494805097], [0.41734625051949026, 0.5826537494805097], [0.32194088859427616, 0.6780591114057238], [0.7035559491076617, 0.2964440508923383], [0.6016338870867235, 0.3983661129132765], [0.7035559491076617, 0.2964440508923383], [0.7035559491076617, 0.2964440508923383], [0.6016338870867235, 0.3983661129132765], [0.49401433158783986, 0.5059856684121602], [0.6016338870867235, 0.3983661129132765], [0.7035559491076617, 0.2964440508923383], [0.7035559491076617, 0.2964440508923383], [0.6016338870867235, 0.3983661129132765], [0.41734625051949026, 0.5826537494805097], [0.41734625051949026, 0.5826537494805097], [0.6016338870867235, 0.3983661129132765], [0.7035559491076617, 0.2964440508923383], [0.32194088859427616, 0.6780591114057238], [0.32194088859427616, 0.6780591114057238], [0.7035559491076617, 0.2964440508923383], [0.7035559491076617, 0.2964440508923383], [0.6016338870867235, 0.3983661129132765], [0.6016338870867235, 0.3983661129132765], [0.32194088859427616, 0.6780591114057238], [0.6016338870867235, 0.3983661129132765], [0.7035559491076617, 0.2964440508923383], [0.6016338870867235, 0.3983661129132765], [0.6016338870867235, 0.3983661129132765], [0.6016338870867235, 0.3983661129132765], [0.7035559491076617, 0.2964440508923383], [0.32194088859427616, 0.6780591114057238], [0.41734625051949026, 0.5826537494805097], [0.49401433158783986, 0.5059856684121602], [0.7035559491076617, 0.2964440508923383], [0.7035559491076617, 0.2964440508923383], [0.6016338870867235, 0.3983661129132765], [0.41734625051949026, 0.5826537494805097], [0.6016338870867235, 0.3983661129132765], [0.7035559491076617, 0.2964440508923383], [0.6016338870867235, 0.3983661129132765], [0.6016338870867235, 0.3983661129132765], [0.7035559491076617, 0.2964440508923383], [0.41734625051949026, 0.5826537494805097], [0.41734625051949026, 0.5826537494805097], [0.6016338870867235, 0.3983661129132765], [0.7035559491076617, 0.2964440508923383], [0.7035559491076617, 0.2964440508923383], [0.49401433158783986, 0.5059856684121602], [0.6016338870867235, 0.3983661129132765], [0.7035559491076617, 0.2964440508923383], [0.6016338870867235, 0.3983661129132765], [0.7035559491076617, 0.2964440508923383], [0.41734625051949026, 0.5826537494805097], [0.41734625051949026, 0.5826537494805097], [0.7035559491076617, 0.2964440508923383], [0.6016338870867235, 0.3983661129132765], [0.32194088859427616, 0.6780591114057238], [0.41734625051949026, 0.5826537494805097], [0.41734625051949026, 0.5826537494805097], [0.32194088859427616, 0.6780591114057238], [0.41734625051949026, 0.5826537494805097], [0.6016338870867235, 0.3983661129132765], [0.6016338870867235, 0.3983661129132765], [0.6016338870867235, 0.3983661129132765], [0.32194088859427616, 0.6780591114057238], [0.41734625051949026, 0.5826537494805097], [0.41734625051949026, 0.5826537494805097], [0.41734625051949026, 0.5826537494805097], [0.6016338870867235, 0.3983661129132765], [0.6016338870867235, 0.3983661129132765], [0.6016338870867235, 0.3983661129132765], [0.6016338870867235, 0.3983661129132765], [0.32194088859427616, 0.6780591114057238], [0.7035559491076617, 0.2964440508923383], [0.41734625051949026, 0.5826537494805097], [0.21439297794631237, 0.7856070220536876], [0.7035559491076617, 0.2964440508923383], [0.21439297794631237, 0.7856070220536876], [0.7035559491076617, 0.2964440508923383], [0.7035559491076617, 0.2964440508923383], [0.41734625051949026, 0.5826537494805097], [0.7035559491076617, 0.2964440508923383], [0.6016338870867235, 0.3983661129132765], [0.41734625051949026, 0.5826537494805097], [0.7035559491076617, 0.2964440508923383], [0.6016338870867235, 0.3983661129132765], [0.6016338870867235, 0.3983661129132765], [0.6016338870867235, 0.3983661129132765], [0.6016338870867235, 0.3983661129132765], [0.7035559491076617, 0.2964440508923383], [0.7035559491076617, 0.2964440508923383], [0.7035559491076617, 0.2964440508923383], [0.41734625051949026, 0.5826537494805097], [0.41734625051949026, 0.5826537494805097], [0.7035559491076617, 0.2964440508923383], [0.21439297794631237, 0.7856070220536876], [0.32194088859427616, 0.6780591114057238], [0.41734625051949026, 0.5826537494805097], [0.7035559491076617, 0.2964440508923383], [0.7035559491076617, 0.2964440508923383], [0.7035559491076617, 0.2964440508923383], [0.7035559491076617, 0.2964440508923383], [0.6016338870867235, 0.3983661129132765], [0.6016338870867235, 0.3983661129132765], [0.7035559491076617, 0.2964440508923383], [0.7035559491076617, 0.2964440508923383], [0.41734625051949026, 0.5826537494805097], [0.41734625051949026, 0.5826537494805097], [0.7035559491076617, 0.2964440508923383], [0.7035559491076617, 0.2964440508923383], [0.7035559491076617, 0.2964440508923383], [0.7035559491076617, 0.2964440508923383], [0.41734625051949026, 0.5826537494805097], [0.7035559491076617, 0.2964440508923383], [0.41734625051949026, 0.5826537494805097], [0.7035559491076617, 0.2964440508923383], [0.41734625051949026, 0.5826537494805097], [0.6016338870867235, 0.3983661129132765], [0.6016338870867235, 0.3983661129132765], [0.7035559491076617, 0.2964440508923383], [0.6016338870867235, 0.3983661129132765], [0.41734625051949026, 0.5826537494805097], [0.7035559491076617, 0.2964440508923383], [0.7035559491076617, 0.2964440508923383], [0.6016338870867235, 0.3983661129132765], [0.7035559491076617, 0.2964440508923383], [0.7035559491076617, 0.2964440508923383], [0.7035559491076617, 0.2964440508923383], [0.6016338870867235, 0.3983661129132765], [0.32194088859427616, 0.6780591114057238], [0.41734625051949026, 0.5826537494805097], [0.7035559491076617, 0.2964440508923383], [0.6016338870867235, 0.3983661129132765], [0.7035559491076617, 0.2964440508923383], [0.41734625051949026, 0.5826537494805097], [0.7035559491076617, 0.2964440508923383], [0.7035559491076617, 0.2964440508923383], [0.7035559491076617, 0.2964440508923383], [0.41734625051949026, 0.5826537494805097], [0.6016338870867235, 0.3983661129132765], [0.7035559491076617, 0.2964440508923383], [0.7035559491076617, 0.2964440508923383], [0.7035559491076617, 0.2964440508923383], [0.32194088859427616, 0.6780591114057238], [0.6016338870867235, 0.3983661129132765], [0.41734625051949026, 0.5826537494805097], [0.6016338870867235, 0.3983661129132765], [0.7035559491076617, 0.2964440508923383], [0.41734625051949026, 0.5826537494805097], [0.7035559491076617, 0.2964440508923383], [0.7035559491076617, 0.2964440508923383], [0.32194088859427616, 0.6780591114057238], [0.6016338870867235, 0.3983661129132765], [0.41734625051949026, 0.5826537494805097], [0.7035559491076617, 0.2964440508923383], [0.41734625051949026, 0.5826537494805097], [0.7035559491076617, 0.2964440508923383], [0.7035559491076617, 0.2964440508923383], [0.41734625051949026, 0.5826537494805097], [0.7035559491076617, 0.2964440508923383], [0.7035559491076617, 0.2964440508923383], [0.7035559491076617, 0.2964440508923383], [0.32194088859427616, 0.6780591114057238], [0.6016338870867235, 0.3983661129132765], [0.7035559491076617, 0.2964440508923383], [0.7035559491076617, 0.2964440508923383], [0.7035559491076617, 0.2964440508923383], [0.7035559491076617, 0.2964440508923383], [0.32194088859427616, 0.6780591114057238], [0.7035559491076617, 0.2964440508923383], [0.6016338870867235, 0.3983661129132765], [0.7035559491076617, 0.2964440508923383], [0.7035559491076617, 0.2964440508923383], [0.41734625051949026, 0.5826537494805097], [0.41734625051949026, 0.5826537494805097], [0.7035559491076617, 0.2964440508923383], [0.41734625051949026, 0.5826537494805097], [0.7035559491076617, 0.2964440508923383], [0.7035559491076617, 0.2964440508923383], [0.6016338870867235, 0.3983661129132765], [0.7035559491076617, 0.2964440508923383], [0.41734625051949026, 0.5826537494805097], [0.6016338870867235, 0.3983661129132765], [0.7035559491076617, 0.2964440508923383], [0.41734625051949026, 0.5826537494805097], [0.6016338870867235, 0.3983661129132765], [0.41734625051949026, 0.5826537494805097], [0.32194088859427616, 0.6780591114057238], [0.7035559491076617, 0.2964440508923383], [0.7035559491076617, 0.2964440508923383], [0.49401433158783986, 0.5059856684121602], [0.7035559491076617, 0.2964440508923383], [0.6016338870867235, 0.3983661129132765], [0.7035559491076617, 0.2964440508923383], [0.32194088859427616, 0.6780591114057238], [0.41734625051949026, 0.5826537494805097], [0.41734625051949026, 0.5826537494805097], [0.41734625051949026, 0.5826537494805097], [0.41734625051949026, 0.5826537494805097], [0.7035559491076617, 0.2964440508923383], [0.7035559491076617, 0.2964440508923383], [0.7035559491076617, 0.2964440508923383], [0.6016338870867235, 0.3983661129132765], [0.41734625051949026, 0.5826537494805097], [0.41734625051949026, 0.5826537494805097], [0.6016338870867235, 0.3983661129132765], [0.41734625051949026, 0.5826537494805097], [0.41734625051949026, 0.5826537494805097], [0.6016338870867235, 0.3983661129132765], [0.41734625051949026, 0.5826537494805097], [0.7035559491076617, 0.2964440508923383], [0.32194088859427616, 0.6780591114057238], [0.6016338870867235, 0.3983661129132765], [0.6016338870867235, 0.3983661129132765], [0.7035559491076617, 0.2964440508923383], [0.6016338870867235, 0.3983661129132765], [0.41734625051949026, 0.5826537494805097], [0.41734625051949026, 0.5826537494805097], [0.7035559491076617, 0.2964440508923383], [0.41734625051949026, 0.5826537494805097], [0.6016338870867235, 0.3983661129132765], [0.7035559491076617, 0.2964440508923383], [0.41734625051949026, 0.5826537494805097], [0.41734625051949026, 0.5826537494805097], [0.7035559491076617, 0.2964440508923383], [0.7035559491076617, 0.2964440508923383], [0.49401433158783986, 0.5059856684121602], [0.6016338870867235, 0.3983661129132765], [0.41734625051949026, 0.5826537494805097], [0.6016338870867235, 0.3983661129132765], [0.7035559491076617, 0.2964440508923383], [0.41734625051949026, 0.5826537494805097], [0.6016338870867235, 0.3983661129132765], [0.6016338870867235, 0.3983661129132765], [0.6016338870867235, 0.3983661129132765], [0.6016338870867235, 0.3983661129132765], [0.41734625051949026, 0.5826537494805097], [0.41734625051949026, 0.5826537494805097], [0.6016338870867235, 0.3983661129132765], [0.6016338870867235, 0.3983661129132765], [0.7035559491076617, 0.2964440508923383], [0.6016338870867235, 0.3983661129132765], [0.7035559491076617, 0.2964440508923383], [0.7035559491076617, 0.2964440508923383], [0.41734625051949026, 0.5826537494805097], [0.7035559491076617, 0.2964440508923383], [0.7035559491076617, 0.2964440508923383], [0.7035559491076617, 0.2964440508923383], [0.41734625051949026, 0.5826537494805097], [0.6016338870867235, 0.3983661129132765], [0.7035559491076617, 0.2964440508923383], [0.7035559491076617, 0.2964440508923383], [0.7035559491076617, 0.2964440508923383], [0.7035559491076617, 0.2964440508923383], [0.6016338870867235, 0.3983661129132765], [0.7035559491076617, 0.2964440508923383], [0.7035559491076617, 0.2964440508923383], [0.7035559491076617, 0.2964440508923383], [0.32194088859427616, 0.6780591114057238], [0.7035559491076617, 0.2964440508923383], [0.41734625051949026, 0.5826537494805097], [0.6016338870867235, 0.3983661129132765], [0.7035559491076617, 0.2964440508923383], [0.7035559491076617, 0.2964440508923383], [0.7035559491076617, 0.2964440508923383], [0.7035559491076617, 0.2964440508923383], [0.6016338870867235, 0.3983661129132765], [0.7035559491076617, 0.2964440508923383], [0.6016338870867235, 0.3983661129132765], [0.7035559491076617, 0.2964440508923383], [0.7035559491076617, 0.2964440508923383], [0.7035559491076617, 0.2964440508923383], [0.41734625051949026, 0.5826537494805097], [0.6016338870867235, 0.3983661129132765], [0.32194088859427616, 0.6780591114057238], [0.6016338870867235, 0.3983661129132765], [0.41734625051949026, 0.5826537494805097], [0.41734625051949026, 0.5826537494805097], [0.7035559491076617, 0.2964440508923383], [0.6016338870867235, 0.3983661129132765], [0.7035559491076617, 0.2964440508923383], [0.7035559491076617, 0.2964440508923383], [0.49401433158783986, 0.5059856684121602], [0.41734625051949026, 0.5826537494805097], [0.7035559491076617, 0.2964440508923383], [0.6016338870867235, 0.3983661129132765], [0.41734625051949026, 0.5826537494805097], [0.6016338870867235, 0.3983661129132765], [0.6016338870867235, 0.3983661129132765], [0.49401433158783986, 0.5059856684121602], [0.7035559491076617, 0.2964440508923383], [0.41734625051949026, 0.5826537494805097], [0.6016338870867235, 0.3983661129132765], [0.32194088859427616, 0.6780591114057238], [0.41734625051949026, 0.5826537494805097], [0.41734625051949026, 0.5826537494805097], [0.41734625051949026, 0.5826537494805097], [0.7035559491076617, 0.2964440508923383], [0.32194088859427616, 0.6780591114057238], [0.7035559491076617, 0.2964440508923383], [0.7035559491076617, 0.2964440508923383], [0.41734625051949026, 0.5826537494805097], [0.7035559491076617, 0.2964440508923383], [0.7035559491076617, 0.2964440508923383], [0.6016338870867235, 0.3983661129132765], [0.41734625051949026, 0.5826537494805097], [0.41734625051949026, 0.5826537494805097], [0.32194088859427616, 0.6780591114057238], [0.7035559491076617, 0.2964440508923383], [0.7035559491076617, 0.2964440508923383], [0.6016338870867235, 0.3983661129132765], [0.7035559491076617, 0.2964440508923383], [0.7035559491076617, 0.2964440508923383], [0.41734625051949026, 0.5826537494805097], [0.6016338870867235, 0.3983661129132765], [0.49401433158783986, 0.5059856684121602], [0.32194088859427616, 0.6780591114057238], [0.7035559491076617, 0.2964440508923383], [0.7035559491076617, 0.2964440508923383], [0.7035559491076617, 0.2964440508923383], [0.32194088859427616, 0.6780591114057238], [0.6016338870867235, 0.3983661129132765], [0.7035559491076617, 0.2964440508923383], [0.41734625051949026, 0.5826537494805097], [0.6016338870867235, 0.3983661129132765], [0.6016338870867235, 0.3983661129132765], [0.7035559491076617, 0.2964440508923383], [0.6016338870867235, 0.3983661129132765], [0.41734625051949026, 0.5826537494805097], [0.7035559491076617, 0.2964440508923383], [0.6016338870867235, 0.3983661129132765], [0.41734625051949026, 0.5826537494805097], [0.41734625051949026, 0.5826537494805097], [0.41734625051949026, 0.5826537494805097], [0.7035559491076617, 0.2964440508923383], [0.7035559491076617, 0.2964440508923383], [0.6016338870867235, 0.3983661129132765], [0.41734625051949026, 0.5826537494805097], [0.41734625051949026, 0.5826537494805097], [0.41734625051949026, 0.5826537494805097], [0.41734625051949026, 0.5826537494805097], [0.7035559491076617, 0.2964440508923383], [0.7035559491076617, 0.2964440508923383], [0.41734625051949026, 0.5826537494805097], [0.7035559491076617, 0.2964440508923383], [0.7035559491076617, 0.2964440508923383], [0.6016338870867235, 0.3983661129132765], [0.6016338870867235, 0.3983661129132765], [0.7035559491076617, 0.2964440508923383], [0.6016338870867235, 0.3983661129132765], [0.7035559491076617, 0.2964440508923383], [0.7035559491076617, 0.2964440508923383], [0.41734625051949026, 0.5826537494805097], [0.6016338870867235, 0.3983661129132765], [0.7035559491076617, 0.2964440508923383], [0.7035559491076617, 0.2964440508923383], [0.41734625051949026, 0.5826537494805097], [0.32194088859427616, 0.6780591114057238], [0.7035559491076617, 0.2964440508923383], [0.7035559491076617, 0.2964440508923383], [0.6016338870867235, 0.3983661129132765], [0.7035559491076617, 0.2964440508923383], [0.6016338870867235, 0.3983661129132765], [0.7035559491076617, 0.2964440508923383], [0.6016338870867235, 0.3983661129132765], [0.6016338870867235, 0.3983661129132765], [0.41734625051949026, 0.5826537494805097], [0.41734625051949026, 0.5826537494805097], [0.7035559491076617, 0.2964440508923383], [0.7035559491076617, 0.2964440508923383], [0.41734625051949026, 0.5826537494805097], [0.6016338870867235, 0.3983661129132765], [0.41734625051949026, 0.5826537494805097], [0.6016338870867235, 0.3983661129132765], [0.7035559491076617, 0.2964440508923383], [0.6016338870867235, 0.3983661129132765], [0.32194088859427616, 0.6780591114057238], [0.7035559491076617, 0.2964440508923383], [0.41734625051949026, 0.5826537494805097], [0.6016338870867235, 0.3983661129132765], [0.7035559491076617, 0.2964440508923383], [0.41734625051949026, 0.5826537494805097], [0.7035559491076617, 0.2964440508923383], [0.7035559491076617, 0.2964440508923383], [0.41734625051949026, 0.5826537494805097], [0.41734625051949026, 0.5826537494805097], [0.7035559491076617, 0.2964440508923383], [0.32194088859427616, 0.6780591114057238], [0.7035559491076617, 0.2964440508923383], [0.49401433158783986, 0.5059856684121602], [0.41734625051949026, 0.5826537494805097], [0.6016338870867235, 0.3983661129132765], [0.41734625051949026, 0.5826537494805097], [0.41734625051949026, 0.5826537494805097], [0.6016338870867235, 0.3983661129132765], [0.6016338870867235, 0.3983661129132765], [0.6016338870867235, 0.3983661129132765], [0.7035559491076617, 0.2964440508923383], [0.41734625051949026, 0.5826537494805097], [0.7035559491076617, 0.2964440508923383], [0.41734625051949026, 0.5826537494805097], [0.7035559491076617, 0.2964440508923383], [0.41734625051949026, 0.5826537494805097], [0.41734625051949026, 0.5826537494805097], [0.7035559491076617, 0.2964440508923383], [0.41734625051949026, 0.5826537494805097], [0.41734625051949026, 0.5826537494805097], [0.41734625051949026, 0.5826537494805097], [0.7035559491076617, 0.2964440508923383], [0.7035559491076617, 0.2964440508923383], [0.41734625051949026, 0.5826537494805097], [0.41734625051949026, 0.5826537494805097], [0.6016338870867235, 0.3983661129132765], [0.41734625051949026, 0.5826537494805097], [0.41734625051949026, 0.5826537494805097], [0.7035559491076617, 0.2964440508923383], [0.6016338870867235, 0.3983661129132765], [0.21439297794631237, 0.7856070220536876], [0.6016338870867235, 0.3983661129132765], [0.7035559491076617, 0.2964440508923383], [0.6016338870867235, 0.3983661129132765], [0.41734625051949026, 0.5826537494805097], [0.7035559491076617, 0.2964440508923383], [0.41734625051949026, 0.5826537494805097], [0.6016338870867235, 0.3983661129132765], [0.41734625051949026, 0.5826537494805097], [0.6016338870867235, 0.3983661129132765], [0.7035559491076617, 0.2964440508923383], [0.32194088859427616, 0.6780591114057238], [0.41734625051949026, 0.5826537494805097], [0.41734625051949026, 0.5826537494805097], [0.32194088859427616, 0.6780591114057238], [0.6016338870867235, 0.3983661129132765], [0.7035559491076617, 0.2964440508923383], [0.6016338870867235, 0.3983661129132765], [0.32194088859427616, 0.6780591114057238], [0.6016338870867235, 0.3983661129132765], [0.7035559491076617, 0.2964440508923383], [0.7035559491076617, 0.2964440508923383], [0.6016338870867235, 0.3983661129132765], [0.49401433158783986, 0.5059856684121602], [0.6016338870867235, 0.3983661129132765], [0.7035559491076617, 0.2964440508923383], [0.41734625051949026, 0.5826537494805097], [0.6016338870867235, 0.3983661129132765], [0.7035559491076617, 0.2964440508923383], [0.7035559491076617, 0.2964440508923383], [0.6016338870867235, 0.3983661129132765], [0.32194088859427616, 0.6780591114057238], [0.6016338870867235, 0.3983661129132765], [0.32194088859427616, 0.6780591114057238], [0.6016338870867235, 0.3983661129132765], [0.6016338870867235, 0.3983661129132765], [0.6016338870867235, 0.3983661129132765], [0.6016338870867235, 0.3983661129132765], [0.7035559491076617, 0.2964440508923383], [0.6016338870867235, 0.3983661129132765], [0.41734625051949026, 0.5826537494805097], [0.6016338870867235, 0.3983661129132765], [0.41734625051949026, 0.5826537494805097], [0.7035559491076617, 0.2964440508923383], [0.41734625051949026, 0.5826537494805097], [0.6016338870867235, 0.3983661129132765], [0.7035559491076617, 0.2964440508923383], [0.41734625051949026, 0.5826537494805097], [0.49401433158783986, 0.5059856684121602], [0.6016338870867235, 0.3983661129132765], [0.41734625051949026, 0.5826537494805097], [0.7035559491076617, 0.2964440508923383], [0.7035559491076617, 0.2964440508923383], [0.7035559491076617, 0.2964440508923383], [0.7035559491076617, 0.2964440508923383], [0.7035559491076617, 0.2964440508923383], [0.41734625051949026, 0.5826537494805097], [0.41734625051949026, 0.5826537494805097], [0.7035559491076617, 0.2964440508923383], [0.6016338870867235, 0.3983661129132765], [0.6016338870867235, 0.3983661129132765], [0.6016338870867235, 0.3983661129132765], [0.32194088859427616, 0.6780591114057238], [0.41734625051949026, 0.5826537494805097], [0.6016338870867235, 0.3983661129132765], [0.7035559491076617, 0.2964440508923383], [0.7035559491076617, 0.2964440508923383], [0.7035559491076617, 0.2964440508923383], [0.6016338870867235, 0.3983661129132765], [0.41734625051949026, 0.5826537494805097], [0.6016338870867235, 0.3983661129132765], [0.49401433158783986, 0.5059856684121602], [0.6016338870867235, 0.3983661129132765], [0.6016338870867235, 0.3983661129132765], [0.6016338870867235, 0.3983661129132765], [0.6016338870867235, 0.3983661129132765], [0.7035559491076617, 0.2964440508923383], [0.41734625051949026, 0.5826537494805097], [0.7035559491076617, 0.2964440508923383], [0.7035559491076617, 0.2964440508923383], [0.41734625051949026, 0.5826537494805097], [0.32194088859427616, 0.6780591114057238], [0.41734625051949026, 0.5826537494805097], [0.6016338870867235, 0.3983661129132765], [0.7035559491076617, 0.2964440508923383], [0.7035559491076617, 0.2964440508923383], [0.41734625051949026, 0.5826537494805097], [0.7035559491076617, 0.2964440508923383], [0.41734625051949026, 0.5826537494805097], [0.41734625051949026, 0.5826537494805097], [0.7035559491076617, 0.2964440508923383], [0.41734625051949026, 0.5826537494805097], [0.7035559491076617, 0.2964440508923383], [0.32194088859427616, 0.6780591114057238], [0.7035559491076617, 0.2964440508923383], [0.7035559491076617, 0.2964440508923383], [0.7035559491076617, 0.2964440508923383], [0.7035559491076617, 0.2964440508923383], [0.7035559491076617, 0.2964440508923383], [0.7035559491076617, 0.2964440508923383], [0.7035559491076617, 0.2964440508923383], [0.6016338870867235, 0.3983661129132765], [0.32194088859427616, 0.6780591114057238], [0.7035559491076617, 0.2964440508923383], [0.6016338870867235, 0.3983661129132765], [0.41734625051949026, 0.5826537494805097], [0.7035559491076617, 0.2964440508923383], [0.32194088859427616, 0.6780591114057238], [0.7035559491076617, 0.2964440508923383], [0.7035559491076617, 0.2964440508923383], [0.32194088859427616, 0.6780591114057238], [0.7035559491076617, 0.2964440508923383], [0.32194088859427616, 0.6780591114057238], [0.7035559491076617, 0.2964440508923383], [0.7035559491076617, 0.2964440508923383], [0.7035559491076617, 0.2964440508923383], [0.41734625051949026, 0.5826537494805097], [0.6016338870867235, 0.3983661129132765], [0.7035559491076617, 0.2964440508923383], [0.7035559491076617, 0.2964440508923383], [0.7035559491076617, 0.2964440508923383], [0.41734625051949026, 0.5826537494805097], [0.6016338870867235, 0.3983661129132765], [0.7035559491076617, 0.2964440508923383], [0.6016338870867235, 0.3983661129132765], [0.7035559491076617, 0.2964440508923383], [0.7035559491076617, 0.2964440508923383], [0.32194088859427616, 0.6780591114057238], [0.41734625051949026, 0.5826537494805097], [0.7035559491076617, 0.2964440508923383], [0.6016338870867235, 0.3983661129132765], [0.41734625051949026, 0.5826537494805097], [0.41734625051949026, 0.5826537494805097], [0.6016338870867235, 0.3983661129132765], [0.41734625051949026, 0.5826537494805097], [0.41734625051949026, 0.5826537494805097], [0.41734625051949026, 0.5826537494805097], [0.6016338870867235, 0.3983661129132765], [0.6016338870867235, 0.3983661129132765], [0.7035559491076617, 0.2964440508923383], [0.6016338870867235, 0.3983661129132765], [0.7035559491076617, 0.2964440508923383], [0.7035559491076617, 0.2964440508923383], [0.7035559491076617, 0.2964440508923383], [0.32194088859427616, 0.6780591114057238], [0.6016338870867235, 0.3983661129132765], [0.41734625051949026, 0.5826537494805097], [0.41734625051949026, 0.5826537494805097], [0.6016338870867235, 0.3983661129132765], [0.6016338870867235, 0.3983661129132765], [0.7035559491076617, 0.2964440508923383], [0.6016338870867235, 0.3983661129132765], [0.7035559491076617, 0.2964440508923383], [0.7035559491076617, 0.2964440508923383], [0.7035559491076617, 0.2964440508923383], [0.7035559491076617, 0.2964440508923383], [0.41734625051949026, 0.5826537494805097], [0.6016338870867235, 0.3983661129132765], [0.41734625051949026, 0.5826537494805097], [0.41734625051949026, 0.5826537494805097], [0.7035559491076617, 0.2964440508923383], [0.32194088859427616, 0.6780591114057238], [0.7035559491076617, 0.2964440508923383], [0.6016338870867235, 0.3983661129132765], [0.7035559491076617, 0.2964440508923383], [0.41734625051949026, 0.5826537494805097], [0.6016338870867235, 0.3983661129132765], [0.6016338870867235, 0.3983661129132765], [0.6016338870867235, 0.3983661129132765], [0.6016338870867235, 0.3983661129132765], [0.7035559491076617, 0.2964440508923383], [0.41734625051949026, 0.5826537494805097], [0.7035559491076617, 0.2964440508923383]], \"columns\": [{\"dtype\": \"int\", \"name\": \"YEAR\"}, {\"dtype\": \"str\", \"name\": \"MONTH\"}, {\"dtype\": \"str\", \"name\": \"Company\"}, {\"dtype\": \"str\", \"name\": \"Area 1\"}, {\"dtype\": \"str\", \"name\": \"Area 2\"}, {\"dtype\": \"str\", \"name\": \"Area 3\"}, {\"dtype\": \"str\", \"name\": \"Area 3 Classification\"}, {\"dtype\": \"str\", \"name\": \"Outlet Type\"}, {\"dtype\": \"str\", \"name\": \"Outlet Name\"}, {\"dtype\": \"str\", \"name\": \"Product Category 1\"}, {\"dtype\": \"str\", \"name\": \"Product Category 2\"}, {\"dtype\": \"str\", \"name\": \"Product\"}, {\"dtype\": \"float\", \"name\": \"Units sold\"}, {\"dtype\": \"float\", \"name\": \"Revenue\"}, {\"dtype\": \"float\", \"name\": \"Commission\"}, {\"dtype\": \"float\", \"name\": \"men_market_share\"}, {\"dtype\": \"float\", \"name\": \"white_walkers_market_share\"}]}, e);\n",
       "                });\n",
       "            })();\n",
       "        "
      ]
     },
     "metadata": {},
     "output_type": "display_data"
    }
   ],
   "source": [
    "men_data.show(view=\"Line Chart\", x=\"men_market_share\", y=\"white_walkers_market_share\")"
   ]
  },
  {
   "cell_type": "code",
   "execution_count": 111,
   "metadata": {
    "collapsed": false
   },
   "outputs": [
    {
     "data": {
      "application/javascript": [
       "$(\"head\").append($(\"<link/>\").attr({\n",
       "  rel:  \"stylesheet\",\n",
       "  type: \"text/css\",\n",
       "  href: \"//cdnjs.cloudflare.com/ajax/libs/font-awesome/4.1.0/css/font-awesome.min.css\"\n",
       "}));\n",
       "$(\"head\").append($(\"<link/>\").attr({\n",
       "  rel:  \"stylesheet\",\n",
       "  type: \"text/css\",\n",
       "  href: \"https://static.turi.com/products/graphlab-create/2.1/canvas/css/canvas.css\"\n",
       "}));\n",
       "\n",
       "            (function(){\n",
       "\n",
       "                var e = null;\n",
       "                if (typeof element == 'undefined') {\n",
       "                    var scripts = document.getElementsByTagName('script');\n",
       "                    var thisScriptTag = scripts[scripts.length-1];\n",
       "                    var parentDiv = thisScriptTag.parentNode;\n",
       "                    e = document.createElement('div');\n",
       "                    parentDiv.appendChild(e);\n",
       "                } else {\n",
       "                    e = element[0];\n",
       "                }\n",
       "\n",
       "                if (typeof requirejs !== 'undefined') {\n",
       "                    // disable load timeout; ipython_app.js is large and can take a while to load.\n",
       "                    requirejs.config({waitSeconds: 0});\n",
       "                }\n",
       "\n",
       "                require(['https://static.turi.com/products/graphlab-create/2.1/canvas/js/ipython_app.js'], function(IPythonApp){\n",
       "                    var app = new IPythonApp();\n",
       "                    app.attachView('sframe','Plots', {\"selected_variable\": {\"name\": [\"men_data\"], \"descriptives\": {\"rows\": 354501, \"columns\": 17}, \"view_component\": \"Plots\", \"view_file\": \"sframe\", \"view_params\": {\"y\": \"Revenue\", \"x\": \"Units sold\", \"columns\": [\"YEAR\", \"MONTH\", \"Company\", \"Area 1\", \"Area 2\", \"Area 3\", \"Area 3 Classification\", \"Outlet Type\", \"Outlet Name\", \"Product Category 1\", \"Product Category 2\", \"Product\", \"Units sold\", \"Revenue\", \"Commission\", \"men_market_share\", \"white_walkers_market_share\"], \"view\": \"Line Chart\"}, \"view_components\": [\"Summary\", \"Table\", \"Bar Chart\", \"BoxWhisker Plot\", \"Line Chart\", \"Scatter Plot\", \"Heat Map\", \"Plots\"], \"type\": \"SFrame\", \"columns\": [{\"dtype\": \"int\", \"name\": \"YEAR\"}, {\"dtype\": \"str\", \"name\": \"MONTH\"}, {\"dtype\": \"str\", \"name\": \"Company\"}, {\"dtype\": \"str\", \"name\": \"Area 1\"}, {\"dtype\": \"str\", \"name\": \"Area 2\"}, {\"dtype\": \"str\", \"name\": \"Area 3\"}, {\"dtype\": \"str\", \"name\": \"Area 3 Classification\"}, {\"dtype\": \"str\", \"name\": \"Outlet Type\"}, {\"dtype\": \"str\", \"name\": \"Outlet Name\"}, {\"dtype\": \"str\", \"name\": \"Product Category 1\"}, {\"dtype\": \"str\", \"name\": \"Product Category 2\"}, {\"dtype\": \"str\", \"name\": \"Product\"}, {\"dtype\": \"float\", \"name\": \"Units sold\"}, {\"dtype\": \"float\", \"name\": \"Revenue\"}, {\"dtype\": \"float\", \"name\": \"Commission\"}, {\"dtype\": \"float\", \"name\": \"men_market_share\"}, {\"dtype\": \"float\", \"name\": \"white_walkers_market_share\"}], \"column_identifiers\": [\"Product\", \"men_market_share\", \"Revenue\", \"Product Category 1\", \"Company\", \"Product Category 2\", \"Area 1\", \"Area 3\", \"Area 2\", \"Commission\", \"white_walkers_market_share\", \"Area 3 Classification\", \"YEAR\", \"MONTH\", \"Units sold\", \"Outlet Type\", \"Outlet Name\"]}, \"complete\": 1, \"ipython\": true, \"progress\": 1.0, \"data\": [[14.35334674395993, 87268.34820327637], [57.66141865689903, 415162.214329673], [17.562203229921042, 252895.72651086305], [54.924656171201086, 303184.10206503], [57.08327763153978, 315099.6925260996], [4.994725554898981, 27570.885063042373], [2.515313083499284, 63687.72727420186], [4.984159932865016, 71771.90303325623], [17.3322504321817, 196547.7199009405], [12.524224177773698, 69133.71746131082], [2.502441082881828, 0.0], [34.8037414350363, 192116.6527214004], [2.50814060913491, 61399.2821116226], [5.026950904562427, 34836.76976861762], [75.21274459180121, 415174.35014674265], [12.428894705516774, 95453.91133836882], [12.494712203788843, 149936.5464454661], [129.78301644809454, 747550.1747410246], [5.024143566840905, 28939.06694500361], [12.594731938392597, 90682.06995642668], [12.440401457083311, 373212.0437124994], [5.012969217921761, 38499.60359363913], [24.94833883333666, 179628.03960002394], [17.41099651968476, 133716.45327117894], [5.022488124188607, 60269.85749026328], [2.475252936391557, 63861.52575890217], [55.2002689250985, 397441.9362607093], [7.509712143650029, 41453.61103294816], [94.88116954294529, 683144.420709206], [10.06030575374082, 120723.66904488984], [79.99879215252163, 575991.3034981557], [22.651686067828763, 163092.13968836708], [7.428118783567778, 89137.42540281334], [4.987514845378739, 34563.47787847466], [9.985205639279949, 76686.37930967001], [2.5067696481067445, 43768.198055943765], [2.4922064705500366, 19140.145693824285], [2.4816684834536606, 60751.24447494561], [42.28795967411913, 304473.3096536578], [35.275382699463215, 253982.75543613516], [15.041468316425236, 180497.6197971028], [9.958695410173176, 60548.868093852914], [9.910648897906912, 118927.78677488294], [20.14172551044986, 145020.423675239], [17.65398828347171, 0.0], [12.437174303482266, 89547.65498507231], [47.85462669114497, 344553.3121762438], [24.78639444175724, 136820.89731849995], [59.6962219505256, 429812.79804378434], [32.685771374701474, 188270.0431182805], [62.73868400371772, 346317.53570052184], [64.9274119950212, 373981.89309132216], [78.24959192448493, 431937.7474231568], [22.462327736071792, 161728.7596997169], [2.4880340645315373, 29856.408774378444], [12.434534945882596, 86171.32717496638], [96.9678094072727, 535262.3079281453], [37.83263343737935, 272394.96074913134], [2.478855991767946, 48783.88591799317], [2.4761677675749576, 49919.54219431114], [17.44759273531908, 120911.81765576125], [24.81948254347686, 171999.01402629464], [10.062768642933383, 100627.68642933384], [47.78189711059215, 917412.4245233692], [22.289809941100422, 160486.63157592306], [4.996413407049189, 27580.20200691152], [34.95374510792996, 251666.9647770957], [86.93052838586605, 500719.84350258845], [7.451777523428116, 89421.33028113739], [2.508439919563794, 38529.63716449988], [5.009503064701633, 34715.856238382315], [25.10197752146148, 647631.0200537062], [44.99881149419892, 248393.43944797805], [32.600157926457285, 179952.8717540442], [65.06599879105343, 468475.1912955847], [162.52841172456945, 897156.8327196233], [75.13519603980912, 414746.2821397464], [2.508957388578001, 48171.981860697626], [37.11451803537792, 445374.2164245351], [7.443200489056243, 41086.466699590455], [2.5206574759993354, 130670.88355580556], [2.48688899001685, 47748.26860832352], [12.546549616818089, 86947.58884454935], [177.5226183581806, 1278162.8521789005], [74.37045997401034, 428373.8494502996], [162.5547538028641, 897302.2409918098], [5.006480887584055, 30439.40379651105], [67.78906158298847, 488081.24339751696], [4.9944479181860295, 95893.40002917175], [2.5150909332307174, 324748.54129875026], [2.495827209175237, 50315.87653697278], [7.486557747114386, 89838.69296537263], [2.5144551420985235, 36208.15404621874], [74.45183187889394, 536053.1895280363], [67.64375873889907, 487035.0629200732], [10.056899493132578, 120682.79391759094], [192.9705031811671, 1111510.0983235224], [19.963526311637608, 239562.31573965133], [2.4809482539302747, 35725.65485659595], [22.589486205034248, 162644.30067624658], [24.75887842344963, 136669.00889744196], [7.454956764207684, 74549.56764207684], [7.5679157036883, 41774.89468435942], [2.5070873608858752, 36102.0579967566], [2.4974610965775432, 49150.03438064605], [4.953849806315872, 59446.197675790456], [7.55761534633104, 54414.83049358349], [12.505674692197996, 90040.85778382557], [30.23928473666687, 362871.41684000246], [32.28093212455202, 232422.71129677453], [10.050341615044484, 57889.96770265624], [2.503862070715361, 17351.76415005745], [4.976654819155917, 56435.2656492281], [4.958412750206432, 95201.52480396348], [7.571241579308631, 90854.89895170358], [29.75086877604464, 164224.7956437664], [51.9152044058742, 373789.47172229417], [2.487081003259613, 35813.96644693843], [20.08567220234163, 144616.83985685973], [214.10779321294663, 1233260.8889065727], [7.565793320369643, 54473.71190666143], [7.459756733215972, 0.0], [47.307515661600426, 261137.48645203435], [12.47165954918135, 71836.75900328458], [2.5131792347958646, 49459.36734078262], [9.947048123579162, 71618.74648976997], [17.598760406757023, 211185.12488108428], [40.124106099261645, 288893.5639146839], [74.85442751449695, 413196.4398800232], [5.002743915827122, 60032.92698992547], [202.0606937483797, 1115375.0294910558], [120.82656026756328, 869951.2339264556], [111.63475631852415, 616223.8548782533], [7.479276241358815, 89751.31489630578], [2.4962610586478826, 29955.13270377459], [62.5880597015559, 345486.0895525886], [164.00121057004569, 905286.682346652], [12.421760385738509, 238497.7994061793], [42.59705611166703, 235135.749736402], [37.66283131540781, 216937.908376749], [365.0152627494809, 2102487.9134370103], [2.5091829110106194, 28454.134210860426], [7.525827235093903, 225774.8170528171], [2.4785415689031325, 49372.5480525504], [49.84384780377102, 345417.86528013315], [2.510517417532675, 49406.98277704304], [2.4762605767298997, 47544.20307321407], [12.51695874583615, 90122.10297002028], [75.27183588123849, 541957.218344917], [4.969049195174077, 121642.3242978614], [2.513736979715952, 13875.828128032052], [25.01589871732568, 152096.66420134014], [37.44892680039089, 269632.27296281443], [10.037310358172682, 72268.63457884331], [9.98962237967047, 60736.904068396456], [24.84417162956737, 178878.03573288507], [2.507619095697601, 25076.190956976006], [2.4829740067692847, 47673.10092997026], [24.93487964965836, 179531.1334775402], [646.6577253270357, 3724748.497883725], [32.22791131476343, 386734.9357771612], [596.8261686888379, 3437718.7316477066], [128.71665868601343, 926759.9425392966], [75.28427480320143, 415569.1969136719], [49.54064262499633, 273464.34728997975], [2.480826052017381, 19052.74407949349], [2.520447199277005, 15324.318971604189], [34.60033155021918, 415203.9786026302], [5.016295599354365, 60195.54719225237], [27.41715172722419, 329005.8207266903], [32.74614884585948, 235772.27169018827], [20.03219130160196, 240386.29561922356], [44.88492755397394, 323171.47838861233], [7.499102833865033, 89989.23400638039], [41.88499719744283, 231205.1845298845], [12.584960784249102, 241631.2470575828], [12.39513836119967, 68421.16375382218], [35.215279256073984, 253550.01064373268], [7.469453821576841, 143413.51337427532], [4.987558665123998, 59850.703981487975], [5.022323794866987, 0.0], [22.346108745327488, 160891.9829663579], [92.80424560569055, 668190.568360972], [2.491085701058656, 49024.56659683435], [2.514039742506742, 134551.40701896083], [2.4942113734469964, 105056.18304958747], [12.505654083632471, 240108.55840574348], [5.036672632245934, 27802.43292999756], [25.19279059892233, 174586.0388505317], [62.7342865572011, 346293.2617957501], [201.05434509730543, 1158073.0277604794], [32.66397797352618, 235180.6414093885], [5.023009909075231, 98852.83501060055], [34.818175208911484, 417818.1025069378], [17.375728714085195, 95914.02250175028], [7.556035561257776, 90672.42673509332], [112.79799573065895, 812145.5692607445], [39.75263534857151, 228975.1796077719], [27.439693059451688, 197565.7900280521], [32.590262996636724, 179898.2517414347], [7.556494072513262, 90677.92887015914], [4.977272278771735, 38225.45110096692], [111.67419867690263, 616441.5766965026], [324.6923750771331, 1870228.0804442863], [30.150078260575523, 166428.43199837688], [52.47226650098735, 377800.3188071089], [12.471331822087802, 95779.82839363432], [34.83249441963301, 417989.9330355961], [2.5139786338386623, 48268.38976970231], [153.40625416728727, 846802.5230034258], [17.48721401575965, 100726.3527307756], [57.115384946561, 328984.61729219137], [7.561611538270842, 85748.67484399135], [7.546823453462819, 52299.486532497336], [27.175208448817795, 195661.5008314881], [115.80612227606684, 639249.7949638889], [22.40943798259697, 268913.2557911636], [7.565113447385034, 166129.89130457534], [14.90158130579705, 178818.97566956462], [14.82509974684014, 81834.55060255759], [62.19711236126497, 343328.06023418263], [54.62675433268134, 393312.6311953056], [2.480663007711131, 29767.95609253357], [24.878557157527336, 298542.685890328], [151.4872844864625, 1090708.44830253], [14.958220308527451, 328482.51797526283], [10.054030864381229, 193037.39259611955], [2.520749935672508, 55355.66858736827], [19.885319021643035, 143174.29695582986], [42.169039050982654, 303617.0811670751], [15.008433622747084, 180101.20347296502], [7.521100444527035, 57762.05141396763], [20.02363419897041, 240283.61038764488], [7.560057496975045, 90720.68996370054], [5.035012580962524, 96672.24155448048], [50.44096854212872, 363174.9735033268], [7.431114926276303, 45181.17875175992], [189.6960492948957, 1092649.2439385988], [226.1934540331553, 1248587.8662630173], [22.52796501982592, 162201.34814274663], [20.0778485396208, 110829.7239387068], [4.950984422220561, 99811.84595196652], [37.51907340421699, 207105.28519127777], [412.3149291861497, 2275978.409107546], [47.678950657254695, 263187.8076280459], [95.4172071255323, 526702.9833329383], [10.099976755498536, 72719.83263958944], [25.11705589411854, 138646.14853553433], [27.59287905775051, 198668.72921580364], [96.47955707650844, 1157754.6849181014], [32.19803299004573, 386376.3958805488], [42.89709350394859, 297276.8579823637], [32.51731665061249, 225345.00438874456], [30.199129326592207, 217433.7311514639], [2.495889134287764, 47921.07137832507], [15.0459790625276, 108331.04925019872], [2.5102434908131874, 30122.92188975825], [49.85544139554198, 358959.17804790224], [19.82656031392825, 142751.23426028344], [52.49518715992629, 377965.3475514693], [4.980343933414825, 59764.12720097791], [2.4997624570694, 50395.21113451911], [4.953607189611891, 59443.286275342696], [174.6871179394819, 964272.89102594], [2.522689664833753, 30272.27597800504], [189.1242762706568, 1043966.0050140256], [7.497132074301034, 149342.87092007662], [2.490958980503153, 24909.58980503153], [52.46272156182048, 289594.22302124905], [111.66284988163522, 803972.5191477736], [37.62386178250582, 207683.71703943211], [161.69601738527658, 1164211.3251739913], [25.07156929699517, 180515.29893836525], [5.029850794265056, 60358.20953118067], [25.19249660595772, 174584.001479287], [2.475004612437523, 29700.05534925028], [5.01494038595816, 140819.52603770513], [44.703283116722616, 321863.6384404028], [10.01215479908046, 113537.83542157244], [57.46174948313236, 317188.8571468906], [274.32990004755624, 1580140.2242739236], [5.021178980760171, 38562.654572238105], [7.481737333153499, 89780.847997842], [17.423838463217532, 209086.0615586104], [4.970579055818211, 34446.112856820204], [2.520241816209689, 30242.901794516267], [62.96084950493383, 453318.1164355235], [299.1967679068619, 1723373.3831435246], [2.501929044946673, 18013.889123616045], [62.08718892512116, 342721.28286666883], [12.590054474923024, 72518.71377555662], [4.96036353241488, 35714.61743338714], [77.86796285636115, 560649.3325658003], [75.62892814516469, 417471.6833613091], [5.04733624482263, 0.0], [79.3605813159824, 571396.1854750733], [2.521398086739899, 18154.066224527272], [2.5149019568130053, 36214.58817810728], [2.5202190344336195, 49597.91059765363], [45.16399098982193, 249305.23026381707], [4.990919878347439, 0.0], [163.4557468350052, 902275.7225292288], [407.2563777449127, 2345796.735810697], [12.560157779851172, 180866.2720298569], [52.89957777105003, 380876.95995156025], [2.504882524967438, 134061.31273625727], [34.77361322151915, 417283.3586582298], [40.00761786265503, 796951.7478240882], [14.86411217144482, 103008.2973481126], [5.036781220589257, 27803.032337652698], [7.487366697178987, 43127.23217575096], [42.6183841829985, 511420.6101959821], [98.87784337194591, 545805.6954131414], [2.4929604806658903, 29915.525767990683], [111.3795526516248, 614815.1306369689], [10.023239821865443, 120278.87786238536], [2.490698694408402, 29888.384332900823], [59.56338066818657, 343085.07264875463], [99.7774589349894, 718397.7043319237], [52.163895310476576, 625966.7437257189], [133.50223539703234, 768972.8758869062], [24.621079428794463, 135908.3584469454], [54.89325906278024, 303010.7900265469], [22.35798601683359, 128781.99945696148], [4.971562016157212, 59658.74419388655], [2.483565104684604, 47684.4500099444], [14.885191056619206, 103154.3740223711], [7.507351344724778, 90088.21613669732], [17.664473881719736, 122414.80400031776], [2.5082242652391624, 50565.80118722152], [20.10067131891699, 241208.0558270039], [2.5135957170003733, 50674.08965472752], [19.843799112794777, 142875.3536121224], [120.13667864731558, 663154.466133182], [12.437359488540206, 149248.31386248246], [20.08324983176076, 144599.39878867747], [50.15046658537797, 361083.35941472143], [4.981454499271623, 59777.45399125947], [75.31858354627806, 415758.58117545495], [435.4786064191525, 2403841.9074337217], [45.20792236169335, 542495.0683403203], [12.440064557757694, 89568.46481585539], [34.728781990182284, 250047.23032931244], [7.570272117413944, 90843.26540896732], [2.5064918191416234, 64667.488933853885], [52.43476424691456, 377530.30257778487], [22.70959110402767, 272515.09324833204], [37.31126893046601, 268641.13629935525], [12.54646339939124, 86946.9913577813], [112.48594128223242, 809898.7772320735], [99.63361625151607, 717362.0370109158], [49.79183186975828, 358501.1894622597], [5.0318517482100455, 99026.84240477368], [10.063007300518992, 202870.22717846287], [124.30277331841845, 715983.9743140902], [90.66960975912664, 500496.24587037903], [5.048133256456461, 72693.11889297306], [12.509539522158908, 86691.10888856123], [2.5015023834211108, 28367.0370279954], [2.5241497522792207, 36347.75643282077], [25.095567349924163, 301146.80819908995], [2.512063832061294, 19292.650230230734], [2.495545974682667, 47914.48271390721], [14.86547596856883, 107031.42697369558], [15.017434659165543, 180209.21590998652], [88.35255543117962, 487706.1059801115], [17.339026020698846, 208068.3122483861], [62.8481966498967, 754178.3597987604], [59.39626931292446, 327867.40660734294], [4.960396858324133, 59524.7622998896], [15.123216086572564, 181478.5930388708], [290.1382733927953, 1601563.2691282302], [47.06215817178516, 338847.5388368531], [87.97584242960451, 506740.852394522], [19.83723759953244, 109501.55154941906], [65.09891013672411, 468712.1529844136], [2.5144013984834457, 30172.81678180135], [10.041269258589836, 77116.94790596995], [2.499442036713365, 54887.74712622549], [2.522977005763296, 25229.770057632955], [59.46300343223667, 428133.624712104], [87.43390881944546, 629524.1435000073], [12.41769585495247, 149012.35025942966], [2.524862080889325, 36358.01396480628], [67.05268312494437, 370130.8108496929], [72.85674623156389, 419654.858293808], [12.521412613755558, 96164.44887364269], [2.4832422387804947, 35758.68823843912], [27.273287517176595, 327279.4502061192], [40.06314464282695, 769212.3771422774], [39.970097059705296, 287784.6988298781], [81.33686285845117, 585625.4125808484], [35.14812326100136, 253066.48747920975], [7.509988559960091, 144191.78035123373], [105.82201772540564, 584137.5378442392], [49.63068423284528, 357340.926476486], [150.75221042697234, 832152.2015568872], [19.893654105235253, 143234.3095576938], [62.94807280554035, 453226.1241998905], [30.28919137197366, 218082.1778782104], [62.22729250632493, 343494.6546349136], [27.282536787203536, 327390.4414464424], [57.07903364694237, 410969.042257985], [2.4819663597860107, 132834.8395757473], [87.7529136661705, 631820.9783964276], [34.75401057503105, 191842.1383741714], [25.01010231123822, 180072.7366409152], [5.013408321614463, 30481.522595415936], [74.7905960960624, 430793.8335133194], [4.974124385259772, 59689.49262311727], [173.33839297246686, 998429.143521409], [67.0368186982551, 370043.2392143683], [14.983637166083293, 107882.18759579973], [5.029451399874684, 57033.97887457893], [5.041920234248191, 60503.04281097829], [37.79722215948474, 453566.6659138169], [14.494110661600804, 104357.59676352578], [42.65677650728637, 511881.3180874365], [2.481175794726211, 29774.10953671453], [99.55629061317426, 716805.2924148545], [84.43734897341692, 607948.9126086019], [37.50827203415967, 270059.5586459496], [2.486523897796165, 69821.5910501163], [12.511506636027129, 69063.51663086975], [2.488129909109367, 29857.558909312404], [15.09876315924144, 289896.25265743566], [2.5091149702536777, 49379.38261459237], [17.67135203754512, 212056.22445054143], [2.516606823726475, 48318.85101554832], [2.514908529108664, 75447.25587325991], [2.3815585788276583, 34294.443535118284], [7.508141965565554, 90097.70358678664], [12.40951791869193, 75449.86894564693], [2.482358545165166, 48852.81616885047], [87.56292920109742, 483347.3691900578], [37.84797754388244, 272505.43831595354], [375.6142538114905, 2163538.1019541854], [4.950095866619078, 59401.15039942894], [30.238359490655107, 217716.1883327168], [4.972028815007072, 100236.10091054256], [4.990538239184997, 59886.45887021996], [10.062595320678524, 61180.57954972543], [4.987330493354522, 59847.96592025426], [99.60365335999484, 549812.1665471715], [70.05520032667758, 386704.70580326027], [25.05649202579527, 180406.74258572597], [62.685540675914936, 346024.1845310504], [22.406756479905688, 161328.64665532095], [47.52332916343305, 288941.8413136729], [5.040371804889721, 38710.05546155306], [12.434704022177064, 149216.4482661248], [50.305056036692505, 277683.90932254266], [27.611718611852474, 331340.6233422297], [5.0071627962987, 98540.9638311584], [15.063986555359902, 108460.70319859128], [4.979102148109567, 76479.00899496296], [64.53937615316, 464683.508302752], [610.0685417681989, 3367578.3505604584], [2.487699666725614, 64182.651401520845], [231.2175832014458, 1331813.279240328], [10.080060199126288, 72576.43343370926], [44.93163438461644, 323507.7675692384], [2.510949445357152, 36157.67201314298], [4.989391368612478, 59872.69642334973], [49.57584123792734, 273658.64363335894], [137.67763112222954, 991278.9440800528], [37.03801707227098, 204449.8542389358], [10.094006986023247, 121128.083832279], [2.5056686493052154, 75170.05947915647], [10.068366364721168, 120820.39637665404], [42.831305831927416, 308385.4019898774], [65.40045492902956, 470883.2754890128], [2.483004052363544, 19069.471122152016], [4.9717968930061165, 56380.176766689365], [35.136235220116, 202384.71486786817], [72.4990187951458, 521992.9353250498], [2.477407225532674, 15062.635931238658], [12.401084396740188, 85939.5148694095], [57.08563731097368, 328813.2709112084], [2.521806864951853, 49629.15910225247], [2.510042802829465, 48192.82181432573], [75.19472115252316, 415074.8607619278], [7.545743011511047, 54329.34968287954], [7.449604217150708, 89395.2506058085], [62.63349708705695, 360768.9432214481], [7.482908463826432, 89794.90156591719], [62.54614854741774, 450332.26954140776], [12.477444888285062, 86468.69307581548], [24.81560096709607, 178672.3269630917], [2.5041060251602105, 19231.534273230416], [27.643749328108505, 331724.99193730205], [2.5052782707045704, 50506.40993740415], [2.5172947778105725, 48332.05973396299], [36.85059547128566, 212259.4299146054], [4.985284447226138, 34548.021219277136], [15.055246989685218, 180662.9638762226], [89.09247264943932, 641465.803075963], [137.08500531162085, 987012.03824367], [273.6100587984996, 1575993.9386793578], [37.26717760047018, 447206.1312056421], [12.381058083955445, 148572.69700746532], [7.484634086018992, 84875.75053545536], [5.003540506332312, 60042.48607598775], [10.065051533668148, 69750.80712832026], [62.99637111901432, 453573.8720569032], [102.4525858154772, 737658.6178714358], [22.500156893510475, 162001.1296332754], [7.5472905483645345, 54340.49194822465], [22.28382503038897, 160443.54021880063], [7.50104763049447, 41405.78292032948], [152.81725045056797, 1100284.2032440894], [12.580074843815964, 69442.01313786412], [7.499487074826389, 51971.44542854688], [2.489241269856328, 47793.43238124149], [89.18248417603851, 642113.8860674773], [12.571012301302336, 90511.28856937682], [132.58730795185946, 763702.8938027105], [14.889101804197026, 178669.2216503643], [59.43355645868741, 328073.2316519545], [2.521673449654741, 30260.08139585689], [52.423597809914085, 377449.90423138137], [2.511837064589, 36170.45373008159], [24.906435299596836, 298877.223595162], [2.514151648092327, 48271.71164337268], [4.971598794974467, 59659.18553969361], [7.450101243224398, 53640.728951215664], [2.510028852416916, 48192.55396640478], [32.79462259530437, 188897.02614895315], [144.67999344484107, 1041695.952802856], [24.92960359234724, 137611.41182975675], [49.963876269401446, 287791.92731175234], [44.69819870527596, 321827.0306779869], [17.633260967753948, 107210.226683944], [2.5247449394986687, 25247.44939498669], [24.87508089243673, 282083.41732023255], [2.4954911994193547, 29945.89439303226], [5.036821385777765, 50368.21385777766], [19.92323056150701, 114757.8080342804], [22.55134533533368, 129895.74913152198], [62.661436239718704, 451162.34092597465], [79.87515104508026, 440910.83376884303], [12.609427017867429, 242100.9987430546], [7.444447847760209, 89333.37417312252], [70.2444872592942, 505760.3082669183], [4.965051467469406, 95328.9881754126], [77.97704660925176, 561434.7355866126], [2.491148575476925, 17263.65962805509], [2.504331014084161, 36062.36660281192], [25.084398471198067, 301012.7816543768], [50.48937114023296, 363523.4722096773], [194.91333495736197, 1122700.809354405], [2.495749608802644, 17969.397183379035], [9.950462124508572, 57314.66183716938], [19.857277039119964, 238287.3244694396], [2.4832510642410344, 29799.01277089241], [29.71900842293024, 213976.8606450977], [34.69920079440213, 249834.24571969532], [166.73298535403669, 920366.0791542826], [88.15860778049047, 610939.151918799], [87.15283032794186, 627500.3783611814], [2.492318409124069, 69984.30092820385], [10.060513260839016, 120726.1591300682], [29.891185145182, 181738.4056827065], [27.511064367122675, 330132.7724054721], [132.23888641540003, 729958.6530130082], [67.69489842056508, 373675.8392815193], [265.4087659108329, 1465056.3878277976], [54.68881684799802, 301882.26900094905], [2.521249395048246, 49618.1880945495], [22.35173387981368, 160932.48393465846], [5.023165075728508, 60277.98090874209], [9.945968328889208, 119351.61994667049], [7.430540682544323, 51493.64693003216], [99.06003370387867, 570585.7941343412], [2.524657634795448, 48473.4265880726], [52.05312575676355, 287333.2541773348], [137.2601340716195, 757675.9400753396], [2.504941832205365, 30059.301986464383], [17.598664415979904, 211183.97299175884], [4.955931474172105, 59471.177690065255], [40.38214976516998, 484585.79718203977], [79.48533403336853, 457835.5240322027], [5.012442988360355, 34736.22990933726], [67.7578589734149, 374023.38153325015], [2.480481718715072, 17859.468374748518], [559.2230659213966, 3221124.8597072447], [2.495308774001887, 14372.97853825087], [4.998802302335305, 59985.627628023656], [4.976177264247698, 71656.95260516685], [25.04107102918473, 173534.62223225017], [15.036163665831507, 180433.96398997807], [7.509480620559107, 43254.60837442046], [4.996496627174713, 59957.95952609656], [77.44465212651248, 557601.4953108898], [5.011100872833275, 96213.13675839888], [24.98061151499928, 179860.4029079948], [49.73031003783818, 274511.3114088667], [19.8161668250792, 142676.40114057023], [378.3319466024589, 2179192.012430163], [15.038565976517384, 180462.7917182086], [44.99308676995031, 323950.2247436422], [4.968359562326554, 95392.50359666983], [7.5538723028752734, 54387.88058070197], [12.42590149979777, 71573.19263883516], [5.029343082738679, 34853.347563379044], [27.632415173730625, 152530.93175899304], [20.12651054783396, 241518.12657400747], [165.291602868294, 912409.6478329828], [17.334424958062606, 208013.0994967513], [7.547097634490632, 41659.97894238829], [49.98212317192199, 359871.2868378384], [5.027123154199407, 72390.57342047145], [2.5161705259094207, 122889.7684854161], [10.071120145797831, 69792.86261037897], [4.997092524760888, 59965.11029713065], [2.3026609556234594, 69079.82866870379], [27.28905505851674, 196481.1964213205], [4.992762748345591, 59913.15298014709], [4.992722643897171, 59912.67172676605], [30.194428861300175, 173919.91024108903], [5.042350322258296, 30657.489959330444], [19.973076758866043, 239676.9211063925], [86.67319068264084, 624046.972915014], [60.137819097316005, 432992.29750067525], [220.54283878627044, 1587908.439261147], [7.552196739967839, 90626.36087961408], [130.20156860149257, 718712.658680239], [2.5033224999253347, 17348.024924482568], [27.237959449314367, 196113.30803506344], [62.34980632923883, 748197.675950866], [269.902063861874, 1554635.8878443942], [52.41077771245055, 289307.49297272705], [2.504309953219925, 18031.031663183458], [9.97354713727664, 119682.56564731969], [82.28086032462552, 454190.3489919329], [2.5228136793033022, 123214.22009717328], [2.493885697890782, 49079.67053449059], [25.23765065287837, 302851.8078345405], [4.964783791302821, 59577.40549563386], [42.22883889400876, 304047.64003686304], [15.02088770507144, 108150.3914765144], [2.5085467974537967, 28446.920683126056], [12.46983815057083, 149638.05780684997], [2.490163341992042, 54683.98699014525], [25.109219865167965, 180786.38302920933], [2.524283626245565, 30291.403514946785], [79.78510497162165, 440413.7794433516], [5.003835552451429, 140507.70231283613], [2.489810581505673, 47804.36316490892], [346.51708329777205, 1995938.3997951671], [7.439902190202014, 42853.8366155636], [4.972434065137622, 30232.39911603674], [4.972285353858902, 149168.56061576706], [27.584040547620678, 198605.09194286884], [32.48797876307237, 179333.6427721595], [24.84705894674978, 143119.05953327872], [9.951857951609584, 71653.37725158899], [2.4784288949840607, 49965.126522878665], [7.530951513112097, 90371.41815734516], [25.044695754205783, 173559.74157664608], [25.052132441519102, 173611.2778197274], [22.711448837655304, 125367.19758385728], [4.977488384021196, 97956.97139753714], [104.70938404839076, 753907.5651484135], [201.1413777939096, 1110300.405422381], [5.007875308457529, 34704.57588761068], [126.04379251375738, 695761.7346759408], [24.810471801143432, 178635.39696823273], [72.92147382780088, 525034.6115601663], [7.468835580009454, 89626.02696011345], [130.52577288111908, 939785.5647440576], [10.023898010441595, 120286.77612529912], [145.74621249058652, 1049372.729932223], [35.23525503959721, 194498.60781857665], [2.485883651993019, 35796.72458869947], [108.1287972304665, 2076072.9068249569], [72.14996013956934, 519479.7130048993], [57.86168644928928, 416604.1424348828], [137.701626067456, 760112.9758923571], [64.9731588187604, 467806.74349507486], [2.504986861408207, 30059.842336898484], [2.4860524931505936, 47732.2078684914], [64.78729316597109, 357625.8582761604], [7.538981158139529, 144748.43823627895], [347.0145848562671, 1915520.5084065944], [62.51740224500645, 450125.2961640464], [15.081154549538144, 104512.40102829934], [24.919809948891498, 143538.10530561503], [24.759057860661077, 171580.27097438124], [4.952287289495872, 38033.566383328296], [5.044504158446031, 34958.413818031], [12.555802411130829, 90401.77736014196], [2.491571462448507, 29898.857549382086], [5.046636308445316, 96895.41712215006], [32.47253621301235, 233802.2607336889], [274.38452121306324, 1580454.842187244], [4.995151084699023, 95906.90082622124], [37.222853279766376, 214403.6348914543], [2.5225868267507163, 19373.4668294455], [5.045361370946764, 34964.35430066107], [17.39863661533975, 96040.47411667542], [2.4966578642192325, 85086.10001259144], [62.68494827025327, 451331.6275458235], [2.483151506377035, 47676.50892243907], [148.3310224777997, 818787.2440774544], [4.970184189186647, 95427.5364323836], [2.5094046586883207, 30112.855904259846], [57.69552447643674, 415407.77623034455], [24.799324981088333, 142844.1118910688], [67.6357870913678, 486977.6670578482], [136.4385055831715, 753140.5508191066], [2.5047719513757998, 30057.26341650959], [78.2599591253752, 563471.7057027015], [263.84581693874594, 1456428.9095018774], [34.790514924699245, 417486.17909639096], [14.871566339210483, 90419.12334239976], [17.490339999611443, 198340.45559559372], [5.035508959139239, 60426.10750967087], [27.500245826185463, 330002.94991422555], [163.3090402920366, 940660.0720821308], [7.478466932387581, 45469.078948916496], [2.4887330842317072, 17246.92027372573], [73.14653942523333, 526655.08386168], [12.499548249089576, 149994.57898907491], [5.034004657960375, 57085.61282127065], [2.489852598656484, 129073.95871435212], [22.37459150303749, 161097.05882186993], [39.852208160438046, 242301.4256154633], [25.205228267174206, 174672.23189151727], [198.0391120571663, 1140705.2854492778], [37.40849431609131, 269341.15907585743], [75.20958342721724, 902515.001126607], [7.444359279169735, 74443.59279169735], [49.73494375290888, 358091.5950209439], [175.96589177914376, 1013563.536647868], [10.02063853265695, 57718.877948104026], [577.7055952003972, 3188934.885506192], [2.518474082136803, 48354.70237702662], [2.4971183514540307, 15182.479576840507], [5.024096931170189, 34816.99173300941], [52.81670198565583, 380280.254296722], [24.839852388904923, 178846.93720011544], [229.9728889117965, 1269450.3467931168], [2.4887280978087905, 47783.579477928775], [2.4969619864401125, 35956.25260473762], [44.67869846345416, 321686.6289368699], [84.95028333858978, 611642.0400378464], [2.487865911471632, 0.0], [59.431676106245504, 713180.1132749461], [4.991207155717509, 95831.17738977616], [22.402011069639457, 268824.13283567346], [2.479543262984545, 17183.234812482897], [339.45879617786045, 1955282.6659844765], [115.07871232887663, 828566.7287679118], [170.17219538287316, 939350.5185134596], [10.050835611175833, 72366.01640046599], [4.983713540903786, 30300.97832869502], [42.71852916017546, 246058.72796261063], [17.412831740979453, 125372.38853505209], [32.60099677864132, 234727.1768062175], [7.445661652069652, 74456.61652069652], [37.57856368512317, 207433.6715418799], [15.142869574965452, 218057.3218795025], [126.5665559392895, 698647.388784878], [22.562611223717, 162450.80081076236], [2.5178947927732027, 85809.85453771075], [90.34547387293723, 498707.0157786135], [60.35241857512055, 434537.413740868], [173.21327053346155, 956137.2533447077], [215.085672676606, 1238893.4746172505], [97.41360048245028, 701377.9234736421], [273.96115572482387, 1578016.2569749851], [199.10946283501443, 0.0], [7.455269136770937, 192345.94372869015], [67.77123269692417, 487952.87541785405], [59.72828134477708, 430043.62568239495], [2.5119962290803235, 70536.85411257547], [2.50359219275318, 133992.2541561502], [44.636074046578194, 321379.733135363], [25.210447505306774, 650429.5456369148], [93.04140661312606, 1116496.8793575128], [14.965342651168797, 103709.82457259975], [27.52978122976912, 198214.42485433765], [7.474808253057933, 89697.69903669521], [7.495228092529619, 89942.73711035542], [2.504100450906104, 48078.7286573972], [64.47426140479739, 355897.9229544816], [5.014363134593546, 34749.53652273328], [9.935527781659616, 68853.20752690114], [2.483893192251835, 24838.93192251835], [92.955025839241, 669276.1860425352], [270.7291838788567, 1559400.0991422145], [2.5070568141014027, 30084.681769216837], [32.40258057690067, 233298.5801536848], [88.31686432562311, 508705.1385155891], [49.31218565899891, 355047.73674479214], [4.9557468309989785, 0.0], [32.18750986414809, 231750.07102186623], [2.4762850201526074, 49327.59760143994], [2.5147485335439903, 30176.98240252788], [12.56653067498898, 69367.24932593916], [72.60005821213709, 400752.3213309968], [7.501112574154789, 90013.35088985748], [4.976281415362887, 34485.630208464805], [12.452341127211918, 86294.72401157858], [44.83363097098037, 538003.5716517644], [7.527888076288053, 54200.79414927399], [515.9293266484718, 2847929.883099565], [37.46238851889042, 269729.19733601104], [4.959908631073598, 59518.90357288318], [126.06204998275176, 907646.7598758128], [5.006747790798812, 60080.97348958575], [4.965875633431907, 59590.50760118289], [199.0180581486893, 1098579.680980765], [22.28893810573402, 128384.28348902796], [2.484497786977437, 29813.973443729246], [19.89877763214918, 238785.33158579015], [24.91843052946404, 179412.69981214107], [57.25652404252412, 687078.2885102894], [44.80999677289474, 322631.9767648421], [22.393217182687543, 155184.99507602467], [2.511784025349681, 14467.875986014162], [75.50992867356885, 416814.80627810006], [2.504520067996057, 132539.20199835135], [2.497269905741075, 47947.58219022864], [2.5178736933899826, 30214.484320679792], [62.02646973000057, 342386.1129096031], [7.530823425734577, 144591.8097741039], [5.0065242886763865, 96125.26634258662], [15.149093378274795, 104983.21711144432], [7.546478945346774, 90557.74734416128], [9.936976695588772, 71546.23220823916], [67.83509234965209, 374449.7097700795], [299.7583567474451, 1726608.1348652835], [12.565632410998091, 72378.042687349], [15.012540405777315, 180150.4848693278], [14.98858020950602, 86334.22200675466], [2.5127461077969526, 18091.771976138058], [7.554926344390697, 90659.11613268836], [74.59868613675457, 411784.7474748852], [14.97241655754663, 449172.4967263989], [30.04192578693265, 735426.3432641113], [24.78544170785274, 142764.14423723178], [2.516805334675813, 49530.72898642], [4.983092573821501, 49830.925738215], [2.4940243584844186, 28282.236225213303], [2.5146447365747977, 13880.838945892883], [7.500747955596036, 54005.385280291455], [27.267637507391743, 150517.35904080243], [95.48810100956072, 687514.3272688371], [125.95144492883664, 695251.9760071783], [74.95313926971691, 413741.3287688373], [2.506486425498085, 17369.950928701728], [12.574297971616222, 150891.57565939467], [10.004671365540048, 76835.87608734757], [2.5039669595050302, 30047.60351406036], [50.15851835561957, 276875.02132302005], [77.28826401125717, 556475.5008810516], [12.53178301539172, 90228.8377108204], [20.16342906455561, 145176.68926480043], [10.089746547292362, 69921.94357273607], [5.029013381758126, 30576.401361089407], [2.517792160571793, 28551.76310088413], [5.0477875183940215, 36344.07013243695], [15.015612510007678, 108112.41007205528], [355.4539927208761, 2047414.998072246], [76.60273963562042, 551539.725376467], [52.81752367582981, 380286.17046597454], [9.974419931210058, 191508.8626792331], [42.63929820206061, 307002.9470548364], [2.517947058974634, 18129.218824617365], [20.093845563849083, 241126.146766189], [65.11113354435852, 781333.6025323023], [34.996701408279705, 251976.2501396139], [59.80453643443616, 430592.66232794034], [27.28883131918205, 209578.22453131815], [9.671873778218844, 109679.04864500166], [50.12262981271108, 288706.34772121586], [99.90372068021306, 575445.4311180272], [2.49825991570937, 29979.11898851244], [110.45384737921503, 795267.7011303483], [7.4474944229705295, 45280.766091660815], [92.4048069285772, 532251.6879086045], [2.505530289800944, 48106.18156417813], [59.97411401872399, 431813.6209348127], [10.096376242395348, 100963.76242395348], [2.5024327984435573, 19218.68389204652], [104.09816068978311, 749506.7569664385], [9.921602421316589, 60323.34272160485], [54.74317025849678, 302182.2998269022], [12.489222030169314, 141627.77782212003], [12.509697705219052, 150116.37246262864], [2.5100083558836945, 17394.357906274003], [17.621297586545005, 107137.48932619362], [17.44262429544684, 125586.89492721726], [172.9759029939782, 954826.9845267596], [17.521789687992865, 210261.4762559144], [2.5181910192265207, 30218.292230718245], [4.968453186238914, 95394.30117578716], [90.1095704386392, 648788.9071582023], [2.489150099005628, 29869.80118806753], [27.253693544150597, 196226.59351788423], [4.95549986675227, 95145.59744164358], [4.957627750272774, 59491.53300327329], [2.496862172235772, 47939.753706926815], [7.506085546023419, 85119.01009190557], [14.86528487985193, 103016.42421737387], [35.03620928746498, 252260.70686974784], [239.6543805141469, 1380409.2317614865], [2.4854883680349795, 17224.43439048241], [25.0423768128004, 300508.5217536048], [2.483278441605115, 17209.119600323447], [5.002752010803024, 60033.024129636295], [5.046808207475847, 30684.59390145315], [76.82463918639814, 553137.4021420666], [5.00256239143128, 96049.19791548056], [2.5240185892049154, 30288.223070458986], [2.482299973901535, 28149.28170404341], [5.040987266425988, 34934.041756332095], [22.324420199783816, 160735.82543844343], [14.962675269841569, 179552.1032380988], [68.1302749651012, 392430.3837989828], [27.337176935473185, 157462.13914832554], [5.043126520096614, 60517.51824115936], [74.6678498622782, 537608.5190084031], [37.56814456576023, 450817.7347891227], [5.046481389554764, 72669.3320095886], [7.425057328535166, 74250.57328535165], [2.5113439355747724, 48217.80356303563], [230.5630513359548, 1328043.1756950996], [51.77315210763168, 994044.5204665284], [47.8229759009744, 344325.4264870157], [100.65946985345371, 579798.5463558934], [5.006599468498764, 56774.83797277598], [5.002306244909164, 60027.67493890997], [7.428681509088107, 106973.01373086874], [14.980561706068698, 82692.70061749921], [47.58059682594769, 342580.2971468233], [12.429777264703024, 71595.51704468942], [12.492168451577918, 68956.7698527101], [25.1614278889157, 181162.28080019305], [22.48849874621964, 129533.75277822513], [169.41822595054867, 1219811.2268439506], [75.43244204053413, 416387.0800637484], [197.51366542859367, 1137678.712868699], [188.9295465114792, 1088234.18790612], [62.39579330038943, 1197999.231367477], [107.0421158087622, 770703.2338230879], [5.048524487683903, 29079.501049059283], [37.76527425205514, 208464.3138713444], [2.48007666800836, 29760.920016100325], [52.94061242376817, 381172.4094511309], [2.480960059563206, 19053.77325744542], [143.4873008704413, 1033108.5662671772], [119.42239099502294, 859841.2151641651], [29.89229810384174, 165005.4855332064], [47.26892993645671, 272269.0364339907], [12.415595325177687, 68534.08619498085], [4.994554559826713, 59934.65471792056], [136.5456826764793, 983128.9152706508], [2.5013965245973973, 15208.490869552175], [2.4894522836696686, 29873.427404036025], [4.96021843532289, 59522.62122387468], [220.51899361368675, 1217264.844747551], [82.2929119189747, 592508.9658166178], [12.5381545272756, 90274.71259638431], [2.5164642228781045, 15300.102475098874], [4.964380924633951, 148931.42773901852], [2.5107462187761387, 30128.954625313665], [37.47409727042216, 215850.80027763167], [2.5104668002833552, 25104.668002833558], [77.98347611575088, 430468.78815894487], [2.4825971966891185, 35749.39963232331], [2.497881463896701, 29974.57756676041], [2.491148599151366, 124358.1380696362], [186.5758482896132, 1029898.6825586646], [12.422376062816316, 89441.10765227748], [22.700223474725867, 272402.6816967104], [2.507587464124009, 49349.32129396049], [7.441571212011082, 107158.62545295958], [17.574959699592107, 210899.51639510528], [78.0450762130515, 561924.5487339708], [7.531655429684829, 144607.78424994872], [14.852627478271245, 168428.79560359594], [64.3654151395967, 446052.3269174052], [12.47378607816083, 75840.61935521784], [2.479403913040306, 29752.846956483678], [7.51892189420459, 144363.30036872812], [19.953681290279075, 143666.50529000934], [2.475674431564441, 47532.94908603726], [47.88265872597797, 264312.2761673984], [119.55837707455017, 688656.2519494089], [248.1312155525012, 1369684.3098498064], [2.4939010979365617, 29926.81317523874], [5.003967464640447, 60047.60957568537], [2.502225375492775, 19217.09088378451], [229.69097925055456, 1323020.0404831944], [17.331473614717094, 124786.61002596308], [124.70188854801312, 688354.4247850324], [99.82260364530065, 551020.7721220595]], \"columns\": [{\"dtype\": \"int\", \"name\": \"YEAR\"}, {\"dtype\": \"str\", \"name\": \"MONTH\"}, {\"dtype\": \"str\", \"name\": \"Company\"}, {\"dtype\": \"str\", \"name\": \"Area 1\"}, {\"dtype\": \"str\", \"name\": \"Area 2\"}, {\"dtype\": \"str\", \"name\": \"Area 3\"}, {\"dtype\": \"str\", \"name\": \"Area 3 Classification\"}, {\"dtype\": \"str\", \"name\": \"Outlet Type\"}, {\"dtype\": \"str\", \"name\": \"Outlet Name\"}, {\"dtype\": \"str\", \"name\": \"Product Category 1\"}, {\"dtype\": \"str\", \"name\": \"Product Category 2\"}, {\"dtype\": \"str\", \"name\": \"Product\"}, {\"dtype\": \"float\", \"name\": \"Units sold\"}, {\"dtype\": \"float\", \"name\": \"Revenue\"}, {\"dtype\": \"float\", \"name\": \"Commission\"}, {\"dtype\": \"float\", \"name\": \"men_market_share\"}, {\"dtype\": \"float\", \"name\": \"white_walkers_market_share\"}]}, e);\n",
       "                });\n",
       "            })();\n",
       "        "
      ]
     },
     "metadata": {},
     "output_type": "display_data"
    }
   ],
   "source": [
    "men_data.show(view=\"Line Chart\", x=\"Units sold\", y=\"Revenue\")"
   ]
  },
  {
   "cell_type": "code",
   "execution_count": 112,
   "metadata": {
    "collapsed": false
   },
   "outputs": [
    {
     "data": {
      "application/javascript": [
       "$(\"head\").append($(\"<link/>\").attr({\n",
       "  rel:  \"stylesheet\",\n",
       "  type: \"text/css\",\n",
       "  href: \"//cdnjs.cloudflare.com/ajax/libs/font-awesome/4.1.0/css/font-awesome.min.css\"\n",
       "}));\n",
       "$(\"head\").append($(\"<link/>\").attr({\n",
       "  rel:  \"stylesheet\",\n",
       "  type: \"text/css\",\n",
       "  href: \"https://static.turi.com/products/graphlab-create/2.1/canvas/css/canvas.css\"\n",
       "}));\n",
       "\n",
       "            (function(){\n",
       "\n",
       "                var e = null;\n",
       "                if (typeof element == 'undefined') {\n",
       "                    var scripts = document.getElementsByTagName('script');\n",
       "                    var thisScriptTag = scripts[scripts.length-1];\n",
       "                    var parentDiv = thisScriptTag.parentNode;\n",
       "                    e = document.createElement('div');\n",
       "                    parentDiv.appendChild(e);\n",
       "                } else {\n",
       "                    e = element[0];\n",
       "                }\n",
       "\n",
       "                if (typeof requirejs !== 'undefined') {\n",
       "                    // disable load timeout; ipython_app.js is large and can take a while to load.\n",
       "                    requirejs.config({waitSeconds: 0});\n",
       "                }\n",
       "\n",
       "                require(['https://static.turi.com/products/graphlab-create/2.1/canvas/js/ipython_app.js'], function(IPythonApp){\n",
       "                    var app = new IPythonApp();\n",
       "                    app.attachView('sframe','Plots', {\"selected_variable\": {\"name\": [\"men_data\"], \"descriptives\": {\"rows\": 354501, \"columns\": 17}, \"view_component\": \"Plots\", \"view_file\": \"sframe\", \"view_params\": {\"y\": \"Revenue\", \"x\": \"Commission\", \"columns\": [\"YEAR\", \"MONTH\", \"Company\", \"Area 1\", \"Area 2\", \"Area 3\", \"Area 3 Classification\", \"Outlet Type\", \"Outlet Name\", \"Product Category 1\", \"Product Category 2\", \"Product\", \"Units sold\", \"Revenue\", \"Commission\", \"men_market_share\", \"white_walkers_market_share\"], \"view\": \"Line Chart\"}, \"view_components\": [\"Summary\", \"Table\", \"Bar Chart\", \"BoxWhisker Plot\", \"Line Chart\", \"Scatter Plot\", \"Heat Map\", \"Plots\"], \"type\": \"SFrame\", \"columns\": [{\"dtype\": \"int\", \"name\": \"YEAR\"}, {\"dtype\": \"str\", \"name\": \"MONTH\"}, {\"dtype\": \"str\", \"name\": \"Company\"}, {\"dtype\": \"str\", \"name\": \"Area 1\"}, {\"dtype\": \"str\", \"name\": \"Area 2\"}, {\"dtype\": \"str\", \"name\": \"Area 3\"}, {\"dtype\": \"str\", \"name\": \"Area 3 Classification\"}, {\"dtype\": \"str\", \"name\": \"Outlet Type\"}, {\"dtype\": \"str\", \"name\": \"Outlet Name\"}, {\"dtype\": \"str\", \"name\": \"Product Category 1\"}, {\"dtype\": \"str\", \"name\": \"Product Category 2\"}, {\"dtype\": \"str\", \"name\": \"Product\"}, {\"dtype\": \"float\", \"name\": \"Units sold\"}, {\"dtype\": \"float\", \"name\": \"Revenue\"}, {\"dtype\": \"float\", \"name\": \"Commission\"}, {\"dtype\": \"float\", \"name\": \"men_market_share\"}, {\"dtype\": \"float\", \"name\": \"white_walkers_market_share\"}], \"column_identifiers\": [\"Product\", \"men_market_share\", \"Revenue\", \"Product Category 1\", \"Company\", \"Product Category 2\", \"Area 1\", \"Area 3\", \"Area 2\", \"Commission\", \"white_walkers_market_share\", \"Area 3 Classification\", \"YEAR\", \"MONTH\", \"Units sold\", \"Outlet Type\", \"Outlet Name\"]}, \"complete\": 1, \"ipython\": true, \"progress\": 1.0, \"data\": [[525.9445012050868, 38327.01019690887], [1408.0828687549915, 125719.95061806426], [17421.994382321755, 2171742.8922371194], [0.0, 60384.65870526273], [8989.766523144865, 340664.8366665422], [3770.97234326977, 48871.80156877622], [1998.584510336714, 119915.07062020284], [3789.0569056166064, 194702.8865105562], [2574.928103561756, 49685.81268632765], [47816.023315018, 1643981.5309377485], [0.0, 56769.34977562659], [0.0, 35652.98802813578], [0.0, 1167797.2871536051], [1487.191286817241, 178462.95441806893], [2266.946243267285, 48361.51985636874], [1208.0152371717952, 136713.29624961707], [6704.777160801064, 482739.6635665135], [12343.97807506769, 361616.2142758719], [241.39686904435385, 17476.831823599256], [4076.005929601384, 361103.932726167], [74728.37437427096, 713849.7659273769], [11407.174958178004, 95225.11269435551], [0.0, 130412.75041507112], [1361.266594347273, 97320.97511136282], [2923.706750784654, 219814.8198252917], [440.4675873162017, 126854.66514706609], [0.0, 72541.15457821528], [1934.038302861071, 215167.1607926169], [1262.0540338807764, 60578.59362627728], [6031.288454641198, 120625.76909282396], [5728.117850454042, 381470.7246838458], [0.0, 60483.519915445504], [0.0, 30183.48818053373], [0.0, 149106.58156682938], [6809.403411857896, 115013.38032861966], [3514.128324232021, 505248.87021537015], [851.0378473096317, 29786.32465583711], [7932.056314769681, 211521.5017271915], [936.3374427903108, 38195.68845197928], [15757.709311908176, 149473.12833010033], [0.0, 27813.88601853914], [5041.781351339547, 154429.76279153032], [6474.221490787182, 730092.2039760889], [0.0, 13768.455109217137], [4388.567233415929, 150465.16228854615], [529.1316542754496, 24929.86151396972], [2247.309794838105, 162550.24226387625], [474.341841340461, 28404.605906269677], [5012.818494669719, 123766.48863339538], [5008.795031838822, 48986.01541138368], [45129.38070870371, 1173764.0779647664], [836.2777597733791, 28589.38133938046], [588.0335209078937, 110850.9415474069], [6383.257168773277, 306389.3367519097], [89056.59913066485, 860772.5108702077], [2312.954848295028, 416331.87269310496], [906.75106643325, 54405.063985995], [4116.206809351895, 197887.12548245728], [1231.5461247504704, 69631.5725180438], [7082.748717278408, 536797.7975200478], [3478.873953251405, 238551.35679438207], [7475.829596091121, 521657.6502494924], [0.0, 208358.94985094108], [4941.560816409712, 126756.9095236978], [3867.636391621695, 65309.50312990727], [4518.539004073538, 271085.16506879806], [1328.5577964239892, 250376.2064346468], [4022.156237028829, 48265.87484434594], [14650.136594939064, 1368913.0353850245], [1087.0836206095316, 101395.25406776174], [8952.345848483852, 178431.44319259387], [331.3600614113854, 17388.42155838491], [4538.461610947674, 108923.07866274416], [0.0, 82564.04778856867], [0.0, 233647.31086097483], [0.0, 551962.4025422746], [533.0098937349192, 77078.30691877154], [0.0, 59973.01092779183], [0.0, 683856.9437855583], [1505.3577061721974, 90321.46237033184], [13029.74663497186, 625427.8384786493], [4797.891830028201, 902475.1525810898], [0.0, 956453.1394448502], [26445.243268452195, 133284.02607299906], [5061.072883179111, 361767.6772244625], [845.0988223754592, 60206.61824420173], [8617.608820113994, 649389.3709908337], [1693.7911578918636, 85811.88759799872], [1004.9062283733224, 48235.49896191948], [5070.719942708233, 251082.84389498667], [318.6141159825445, 38305.4942820704], [0.0, 155833.25149846228], [0.0, 199625.00557486215], [0.0, 101510.60279524168], [7278.336119900708, 411802.6017381681], [1425.2515581488203, 342459.4443919987], [0.0, 13877.9603601095], [1995.6291388605096, 287370.59599591343], [4107.229860073889, 579065.9729208618], [0.0, 47523.272456281215], [0.0, 606858.1917238011], [5190.992545860582, 50767.90709851652], [2872.150243189923, 103191.56865927351], [0.0, 125263.56270908736], [4572.441386513664, 151021.2069374227], [1325.6623818562798, 115327.2601673188], [4019.0714666237673, 241144.2879974261], [251.35042940834575, 30162.051529001496], [18562.65765432782, 1216818.498819671], [482.1472065370177, 54736.041940258285], [1604.9047364007065, 38197.98950373413], [3390.2636898569176, 319875.9605754189], [2225.0065767617025, 249323.9189184931], [1277.7920680193124, 60162.382230250834], [34354.83941767873, 1289627.818140556], [0.0, 119939.79256534643], [1078.7161572883554, 110735.76188871138], [481.63936707769113, 34549.625210462815], [8749.578295874378, 615676.5858585805], [897.3096691506521, 89730.96691506522], [2779.74810324156, 628593.2297653577], [9577.139246091316, 898872.535324615], [2433.211716747082, 48177.59199159223], [27046.01108120429, 2036273.0603175247], [16297.685354127809, 388338.41223809565], [2242.47027655748, 268412.28971269366], [1005.202745854146, 60312.164751248754], [968.775416743191, 136820.89731849995], [5006.858068409396, 99736.61272271516], [0.0, 59436.78912399844], [2015.6002808316236, 145123.22021987688], [0.0, 722480.9453955947], [1492.18682999726, 59687.4731998904], [629.1217338832735, 30197.843226397126], [286.35230817058306, 34395.13708140758], [696.0593510127708, 71557.59322635434], [4901.893557748211, 125739.39718214942], [9075.429744055078, 653446.003006908], [5481.4949663274765, 394660.29150507896], [1378.1210747776731, 271024.7135722064], [33851.410312593616, 386873.2607153556], [0.0, 120660.375852981], [1007.6105601069014, 120913.26721282816], [9989.641781218355, 724632.4993524785], [4200.507897307972, 318533.08641008753], [252.1236896646836, 30179.081298698216], [211.58021887916956, 15157.195629594537], [2250.4948157152053, 90019.79262860821], [742.2603645365459, 38287.12529695752], [0.0, 342759.3610223115], [0.0, 28529.53016827015], [13926.261826101716, 1336455.2949414973], [3000.405845131318, 214619.72787104445], [3815.873246331984, 719177.1528684021], [993.7513089270784, 119250.15707124944], [19678.81295668581, 1881563.6549032228], [11376.713237103611, 272556.68990103604], [3017.530385213197, 268146.65719804936], [1841.851626372861, 261867.01095563863], [8942.432793040842, 536545.9675824505], [0.0, 258044.416764446], [1091.0294306838111, 59510.69621911697], [0.0, 87217.63761582917], [2854.474381172251, 402652.1562081578], [10235.844230969136, 965132.3652516428], [0.0, 3248664.866826741], [0.0, 96257.02670722998], [461.3732857064692, 29082.02688277464], [10074.089778868232, 141440.22049530997], [4968.766357009267, 149062.990710278], [496.5140223705807, 24825.701118529032], [12709.326585359468, 289477.60820760723], [2388.093875611061, 430333.0605717306], [1629.687800033145, 234675.04320477287], [1249.801464012189, 149976.1756814627], [80128.7690080238, 390002.7445158534], [4174.983256056528, 196184.9110649349], [0.0, 502110.8192786551], [8082.887679804864, 455388.98897890846], [29870.839752869186, 2806333.0422805604], [643.2941482361659, 72602.16717226035], [0.0, 13730.81057835693], [706.806315702155, 28226.51810177607], [1033.4883022266972, 108970.59896608855], [1200.5874239482964, 120058.74239482963], [0.0, 120894.80823701576], [0.0, 235917.8482940574], [2253.5060577740114, 162252.43615972882], [9686.428371241336, 614127.9277646395], [17593.696188445978, 979371.0336512022], [263.58416218154287, 38040.5167196813], [0.0, 29769.547103513803], [2173.1285491992166, 411445.67198171833], [240.68897146236893, 28088.40296965845], [13440.024187970776, 506171.9878792687], [0.0, 273834.1570614921], [1509.7658329977069, 30195.316659954136], [3640.935531678013, 141187.3889506251], [995.9450210284984, 59756.70126170991], [17594.98612721078, 603256.6672186555], [2278.790638690357, 429425.4359132048], [4558.159146205369, 343202.5710084043], [9916.585077037971, 297497.5523111392], [2330.940909647092, 219196.8706956877], [2574.1494346861605, 305172.5370846572], [1554.5947544931698, 45693.144138772834], [4745.032014640084, 445038.8121921482], [2246.7318520784547, 55119.82143765809], [0.0, 654026.2704681965], [8786.802423001367, 253515.8735838491], [1856.4939796465949, 87077.24487616816], [0.0, 48007.08645420328], [5020.108027562966, 599283.4707457899], [33036.334644828145, 192211.4015699092], [0.0, 72643.3986068801], [0.0, 127083.37132453702], [4286.987617707341, 178675.51963801665], [839.2136353983133, 30061.38395456645], [0.0, 83422.55126437894], [2232.765874389372, 69197.24431619301], [5401.663938709403, 508296.5766325549], [12488.786402044312, 95913.87956770032], [501.35084124536513, 30081.050474721906], [20172.841428014315, 319800.8396796016], [0.0, 470586.50958629424], [40599.834046535885, 731552.3585873491], [5046.0119420656665, 180752.66658145672], [1489.5812142412967, 267378.3635060699], [2478.479176162993, 148708.75056977957], [2555.4442561976966, 288935.5639007529], [159.07360418371678, 19085.65880862269], [1209.764697025221, 87020.72063905722], [679.5920756371844, 69948.1295456991], [5841.223190486321, 645976.2378132545], [0.0, 47848.13237001494], [2597.0334264798225, 50797.973821945336], [1851.2117169507133, 60444.70714660786], [1989.0149325545744, 59670.44797663723], [0.0, 1266216.1702107545], [0.0, 30131.89667688594], [7435.898238206473, 144910.7848661678], [249.8467008666207, 89944.81231198345], [4745.006206581953, 487367.13344477606], [0.0, 457376.214199871], [0.0, 90316.5990263196], [0.0, 61180.13352702441], [425.452810686553, 15280.4528460377], [6421.876786587798, 453411.1261405057], [1326.94137486947, 95577.6916013124], [0.0, 49420.80981824269], [12330.12327266752, 1128305.5193226405], [45990.67004058434, 2078871.7339900287], [14895.028857721834, 107244.20777559724], [63.94318290739129, 15278.157836006036], [0.0, 90285.42953061251], [3730.504386558981, 268596.3158322466], [3356.245933895429, 483292.1166415387], [2599.482724524836, 267350.35533782985], [3821.941771613339, 304444.3285473489], [0.0, 251056.4910349949], [34772.813484467064, 1685444.7489983577], [0.0, 326084.07993727206], [2972.68925287137, 213987.8925259252], [4492.649664875691, 501556.2895242048], [1497.6173547303297, 89857.04128381978], [1813.491899701492, 323926.5564745871], [70310.6800550625, 2251022.7527827304], [4098.608292115913, 197475.58744806028], [908.7446191688488, 167209.0099270682], [1764.0142729414545, 211681.71275297456], [90042.60497493893, 3400173.679672748], [8444.447492386182, 316271.62752711383], [26838.67880897638, 500531.36719921074], [6047.594746548216, 120951.89493096432], [7545.449752441437, 705482.6164514347], [7821.819690393516, 469762.62024624256], [1004.7430488975228, 30142.29146692569], [6235.710733345888, 343628.6934242321], [906.6394315932084, 215193.5356752115], [479.8108158113421, 34663.02240226042], [2110.906763152785, 379963.2173675014], [2514.666363709915, 150879.98182259488], [4497.140284412512, 855450.4460167544], [1900.857142427285, 56892.24983515877], [0.0, 142772.32274246146], [1459.7678426454518, 164477.42092291496], [1008.514563578385, 49316.36215898304], [7468.527535714798, 632628.2147899594], [4647.004987107851, 374262.48104294017], [0.0, 50099.70056390925], [0.0, 55176.33636594016], [1371.5249891098986, 197499.5984318254], [3605.769754984732, 432457.2117011036], [20138.9637515006, 538918.669990156], [9335.02722220933, 392561.1266621024], [1114.6676858397334, 89173.41486717868], [16422.62455668515, 984366.996758666], [9212.820613774948, 435162.75766372064], [5937.947307421386, 120995.31591356044], [628.220724196529, 76131.04479892751], [7034.185735757792, 561498.908882612], [779.5367051001242, 69856.54731510147], [5592.402412242466, 802364.2343963085], [11159.337910018996, 898465.2393115762], [5033.372366369496, 55266.428582737055], [1123.6185540195715, 15163.259690346968], [2034.898825053744, 484688.0609872143], [29842.202857626176, 850417.1120024865], [300.19902006267426, 43050.01526262646], [1220.230693647046, 138115.00614564944], [12125.624771614774, 211801.3060544065], [10335.957597826164, 973241.459999472], [3841.6058241310247, 289919.49599011504], [0.0, 89424.28497070276], [48022.71140050271, 2868663.809064553], [842.6997303391323, 120789.91818976802], [737.3993550616613, 86784.0927692197], [18018.042660860545, 1038662.9375704612], [0.0, 210041.808397518], [0.0, 343344.05320879497], [4975.60199619494, 357780.9518067697], [504.4207541273889, 30265.24524764333], [0.0, 412005.8087527184], [2267.607077883546, 180695.8897204918], [0.0, 45329.59336340024], [4048.2937566388496, 242297.78675024363], [8180.318350528105, 588169.7232274504], [2472.146632476626, 444986.3938457926], [247.76158904508185, 29731.390685409824], [0.0, 29819.15330680896], [0.0, 54967.59438111792], [0.0, 59503.563403903296], [4033.898063122, 321703.3705339795], [52057.73229284721, 335945.8990631741], [2185.0851568241424, 525127.3784685908], [729.663876738044, 83161.27795769366], [20188.84666127401, 573341.3728072817], [0.0, 968608.8314626964], [0.0, 28916.16200703836], [636.92175025149, 30062.70661187032], [20039.24928771419, 259708.6707687759], [14616.73311703502, 825373.796731709], [1998.047554628448, 290801.5498079232], [627.6204495852966, 90207.88721889468], [4996.637745814905, 449457.7328128592], [3009.9685629702, 342291.0633055984], [9998.005508900362, 299280.29690342344], [2585.5160196174115, 59614.61222375006], [12768.003766248188, 1433929.7641499662], [2950.7302940388013, 277368.6476396474], [23832.95220227533, 1781221.885482053], [370.56544476220864, 19085.88500260976], [0.0, 2325516.145036712], [0.0, 178887.23498086515], [1497.6876054017123, 89861.25632410275], [1501.0424542938592, 49234.19250083859], [670.7742334082463, 19333.52631015919], [59347.117297131765, 354285.85567754816], [401.4112350509148, 57839.16678971575], [0.0, 113455.59534886129], [11664.392590832964, 661260.9596449273], [3099.982984793028, 427797.6519014378], [49675.81673909303, 953246.3479015004], [0.0, 47761.31408120784], [1731.2708822620748, 499067.6863267476], [2484.608859946012, 54562.01056441442], [3920.516272262579, 440884.8582015607], [1245.8117811367408, 59798.96549456356], [1569.0306381874666, 50542.80285572094], [290.818688903414, 34892.30759312594], [319.36527357263384, 25245.064482408216], [0.0, 238354.86316653772], [0.0, 60183.11795739966], [0.0, 119112.70924974512], [4177.478674029584, 585713.3765539508], [3766.021412324104, 90384.5138957785], [0.0, 109685.64722030512], [3521.5296226643554, 211291.77735986133], [9119.510439100302, 1034047.324763487], [3074.149327638479, 289293.6314640844], [0.0, 29845.07374693837], [1219.460089286137, 144876.40402171228], [0.0, 52277.025839964685], [8497.794193907755, 1019940.482824285], [2255.3728888956875, 231832.34480480588], [0.0, 47536.60934204132], [10156.714979015962, 120401.50812937238], [251.81472691548367, 30217.76722985804], [6175.341519933744, 99299.49164053467], [1623.561080846789, 467585.5912838753], [7766.772243582013, 1071814.569614318], [0.0, 77499.38482558822], [0.0, 249542.43883747465], [3744.737016782532, 180326.88395097028], [121.1372240032701, 13930.780760376065], [27506.93454591989, 985545.354899365], [1512.189485116401, 90731.36910698409], [0.0, 34617.51121133463], [57426.99513785397, 1370892.8104696858], [3359.141645037978, 618082.0626869879], [17115.038437323874, 615371.2070139803], [5031.223973533549, 134635.55353175776], [0.0, 55177.85980145788], [2230.703865283767, 107073.7855336208], [296.58492234714123, 30455.663754553563], [348.1425885589366, 71511.16976411089], [1501.649878164705, 60065.99512658818], [0.0, 97624.07193386316], [214.4145353300616, 30584.705177592063], [7399.754706217747, 683543.6964136095], [1489.132305937232, 59565.29223748928], [2365.1425200602025, 121578.17644014448], [5060.607499316524, 297727.8487706001], [5632.28984510858, 162209.9475391271], [2172.6921713934053, 489185.98777356814], [1111.5704149580522, 114447.17848845052], [689.9961033637086, 55524.39231773843], [6984.857016843746, 670434.5159047301], [63.0413504279996, 14322.994817241515], [0.0, 305037.7079758384], [0.0, 258697.06738950603], [27331.248097688236, 596318.1403131977], [2976.5915510061486, 357205.16937145736], [3169.42815931736, 362664.37312034], [0.0, 56935.88564136684], [487.2871246649607, 55150.64383576482], [867.9520064268555, 124985.0889254672], [0.0, 50260.605765829634], [871.3106888817983, 125468.73919897896], [1872.540259969222, 149803.22079753777], [2504.585388541728, 36066.02959500088], [1918.1873078185995, 49514.80837249079], [33434.1955057116, 2143940.15660861], [1010.8706319024728, 181721.42488846785], [211.9469159993297, 38038.04878806151], [1506.5577628425915, 120524.62102740734], [4090.834090963435, 120911.41961524256], [6886.093010952076, 778556.2317163134], [28024.7702947567, 804217.4437354367], [3364.3012788299866, 634119.2287754375], [2524.401022421818, 36351.374722874185], [0.0, 18014.074698947352], [22597.81666276783, 596602.4468452154], [2129.8351685197536, 253914.0226415556], [2280.612448491354, 180698.4292205698], [25084.610818488374, 240812.26385748843], [963.8870541194708, 57126.37274081398], [0.0, 34713.483334459575], [0.0, 30605.895230405196], [5235.019439739899, 178389.5195751367], [0.0, 59768.45235213783], [3256.444818723001, 262942.74933788204], [3483.075975913598, 251189.24501417865], [18355.053171753996, 1101303.1903052398], [1197.3309762138647, 56897.167989682814], [0.0, 409309.3053306326], [0.0, 36150.38927473663], [3731.827434641341, 356090.6474396159], [2498.448724628953, 74953.4617388686], [63822.92138375494, 2039201.0508741776], [4245.315162004767, 399327.8128210596], [5604.606078447908, 319987.3450067307], [0.0, 48192.720293497136], [0.0, 271878.1874538594], [0.0, 171284.6170180835], [4409.471275072545, 498729.53076399374], [0.0, 358324.8418101317], [1486.6767713644415, 89200.60628186648], [495.4526269447695, 95126.90437339574], [23038.64453775841, 2598718.379629227], [484.2838731162386, 69817.83678712478], [2641.055753611476, 375674.742138667], [7142.660473170478, 489504.1469729952], [7601.509122442579, 98183.85601060382], [45396.00017132526, 294496.23383870634], [14749.5957018461, 834833.1595349961], [0.0, 30061.031879502072], [180.4692006607122, 51811.008308010845], [1209.2902056526398, 137411.80506849164], [0.0, 68336.72231995486], [202.92107355557135, 28745.34666338271], [8133.167635238571, 1516114.423939417], [0.0, 30099.76350506967], [3537.473141419629, 507474.624535712], [9247.14915586369, 1050123.1092015773], [0.0, 271649.9032400018], [0.0, 276838.37004121667], [1005.8597318836482, 48281.26713041512], [71406.95225107136, 720455.161799064], [662.8112350490476, 30240.09978787775], [4962.084804148809, 689614.3904556577], [543.08891408742, 51846.21711111352], [1239.610172851469, 47601.030637496406], [1212.962708333445, 141552.74806251307], [2596.0888979099213, 101558.99768623614], [5977.675054872557, 239107.00219490228], [14081.818919561852, 688048.4967231028], [497.9323820497151, 59751.88584596581], [2615.964702549001, 288458.4426454787], [0.0, 56343.80399945636], [9076.528876870649, 639104.3893949665], [19167.53445959993, 1265785.2659988909], [3239.280201375336, 233866.77545300967], [8718.996877489826, 418511.85011951166], [5282.496434614856, 593031.1929035063], [0.0, 148855.06153534018], [4635.389842193416, 375042.09096838185], [7428.247958163864, 693889.2680316876], [1963.374027494491, 144841.89097569013], [24918.42373055225, 666817.0190295783], [249.01207733704405, 29881.44928044529], [53671.97937332762, 864606.7949957871], [2761.123690851431, 233689.75374888125], [0.0, 0.0], [0.0, 68793.05750127175], [52047.52706958539, 1608060.3963419104], [71304.97412993813, 684527.751647406], [1984.0814322906565, 59522.44296871969], [2443.0677237924288, 277467.8833673148], [4590.9204814015, 399230.17643490905], [10774.340435385146, 518308.3107850101], [375.5674337000959, 30045.394696007672], [4509.460787105656, 180378.43148422625], [3070.107654431165, 288642.59998925484], [1497.512362709721, 59900.49450838884], [0.0, 96290.81750439153], [992.1289204096172, 59527.73522457703], [3975.4211440055856, 119262.63432016756], [1144.9884408301896, 103170.03891213816], [2984.517045828687, 214971.3591001237], [1068.1516762931192, 95527.08967993173], [13093.584887665493, 565769.2205037117], [727.3644024286375, 34858.93898639246], [360784.4874987327, 1193294.6924020585], [0.0, 53641.94634344456], [3009.2462706748274, 64698.79481950879], [91226.56087342056, 8712676.693183903], [4039.03771647236, 484684.5259766832], [2982.1797068100573, 429178.2623772075], [2436.183162534504, 47944.08463867905], [0.0, 74455.93506793339], [2729.3473950785574, 391909.0939347201], [0.0, 59991.68855097383], [14113.960098665642, 2684140.37873029], [0.0, 35786.44849922416], [956.90473125752, 34570.486692708306], [7709.391447208828, 1090658.621452986], [11978.208690447633, 179673.13035671448], [30122.821043396543, 520522.3476298923], [12259.122542523057, 694124.4226971737], [12617.035987038047, 97867.82474425677], [1001.5604008749788, 59504.47087551345], [0.0, 55613.6613517794], [1238.8215267919215, 47570.746628809786], [2250.135297474968, 90005.41189899872], [0.0, 48850.17753403472], [500.9937586430863, 180357.75311151103], [2785.468836646013, 263728.18945364456], [0.0, 299230.18014683033], [0.0, 27873.047479970846], [3729.194071278889, 64142.138025996894], [47259.669548866485, 1313844.1628063824], [1566.9844157263258, 29960.74202868736], [1001.7406752399008, 30052.220257197023], [629.545904091539, 90896.35581635276], [596.5025869292504, 68398.50889039932], [0.0, 151817.05143271643], [10137.707117895898, 417503.15162507736], [7718.7530383429985, 151534.55964874983], [12738.89128061208, 573794.805047818], [0.0, 47670.734232567], [0.0, 110704.44785468504], [0.0, 59424.42064410433], [21717.254168189003, 274270.10205513256], [134.2693270841104, 19323.799594202163], [265.3282334565245, 19077.612001768324], [11944.666060378517, 962775.2401638022], [1383.349167869659, 194720.2288693332], [6812.202802737057, 272488.1121094823], [19704.512261768046, 1450252.102466128], [1503.5839564144826, 60143.6970924005], [1866.348498537815, 149307.8798830252], [4488.2499181110525, 150984.72724525584], [16214.784709788788, 1543940.1019907158], [0.0, 200436.64393885728], [2266.598648269946, 90663.94593079784], [0.0, 89705.08805269717], [719.9431377582237, 85865.21822996408], [0.0, 134476.65457970998], [0.0, 416391.0116737943], [10497.621287464568, 359926.0223568684], [3348.518471238145, 369676.4392246912], [0.0, 60565.287780147446], [1270.4870734862557, 50006.371212419006], [9400.386376627182, 451223.98849886825], [1050.717528057052, 96666.01258124878], [3018.374966291217, 120734.99865164868], [75374.65613202793, 775065.188424747], [0.0, 49013.76809174897], [2714.083312309764, 219138.7351072256], [3254.158344268162, 119319.13928983262], [11852.780020617334, 379297.0145726552], [269.0985607339625, 38506.5992025568], [0.0, 213955.98104567325], [630.7665993370116, 25010.44896774701], [33039.51883863468, 2687902.536911796], [0.0, 56963.55648690658], [34727.53276451477, 555750.9467618141], [12076.441473677896, 241017.9031035177], [1321.2378822842782, 246470.9200809444], [10800.924064643665, 1528602.0672233908], [0.0, 149660.70345711504], [2281.8011950189616, 45393.13182546384], [0.0, 47781.81635733529], [3429.990089873896, 259844.11880853385], [1217.3639380596428, 137316.4182674543], [0.0, 208748.30360087188], [10655.383112075122, 855590.1000024363], [1944.0093444019956, 219697.0306147231], [1000.89482844583, 72061.0323864909], [2209.134642427498, 198822.1178184748], [688.7218061163987, 198351.88016152283], [792.1437439139784, 285171.7478090322], [8499.091321372794, 637891.4563715279], [3336.687387627332, 316259.93500119937], [33518.15640822485, 2368805.069585482], [1425.807628617134, 85212.37449028257], [0.0, 242496.56744515256], [3007.1648740868, 90214.946222604], [0.0, 60419.024260592174], [10004.242270419778, 96040.72579602987], [4638.15192871277, 555939.3023533117], [4369.391999685406, 413145.6862499677], [22584.695540150715, 1300878.4631126812], [32270.44351200459, 660999.0519711211], [9939.464375444706, 109135.31884238288], [28804.83312862342, 2074007.58665731], [7013.621191134759, 344733.8958562931], [2561.9741458445387, 322034.7285754836], [12965.600225810682, 666026.678074988], [1544.5622852358297, 138565.0588581759], [4034.692683096667, 254185.63903509], [1555.5683205558498, 219800.84724312025], [15184.144915098572, 543379.8099317175], [0.0, 5404.952116045927], [1810.176834661206, 205501.3775833056], [0.0, 219727.05485300143], [10475.426231099456, 209508.52462198908], [0.0, 89536.59680465209], [669.813742531014, 96562.19053562154], [2497.974094330912, 49160.13017643234], [2178.9228684507857, 205328.1082269987], [0.0, 30026.444223181083], [1589.118927236752, 76245.16714001917], [628.2528623374046, 30156.137392195425], [13413.648985011045, 324312.2243487116], [9268.403710620369, 363346.1411995468], [0.0, 150578.72133090283], [0.0, 143534.41500742172], [10183.746375256536, 68553.9999895318], [1485.7203688047134, 71314.57770262624], [3722.20962095336, 446665.1545144032], [210.36137578271044, 15133.422212831712], [2492.899806629346, 70000.62657015205], [18758.016979532644, 447206.1312056421], [8112.903209737829, 233094.7267386452], [240.4102831614398, 34493.896082131054], [10853.426275718844, 1023706.7839160238], [712.202539155513, 100913.62131726576], [1258.959723776553, 151075.16685318633], [0.0, 25038.29013706056], [10072.9705533983, 302189.11660194903], [2507.3478221214964, 60176.34773091591], [3155.404977782494, 151459.4389335597], [0.0, 359586.32033202954], [23738.13987254724, 1663015.1376471962], [3279.451857754963, 234739.18888493927], [0.0, 120376.74688298062], [613.4113040031858, 24887.328402985237], [2680.818656455749, 320911.4767776864], [259.98815793098896, 30158.626319994724], [835.1969773235744, 28542.681238483303], [1361.3908234294602, 163319.71228495095], [0.0, 85339.17533020818], [152.47145368658423, 28626.90182799168], [250.28714769877115, 30034.45772385255], [4511.450636044746, 180458.02544178985], [4488.597502431416, 211462.8156701022], [1819.691520833284, 17451.651915958217], [0.0, 178283.3417888893], [0.0, 90144.80696183223], [8389.628685584032, 957192.0974198644], [963.516213871861, 34477.32002168668], [16112.057142498916, 598476.1948210767], [18881.62767236025, 224439.36211888792], [0.0, 48447.85260929333], [86.28667573517687, 15275.184583048893], [17053.84820535209, 795240.527706045], [2107.0463886577745, 303414.6799667196], [0.0, 96575.0612850715], [0.0, 30027.310224205547], [6098.002512571792, 48003.47577896515], [32738.825364851768, 1854051.127538966], [869.1677398311875, 125160.154535691], [1756.0474724304709, 252870.83602998775], [0.0, 0.0], [249.3143112168489, 29917.717346021884], [2321.6877886424195, 417903.8019556355], [0.0, 0.0], [1246.498959638281, 59831.950062637465], [0.0, 338938.192161052], [45708.49402876881, 196648.098754881], [16387.542908592684, 620406.1107419805], [0.0, 30015.122363978942], [8907.39608004541, 642807.5350304109], [6986.987734820142, 239553.86519383345], [1242.864270609117, 59657.484989237615], [798.6598728096553, 25011.84943604901], [3765.231856260748, 303337.6739677], [0.0, 13692.64972776277], [379.0122977172502, 42869.1555126338], [2134.3402875086967, 191807.1588063479], [2502.52707529688, 149325.7905829648], [41620.3507052845, 1086190.4070785516], [0.0, 0.0], [5488.578183454267, 525163.8922033701], [3592.695775612216, 430842.99183241546], [0.0, 186886.82270591735], [4488.932226629501, 89284.86198766077], [5237.503125136492, 397309.4064762257], [0.0, 415645.8468253632], [5711.657374217528, 150298.18404726696], [1303.359254075072, 30133.66595421568], [5651.692459180721, 270215.5966288001], [251.6705222422384, 30200.46266906861], [321.2768130998492, 30650.13559288129], [2524.0468294423963, 142230.038839079], [1794.2983562816994, 142025.61604722068], [5979.407525044015, 143505.78060105635], [2491.432972759668, 84934.54554032513], [15139.01034275926, 270079.9445148252], [954.4164420504042, 56894.44837493407], [0.0, 69857.53071193318], [3882.113411753111, 299756.6681786253], [7426.694030337695, 143483.72866612425], [11049.469637229138, 598110.1327725691], [0.0, 249708.74253479808], [0.0, 178126.97860918107], [0.0, 138656.15283430385], [0.0, 86530.66656607694], [938.4470277166708, 122200.24065529082], [3817.923433056714, 49602.46124227282], [1213.111308098634, 273992.6643113153], [3969.346511521898, 119080.39534565694], [6285.799646351174, 447664.99196133314], [1339.4184997625412, 68872.43322690233], [10574.780843345645, 380692.1103604432], [29290.1616263309, 1097341.0166724464], [0.0, 119258.35874708666], [145.04712439982833, 17395.12731411167], [250.06146729698253, 30007.376075637905], [13340.779786558116, 152422.9364753812], [598.6064542847039, 28557.51857907561], [0.0, 47963.49949553111], [487.1527860657657, 69352.84208899902], [0.0, 562260.0555865756], [0.0, 30039.164335636317], [4878.073893270858, 235379.90238688013], [18695.065036149444, 959093.0197637414], [0.0, 69920.78155376694], [12375.111066110758, 237602.13246932652], [12702.012649923628, 101209.6367945915], [3507.962619984799, 210477.75719908797], [0.0, 125944.70597188844], [5291.05441413114, 303494.88119456224], [320.7665436818841, 15167.505419209678], [4162.917449641356, 428012.36238694016], [28426.05758785036, 191703.6549654819], [10186.91227762911, 153142.067519694], [2990.5640862486257, 64297.12785434545], [0.0, 563697.9386347906], [0.0, 473263.7203566812], [0.0, 70555.55677955733], [1573.8989665402014, 87256.95870498876], [2444.55993432245, 48108.939507465824], [10606.129737248368, 1213883.6031898712], [3399.953355406783, 126576.58220354514], [9400.26003283756, 663417.1204360835], [5237.177132097156, 209487.08528388623], [0.0, 215242.71530683283], [0.0, 210988.70902865825], [2513.216929379554, 96507.53008817488], [968.3466639576036, 27439.886519724954], [645.1714497022641, 77411.68482291682], [3608.4931736340586, 360332.63630262064], [124.94948696801588, 17991.8253611353], [3330.9820861717026, 199859.13390025005], [1263.044009893332, 144492.2347317973], [1826.2716350256223, 85839.33252529183], [0.0, 29902.173969022348], [492.1688072895802, 45243.73617556579], [0.0, 424569.72782579256], [4615.242408514208, 653816.4058435374], [2728.026076461985, 197041.42632274007], [10187.698470455787, 726480.859582637], [5158.89561912208, 727189.7561189396], [3421.23223397953, 643400.0599211861], [4004.994534918751, 180728.5646773604], [1510.064055813797, 50134.12665301807], [5635.826367550238, 271560.1258948824], [13205.671508574307, 594255.2178858438], [6446.150629283506, 464122.8453084124], [239.67959588059765, 34447.48899563913], [0.0, 59879.935514932185], [4044.244217730607, 45327.373046621375], [1240.8821377329082, 29781.1713055898], [9542.100750161777, 901395.135876536], [3152.446232217016, 292276.80067269213], [2242.882974382388, 215316.76554070925], [2991.3297731232583, 119653.19092493034], [0.0, 207603.8284956333], [3009.8582488416564, 180591.49493049935], [0.0, 148897.0541983658], [602.1967168083545, 143573.45702700486], [0.0, 110963.08829741972], [598.1810635849739, 19242.452836704822], [2242.9849757247675, 178945.34136332202], [4674.894501269284, 530170.4355999469], [2025.5444463184813, 120864.2371118238], [239.36008503109267, 17236.802160817722], [338.9278178472803, 34884.28915506535], [31032.21966270726, 1170794.885506142], [3757.122198623137, 134054.12004687352], [1492.611440377138, 89556.68642262829], [4989.529226542959, 129328.5975519935], [291.147522282957, 52269.44384055484], [0.0, 89424.22449720388], [1127.9115945023943, 159196.6650526236], [7915.1549553414525, 758091.008096058], [9567.749579172603, 775573.4964994612], [0.0, 0.0], [213.0584594254896, 19148.45313169646], [754.804275551426, 59909.893642338895], [53354.749150873526, 4361910.581879689], [4960.401426971797, 54465.20766815033], [1002.4146651804124, 60144.87991082475], [45314.52421791265, 391517.4892427653], [4928.978784172176, 618222.8243219397], [0.0, 30130.208897500383], [377.17982238902255, 30174.385791121804], [480.8569347975856, 68905.47899667299], [11438.21588231864, 362818.6672866917], [2826.329845081489, 95172.08648746], [30720.190925597097, 2474822.197646015], [578.6439758471752, 69371.01951911232], [504.0673763358096, 55649.038347473375], [0.0, 60353.131831943], [4353.893831778758, 208986.9039253804], [0.0, 41326.31252044562], [438.378022190786, 52426.02619927081], [388.9986124657725, 34857.404131382675], [0.0, 34839.072822283415], [14182.959568530328, 1076578.604737891], [11166.583630547377, 535982.5726970528], [1348.0213321683011, 162125.7469169297], [2993.178682682271, 119727.14730729084], [0.0, 252949.02986009253], [0.0, 96809.39968364134], [10979.815807857489, 988423.7485302844], [1571.1565228737777, 216344.5573125841], [502.8212008176823, 60338.54409812188], [7756.0216529722675, 447722.9765913154], [679.6713250933522, 96707.51997042554], [0.0, 52289.00347815397], [9250.645135952029, 555038.8704788059], [0.0, 30252.16774052692], [5064.962444027483, 577587.3678463058], [2484.760875853392, 59634.26102048141], [2311.898925323092, 107757.6089093093], [0.0, 154729.0833207064], [0.0, 48054.17488829632], [5602.819071269324, 318443.8621234166], [4450.980846209001, 640303.8006016489], [19405.06726510916, 1088797.826854717], [2006.425024438768, 36115.65043989782], [5970.887399689895, 676512.942488093], [979.5365673684396, 87814.75499063625], [10345.361334866033, 381473.8436720182], [3806.218162771463, 56779.25944314331], [4260.212878768532, 48115.34545432695], [0.0, 459090.4578657179], [5344.881835749052, 196311.13288798076], [252.35305299111184, 30282.366358933417], [3763.3664423988016, 270962.38385271374], [0.0, 90143.60393114317], [8061.935114730787, 580459.3282606166], [26989.53189438821, 539790.6378877643], [0.0, 35981.51977427274], [0.0, 537442.5626701659], [144911.5681626958, 2435072.9611556865], [159.1527776552093, 11444.164208828588], [20421.144233592742, 732187.0828842205], [20465.76994715815, 2324383.317095304], [1156.855737498675, 50593.15758660872], [0.0, 53713.14062697059], [1251.450084197092, 48055.68323316834], [67154.11285782502, 4733042.141585316], [5222.641093980697, 499485.9008396216], [1513.5943835171474, 61754.650847499615], [5717.264660741372, 413007.6485273224], [0.0, 48242.44157275519], [1246.796229638346, 119692.4380452812], [4314.526227563461, 410383.22058306966], [0.0, 0.0], [434.6413211699832, 38702.86949968508], [1987.0552891815885, 119223.31735089528], [0.0, 329736.74001613416], [17646.77037961007, 1007031.2339077668], [48837.55317910885, 1168474.5829529222], [10297.994924099825, 50666.13502657111], [0.0, 257330.11468138377], [0.0, 387789.08678836457], [0.0, 51874.03157300416], [17430.82923444979, 1646834.4315851906], [0.0, 346848.551532256], [0.0, 50278.96391080999], [0.0, 423798.4686260267], [0.0, 26568.12232419415], [2774.345393068768, 305469.6551891436], [1733.862429496918, 34673.39556231725], [7524.757845812051, 849540.087230737], [13658.46933525993, 209498.32664609211], [991.3215867174198, 59479.29520304519], [0.0, 244787.3370568565], [644.8723800108029, 72225.70656120992], [0.0, 59973.621769652425], [1164.8654359939387, 110615.62180198442], [2278.984811205577, 89605.00793596492], [3748.264967083604, 145372.70848337057], [5059.906979252325, 358021.24290110666], [3024.1111782009266, 571726.1711367046], [512.9623863695998, 28891.547544956396], [2391.028461885154, 286948.3566132339], [0.0, 64615.44515506754], [375.5240285336047, 38765.340865393], [8773.963502678764, 283635.2039409446], [3869.5160654251777, 292630.1782048886], [239.3647726815404, 17198.69136824184], [3727.211297828781, 178915.141598714], [21791.69426190171, 653750.6332159416], [2171.9663019223326, 45330.28992596132], [1337.9604333293894, 123092.35986630384], [1780.3017680120636, 49810.57684787081], [498.95861043970535, 69155.66340694316], [2184.111717836556, 628677.2864052716], [8116.718637073129, 595767.7730453908], [2579.9545050022725, 232165.15847523967], [18386.811568782374, 1488853.6296130037], [0.0, 64998.94621314664], [2571.419993689753, 243125.23940337243], [2740.155374008534, 217638.51770020704], [2628.87056043064, 290227.3098715426], [0.0, 110486.0805396942], [1098.58862291469, 476434.8638494809], [3869.906632673268, 218956.64837552755], [0.0, 52051.64879814589], [655.6198481917908, 25144.783597101938], [126.0762514429032, 15061.405581026916], [8068.709191689499, 1157493.00949873], [12543.737129219477, 301049.6911012674], [9044.434840693755, 485801.102619324], [15023.181325209782, 144222.5407220139], [4276.5635521079175, 57960.01425915671], [5509.974968225537, 417832.6468082637], [0.0, 13823.35375912326], [743.4357213509084, 29737.42885403633], [563.904438741676, 90527.99346310248], [20484.20500179996, 1166157.514531338], [869.6554333938814, 125230.38240871891], [0.0, 95066.9741679655], [1594.9406674201991, 142625.62413445688], [2380.612611787334, 344266.974463748], [0.0, 210788.9001949076], [4956.96265099149, 84466.64357289497], [0.0, 180102.3885666231], [733.2118655825088, 24958.93736721141], [2670.230566599012, 505168.064229176], [762.4890448216414, 144364.59248623077], [15268.213655050164, 732595.5868159836], [1826.9596342796328, 172632.71036045582], [26310.329900230616, 2140362.4220135664], [37869.46954395672, 896547.0682966607], [1798.4883090028793, 85799.88226149733], [0.0, 89948.49591697544], [7015.790990409145, 120270.7026927282], [1003.8849033277512, 60233.094199665065], [10980.581581332885, 827580.2895431992], [0.0, 920083.4187725708], [9652.6531519464, 696131.9395663628], [7598.738734500346, 49645.09306540225]], \"columns\": [{\"dtype\": \"int\", \"name\": \"YEAR\"}, {\"dtype\": \"str\", \"name\": \"MONTH\"}, {\"dtype\": \"str\", \"name\": \"Company\"}, {\"dtype\": \"str\", \"name\": \"Area 1\"}, {\"dtype\": \"str\", \"name\": \"Area 2\"}, {\"dtype\": \"str\", \"name\": \"Area 3\"}, {\"dtype\": \"str\", \"name\": \"Area 3 Classification\"}, {\"dtype\": \"str\", \"name\": \"Outlet Type\"}, {\"dtype\": \"str\", \"name\": \"Outlet Name\"}, {\"dtype\": \"str\", \"name\": \"Product Category 1\"}, {\"dtype\": \"str\", \"name\": \"Product Category 2\"}, {\"dtype\": \"str\", \"name\": \"Product\"}, {\"dtype\": \"float\", \"name\": \"Units sold\"}, {\"dtype\": \"float\", \"name\": \"Revenue\"}, {\"dtype\": \"float\", \"name\": \"Commission\"}, {\"dtype\": \"float\", \"name\": \"men_market_share\"}, {\"dtype\": \"float\", \"name\": \"white_walkers_market_share\"}]}, e);\n",
       "                });\n",
       "            })();\n",
       "        "
      ]
     },
     "metadata": {},
     "output_type": "display_data"
    }
   ],
   "source": [
    "men_data.show(view=\"Line Chart\", x=\"Commission\", y=\"Revenue\")"
   ]
  },
  {
   "cell_type": "code",
   "execution_count": 114,
   "metadata": {
    "collapsed": false
   },
   "outputs": [
    {
     "data": {
      "application/javascript": [
       "$(\"head\").append($(\"<link/>\").attr({\n",
       "  rel:  \"stylesheet\",\n",
       "  type: \"text/css\",\n",
       "  href: \"//cdnjs.cloudflare.com/ajax/libs/font-awesome/4.1.0/css/font-awesome.min.css\"\n",
       "}));\n",
       "$(\"head\").append($(\"<link/>\").attr({\n",
       "  rel:  \"stylesheet\",\n",
       "  type: \"text/css\",\n",
       "  href: \"https://static.turi.com/products/graphlab-create/2.1/canvas/css/canvas.css\"\n",
       "}));\n",
       "\n",
       "            (function(){\n",
       "\n",
       "                var e = null;\n",
       "                if (typeof element == 'undefined') {\n",
       "                    var scripts = document.getElementsByTagName('script');\n",
       "                    var thisScriptTag = scripts[scripts.length-1];\n",
       "                    var parentDiv = thisScriptTag.parentNode;\n",
       "                    e = document.createElement('div');\n",
       "                    parentDiv.appendChild(e);\n",
       "                } else {\n",
       "                    e = element[0];\n",
       "                }\n",
       "\n",
       "                if (typeof requirejs !== 'undefined') {\n",
       "                    // disable load timeout; ipython_app.js is large and can take a while to load.\n",
       "                    requirejs.config({waitSeconds: 0});\n",
       "                }\n",
       "\n",
       "                require(['https://static.turi.com/products/graphlab-create/2.1/canvas/js/ipython_app.js'], function(IPythonApp){\n",
       "                    var app = new IPythonApp();\n",
       "                    app.attachView('sframe','Plots', {\"selected_variable\": {\"name\": [\"men_data\"], \"descriptives\": {\"rows\": 354501, \"columns\": 17}, \"view_component\": \"Plots\", \"view_file\": \"sframe\", \"view_params\": {\"y\": \"men_market_share\", \"x\": \"Revenue\", \"columns\": [\"YEAR\", \"MONTH\", \"Company\", \"Area 1\", \"Area 2\", \"Area 3\", \"Area 3 Classification\", \"Outlet Type\", \"Outlet Name\", \"Product Category 1\", \"Product Category 2\", \"Product\", \"Units sold\", \"Revenue\", \"Commission\", \"men_market_share\", \"white_walkers_market_share\"], \"view\": \"Scatter Plot\"}, \"view_components\": [\"Summary\", \"Table\", \"Bar Chart\", \"BoxWhisker Plot\", \"Line Chart\", \"Scatter Plot\", \"Heat Map\", \"Plots\"], \"type\": \"SFrame\", \"columns\": [{\"dtype\": \"int\", \"name\": \"YEAR\"}, {\"dtype\": \"str\", \"name\": \"MONTH\"}, {\"dtype\": \"str\", \"name\": \"Company\"}, {\"dtype\": \"str\", \"name\": \"Area 1\"}, {\"dtype\": \"str\", \"name\": \"Area 2\"}, {\"dtype\": \"str\", \"name\": \"Area 3\"}, {\"dtype\": \"str\", \"name\": \"Area 3 Classification\"}, {\"dtype\": \"str\", \"name\": \"Outlet Type\"}, {\"dtype\": \"str\", \"name\": \"Outlet Name\"}, {\"dtype\": \"str\", \"name\": \"Product Category 1\"}, {\"dtype\": \"str\", \"name\": \"Product Category 2\"}, {\"dtype\": \"str\", \"name\": \"Product\"}, {\"dtype\": \"float\", \"name\": \"Units sold\"}, {\"dtype\": \"float\", \"name\": \"Revenue\"}, {\"dtype\": \"float\", \"name\": \"Commission\"}, {\"dtype\": \"float\", \"name\": \"men_market_share\"}, {\"dtype\": \"float\", \"name\": \"white_walkers_market_share\"}], \"column_identifiers\": [\"Product\", \"men_market_share\", \"Revenue\", \"Product Category 1\", \"Company\", \"Product Category 2\", \"Area 1\", \"Area 3\", \"Area 2\", \"Commission\", \"white_walkers_market_share\", \"Area 3 Classification\", \"YEAR\", \"MONTH\", \"Units sold\", \"Outlet Type\", \"Outlet Name\"]}, \"complete\": 1, \"ipython\": true, \"progress\": 1.0, \"data\": [[104196.1910992988, 0.7035559491076617], [180168.7892192162, 0.7035559491076617], [17485.406787566128, 0.7035559491076617], [90307.981812882, 0.7035559491076617], [89443.37249486728, 0.6016338870867235], [151039.83656084936, 0.6016338870867235], [30099.75540124543, 0.6016338870867235], [51998.8692489956, 0.7035559491076617], [55219.407314735225, 0.32194088859427616], [51738.95223707144, 0.7035559491076617], [398661.8638338631, 0.7035559491076617], [34968.38417104564, 0.7035559491076617], [19371.2617592344, 0.7035559491076617], [149205.4513952925, 0.6016338870867235], [71498.75351181104, 0.41734625051949026], [53949.12531360274, 0.41734625051949026], [537145.7551524467, 0.6016338870867235], [197740.0828439935, 0.7035559491076617], [453756.6616673183, 0.6016338870867235], [433993.8092246228, 0.7035559491076617], [449237.1302380365, 0.6016338870867235], [119477.88580629036, 0.6016338870867235], [1230495.308369101, 0.41734625051949026], [139202.28196794266, 0.41734625051949026], [30372.56097297597, 0.7035559491076617], [787036.7948550298, 0.41734625051949026], [95778.51897723178, 0.7035559491076617], [30006.013560665, 0.6016338870867235], [60861.05988803286, 0.7035559491076617], [60288.6142049562, 0.6016338870867235], [217920.550751086, 0.7035559491076617], [751897.0122441057, 0.41734625051949026], [95559.84461046824, 0.32194088859427616], [181138.868962458, 0.41734625051949026], [221474.47778778317, 0.41734625051949026], [483363.1211763253, 0.6016338870867235], [34894.8314521245, 0.7035559491076617], [24805.714476842448, 0.6016338870867235], [1267438.4971094453, 0.7035559491076617], [15053.899510588184, 0.7035559491076617], [165577.09645943547, 0.41734625051949026], [430699.71621513687, 0.7035559491076617], [119521.26909447934, 0.6016338870867235], [274516.3246196065, 0.41734625051949026], [134340.89667668028, 0.7035559491076617], [74262.01567131779, 0.21439297794631237], [144326.41127233248, 0.32194088859427616], [29705.743244527323, 0.6016338870867235], [90524.57984439952, 0.6016338870867235], [199518.89631284363, 0.7035559491076617], [215336.6524845569, 0.7035559491076617], [235992.61426180805, 0.7035559491076617], [89531.11772230447, 0.6016338870867235], [120812.50434935692, 0.6016338870867235], [269543.149580186, 0.7035559491076617], [216131.2373712394, 0.7035559491076617], [29909.0082021317, 0.6016338870867235], [308405.0335584847, 0.7035559491076617], [19169.48487432244, 0.7035559491076617], [27386.862439838445, 0.41734625051949026], [343025.3082661138, 0.7035559491076617], [110162.11535219583, 0.41734625051949026], [30257.385630475903, 0.6016338870867235], [69946.94457484825, 0.7035559491076617], [181577.81389746867, 0.6016338870867235], [181281.9856409276, 0.6016338870867235], [96399.4667783507, 0.41734625051949026], [129395.66595194887, 0.41734625051949026], [556838.2711206485, 0.41734625051949026], [535856.3812228683, 0.7035559491076617], [137541.01302881402, 0.41734625051949026], [104305.67720827964, 0.49401433158783986], [741814.1587931995, 0.7035559491076617], [1359797.2792245185, 0.41734625051949026], [50824.04923014977, 0.32194088859427616], [60285.74417175665, 0.6016338870867235], [197088.94183011516, 0.7035559491076617], [167032.47851008084, 0.41734625051949026], [109802.46261368442, 0.41734625051949026], [786990.0928259728, 0.41734625051949026], [43523.655781290014, 0.41734625051949026], [41659.324029936666, 0.41734625051949026], [1197946.6126408272, 0.41734625051949026], [34520.2512789101, 0.7035559491076617], [852840.7787499875, 0.41734625051949026], [125523.6507508492, 0.7035559491076617], [297384.90164149954, 0.6016338870867235], [1374182.675306103, 0.41734625051949026], [41814.11029592286, 0.7035559491076617], [48232.94886073575, 0.32194088859427616], [60243.804711938654, 0.6016338870867235], [29964.47032672901, 0.6016338870867235], [98277.24226733868, 0.32194088859427616], [96964.35088184626, 0.41734625051949026], [19148.065921255657, 0.7035559491076617], [1352865.380859146, 0.7035559491076617], [485201.9898053935, 0.41734625051949026], [53873.47429719446, 0.7035559491076617], [533000.7787521161, 0.41734625051949026], [49250.07159839664, 0.32194088859427616], [162107.67982927692, 0.7035559491076617], [648788.5051590411, 0.7035559491076617], [14278.932310377097, 0.41734625051949026], [148675.0484764387, 0.32194088859427616], [243302.3687912664, 0.41734625051949026], [29805.3982907446, 0.6016338870867235], [90093.46354169748, 0.6016338870867235], [1540071.5004083212, 0.41734625051949026], [29977.16147093746, 0.6016338870867235], [619481.8699291698, 0.41734625051949026], [571714.2606511133, 0.7035559491076617], [540055.6944389808, 0.7035559491076617], [1096122.9694575358, 0.7035559491076617], [89129.79153061226, 0.6016338870867235], [69138.3379115345, 0.7035559491076617], [36128.70910395919, 0.6016338870867235], [180295.20000387955, 0.6016338870867235], [120272.6874394839, 0.6016338870867235], [431588.5466391791, 0.41734625051949026], [59680.6888833702, 0.6016338870867235], [104152.97861046476, 0.7035559491076617], [683435.9956651257, 0.41734625051949026], [86537.7089093877, 0.41734625051949026], [90134.30576824088, 0.6016338870867235], [1161993.0408519949, 0.41734625051949026], [902057.6709141656, 0.6016338870867235], [55188.53377364909, 0.41734625051949026], [96610.03680561265, 0.7035559491076617], [59570.60823168026, 0.6016338870867235], [58005.28236263693, 0.7035559491076617], [0.0, 0.41734625051949026], [0.0, 0.41734625051949026], [419101.22540202615, 0.41734625051949026], [120859.78106631324, 0.6016338870867235], [480907.7419998114, 0.41734625051949026], [54615.26155467016, 0.32194088859427616], [48370.139428496506, 0.32194088859427616], [720323.9926433829, 0.7035559491076617], [219442.44690043692, 0.41734625051949026], [90401.77736014196, 0.7035559491076617], [89161.51874691657, 0.6016338870867235], [288121.979098354, 0.6016338870867235], [2035012.5548973847, 0.41734625051949026], [27530.413517135403, 0.41734625051949026], [143531.51626449666, 0.7035559491076617], [792025.0017070521, 0.41734625051949026], [689480.1281535653, 0.7035559491076617], [1014867.6333919466, 0.7035559491076617], [623658.4459500667, 0.32194088859427616], [75375.19931348406, 0.6016338870867235], [69964.01500163758, 0.7035559491076617], [190971.3637497503, 0.32194088859427616], [477095.1000003863, 0.32194088859427616], [145201.42653854587, 0.41734625051949026], [119399.30946487351, 0.6016338870867235], [48080.50073041348, 0.32194088859427616], [145003.44304283586, 0.7035559491076617], [254224.70638622995, 0.7035559491076617], [108547.52473927935, 0.6016338870867235], [89521.96625273926, 0.7035559491076617], [233313.4377560209, 0.7035559491076617], [104636.5742285821, 0.7035559491076617], [71496.28447067352, 0.7035559491076617], [148763.36644843488, 0.6016338870867235], [50874.61680003758, 0.32194088859427616], [178820.4582834983, 0.6016338870867235], [59505.96257498453, 0.6016338870867235], [248334.14594710583, 0.41734625051949026], [285381.47142302035, 0.7035559491076617], [89668.40373417642, 0.6016338870867235], [56832.54147284511, 0.6016338870867235], [1171597.3196215294, 0.41734625051949026], [49955.49166795007, 0.32194088859427616], [225485.43422971517, 0.6016338870867235], [38078.81881935863, 0.7035559491076617], [179735.94385881195, 0.7035559491076617], [27508.85619820187, 0.41734625051949026], [341179.39526819694, 0.7035559491076617], [150951.2355213895, 0.6016338870867235], [594252.8466208522, 0.7035559491076617], [205944.96972865556, 0.41734625051949026], [90288.42157505645, 0.6016338870867235], [57187.0055633428, 0.41734625051949026], [759270.2931797848, 0.41734625051949026], [702469.6447828696, 0.41734625051949026], [34370.672605997235, 0.7035559491076617], [1114174.1354719754, 0.41734625051949026], [194071.843194915, 0.41734625051949026], [718164.5750569332, 0.6016338870867235], [89647.1088118628, 0.6016338870867235], [152125.54070809644, 0.41734625051949026], [544603.8797748674, 0.7035559491076617], [50739.85361179571, 0.32194088859427616], [339075.5019293782, 0.7035559491076617], [417592.0068012433, 0.41734625051949026], [17213.22581126816, 0.7035559491076617], [248259.0038724559, 0.41734625051949026], [240481.35504145, 0.6016338870867235], [239825.97384871345, 0.6016338870867235], [360106.833552766, 0.41734625051949026], [307835.353982248, 0.7035559491076617], [238048.31391300017, 0.6016338870867235], [179426.4329339825, 0.6016338870867235], [143974.0469158386, 0.7035559491076617], [270914.60384874145, 0.7035559491076617], [65085.22489188484, 0.49401433158783986], [706179.4751600473, 0.41734625051949026], [903104.554096952, 0.41734625051949026], [109717.06201454248, 0.41734625051949026], [166519.52964502052, 0.41734625051949026], [448915.2863740399, 0.7035559491076617], [15191.9814449246, 0.7035559491076617], [75305.03538201432, 0.7035559491076617], [57050.33083064165, 0.7035559491076617], [69573.0829992269, 0.41734625051949026], [384474.968231617, 0.41734625051949026], [75483.8129440693, 0.21439297794631237], [49452.81576214436, 0.32194088859427616], [180503.3211895594, 0.7035559491076617], [1122940.8623104645, 0.7035559491076617], [35778.7108580278, 0.6016338870867235], [117118.24560898564, 0.6016338870867235], [48314.309260292684, 0.32194088859427616], [178305.93782519567, 0.6016338870867235], [54498.85368066639, 0.7035559491076617], [213900.95200234972, 0.7035559491076617], [71421.9426269947, 0.6016338870867235], [286090.4875143283, 0.41734625051949026], [651632.2485113383, 0.41734625051949026], [304808.0159495387, 0.41734625051949026], [327158.99868554086, 0.6016338870867235], [552942.827410756, 0.41734625051949026], [151352.57005851698, 0.6016338870867235], [334942.87454613263, 0.32194088859427616], [100034.81239387098, 0.6016338870867235], [253842.7458322215, 0.7035559491076617], [30416.44487967736, 0.7035559491076617], [109048.57166894496, 0.7035559491076617], [518371.2871948883, 0.41734625051949026], [757700.292797805, 0.41734625051949026], [165118.6192730249, 0.41734625051949026], [54454.83413075766, 0.7035559491076617], [339108.9016207988, 0.7035559491076617], [205051.46350084644, 0.41734625051949026], [326095.0928418161, 0.7035559491076617], [826369.0980015675, 0.7035559491076617], [681716.1782353923, 0.7035559491076617], [147590.96550268034, 0.49401433158783986], [456054.07886310434, 0.41734625051949026], [45360.32481508857, 0.7035559491076617], [415203.9786026302, 0.6016338870867235], [90659.13931626016, 0.7035559491076617], [517313.54325200815, 0.7035559491076617], [137641.85060533322, 0.7035559491076617], [53947.37438970602, 0.7035559491076617], [345543.62296216725, 0.7035559491076617], [162357.20991294243, 0.7035559491076617], [118845.12070855714, 0.6016338870867235], [299179.42876995384, 0.6016338870867235], [90610.0776467634, 0.6016338870867235], [148657.65007302267, 0.6016338870867235], [150979.4665421898, 0.6016338870867235], [209006.1034654124, 0.41734625051949026], [494692.8008029731, 0.41734625051949026], [370349.0432190132, 0.41734625051949026], [60203.16547112903, 0.6016338870867235], [119806.39711068438, 0.6016338870867235], [120702.38395337162, 0.6016338870867235], [960944.6651881228, 0.7035559491076617], [685916.0338226407, 0.7035559491076617], [164473.62290135503, 0.41734625051949026], [222129.95511404023, 0.41734625051949026], [2068450.4597764828, 0.41734625051949026], [119958.40111751982, 0.6016338870867235], [214325.1337451427, 0.41734625051949026], [15058.59312234347, 0.7035559491076617], [119746.30764129528, 0.6016338870867235], [162626.51964206988, 0.7035559491076617], [693737.562610573, 0.41734625051949026], [426291.3686674242, 0.41734625051949026], [480169.95076420135, 0.41734625051949026], [2230691.018910981, 0.41734625051949026], [72221.92343670278, 0.6016338870867235], [360810.72670818085, 0.6016338870867235], [45152.57367392103, 0.7035559491076617], [61190.36062101465, 0.49401433158783986], [432286.622307497, 0.6016338870867235], [808814.2084427333, 0.32194088859427616], [143216.85874523714, 0.7035559491076617], [553175.9205462608, 0.41734625051949026], [124843.45201786316, 0.41734625051949026], [89465.97505377136, 0.6016338870867235], [172387.40600679323, 0.7035559491076617], [425539.5930738898, 0.41734625051949026], [133881.4096901571, 0.49401433158783986], [829267.9551516376, 0.41734625051949026], [49935.13744818488, 0.32194088859427616], [521340.2425376081, 0.7035559491076617], [88003.11647657795, 0.6016338870867235], [90626.61338496835, 0.6016338870867235], [49547.18256608659, 0.6016338870867235], [13692.49894906313, 0.41734625051949026], [30044.29599398792, 0.6016338870867235], [321215.2711074846, 0.7035559491076617], [70134.3415308143, 0.49401433158783986], [0.0, 0.41734625051949026], [536460.4884871674, 0.7035559491076617], [35711.801822222, 0.6016338870867235], [97519.52011843852, 0.32194088859427616], [769905.0877554422, 0.41734625051949026], [276301.33296969667, 0.41734625051949026], [451588.06375166296, 0.41734625051949026], [374791.73049271, 0.7035559491076617], [896222.1426902935, 0.7035559491076617], [362026.51830789447, 0.7035559491076617], [417832.28689726, 0.7035559491076617], [10414.542308799551, 0.32194088859427616], [1963457.174900691, 0.41734625051949026], [688244.3310768888, 0.41734625051949026], [85377.01710378948, 0.6016338870867235], [276760.1619952357, 0.41734625051949026], [95534.70778373872, 0.32194088859427616], [35656.18517243752, 0.7035559491076617], [30274.155311644936, 0.6016338870867235], [59735.226781594414, 0.6016338870867235], [54478.18485431702, 0.32194088859427616], [35917.69344913204, 0.7035559491076617], [481828.4192303761, 0.32194088859427616], [48091.47919985514, 0.32194088859427616], [29981.97920653101, 0.6016338870867235], [71936.65964226212, 0.6016338870867235], [90625.26597190816, 0.7035559491076617], [98759.78586124216, 0.32194088859427616], [144389.75254480616, 0.7035559491076617], [121739.73934218063, 0.7035559491076617], [89229.7648606528, 0.6016338870867235], [120243.08628384076, 0.6016338870867235], [119482.0258956586, 0.6016338870867235], [27332.509883112078, 0.41734625051949026], [57774.86124596363, 0.7035559491076617], [70083.96974945796, 0.49401433158783986], [75130.10198603252, 0.21439297794631237], [398843.4183645484, 0.41734625051949026], [343494.6546349136, 0.41734625051949026], [15048.719004586615, 0.7035559491076617], [77034.13783622246, 0.7035559491076617], [217263.9769108929, 0.7035559491076617], [89834.06333268076, 0.6016338870867235], [138631.2843529036, 0.7035559491076617], [149683.00971491705, 0.6016338870867235], [30284.53540467719, 0.6016338870867235], [209681.3048024109, 0.6016338870867235], [1123966.5950902062, 0.41734625051949026], [230389.14635575717, 0.41734625051949026], [29988.64608311831, 0.6016338870867235], [35646.81532363469, 0.6016338870867235], [150430.76966846548, 0.6016338870867235], [114282.33489030164, 0.6016338870867235], [1563335.8866173138, 0.41734625051949026], [30098.227702449964, 0.6016338870867235], [149978.20909374143, 0.6016338870867235], [287064.4737637, 0.41734625051949026], [1819547.8517588405, 0.41734625051949026], [3551635.6397924325, 0.32194088859427616], [50013.11917015961, 0.32194088859427616], [160583.70758160163, 0.7035559491076617], [56740.92050338316, 0.6016338870867235], [145233.62021713232, 0.32194088859427616], [755319.9879095939, 0.6016338870867235], [35846.85057510413, 0.6016338870867235], [90026.89817576182, 0.6016338870867235], [48995.10923680991, 0.32194088859427616], [150720.92709938262, 0.6016338870867235], [142445.26168124814, 0.7035559491076617], [43449.27818812383, 0.41734625051949026], [593805.0645581431, 0.7035559491076617], [326549.9992189739, 0.7035559491076617], [99190.95156370076, 0.32194088859427616], [599055.0251881486, 0.7035559491076617], [287393.823630871, 0.7035559491076617], [28385.915240933256, 0.6016338870867235], [1590460.9156273946, 0.41734625051949026], [220355.0445011765, 0.41734625051949026], [0.0, 0.41734625051949026], [299491.41718537617, 0.6016338870867235], [19333.52631015919, 0.7035559491076617], [633536.9243541323, 0.7035559491076617], [639123.1877301486, 0.41734625051949026], [15349.574750048929, 0.7035559491076617], [119234.86044780194, 0.6016338870867235], [72309.72639742457, 0.41734625051949026], [124613.33643396763, 0.41734625051949026], [361242.2062304718, 0.41734625051949026], [52071.85432148253, 0.7035559491076617], [528758.5631657839, 0.32194088859427616], [143989.2019608025, 0.32194088859427616], [60428.08938010824, 0.6016338870867235], [641077.8501052379, 0.41734625051949026], [589576.0566499463, 0.7035559491076617], [243239.75511070885, 0.7035559491076617], [464521.6501279491, 0.7035559491076617], [56435.1862524068, 0.6016338870867235], [181068.4810500358, 0.6016338870867235], [465426.9936950643, 0.41734625051949026], [13730.104303657943, 0.41734625051949026], [467149.3425673532, 0.7035559491076617], [397799.0783522771, 0.7035559491076617], [218146.593679346, 0.7035559491076617], [287166.19315208826, 0.41734625051949026], [413049.5980522515, 0.41734625051949026], [162699.4521998365, 0.7035559491076617], [86725.41996865168, 0.41734625051949026], [137451.31646060612, 0.41734625051949026], [305000.034107502, 0.7035559491076617], [28458.56033139713, 0.6016338870867235], [50810.04393940451, 0.32194088859427616], [208116.8143956291, 0.6016338870867235], [535127.8152450321, 0.7035559491076617], [204591.2391745609, 0.41734625051949026], [296069.6827235662, 0.7035559491076617], [418979.60932416737, 0.6016338870867235], [289906.0324848368, 0.41734625051949026], [29728.318370970173, 0.6016338870867235], [100002.96801898778, 0.32194088859427616], [419309.59033024055, 0.6016338870867235], [30216.96454560802, 0.6016338870867235], [72451.43429262302, 0.6016338870867235], [1341470.7270058338, 0.41734625051949026], [34443.83466528936, 0.7035559491076617], [180765.47276530025, 0.7035559491076617], [341703.114342162, 0.7035559491076617], [739805.7691002747, 0.7035559491076617], [232386.5789967948, 0.7035559491076617], [453345.5412356783, 0.7035559491076617], [59760.2149514717, 0.6016338870867235], [59684.166530048606, 0.6016338870867235], [623733.4281941165, 0.7035559491076617], [285981.1044603272, 0.41734625051949026], [173170.1941523733, 0.7035559491076617], [50006.06101484368, 0.32194088859427616], [27775.6202904378, 0.41734625051949026], [410036.447749567, 0.7035559491076617], [28257.27094488187, 0.6016338870867235], [30226.990277431192, 0.6016338870867235], [19383.79697183137, 0.7035559491076617], [2075801.441374417, 0.6016338870867235], [143279.12018201544, 0.41734625051949026], [139769.9081374108, 0.49401433158783986], [288847.42804785114, 0.7035559491076617], [374041.342547473, 0.7035559491076617], [298291.0758304798, 0.6016338870867235], [1224604.190471982, 0.41734625051949026], [609389.032499316, 0.7035559491076617], [181583.2158481057, 0.7035559491076617], [35752.49354847488, 0.6016338870867235], [556571.3015583466, 0.7035559491076617], [90467.00410181124, 0.6016338870867235], [414224.5122870695, 0.7035559491076617], [50163.84099486284, 0.6016338870867235], [304511.59703210223, 0.7035559491076617], [542377.4189186369, 0.7035559491076617], [90627.37454450558, 0.6016338870867235], [133560.21272238492, 0.49401433158783986], [29822.01673911142, 0.6016338870867235], [137411.80506849164, 0.41734625051949026], [196498.71791404852, 0.7035559491076617], [98617.79369729126, 0.49401433158783986], [837370.5742892749, 0.7035559491076617], [738891.276198918, 0.7035559491076617], [1294375.0310179596, 0.41734625051949026], [89790.29884943132, 0.6016338870867235], [1412026.5341237416, 0.41734625051949026], [68621.61402529091, 0.41734625051949026], [616040.5933818516, 0.7035559491076617], [602500.1452530668, 0.41734625051949026], [28849.710650668545, 0.41734625051949026], [330018.2410006433, 0.6016338870867235], [59818.19253761322, 0.6016338870867235], [30138.649344080823, 0.7035559491076617], [390412.8217264128, 0.6016338870867235], [823826.0596409802, 0.7035559491076617], [128510.68695536332, 0.49401433158783986], [178501.11709585917, 0.7035559491076617], [43175.21487438224, 0.41734625051949026], [456157.36036372633, 0.41734625051949026], [52203.65126364407, 0.7035559491076617], [314946.6065452729, 0.7035559491076617], [96278.04317420557, 0.41734625051949026], [48218.65493753383, 0.32194088859427616], [38019.86477640335, 0.7035559491076617], [82927.62926359934, 0.41734625051949026], [598404.0080267588, 0.7035559491076617], [148811.07235547606, 0.7035559491076617], [60362.17654339856, 0.6016338870867235], [90684.63873432424, 0.6016338870867235], [35852.75540871417, 0.6016338870867235], [215515.71188964267, 0.7035559491076617], [326533.71554526006, 0.7035559491076617], [1163561.5270067956, 0.6016338870867235], [1173034.3726478347, 0.41734625051949026], [162522.79065541452, 0.7035559491076617], [667173.0758908248, 0.32194088859427616], [87217.63761582917, 0.7035559491076617], [674485.7112580657, 0.41734625051949026], [908006.6235462656, 0.21439297794631237], [125988.9541843106, 0.7035559491076617], [645440.1625917685, 0.7035559491076617], [30582.946857195984, 0.7035559491076617], [936934.3596052628, 0.41734625051949026], [15270.587281700064, 0.7035559491076617], [532621.9954039709, 0.41734625051949026], [59510.0796997346, 0.6016338870867235], [34514.71706284606, 0.7035559491076617], [483188.1868590645, 0.41734625051949026], [138424.70162134193, 0.41734625051949026], [69191.55346415982, 0.7035559491076617], [57602.50346643073, 0.7035559491076617], [34536.14938618404, 0.7035559491076617], [191903.4379048115, 0.32194088859427616], [68980.837830871, 0.41734625051949026], [326977.52309422096, 0.7035559491076617], [90581.07907056066, 0.7035559491076617], [149731.653270316, 0.6016338870867235], [210485.8762706917, 0.6016338870867235], [90545.68126869568, 0.7035559491076617], [115222.3747502004, 0.7035559491076617], [657610.3879193809, 0.41734625051949026], [205135.3268339549, 0.41734625051949026], [60333.4787135547, 0.6016338870867235], [15067.970619475722, 0.7035559491076617], [1514966.279007488, 0.7035559491076617], [30266.922777073905, 0.6016338870867235], [344942.993381066, 0.7035559491076617], [269520.0873181973, 0.7035559491076617], [35992.40634439226, 0.6016338870867235], [121072.13169292592, 0.6016338870867235], [300978.8697287655, 0.41734625051949026], [15304.301376257294, 0.7035559491076617], [240409.8686501246, 0.6016338870867235], [203533.99726904577, 0.41734625051949026], [90777.37607830364, 0.7035559491076617], [344859.9384192896, 0.41734625051949026], [84235.69473648109, 0.6016338870867235], [325054.45470367186, 0.7035559491076617], [635099.2051295445, 0.7035559491076617], [90588.90953339008, 0.7035559491076617], [626739.6795356094, 0.41734625051949026], [121636.5257607637, 0.7035559491076617], [149139.23586156723, 0.6016338870867235], [71857.5583133632, 0.7035559491076617], [64190.534966652165, 0.49401433158783986], [523144.9063287691, 0.7035559491076617], [9827468.73028684, 0.32194088859427616], [133268.02229109153, 0.49401433158783986], [30204.116820640866, 0.6016338870867235], [149199.11175589287, 0.6016338870867235], [54126.8130015289, 0.7035559491076617], [86315.63253986204, 0.41734625051949026], [53565.19782630353, 0.7035559491076617], [72140.63854216241, 0.6016338870867235], [25076.768443577697, 0.6016338870867235], [91634.56381280838, 0.7035559491076617], [384834.3404302288, 0.41734625051949026], [374007.92984459066, 0.41734625051949026], [29840.023974446955, 0.6016338870867235], [373632.8345260545, 0.7035559491076617], [246423.6828961605, 0.41734625051949026], [272396.4611555856, 0.7035559491076617], [60561.5939816213, 0.6016338870867235], [115131.31192091393, 0.41734625051949026], [64875.53049834477, 0.49401433158783986], [49613.50174841925, 0.32194088859427616], [140705.4253198488, 0.6016338870867235], [664724.857264948, 0.41734625051949026], [356595.02613224887, 0.7035559491076617], [29806.16897518888, 0.6016338870867235], [322442.6100423507, 0.7035559491076617], [209387.0033260438, 0.6016338870867235], [231561.4422801745, 0.41734625051949026], [71879.92600565898, 0.7035559491076617], [238005.03514204052, 0.6016338870867235], [13762.259095368116, 0.41734625051949026], [590387.8744260885, 0.41734625051949026], [28980.754290936096, 0.41734625051949026], [239284.6897382569, 0.6016338870867235], [386505.1828944853, 0.6016338870867235], [119931.53988446908, 0.6016338870867235], [713619.2460422434, 0.7035559491076617], [453259.4174071587, 0.7035559491076617], [446033.43436, 0.7035559491076617], [160960.8191925544, 0.7035559491076617], [623544.1092284253, 0.41734625051949026], [233073.2443533744, 0.7035559491076617], [181509.8239036353, 0.7035559491076617], [48846.18762815609, 0.32194088859427616], [641873.340192214, 0.49401433158783986], [71344.27386027761, 0.6016338870867235], [47744.16376395522, 0.32194088859427616], [198780.5329219196, 0.7035559491076617], [68527.52431527551, 0.41734625051949026], [69497.98809158313, 0.41734625051949026], [189066.2550994083, 0.7035559491076617], [49384.43622740596, 0.32194088859427616], [229878.54602119292, 0.41734625051949026], [54927.68859345879, 0.32194088859427616], [52421.72725012848, 0.7035559491076617], [65105.632653178734, 0.49401433158783986], [35887.21711947398, 0.6016338870867235], [152980.71307162737, 0.41734625051949026], [494626.0463259801, 0.41734625051949026], [112659.14687948723, 0.6016338870867235], [85169.64780696039, 0.6016338870867235], [360018.98308595875, 0.7035559491076617], [30027.519435498845, 0.6016338870867235], [54437.38657932544, 0.32194088859427616], [57112.56724503119, 0.6016338870867235], [129528.6827650206, 0.49401433158783986], [180771.61583897512, 0.6016338870867235], [27600.607026959653, 0.41734625051949026], [15346.025537176352, 0.7035559491076617], [470269.5318241091, 0.7035559491076617], [211787.09327192488, 0.6016338870867235], [69978.02847261628, 0.49401433158783986], [862913.1309991158, 0.41734625051949026], [19041.67679945941, 0.7035559491076617], [149129.17648726623, 0.6016338870867235], [140754.06046896934, 0.6016338870867235], [90614.18073418272, 0.6016338870867235], [35863.066409396044, 0.6016338870867235], [69472.25746051736, 0.7035559491076617], [89231.59097374923, 0.6016338870867235], [180487.3640131786, 0.41734625051949026], [554353.6793261442, 0.7035559491076617], [555394.9982132884, 0.41734625051949026], [30082.721129508463, 0.6016338870867235], [0.0, 0.41734625051949026], [28611.303175179244, 0.6016338870867235], [214400.25583615695, 0.7035559491076617], [158584.5790327685, 0.41734625051949026], [60481.55823579391, 0.6016338870867235], [383621.1482343727, 0.32194088859427616], [161290.759299373, 0.7035559491076617], [104983.11291020329, 0.7035559491076617], [74563.50606403673, 0.6016338870867235], [35777.980224337, 0.6016338870867235], [55751.4454312128, 0.41734625051949026], [125226.06738524188, 0.6016338870867235], [163044.24153027352, 0.7035559491076617], [53928.54250348413, 0.7035559491076617], [38285.13770802732, 0.7035559491076617], [489067.6865476192, 0.7035559491076617], [668590.2652689901, 0.7035559491076617], [55028.34059041407, 0.32194088859427616], [232597.066593732, 0.41734625051949026], [101085.17955938716, 0.32194088859427616], [180379.60553716277, 0.6016338870867235], [122901.97301741075, 0.49401433158783986], [60468.17746211895, 0.6016338870867235], [60352.06262066525, 0.6016338870867235], [49954.342483416665, 0.6016338870867235], [56955.277805375976, 0.6016338870867235], [450465.9652667844, 0.7035559491076617], [89857.72012354688, 0.6016338870867235], [86092.59560471823, 0.7035559491076617], [484442.98605887714, 0.6016338870867235], [103454.77464722758, 0.7035559491076617], [49540.16333921669, 0.32194088859427616], [51547.459586240046, 0.7035559491076617], [56624.67450945661, 0.6016338870867235], [28400.985654922348, 0.6016338870867235], [41240.67618064096, 0.41734625051949026], [797431.733180139, 0.7035559491076617], [461760.0158319842, 0.7035559491076617], [150334.9331838269, 0.6016338870867235], [427805.8921083127, 0.7035559491076617], [127089.54074749508, 0.7035559491076617], [160991.71163007698, 0.7035559491076617], [722916.804074001, 0.41734625051949026], [38434.03923170622, 0.7035559491076617], [448481.6119196242, 0.6016338870867235], [52217.51521096479, 0.7035559491076617], [52020.58020729079, 0.7035559491076617], [724490.2228218096, 0.41734625051949026], [71426.1664176807, 0.41734625051949026], [625270.9576948103, 0.7035559491076617], [471833.1914087199, 0.7035559491076617], [489375.6316354134, 0.7035559491076617], [59790.32871844411, 0.6016338870867235], [269409.0918493155, 0.6016338870867235], [24752.056831861257, 0.6016338870867235], [240706.32571805143, 0.32194088859427616], [326999.4497760499, 0.7035559491076617], [72189.18544300775, 0.41734625051949026], [38346.002225542215, 0.7035559491076617], [543535.1953921914, 0.7035559491076617], [905398.6376518024, 0.6016338870867235], [551983.9928226538, 0.41734625051949026], [572530.9294958169, 0.6016338870867235], [575412.5186688522, 0.41734625051949026], [50211.961127773175, 0.49401433158783986], [56370.02939797464, 0.6016338870867235], [150046.39800620446, 0.6016338870867235], [249358.48706000813, 0.7035559491076617], [552267.6698121633, 0.41734625051949026], [13925.83505629318, 0.41734625051949026], [96381.39119941136, 0.32194088859427616], [30172.3309858528, 0.6016338870867235], [332377.5579790251, 0.41734625051949026], [121495.73459604374, 0.7035559491076617], [17197.211951511166, 0.7035559491076617], [14384.428784947366, 0.41734625051949026], [317371.1843962577, 0.41734625051949026], [75700.20604282978, 0.21439297794631237], [103628.83738864164, 0.7035559491076617], [18126.98246057933, 0.7035559491076617], [30487.375443559173, 0.7035559491076617], [289066.389206573, 0.7035559491076617], [86806.81296109826, 0.41734625051949026], [198523.8586509221, 0.7035559491076617], [15100.439694839575, 0.7035559491076617], [95712.17287730196, 0.32194088859427616], [76213.15184780401, 0.7035559491076617], [2287865.2176128197, 0.41734625051949026], [303773.26004517183, 0.7035559491076617], [140101.48310480666, 0.49401433158783986], [120561.98366932236, 0.6016338870867235], [59529.53274263235, 0.6016338870867235], [30037.15687033087, 0.6016338870867235], [70549.3212380686, 0.7035559491076617], [59616.13126049032, 0.6016338870867235], [120238.79207449536, 0.6016338870867235], [19145.61232588786, 0.7035559491076617], [626816.903405489, 0.32194088859427616], [140740.2405637328, 0.7035559491076617], [555802.4419752447, 0.41734625051949026], [47969.65889514866, 0.32194088859427616], [97643.54279877296, 0.32194088859427616], [60162.05533109466, 0.6016338870867235], [85800.01096104801, 0.7035559491076617], [48293.00473006744, 0.32194088859427616], [89846.79463045638, 0.6016338870867235], [953284.0283602806, 0.7035559491076617], [53520.6973822726, 0.7035559491076617], [179897.72490637537, 0.41734625051949026], [481518.21420224855, 0.7035559491076617], [358042.193229731, 0.6016338870867235], [303567.56560240977, 0.7035559491076617], [316031.9290528932, 0.41734625051949026], [1518405.4420652718, 0.41734625051949026], [27733.324053737917, 0.41734625051949026], [941568.4364226446, 0.49401433158783986], [38632.37326484108, 0.7035559491076617], [90784.3117190882, 0.6016338870867235], [505644.1449796492, 0.41734625051949026], [178126.97860918107, 0.41734625051949026], [50158.19771221971, 0.32194088859427616], [268571.27505653, 0.7035559491076617], [48020.54168647333, 0.32194088859427616], [537250.6303334597, 0.7035559491076617], [49973.83549652365, 0.32194088859427616], [693917.0948082868, 0.41734625051949026], [490797.91083482304, 0.7035559491076617], [108776.76713710002, 0.7035559491076617], [165769.2148782796, 0.41734625051949026], [180630.49109218255, 0.6016338870867235], [819850.0759221789, 0.41734625051949026], [89866.2568664227, 0.6016338870867235], [276476.84710666153, 0.41734625051949026], [29782.3717932492, 0.6016338870867235], [593745.420631268, 0.7035559491076617], [556921.8609600222, 0.41734625051949026], [2226402.338452795, 0.41734625051949026], [971654.2319037284, 0.41734625051949026], [302666.12689320464, 0.6016338870867235], [196790.77496324276, 0.7035559491076617], [374461.1370130656, 0.7035559491076617], [72240.73599672067, 0.7035559491076617], [414980.2597148026, 0.41734625051949026], [49029.25868448091, 0.32194088859427616], [238038.5568085988, 0.6016338870867235], [1526318.634960842, 0.41734625051949026], [319900.92992934753, 0.41734625051949026], [134681.94220790028, 0.49401433158783986], [1011880.3295453666, 0.7035559491076617], [346962.93196702685, 0.41734625051949026], [164433.51858752506, 0.41734625051949026], [122609.40908943929, 0.41734625051949026], [224893.28715379105, 0.7035559491076617], [30178.21303889857, 0.6016338870867235], [41717.36376341878, 0.41734625051949026], [259665.4126251922, 0.41734625051949026], [432445.5341829882, 0.7035559491076617], [460376.80550796393, 0.41734625051949026], [211734.42095691655, 0.6016338870867235], [54561.31270700323, 0.32194088859427616], [145174.78520507447, 0.7035559491076617], [1572237.021936098, 0.41734625051949026], [89590.29975545357, 0.6016338870867235], [48396.4313191789, 0.32194088859427616], [38328.17288572662, 0.7035559491076617], [76481.07004985305, 0.7035559491076617], [718993.885625468, 0.32194088859427616], [59793.92537391171, 0.6016338870867235], [72136.38980859026, 0.6016338870867235], [592167.2728198293, 0.7035559491076617], [347536.6678893364, 0.7035559491076617], [222870.45062759897, 0.41734625051949026], [437792.9986178383, 0.41734625051949026], [1923504.9324467403, 0.49401433158783986], [48235.13910355808, 0.32194088859427616], [17192.108714769034, 0.7035559491076617], [126595.24978300776, 0.7035559491076617], [59648.15539011752, 0.6016338870867235], [270357.1699030635, 0.7035559491076617], [30688.20061662784, 0.7035559491076617], [110887.1973913041, 0.41734625051949026], [1591785.094061362, 0.32194088859427616], [29974.038568640684, 0.6016338870867235], [27637.88724613696, 0.41734625051949026], [194374.1169047505, 0.41734625051949026], [48785.65122830323, 0.32194088859427616], [86028.20390508731, 0.7035559491076617], [1017759.1823654872, 0.41734625051949026], [245929.35859953027, 0.41734625051949026], [691997.9163992159, 0.41734625051949026], [205643.88691654708, 0.41734625051949026], [179848.4203241679, 0.6016338870867235], [98172.37902189538, 0.32194088859427616], [197829.57475374392, 0.7035559491076617], [57069.29792296424, 0.7035559491076617], [141189.28650628508, 0.6016338870867235], [267335.98375944403, 0.7035559491076617], [448555.5740872111, 0.7035559491076617], [272191.4098785861, 0.7035559491076617], [505536.5510321613, 0.41734625051949026], [1811374.8035885235, 0.7035559491076617], [29765.527512392, 0.6016338870867235], [2090161.0990169276, 0.41734625051949026], [972826.1198053272, 0.41734625051949026], [334497.6555010592, 0.41734625051949026], [268674.85162208235, 0.6016338870867235], [99879.84855940932, 0.32194088859427616], [1292201.7142510316, 0.6016338870867235], [30021.175815384428, 0.6016338870867235], [343071.3725927003, 0.41734625051949026], [543302.3980881202, 0.7035559491076617], [146798.38148151667, 0.32194088859427616], [180057.97894930822, 0.7035559491076617], [86886.51227584953, 0.7035559491076617], [547346.1694762745, 0.41734625051949026], [59521.27199237381, 0.6016338870867235], [452390.397061296, 0.7035559491076617], [324150.3665176704, 0.7035559491076617], [124312.31761842615, 0.41734625051949026], [60027.66107549864, 0.6016338870867235], [280875.3875663099, 0.6016338870867235], [323780.48679352447, 0.7035559491076617], [180480.53162325505, 0.7035559491076617], [90746.6206773078, 0.6016338870867235], [95787.45073763082, 0.41734625051949026], [90405.44364280238, 0.6016338870867235], [29750.26364862159, 0.6016338870867235], [90441.0143155895, 0.6016338870867235], [29746.62938824792, 0.6016338870867235], [85569.46054679231, 0.41734625051949026], [125323.67779990776, 0.7035559491076617], [440796.08372077066, 0.41734625051949026], [415526.5644340295, 0.41734625051949026], [207179.76409246115, 0.6016338870867235], [109177.53274525482, 0.32194088859427616], [606998.200570618, 0.41734625051949026], [55026.63949843014, 0.41734625051949026], [1040854.749660398, 0.41734625051949026], [35908.4914710648, 0.6016338870867235], [1226035.684052918, 0.7035559491076617], [49343.50768802113, 0.32194088859427616], [521461.32596905134, 0.7035559491076617], [214198.1389695881, 0.41734625051949026], [740886.4200088287, 0.7035559491076617], [539723.6819255884, 0.6016338870867235], [35965.00830973752, 0.7035559491076617], [2217215.315174693, 0.41734625051949026], [28308.220142941533, 0.6016338870867235], [2906937.8022936694, 0.41734625051949026], [59473.08317677819, 0.6016338870867235], [29947.438211566565, 0.6016338870867235], [238433.98442574136, 0.6016338870867235], [2486865.4647865677, 0.41734625051949026], [123369.12511592689, 0.41734625051949026], [2166812.180126569, 0.41734625051949026], [34625.553204722186, 0.7035559491076617], [15138.43570538293, 0.7035559491076617], [278770.4673480152, 0.7035559491076617], [180554.6380145097, 0.41734625051949026], [14371.575827653254, 0.41734625051949026], [17347.17944497359, 0.7035559491076617], [41404.480349965495, 0.41734625051949026], [47990.37676745432, 0.32194088859427616], [286085.82962565793, 0.7035559491076617], [119342.32253580546, 0.6016338870867235], [544630.2214696868, 0.7035559491076617], [541454.8915914738, 0.6016338870867235], [299098.4316637783, 0.6016338870867235], [35707.87082146094, 0.6016338870867235], [416634.4404554671, 0.7035559491076617], [49568.59890925298, 0.32194088859427616], [98196.2111000166, 0.32194088859427616], [34820.053337182886, 0.7035559491076617], [438019.0356569726, 0.41734625051949026], [99331.60832402034, 0.49401433158783986], [29734.70134946369, 0.6016338870867235], [629024.0050690734, 0.6016338870867235], [210558.319931933, 0.6016338870867235], [525141.3166072115, 0.7035559491076617], [263903.3952871561, 0.41734625051949026], [808436.9469478087, 0.41734625051949026], [38470.69036206864, 0.7035559491076617], [780213.3311441891, 0.6016338870867235], [349063.1060978996, 0.7035559491076617], [217158.50476554484, 0.41734625051949026], [2367333.572852096, 0.41734625051949026], [1595273.2700845124, 0.41734625051949026], [27588.29716536253, 0.41734625051949026], [1081283.604755635, 0.41734625051949026], [150143.00332403462, 0.32194088859427616], [38348.83427039902, 0.7035559491076617], [29845.19247892675, 0.6016338870867235], [269047.0073982669, 0.7035559491076617], [466632.3191962653, 0.7035559491076617], [60089.99928475607, 0.6016338870867235], [113841.20672908815, 0.6016338870867235], [71953.19801169832, 0.7035559491076617], [1171377.5980723083, 0.41734625051949026], [50546.65732571258, 0.32194088859427616], [15341.19393288912, 0.7035559491076617], [48401.94130506579, 0.32194088859427616], [556501.8029053691, 0.7035559491076617], [34827.235764238925, 0.7035559491076617], [999861.289347095, 0.41734625051949026], [238319.06110448443, 0.6016338870867235], [43098.204936449256, 0.41734625051949026], [208705.1550622932, 0.41734625051949026], [150170.72330544447, 0.6016338870867235], [452664.6821077142, 0.7035559491076617], [1098687.8780938485, 0.41734625051949026], [48350.153903240585, 0.32194088859427616], [48039.601448859146, 0.32194088859427616], [1090079.7570114438, 0.41734625051949026], [632273.6622070946, 0.41734625051949026], [250319.6137703048, 0.41734625051949026], [48011.86369768654, 0.32194088859427616], [393913.4746489176, 0.7035559491076617], [144490.95686951178, 0.7035559491076617], [48417.83521629478, 0.32194088859427616], [286985.826274446, 0.7035559491076617], [291609.19791654486, 0.41734625051949026], [5057569.634123232, 0.41734625051949026], [90726.9388733036, 0.6016338870867235], [29706.511261010804, 0.6016338870867235], [17994.639987940915, 0.7035559491076617], [275628.695965564, 0.41734625051949026], [305092.2776526937, 0.7035559491076617], [30072.513697678725, 0.6016338870867235], [57193.08663779631, 0.6016338870867235], [290114.51214472146, 0.41734625051949026], [89617.89986894335, 0.6016338870867235], [86989.73150823594, 0.7035559491076617], [446262.6772761755, 0.7035559491076617], [52225.4623373018, 0.7035559491076617], [76723.05480460964, 0.7035559491076617], [357636.0417559105, 0.6016338870867235], [2710753.1663504574, 0.41734625051949026], [238768.9366758577, 0.6016338870867235], [114622.30442606864, 0.41734625051949026], [85913.61031526944, 0.7035559491076617], [376505.5282088983, 0.21439297794631237], [82550.16082561623, 0.41734625051949026], [87179.98397327107, 0.7035559491076617], [180120.10748053266, 0.6016338870867235], [59976.05983727453, 0.6016338870867235], [425136.4798026837, 0.41734625051949026], [13870.06369787436, 0.41734625051949026], [89390.03857250272, 0.6016338870867235], [948657.4398593492, 0.41734625051949026], [215146.41299695548, 0.7035559491076617], [205673.3053603516, 0.41734625051949026], [48379.35246816604, 0.32194088859427616], [35960.01632452199, 0.7035559491076617], [302873.3914204335, 0.41734625051949026], [38347.59194645632, 0.7035559491076617], [30405.500174774195, 0.7035559491076617], [59487.9026588636, 0.6016338870867235], [35843.36398547421, 0.7035559491076617], [125015.1892744576, 0.7035559491076617], [165238.8479077664, 0.41734625051949026], [71786.36904510178, 0.7035559491076617], [215980.85994307676, 0.7035559491076617], [248486.526216924, 0.41734625051949026], [90808.71937596692, 0.7035559491076617], [36227.459247450606, 0.6016338870867235]], \"columns\": [{\"dtype\": \"int\", \"name\": \"YEAR\"}, {\"dtype\": \"str\", \"name\": \"MONTH\"}, {\"dtype\": \"str\", \"name\": \"Company\"}, {\"dtype\": \"str\", \"name\": \"Area 1\"}, {\"dtype\": \"str\", \"name\": \"Area 2\"}, {\"dtype\": \"str\", \"name\": \"Area 3\"}, {\"dtype\": \"str\", \"name\": \"Area 3 Classification\"}, {\"dtype\": \"str\", \"name\": \"Outlet Type\"}, {\"dtype\": \"str\", \"name\": \"Outlet Name\"}, {\"dtype\": \"str\", \"name\": \"Product Category 1\"}, {\"dtype\": \"str\", \"name\": \"Product Category 2\"}, {\"dtype\": \"str\", \"name\": \"Product\"}, {\"dtype\": \"float\", \"name\": \"Units sold\"}, {\"dtype\": \"float\", \"name\": \"Revenue\"}, {\"dtype\": \"float\", \"name\": \"Commission\"}, {\"dtype\": \"float\", \"name\": \"men_market_share\"}, {\"dtype\": \"float\", \"name\": \"white_walkers_market_share\"}]}, e);\n",
       "                });\n",
       "            })();\n",
       "        "
      ]
     },
     "metadata": {},
     "output_type": "display_data"
    }
   ],
   "source": [
    "men_data.show(view=\"Scatter Plot\", x=\"Revenue\", y=\"men_market_share\")"
   ]
  },
  {
   "cell_type": "code",
   "execution_count": 88,
   "metadata": {
    "collapsed": true
   },
   "outputs": [],
   "source": [
    "all_features=['MONTH','Company','Area 1','Area 2','Area 3','Area 3 Classification','Outlet Type','Outlet Name'\n",
    "              ,'Product Category 1','Product Category 2','Product','Commission']"
   ]
  },
  {
   "cell_type": "code",
   "execution_count": 89,
   "metadata": {
    "collapsed": true
   },
   "outputs": [],
   "source": [
    "train_data,test_data=men_data.random_split(0.8,seed=0)"
   ]
  },
  {
   "cell_type": "code",
   "execution_count": 90,
   "metadata": {
    "collapsed": false
   },
   "outputs": [
    {
     "name": "stdout",
     "output_type": "stream",
     "text": [
      "PROGRESS: Creating a validation set from 5 percent of training data. This may take a while.\n",
      "          You can set ``validation_set=None`` to disable validation tracking.\n",
      "\n"
     ]
    },
    {
     "data": {
      "text/html": [
       "<pre>WARNING: Detected extremely low variance for feature(s) 'Company' because all entries are nearly the same.\n",
       "Proceeding with model training using all features. If the model does not provide results of adequate quality, exclude the above mentioned feature(s) from the input dataset.</pre>"
      ],
      "text/plain": [
       "WARNING: Detected extremely low variance for feature(s) 'Company' because all entries are nearly the same.\n",
       "Proceeding with model training using all features. If the model does not provide results of adequate quality, exclude the above mentioned feature(s) from the input dataset."
      ]
     },
     "metadata": {},
     "output_type": "display_data"
    },
    {
     "data": {
      "text/html": [
       "<pre>Linear regression:</pre>"
      ],
      "text/plain": [
       "Linear regression:"
      ]
     },
     "metadata": {},
     "output_type": "display_data"
    }
   ],
   "source": [
    "revenue_model=graphlab.linear_regression.create(train_data,target='Revenue',features=all_features)"
   ]
  },
  {
   "cell_type": "code",
   "execution_count": 91,
   "metadata": {
    "collapsed": false
   },
   "outputs": [
    {
     "data": {
      "text/html": [
       "<pre>--------------------------------------------------------</pre>"
      ],
      "text/plain": [
       "--------------------------------------------------------"
      ]
     },
     "metadata": {},
     "output_type": "display_data"
    },
    {
     "data": {
      "text/html": [
       "<pre>Number of examples          : 269303</pre>"
      ],
      "text/plain": [
       "Number of examples          : 269303"
      ]
     },
     "metadata": {},
     "output_type": "display_data"
    },
    {
     "data": {
      "text/html": [
       "<pre>Number of features          : 12</pre>"
      ],
      "text/plain": [
       "Number of features          : 12"
      ]
     },
     "metadata": {},
     "output_type": "display_data"
    },
    {
     "data": {
      "text/html": [
       "<pre>Number of unpacked features : 12</pre>"
      ],
      "text/plain": [
       "Number of unpacked features : 12"
      ]
     },
     "metadata": {},
     "output_type": "display_data"
    },
    {
     "data": {
      "text/html": [
       "<pre>Number of coefficients    : 734</pre>"
      ],
      "text/plain": [
       "Number of coefficients    : 734"
      ]
     },
     "metadata": {},
     "output_type": "display_data"
    },
    {
     "data": {
      "text/html": [
       "<pre>Starting L-BFGS</pre>"
      ],
      "text/plain": [
       "Starting L-BFGS"
      ]
     },
     "metadata": {},
     "output_type": "display_data"
    },
    {
     "data": {
      "text/html": [
       "<pre>--------------------------------------------------------</pre>"
      ],
      "text/plain": [
       "--------------------------------------------------------"
      ]
     },
     "metadata": {},
     "output_type": "display_data"
    },
    {
     "data": {
      "text/html": [
       "<pre>+-----------+----------+-----------+--------------+--------------------+----------------------+---------------+-----------------+</pre>"
      ],
      "text/plain": [
       "+-----------+----------+-----------+--------------+--------------------+----------------------+---------------+-----------------+"
      ]
     },
     "metadata": {},
     "output_type": "display_data"
    },
    {
     "data": {
      "text/html": [
       "<pre>| Iteration | Passes   | Step size | Elapsed Time | Training-max_error | Validation-max_error | Training-rmse | Validation-rmse |</pre>"
      ],
      "text/plain": [
       "| Iteration | Passes   | Step size | Elapsed Time | Training-max_error | Validation-max_error | Training-rmse | Validation-rmse |"
      ]
     },
     "metadata": {},
     "output_type": "display_data"
    },
    {
     "data": {
      "text/html": [
       "<pre>+-----------+----------+-----------+--------------+--------------------+----------------------+---------------+-----------------+</pre>"
      ],
      "text/plain": [
       "+-----------+----------+-----------+--------------+--------------------+----------------------+---------------+-----------------+"
      ]
     },
     "metadata": {},
     "output_type": "display_data"
    },
    {
     "data": {
      "text/html": [
       "<pre>| 1         | 6        | 0.000000  | 2.374440     | 14141307.495398    | 13100285.659123      | 436910.970154 | 462640.408302   |</pre>"
      ],
      "text/plain": [
       "| 1         | 6        | 0.000000  | 2.374440     | 14141307.495398    | 13100285.659123      | 436910.970154 | 462640.408302   |"
      ]
     },
     "metadata": {},
     "output_type": "display_data"
    },
    {
     "data": {
      "text/html": [
       "<pre>| 2         | 9        | 5.000000  | 3.217992     | 13035039.909386    | 9609848.203940       | 359192.619121 | 370532.552616   |</pre>"
      ],
      "text/plain": [
       "| 2         | 9        | 5.000000  | 3.217992     | 13035039.909386    | 9609848.203940       | 359192.619121 | 370532.552616   |"
      ]
     },
     "metadata": {},
     "output_type": "display_data"
    },
    {
     "data": {
      "text/html": [
       "<pre>| 3         | 10       | 5.000000  | 3.592912     | 34073590.252494    | 34855921.898258      | 554433.971232 | 643942.342268   |</pre>"
      ],
      "text/plain": [
       "| 3         | 10       | 5.000000  | 3.592912     | 34073590.252494    | 34855921.898258      | 554433.971232 | 643942.342268   |"
      ]
     },
     "metadata": {},
     "output_type": "display_data"
    },
    {
     "data": {
      "text/html": [
       "<pre>| 4         | 12       | 1.000000  | 4.233381     | 18988519.361688    | 11911223.622139      | 329562.573646 | 359561.301620   |</pre>"
      ],
      "text/plain": [
       "| 4         | 12       | 1.000000  | 4.233381     | 18988519.361688    | 11911223.622139      | 329562.573646 | 359561.301620   |"
      ]
     },
     "metadata": {},
     "output_type": "display_data"
    },
    {
     "data": {
      "text/html": [
       "<pre>| 5         | 13       | 1.000000  | 4.577082     | 19212230.491733    | 12343997.985107      | 329127.040880 | 360050.339412   |</pre>"
      ],
      "text/plain": [
       "| 5         | 13       | 1.000000  | 4.577082     | 19212230.491733    | 12343997.985107      | 329127.040880 | 360050.339412   |"
      ]
     },
     "metadata": {},
     "output_type": "display_data"
    },
    {
     "data": {
      "text/html": [
       "<pre>| 6         | 14       | 1.000000  | 4.998824     | 19229999.006794    | 12414607.229159      | 328781.487852 | 359961.757991   |</pre>"
      ],
      "text/plain": [
       "| 6         | 14       | 1.000000  | 4.998824     | 19229999.006794    | 12414607.229159      | 328781.487852 | 359961.757991   |"
      ]
     },
     "metadata": {},
     "output_type": "display_data"
    },
    {
     "data": {
      "text/html": [
       "<pre>| 10        | 18       | 1.000000  | 6.560984     | 20123110.918831    | 14157994.333956      | 328026.282903 | 364368.914646   |</pre>"
      ],
      "text/plain": [
       "| 10        | 18       | 1.000000  | 6.560984     | 20123110.918831    | 14157994.333956      | 328026.282903 | 364368.914646   |"
      ]
     },
     "metadata": {},
     "output_type": "display_data"
    },
    {
     "data": {
      "text/html": [
       "<pre>+-----------+----------+-----------+--------------+--------------------+----------------------+---------------+-----------------+</pre>"
      ],
      "text/plain": [
       "+-----------+----------+-----------+--------------+--------------------+----------------------+---------------+-----------------+"
      ]
     },
     "metadata": {},
     "output_type": "display_data"
    },
    {
     "data": {
      "text/html": [
       "<pre>TERMINATED: Iteration limit reached.</pre>"
      ],
      "text/plain": [
       "TERMINATED: Iteration limit reached."
      ]
     },
     "metadata": {},
     "output_type": "display_data"
    },
    {
     "data": {
      "text/html": [
       "<pre>This model may not be optimal. To improve it, consider increasing `max_iterations`.</pre>"
      ],
      "text/plain": [
       "This model may not be optimal. To improve it, consider increasing `max_iterations`."
      ]
     },
     "metadata": {},
     "output_type": "display_data"
    },
    {
     "name": "stdout",
     "output_type": "stream",
     "text": [
      "{'max_error': 11541982.917454123, 'rmse': 319860.17939222313}\n"
     ]
    }
   ],
   "source": [
    "print revenue_model.evaluate(test_data)"
   ]
  },
  {
   "cell_type": "code",
   "execution_count": 92,
   "metadata": {
    "collapsed": false
   },
   "outputs": [
    {
     "data": {
      "application/javascript": [
       "$(\"head\").append($(\"<link/>\").attr({\n",
       "  rel:  \"stylesheet\",\n",
       "  type: \"text/css\",\n",
       "  href: \"//cdnjs.cloudflare.com/ajax/libs/font-awesome/4.1.0/css/font-awesome.min.css\"\n",
       "}));\n",
       "$(\"head\").append($(\"<link/>\").attr({\n",
       "  rel:  \"stylesheet\",\n",
       "  type: \"text/css\",\n",
       "  href: \"https://static.turi.com/products/graphlab-create/2.1/canvas/css/canvas.css\"\n",
       "}));\n",
       "\n",
       "            (function(){\n",
       "\n",
       "                var e = null;\n",
       "                if (typeof element == 'undefined') {\n",
       "                    var scripts = document.getElementsByTagName('script');\n",
       "                    var thisScriptTag = scripts[scripts.length-1];\n",
       "                    var parentDiv = thisScriptTag.parentNode;\n",
       "                    e = document.createElement('div');\n",
       "                    parentDiv.appendChild(e);\n",
       "                } else {\n",
       "                    e = element[0];\n",
       "                }\n",
       "\n",
       "                if (typeof requirejs !== 'undefined') {\n",
       "                    // disable load timeout; ipython_app.js is large and can take a while to load.\n",
       "                    requirejs.config({waitSeconds: 0});\n",
       "                }\n",
       "\n",
       "                require(['https://static.turi.com/products/graphlab-create/2.1/canvas/js/ipython_app.js'], function(IPythonApp){\n",
       "                    var app = new IPythonApp();\n",
       "                    app.attachView('model','Summary', {\"comparison\": null, \"selected_variable\": {\"comparison\": null, \"name\": [\"revenue_model\"], \"view_file\": \"model\", \"view_component\": \"Summary\", \"view_params\": {\"model_type\": \"regression\", \"view\": \"Summary\"}, \"view_components\": [\"Summary\", \"Evaluation\", \"Comparison\"], \"model_type\": \"regression\", \"attributes\": {\"section_titles\": [\"Schema\", \"Hyperparameters\", \"Training Summary\", \"Settings\", \"Highest Positive Coefficients\", \"Lowest Negative Coefficients\"], \"sections\": [[[\"Number of coefficients\", 734], [\"Number of examples\", 269303], [\"Number of feature columns\", 12], [\"Number of unpacked features\", 12]], [[\"L1 penalty\", 0.0], [\"L2 penalty\", 0.01]], [[\"Solver\", \"lbfgs\"], [\"Solver iterations\", 10], [\"Solver status\", \"TERMINATED: Iteration limit reached.\"], [\"Training time (sec)\", 6.764]], [[\"Residual sum of squares\", 2.8977337348460812e+16], [\"Training RMSE\", 328026.2829]], [[\"Product[green olives]\", 662291.0252], [\"Outlet Name[tim stone]\", 403104.8854], [\"Outlet Name[aegon targaryen (son of baelon)]\", 368237.3312], [\"Outlet Name[boy]\", 309566.9395], [\"Outlet Name[aerys ii targaryen]\", 245099.738]], [[\"Product[turbot]\", -506331.44], [\"Product[dried tarragon leaves]\", -475426.9726], [\"Outlet Name[esgred]\", -302670.3381], [\"Product[all beef hot dogs]\", -290982.0937], [\"Product[sablefish]\", -265197.09]]]}, \"evaluations\": [[\"test_data\", {\"max_error\": 11541982.917454123, \"rmse\": 319860.17939222313}]], \"type\": \"Model\"}, \"ipython\": true, \"view_params\": {\"model_type\": \"regression\", \"view\": \"Summary\"}, \"model_type\": \"regression\", \"attributes\": {\"section_titles\": [\"Schema\", \"Hyperparameters\", \"Training Summary\", \"Settings\", \"Highest Positive Coefficients\", \"Lowest Negative Coefficients\"], \"sections\": [[[\"Number of coefficients\", 734], [\"Number of examples\", 269303], [\"Number of feature columns\", 12], [\"Number of unpacked features\", 12]], [[\"L1 penalty\", 0.0], [\"L2 penalty\", 0.01]], [[\"Solver\", \"lbfgs\"], [\"Solver iterations\", 10], [\"Solver status\", \"TERMINATED: Iteration limit reached.\"], [\"Training time (sec)\", 6.764]], [[\"Residual sum of squares\", 2.8977337348460812e+16], [\"Training RMSE\", 328026.2829]], [[\"Product[green olives]\", 662291.0252], [\"Outlet Name[tim stone]\", 403104.8854], [\"Outlet Name[aegon targaryen (son of baelon)]\", 368237.3312], [\"Outlet Name[boy]\", 309566.9395], [\"Outlet Name[aerys ii targaryen]\", 245099.738]], [[\"Product[turbot]\", -506331.44], [\"Product[dried tarragon leaves]\", -475426.9726], [\"Outlet Name[esgred]\", -302670.3381], [\"Product[all beef hot dogs]\", -290982.0937], [\"Product[sablefish]\", -265197.09]]]}, \"evaluations\": [[\"test_data\", {\"max_error\": 11541982.917454123, \"rmse\": 319860.17939222313}]]}, e);\n",
       "                });\n",
       "            })();\n",
       "        "
      ]
     },
     "metadata": {},
     "output_type": "display_data"
    }
   ],
   "source": [
    "revenue_model.show()"
   ]
  },
  {
   "cell_type": "code",
   "execution_count": 93,
   "metadata": {
    "collapsed": true
   },
   "outputs": [],
   "source": [
    "test1=test_data[1]"
   ]
  },
  {
   "cell_type": "code",
   "execution_count": 94,
   "metadata": {
    "collapsed": false
   },
   "outputs": [
    {
     "data": {
      "text/plain": [
       "{'Area 1': 'the crownlands',\n",
       " 'Area 2': 'stony shore',\n",
       " 'Area 3': 'dothraki',\n",
       " 'Area 3 Classification': 'hand of the king',\n",
       " 'Commission': 2009.9266261751936,\n",
       " 'Company': 'men',\n",
       " 'MONTH': 'JAN',\n",
       " 'Outlet Name': 'viserys ii targaryen',\n",
       " 'Outlet Type': 'house wylde',\n",
       " 'Product': 'nonfat ricotta cheese',\n",
       " 'Product Category 1': 'indian',\n",
       " 'Product Category 2': 'fino sherry',\n",
       " 'Revenue': 120595.5975705116,\n",
       " 'Units sold': 10.049633130875968,\n",
       " 'YEAR': 2018L,\n",
       " 'men_market_share': 0.6016338870867235,\n",
       " 'white_walkers_market_share': 0.3983661129132765}"
      ]
     },
     "execution_count": 94,
     "metadata": {},
     "output_type": "execute_result"
    }
   ],
   "source": [
    "test1"
   ]
  },
  {
   "cell_type": "code",
   "execution_count": 95,
   "metadata": {
    "collapsed": false
   },
   "outputs": [
    {
     "data": {
      "text/plain": [
       "dtype: float\n",
       "Rows: 1\n",
       "[112677.84981296286]"
      ]
     },
     "execution_count": 95,
     "metadata": {},
     "output_type": "execute_result"
    }
   ],
   "source": [
    "revenue_model.predict(test1)"
   ]
  },
  {
   "cell_type": "code",
   "execution_count": 96,
   "metadata": {
    "collapsed": false
   },
   "outputs": [
    {
     "data": {
      "text/plain": [
       "120595.5975705116"
      ]
     },
     "execution_count": 96,
     "metadata": {},
     "output_type": "execute_result"
    }
   ],
   "source": [
    "test1['Revenue']"
   ]
  },
  {
   "cell_type": "code",
   "execution_count": 97,
   "metadata": {
    "collapsed": true
   },
   "outputs": [],
   "source": [
    "test2={'Area 1': 'the crownlands',\n",
    " 'Area 2': 'stony shore',\n",
    " 'Area 3': 'dothraki',\n",
    " 'Area 3 Classification': 'hand of the king',\n",
    " 'Commission': 2009.9266261751936,\n",
    " 'Company': 'men',\n",
    " 'MONTH': 'DEC',\n",
    " 'Outlet Name': 'viserys ii targaryen',\n",
    " 'Outlet Type': 'house wylde',\n",
    " 'Product': 'nonfat ricotta cheese',\n",
    " 'Product Category 1': 'chinese',\n",
    " 'Product Category 2': 'fino sherry',\n",
    " 'Revenue': 120595.5975705116,\n",
    " 'Units sold': 10.049633130875968,\n",
    " 'YEAR': 2018L,\n",
    " 'market_share': 0.6016338870867236}"
   ]
  },
  {
   "cell_type": "code",
   "execution_count": 98,
   "metadata": {
    "collapsed": false
   },
   "outputs": [
    {
     "data": {
      "text/plain": [
       "dtype: float\n",
       "Rows: 1\n",
       "[213088.5798762426]"
      ]
     },
     "execution_count": 98,
     "metadata": {},
     "output_type": "execute_result"
    }
   ],
   "source": [
    "revenue_model.predict(test2)"
   ]
  },
  {
   "cell_type": "code",
   "execution_count": 99,
   "metadata": {
    "collapsed": false
   },
   "outputs": [
    {
     "name": "stdout",
     "output_type": "stream",
     "text": [
      "PROGRESS: Creating a validation set from 5 percent of training data. This may take a while.\n",
      "          You can set ``validation_set=None`` to disable validation tracking.\n",
      "\n"
     ]
    },
    {
     "data": {
      "text/html": [
       "<pre>WARNING: Detected extremely low variance for feature(s) 'Company' because all entries are nearly the same.\n",
       "Proceeding with model training using all features. If the model does not provide results of adequate quality, exclude the above mentioned feature(s) from the input dataset.</pre>"
      ],
      "text/plain": [
       "WARNING: Detected extremely low variance for feature(s) 'Company' because all entries are nearly the same.\n",
       "Proceeding with model training using all features. If the model does not provide results of adequate quality, exclude the above mentioned feature(s) from the input dataset."
      ]
     },
     "metadata": {},
     "output_type": "display_data"
    }
   ],
   "source": [
    "units_sold_model=graphlab.linear_regression.create(train_data,target='Units sold',features=all_features)"
   ]
  },
  {
   "cell_type": "code",
   "execution_count": 100,
   "metadata": {
    "collapsed": false
   },
   "outputs": [
    {
     "data": {
      "text/html": [
       "<pre>Linear regression:</pre>"
      ],
      "text/plain": [
       "Linear regression:"
      ]
     },
     "metadata": {},
     "output_type": "display_data"
    },
    {
     "data": {
      "text/html": [
       "<pre>--------------------------------------------------------</pre>"
      ],
      "text/plain": [
       "--------------------------------------------------------"
      ]
     },
     "metadata": {},
     "output_type": "display_data"
    },
    {
     "data": {
      "text/html": [
       "<pre>Number of examples          : 269280</pre>"
      ],
      "text/plain": [
       "Number of examples          : 269280"
      ]
     },
     "metadata": {},
     "output_type": "display_data"
    },
    {
     "data": {
      "text/html": [
       "<pre>Number of features          : 12</pre>"
      ],
      "text/plain": [
       "Number of features          : 12"
      ]
     },
     "metadata": {},
     "output_type": "display_data"
    },
    {
     "data": {
      "text/html": [
       "<pre>Number of unpacked features : 12</pre>"
      ],
      "text/plain": [
       "Number of unpacked features : 12"
      ]
     },
     "metadata": {},
     "output_type": "display_data"
    },
    {
     "data": {
      "text/html": [
       "<pre>Number of coefficients    : 734</pre>"
      ],
      "text/plain": [
       "Number of coefficients    : 734"
      ]
     },
     "metadata": {},
     "output_type": "display_data"
    },
    {
     "data": {
      "text/html": [
       "<pre>Starting L-BFGS</pre>"
      ],
      "text/plain": [
       "Starting L-BFGS"
      ]
     },
     "metadata": {},
     "output_type": "display_data"
    },
    {
     "data": {
      "text/html": [
       "<pre>--------------------------------------------------------</pre>"
      ],
      "text/plain": [
       "--------------------------------------------------------"
      ]
     },
     "metadata": {},
     "output_type": "display_data"
    },
    {
     "data": {
      "text/html": [
       "<pre>+-----------+----------+-----------+--------------+--------------------+----------------------+---------------+-----------------+</pre>"
      ],
      "text/plain": [
       "+-----------+----------+-----------+--------------+--------------------+----------------------+---------------+-----------------+"
      ]
     },
     "metadata": {},
     "output_type": "display_data"
    },
    {
     "data": {
      "text/html": [
       "<pre>| Iteration | Passes   | Step size | Elapsed Time | Training-max_error | Validation-max_error | Training-rmse | Validation-rmse |</pre>"
      ],
      "text/plain": [
       "| Iteration | Passes   | Step size | Elapsed Time | Training-max_error | Validation-max_error | Training-rmse | Validation-rmse |"
      ]
     },
     "metadata": {},
     "output_type": "display_data"
    },
    {
     "data": {
      "text/html": [
       "<pre>+-----------+----------+-----------+--------------+--------------------+----------------------+---------------+-----------------+</pre>"
      ],
      "text/plain": [
       "+-----------+----------+-----------+--------------+--------------------+----------------------+---------------+-----------------+"
      ]
     },
     "metadata": {},
     "output_type": "display_data"
    },
    {
     "data": {
      "text/html": [
       "<pre>| 1         | 6        | 0.000000  | 1.234084     | 2466.725491        | 1343.734810          | 72.412439     | 67.494646       |</pre>"
      ],
      "text/plain": [
       "| 1         | 6        | 0.000000  | 1.234084     | 2466.725491        | 1343.734810          | 72.412439     | 67.494646       |"
      ]
     },
     "metadata": {},
     "output_type": "display_data"
    },
    {
     "data": {
      "text/html": [
       "<pre>| 2         | 9        | 5.000000  | 2.093276     | 2298.734403        | 1194.666811          | 63.677728     | 59.748846       |</pre>"
      ],
      "text/plain": [
       "| 2         | 9        | 5.000000  | 2.093276     | 2298.734403        | 1194.666811          | 63.677728     | 59.748846       |"
      ]
     },
     "metadata": {},
     "output_type": "display_data"
    },
    {
     "data": {
      "text/html": [
       "<pre>| 3         | 10       | 5.000000  | 2.436923     | 2339.680340        | 1248.756514          | 103.733279    | 100.940620      |</pre>"
      ],
      "text/plain": [
       "| 3         | 10       | 5.000000  | 2.436923     | 2339.680340        | 1248.756514          | 103.733279    | 100.940620      |"
      ]
     },
     "metadata": {},
     "output_type": "display_data"
    },
    {
     "data": {
      "text/html": [
       "<pre>| 4         | 12       | 1.000000  | 3.077396     | 2302.896907        | 1204.161185          | 57.839248     | 53.298236       |</pre>"
      ],
      "text/plain": [
       "| 4         | 12       | 1.000000  | 3.077396     | 2302.896907        | 1204.161185          | 57.839248     | 53.298236       |"
      ]
     },
     "metadata": {},
     "output_type": "display_data"
    },
    {
     "data": {
      "text/html": [
       "<pre>| 5         | 13       | 1.000000  | 3.421065     | 2294.740804        | 1197.649380          | 57.580397     | 53.090817       |</pre>"
      ],
      "text/plain": [
       "| 5         | 13       | 1.000000  | 3.421065     | 2294.740804        | 1197.649380          | 57.580397     | 53.090817       |"
      ]
     },
     "metadata": {},
     "output_type": "display_data"
    },
    {
     "data": {
      "text/html": [
       "<pre>| 6         | 14       | 1.000000  | 3.842876     | 2266.756525        | 1175.396114          | 57.203513     | 52.886422       |</pre>"
      ],
      "text/plain": [
       "| 6         | 14       | 1.000000  | 3.842876     | 2266.756525        | 1175.396114          | 57.203513     | 52.886422       |"
      ]
     },
     "metadata": {},
     "output_type": "display_data"
    },
    {
     "data": {
      "text/html": [
       "<pre>| 10        | 18       | 1.000000  | 5.373728     | 2260.818691        | 1172.181312          | 57.080576     | 52.795377       |</pre>"
      ],
      "text/plain": [
       "| 10        | 18       | 1.000000  | 5.373728     | 2260.818691        | 1172.181312          | 57.080576     | 52.795377       |"
      ]
     },
     "metadata": {},
     "output_type": "display_data"
    },
    {
     "data": {
      "text/html": [
       "<pre>+-----------+----------+-----------+--------------+--------------------+----------------------+---------------+-----------------+</pre>"
      ],
      "text/plain": [
       "+-----------+----------+-----------+--------------+--------------------+----------------------+---------------+-----------------+"
      ]
     },
     "metadata": {},
     "output_type": "display_data"
    },
    {
     "data": {
      "text/html": [
       "<pre>TERMINATED: Iteration limit reached.</pre>"
      ],
      "text/plain": [
       "TERMINATED: Iteration limit reached."
      ]
     },
     "metadata": {},
     "output_type": "display_data"
    },
    {
     "data": {
      "text/html": [
       "<pre>This model may not be optimal. To improve it, consider increasing `max_iterations`.</pre>"
      ],
      "text/plain": [
       "This model may not be optimal. To improve it, consider increasing `max_iterations`."
      ]
     },
     "metadata": {},
     "output_type": "display_data"
    },
    {
     "name": "stdout",
     "output_type": "stream",
     "text": [
      "{'max_error': 1952.7807750194472, 'rmse': 55.13070708065928}\n"
     ]
    }
   ],
   "source": [
    "print units_sold_model.evaluate(test_data)"
   ]
  },
  {
   "cell_type": "code",
   "execution_count": 101,
   "metadata": {
    "collapsed": false
   },
   "outputs": [
    {
     "data": {
      "application/javascript": [
       "$(\"head\").append($(\"<link/>\").attr({\n",
       "  rel:  \"stylesheet\",\n",
       "  type: \"text/css\",\n",
       "  href: \"//cdnjs.cloudflare.com/ajax/libs/font-awesome/4.1.0/css/font-awesome.min.css\"\n",
       "}));\n",
       "$(\"head\").append($(\"<link/>\").attr({\n",
       "  rel:  \"stylesheet\",\n",
       "  type: \"text/css\",\n",
       "  href: \"https://static.turi.com/products/graphlab-create/2.1/canvas/css/canvas.css\"\n",
       "}));\n",
       "\n",
       "            (function(){\n",
       "\n",
       "                var e = null;\n",
       "                if (typeof element == 'undefined') {\n",
       "                    var scripts = document.getElementsByTagName('script');\n",
       "                    var thisScriptTag = scripts[scripts.length-1];\n",
       "                    var parentDiv = thisScriptTag.parentNode;\n",
       "                    e = document.createElement('div');\n",
       "                    parentDiv.appendChild(e);\n",
       "                } else {\n",
       "                    e = element[0];\n",
       "                }\n",
       "\n",
       "                if (typeof requirejs !== 'undefined') {\n",
       "                    // disable load timeout; ipython_app.js is large and can take a while to load.\n",
       "                    requirejs.config({waitSeconds: 0});\n",
       "                }\n",
       "\n",
       "                require(['https://static.turi.com/products/graphlab-create/2.1/canvas/js/ipython_app.js'], function(IPythonApp){\n",
       "                    var app = new IPythonApp();\n",
       "                    app.attachView('model','Summary', {\"comparison\": null, \"selected_variable\": {\"comparison\": null, \"name\": [\"units_sold_model\"], \"view_file\": \"model\", \"view_component\": \"Summary\", \"view_params\": {\"model_type\": \"regression\", \"view\": \"Summary\"}, \"view_components\": [\"Summary\", \"Evaluation\", \"Comparison\"], \"model_type\": \"regression\", \"attributes\": {\"section_titles\": [\"Schema\", \"Hyperparameters\", \"Training Summary\", \"Settings\", \"Highest Positive Coefficients\", \"Lowest Negative Coefficients\"], \"sections\": [[[\"Number of coefficients\", 734], [\"Number of examples\", 269280], [\"Number of feature columns\", 12], [\"Number of unpacked features\", 12]], [[\"L1 penalty\", 0.0], [\"L2 penalty\", 0.01]], [[\"Solver\", \"lbfgs\"], [\"Solver iterations\", 10], [\"Solver status\", \"TERMINATED: Iteration limit reached.\"], [\"Training time (sec)\", 5.5456]], [[\"Residual sum of squares\", 877365983.9153], [\"Training RMSE\", 57.0806]], [[\"Product[green olives]\", 121.8703], [\"Outlet Name[tim stone]\", 73.3927], [\"Outlet Name[boy]\", 59.4604], [\"Outlet Name[aegon targaryen (son of baelon)]\", 57.9869], [\"Outlet Name[simon leygood]\", 44.8017]], [[\"Product[turbot]\", -59.5613], [\"Product[dried tarragon leaves]\", -55.1609], [\"Product[sablefish]\", -48.8413], [\"Outlet Name[esgred]\", -43.0177], [\"Outlet Type[house farwynd of the lonely light]\", -41.0118]]]}, \"evaluations\": [[\"test_data\", {\"max_error\": 1952.7807750194472, \"rmse\": 55.13070708065928}]], \"type\": \"Model\"}, \"ipython\": true, \"view_params\": {\"model_type\": \"regression\", \"view\": \"Summary\"}, \"model_type\": \"regression\", \"attributes\": {\"section_titles\": [\"Schema\", \"Hyperparameters\", \"Training Summary\", \"Settings\", \"Highest Positive Coefficients\", \"Lowest Negative Coefficients\"], \"sections\": [[[\"Number of coefficients\", 734], [\"Number of examples\", 269280], [\"Number of feature columns\", 12], [\"Number of unpacked features\", 12]], [[\"L1 penalty\", 0.0], [\"L2 penalty\", 0.01]], [[\"Solver\", \"lbfgs\"], [\"Solver iterations\", 10], [\"Solver status\", \"TERMINATED: Iteration limit reached.\"], [\"Training time (sec)\", 5.5456]], [[\"Residual sum of squares\", 877365983.9153], [\"Training RMSE\", 57.0806]], [[\"Product[green olives]\", 121.8703], [\"Outlet Name[tim stone]\", 73.3927], [\"Outlet Name[boy]\", 59.4604], [\"Outlet Name[aegon targaryen (son of baelon)]\", 57.9869], [\"Outlet Name[simon leygood]\", 44.8017]], [[\"Product[turbot]\", -59.5613], [\"Product[dried tarragon leaves]\", -55.1609], [\"Product[sablefish]\", -48.8413], [\"Outlet Name[esgred]\", -43.0177], [\"Outlet Type[house farwynd of the lonely light]\", -41.0118]]]}, \"evaluations\": [[\"test_data\", {\"max_error\": 1952.7807750194472, \"rmse\": 55.13070708065928}]]}, e);\n",
       "                });\n",
       "            })();\n",
       "        "
      ]
     },
     "metadata": {},
     "output_type": "display_data"
    },
    {
     "name": "stdout",
     "output_type": "stream",
     "text": [
      "None\n"
     ]
    }
   ],
   "source": [
    "print units_sold_model.show()"
   ]
  },
  {
   "cell_type": "code",
   "execution_count": 102,
   "metadata": {
    "collapsed": false
   },
   "outputs": [
    {
     "data": {
      "text/plain": [
       "dtype: float\n",
       "Rows: 1\n",
       "[8.360341497930923]"
      ]
     },
     "execution_count": 102,
     "metadata": {},
     "output_type": "execute_result"
    }
   ],
   "source": [
    "units_sold_model.predict(test1)"
   ]
  },
  {
   "cell_type": "code",
   "execution_count": 103,
   "metadata": {
    "collapsed": false
   },
   "outputs": [
    {
     "data": {
      "text/plain": [
       "10.049633130875968"
      ]
     },
     "execution_count": 103,
     "metadata": {},
     "output_type": "execute_result"
    }
   ],
   "source": [
    "test1['Units sold']"
   ]
  },
  {
   "cell_type": "code",
   "execution_count": 104,
   "metadata": {
    "collapsed": false
   },
   "outputs": [
    {
     "data": {
      "text/plain": [
       "dtype: float\n",
       "Rows: 1\n",
       "[21.65320242626099]"
      ]
     },
     "execution_count": 104,
     "metadata": {},
     "output_type": "execute_result"
    }
   ],
   "source": [
    "units_sold_model.predict(test2)"
   ]
  },
  {
   "cell_type": "code",
   "execution_count": 105,
   "metadata": {
    "collapsed": false
   },
   "outputs": [
    {
     "name": "stdout",
     "output_type": "stream",
     "text": [
      "PROGRESS: Creating a validation set from 5 percent of training data. This may take a while.\n",
      "          You can set ``validation_set=None`` to disable validation tracking.\n",
      "\n"
     ]
    },
    {
     "data": {
      "text/html": [
       "<pre>WARNING: Detected extremely low variance for feature(s) 'Company' because all entries are nearly the same.\n",
       "Proceeding with model training using all features. If the model does not provide results of adequate quality, exclude the above mentioned feature(s) from the input dataset.</pre>"
      ],
      "text/plain": [
       "WARNING: Detected extremely low variance for feature(s) 'Company' because all entries are nearly the same.\n",
       "Proceeding with model training using all features. If the model does not provide results of adequate quality, exclude the above mentioned feature(s) from the input dataset."
      ]
     },
     "metadata": {},
     "output_type": "display_data"
    },
    {
     "data": {
      "text/html": [
       "<pre>Linear regression:</pre>"
      ],
      "text/plain": [
       "Linear regression:"
      ]
     },
     "metadata": {},
     "output_type": "display_data"
    }
   ],
   "source": [
    "market_share_model=graphlab.linear_regression.create(train_data,target='men_market_share',features=all_features)"
   ]
  },
  {
   "cell_type": "code",
   "execution_count": 106,
   "metadata": {
    "collapsed": false
   },
   "outputs": [
    {
     "data": {
      "text/html": [
       "<pre>--------------------------------------------------------</pre>"
      ],
      "text/plain": [
       "--------------------------------------------------------"
      ]
     },
     "metadata": {},
     "output_type": "display_data"
    },
    {
     "data": {
      "text/html": [
       "<pre>Number of examples          : 269277</pre>"
      ],
      "text/plain": [
       "Number of examples          : 269277"
      ]
     },
     "metadata": {},
     "output_type": "display_data"
    },
    {
     "data": {
      "text/html": [
       "<pre>Number of features          : 12</pre>"
      ],
      "text/plain": [
       "Number of features          : 12"
      ]
     },
     "metadata": {},
     "output_type": "display_data"
    },
    {
     "data": {
      "text/html": [
       "<pre>Number of unpacked features : 12</pre>"
      ],
      "text/plain": [
       "Number of unpacked features : 12"
      ]
     },
     "metadata": {},
     "output_type": "display_data"
    },
    {
     "data": {
      "text/html": [
       "<pre>Number of coefficients    : 733</pre>"
      ],
      "text/plain": [
       "Number of coefficients    : 733"
      ]
     },
     "metadata": {},
     "output_type": "display_data"
    },
    {
     "data": {
      "text/html": [
       "<pre>Starting L-BFGS</pre>"
      ],
      "text/plain": [
       "Starting L-BFGS"
      ]
     },
     "metadata": {},
     "output_type": "display_data"
    },
    {
     "name": "stdout",
     "output_type": "stream",
     "text": [
      "{'max_error': 0.3121445447119956, 'rmse': 0.022679575353038234}\n"
     ]
    },
    {
     "data": {
      "text/html": [
       "<pre>--------------------------------------------------------</pre>"
      ],
      "text/plain": [
       "--------------------------------------------------------"
      ]
     },
     "metadata": {},
     "output_type": "display_data"
    },
    {
     "data": {
      "text/html": [
       "<pre>+-----------+----------+-----------+--------------+--------------------+----------------------+---------------+-----------------+</pre>"
      ],
      "text/plain": [
       "+-----------+----------+-----------+--------------+--------------------+----------------------+---------------+-----------------+"
      ]
     },
     "metadata": {},
     "output_type": "display_data"
    }
   ],
   "source": [
    "print market_share_model.evaluate(test_data)"
   ]
  },
  {
   "cell_type": "code",
   "execution_count": 107,
   "metadata": {
    "collapsed": false
   },
   "outputs": [
    {
     "data": {
      "text/html": [
       "<pre>| Iteration | Passes   | Step size | Elapsed Time | Training-max_error | Validation-max_error | Training-rmse | Validation-rmse |</pre>"
      ],
      "text/plain": [
       "| Iteration | Passes   | Step size | Elapsed Time | Training-max_error | Validation-max_error | Training-rmse | Validation-rmse |"
      ]
     },
     "metadata": {},
     "output_type": "display_data"
    },
    {
     "data": {
      "text/html": [
       "<pre>+-----------+----------+-----------+--------------+--------------------+----------------------+---------------+-----------------+</pre>"
      ],
      "text/plain": [
       "+-----------+----------+-----------+--------------+--------------------+----------------------+---------------+-----------------+"
      ]
     },
     "metadata": {},
     "output_type": "display_data"
    },
    {
     "data": {
      "text/html": [
       "<pre>| 1         | 6        | 0.000000  | 1.218460     | 1.951898           | 0.844070             | 0.106427      | 0.107145        |</pre>"
      ],
      "text/plain": [
       "| 1         | 6        | 0.000000  | 1.218460     | 1.951898           | 0.844070             | 0.106427      | 0.107145        |"
      ]
     },
     "metadata": {},
     "output_type": "display_data"
    },
    {
     "data": {
      "text/html": [
       "<pre>| 2         | 9        | 5.000000  | 1.983927     | 0.388337           | 0.343112             | 0.056424      | 0.056460        |</pre>"
      ],
      "text/plain": [
       "| 2         | 9        | 5.000000  | 1.983927     | 0.388337           | 0.343112             | 0.056424      | 0.056460        |"
      ]
     },
     "metadata": {},
     "output_type": "display_data"
    },
    {
     "data": {
      "text/html": [
       "<pre>| 3         | 10       | 5.000000  | 2.374440     | 1.777994           | 1.126462             | 0.214219      | 0.214271        |</pre>"
      ],
      "text/plain": [
       "| 3         | 10       | 5.000000  | 2.374440     | 1.777994           | 1.126462             | 0.214219      | 0.214271        |"
      ]
     },
     "metadata": {},
     "output_type": "display_data"
    },
    {
     "data": {
      "text/html": [
       "<pre>| 4         | 12       | 1.000000  | 2.936805     | 0.388975           | 0.336901             | 0.027420      | 0.027212        |</pre>"
      ],
      "text/plain": [
       "| 4         | 12       | 1.000000  | 2.936805     | 0.388975           | 0.336901             | 0.027420      | 0.027212        |"
      ]
     },
     "metadata": {},
     "output_type": "display_data"
    },
    {
     "data": {
      "text/html": [
       "<pre>| 5         | 13       | 1.000000  | 3.311720     | 0.357428           | 0.330991             | 0.026517      | 0.026187        |</pre>"
      ],
      "text/plain": [
       "| 5         | 13       | 1.000000  | 3.311720     | 0.357428           | 0.330991             | 0.026517      | 0.026187        |"
      ]
     },
     "metadata": {},
     "output_type": "display_data"
    },
    {
     "data": {
      "text/html": [
       "<pre>| 6         | 14       | 1.000000  | 3.702250     | 0.334061           | 0.331860             | 0.025988      | 0.025631        |</pre>"
      ],
      "text/plain": [
       "| 6         | 14       | 1.000000  | 3.702250     | 0.334061           | 0.331860             | 0.025988      | 0.025631        |"
      ]
     },
     "metadata": {},
     "output_type": "display_data"
    },
    {
     "data": {
      "text/html": [
       "<pre>| 10        | 18       | 1.000000  | 5.280020     | 0.311466           | 0.310523             | 0.022767      | 0.022158        |</pre>"
      ],
      "text/plain": [
       "| 10        | 18       | 1.000000  | 5.280020     | 0.311466           | 0.310523             | 0.022767      | 0.022158        |"
      ]
     },
     "metadata": {},
     "output_type": "display_data"
    },
    {
     "data": {
      "text/html": [
       "<pre>+-----------+----------+-----------+--------------+--------------------+----------------------+---------------+-----------------+</pre>"
      ],
      "text/plain": [
       "+-----------+----------+-----------+--------------+--------------------+----------------------+---------------+-----------------+"
      ]
     },
     "metadata": {},
     "output_type": "display_data"
    },
    {
     "data": {
      "text/html": [
       "<pre>TERMINATED: Iteration limit reached.</pre>"
      ],
      "text/plain": [
       "TERMINATED: Iteration limit reached."
      ]
     },
     "metadata": {},
     "output_type": "display_data"
    },
    {
     "data": {
      "text/html": [
       "<pre>This model may not be optimal. To improve it, consider increasing `max_iterations`.</pre>"
      ],
      "text/plain": [
       "This model may not be optimal. To improve it, consider increasing `max_iterations`."
      ]
     },
     "metadata": {},
     "output_type": "display_data"
    },
    {
     "data": {
      "application/javascript": [
       "$(\"head\").append($(\"<link/>\").attr({\n",
       "  rel:  \"stylesheet\",\n",
       "  type: \"text/css\",\n",
       "  href: \"//cdnjs.cloudflare.com/ajax/libs/font-awesome/4.1.0/css/font-awesome.min.css\"\n",
       "}));\n",
       "$(\"head\").append($(\"<link/>\").attr({\n",
       "  rel:  \"stylesheet\",\n",
       "  type: \"text/css\",\n",
       "  href: \"https://static.turi.com/products/graphlab-create/2.1/canvas/css/canvas.css\"\n",
       "}));\n",
       "\n",
       "            (function(){\n",
       "\n",
       "                var e = null;\n",
       "                if (typeof element == 'undefined') {\n",
       "                    var scripts = document.getElementsByTagName('script');\n",
       "                    var thisScriptTag = scripts[scripts.length-1];\n",
       "                    var parentDiv = thisScriptTag.parentNode;\n",
       "                    e = document.createElement('div');\n",
       "                    parentDiv.appendChild(e);\n",
       "                } else {\n",
       "                    e = element[0];\n",
       "                }\n",
       "\n",
       "                if (typeof requirejs !== 'undefined') {\n",
       "                    // disable load timeout; ipython_app.js is large and can take a while to load.\n",
       "                    requirejs.config({waitSeconds: 0});\n",
       "                }\n",
       "\n",
       "                require(['https://static.turi.com/products/graphlab-create/2.1/canvas/js/ipython_app.js'], function(IPythonApp){\n",
       "                    var app = new IPythonApp();\n",
       "                    app.attachView('model','Summary', {\"comparison\": null, \"selected_variable\": {\"comparison\": null, \"name\": [\"market_share_model\"], \"view_file\": \"model\", \"view_component\": \"Summary\", \"view_params\": {\"model_type\": \"regression\", \"view\": \"Summary\"}, \"view_components\": [\"Summary\", \"Evaluation\", \"Comparison\"], \"model_type\": \"regression\", \"attributes\": {\"section_titles\": [\"Schema\", \"Hyperparameters\", \"Training Summary\", \"Settings\", \"Highest Positive Coefficients\", \"Lowest Negative Coefficients\"], \"sections\": [[[\"Number of coefficients\", 733], [\"Number of examples\", 269277], [\"Number of feature columns\", 12], [\"Number of unpacked features\", 12]], [[\"L1 penalty\", 0.0], [\"L2 penalty\", 0.01]], [[\"Solver\", \"lbfgs\"], [\"Solver iterations\", 10], [\"Solver status\", \"TERMINATED: Iteration limit reached.\"], [\"Training time (sec)\", 5.4518]], [[\"Residual sum of squares\", 139.5733], [\"Training RMSE\", 0.0228]], [[\"Outlet Name[daella targaryen (daughter of jaehaerys i)]\", 0.3275], [\"Outlet Name[tywin frey (son of raymund)]\", 0.3002], [\"Outlet Name[leobald tallhart]\", 0.2443], [\"Outlet Name[robb reyne]\", 0.2133], [\"Outlet Name[rhaenys targaryen (daughter of aemon)]\", 0.2083]], [[\"Product[pumpkin seeds]\", -0.0756], [\"Product[lavender buds]\", -0.0691], [\"Product Category 1[chinese]\", -0.0637], [\"Product[soda]\", -0.0637], [\"Product Category 2[red bell pepper, sliced]\", -0.0259]]]}, \"evaluations\": [[\"test_data\", {\"max_error\": 0.3121445447119956, \"rmse\": 0.022679575353038234}]], \"type\": \"Model\"}, \"ipython\": true, \"view_params\": {\"model_type\": \"regression\", \"view\": \"Summary\"}, \"model_type\": \"regression\", \"attributes\": {\"section_titles\": [\"Schema\", \"Hyperparameters\", \"Training Summary\", \"Settings\", \"Highest Positive Coefficients\", \"Lowest Negative Coefficients\"], \"sections\": [[[\"Number of coefficients\", 733], [\"Number of examples\", 269277], [\"Number of feature columns\", 12], [\"Number of unpacked features\", 12]], [[\"L1 penalty\", 0.0], [\"L2 penalty\", 0.01]], [[\"Solver\", \"lbfgs\"], [\"Solver iterations\", 10], [\"Solver status\", \"TERMINATED: Iteration limit reached.\"], [\"Training time (sec)\", 5.4518]], [[\"Residual sum of squares\", 139.5733], [\"Training RMSE\", 0.0228]], [[\"Outlet Name[daella targaryen (daughter of jaehaerys i)]\", 0.3275], [\"Outlet Name[tywin frey (son of raymund)]\", 0.3002], [\"Outlet Name[leobald tallhart]\", 0.2443], [\"Outlet Name[robb reyne]\", 0.2133], [\"Outlet Name[rhaenys targaryen (daughter of aemon)]\", 0.2083]], [[\"Product[pumpkin seeds]\", -0.0756], [\"Product[lavender buds]\", -0.0691], [\"Product Category 1[chinese]\", -0.0637], [\"Product[soda]\", -0.0637], [\"Product Category 2[red bell pepper, sliced]\", -0.0259]]]}, \"evaluations\": [[\"test_data\", {\"max_error\": 0.3121445447119956, \"rmse\": 0.022679575353038234}]]}, e);\n",
       "                });\n",
       "            })();\n",
       "        "
      ]
     },
     "metadata": {},
     "output_type": "display_data"
    }
   ],
   "source": [
    "market_share_model.show()"
   ]
  },
  {
   "cell_type": "code",
   "execution_count": 108,
   "metadata": {
    "collapsed": false
   },
   "outputs": [
    {
     "data": {
      "text/plain": [
       "dtype: float\n",
       "Rows: 1\n",
       "[0.6083903642574249]"
      ]
     },
     "execution_count": 108,
     "metadata": {},
     "output_type": "execute_result"
    }
   ],
   "source": [
    "market_share_model.predict(test1)"
   ]
  },
  {
   "cell_type": "code",
   "execution_count": 109,
   "metadata": {
    "collapsed": false
   },
   "outputs": [
    {
     "data": {
      "text/plain": [
       "0.6016338870867235"
      ]
     },
     "execution_count": 109,
     "metadata": {},
     "output_type": "execute_result"
    }
   ],
   "source": [
    "test1['men_market_share']"
   ]
  },
  {
   "cell_type": "code",
   "execution_count": 110,
   "metadata": {
    "collapsed": false
   },
   "outputs": [
    {
     "data": {
      "text/plain": [
       "dtype: float\n",
       "Rows: 1\n",
       "[0.4700000153421658]"
      ]
     },
     "execution_count": 110,
     "metadata": {},
     "output_type": "execute_result"
    }
   ],
   "source": [
    "market_share_model.predict(test2)"
   ]
  },
  {
   "cell_type": "code",
   "execution_count": null,
   "metadata": {
    "collapsed": true
   },
   "outputs": [],
   "source": []
  }
 ],
 "metadata": {
  "kernelspec": {
   "display_name": "Python 2",
   "language": "python",
   "name": "python2"
  },
  "language_info": {
   "codemirror_mode": {
    "name": "ipython",
    "version": 2
   },
   "file_extension": ".py",
   "mimetype": "text/x-python",
   "name": "python",
   "nbconvert_exporter": "python",
   "pygments_lexer": "ipython2",
   "version": "2.7.11"
  }
 },
 "nbformat": 4,
 "nbformat_minor": 0
}
